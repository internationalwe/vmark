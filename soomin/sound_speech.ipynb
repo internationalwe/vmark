{
 "cells": [
  {
   "cell_type": "code",
   "execution_count": null,
   "metadata": {},
   "outputs": [],
   "source": [
    "# 1) 소리 앞에 글자가 있을 때\n",
    "    # [0소리]가 나는\n",
    "        # 새소리가 나면서 아침이 밝아오는 장면\n",
    "\n",
    "# 2) 소리 앞에 글자가 없을 때\n",
    "\n",
    "    # 2-1 소리 뒤에 '치는'이 오면, 액션으로 넘기자   ex.소리치는\n",
    "    \n",
    "    # 2-2) 소리 뒤에도 '치는'이 없을 때 (\"소리(나는)\" 일 때)\n",
    "\n",
    "        # 2-2-1) split() 소리 바로 앞 엘리먼트의 마지막 글자가 '는'일 때, (S V는 소리)      ex.아이가 우는 소리\n",
    "\n",
    "        # 2-2-2) split() 소리 바로 앞 엘리먼트의 마지막 글자가 '는'이 아닐 때, (N 소리)     ex.의자 소리\n",
    "\n",
    "# N V는 소리 ()\n",
    "# 노래 소리\n",
    "# 아이가 우는 소리\n",
    "# 남자가 [소리치는] 장면"
   ]
  },
  {
   "cell_type": "code",
   "execution_count": 170,
   "metadata": {},
   "outputs": [
    {
     "name": "stdout",
     "output_type": "stream",
     "text": [
      "query_left :  황정민이 '드루와' 라고 소리치는 말하는 장면\n",
      "speech :  드루와\n"
     ]
    },
    {
     "data": {
      "text/plain": [
       "'action입니다.'"
      ]
     },
     "execution_count": 170,
     "metadata": {},
     "output_type": "execute_result"
    }
   ],
   "source": [
    "def speech_sound(query):\n",
    "    # 대사 선별\n",
    "    if '\"' or \"'\" in query:\n",
    "        speech_index = []\n",
    "        for i in range(len(query)):\n",
    "            if query[i] == '\"':\n",
    "                speech_index.append(i)\n",
    "            elif query[i] == \"'\":\n",
    "                speech_index.append(i)\n",
    "        speech = query[speech_index[0]+1:speech_index[1]]\n",
    "\n",
    "    # 소리(사운드) 선별\n",
    "    if \"소리\" in query:\n",
    "        word = []\n",
    "        # \"소리\" 가 포함된 음절 및 그 인덱스 찾아내기\n",
    "        query_slice = query.split()     # 문장을 띄어쓰기 기준으로 나누기\n",
    "        for um in query_slice:          # 음절 하나씩 가져와서\n",
    "            if \"소리\" in um:     # 음절 안에 \"소리\" 라는 글자가 있으면\n",
    "                sori_index = query_slice.index(um)    # \"소리\"가 포함된 음절의 인덱스 저장\n",
    "        sori_slice = query_slice[sori_index]    # \"소리\"가 포함된 음절\n",
    "\n",
    "\n",
    "        # 1) 소리 앞에 글자가 있을 때\n",
    "        if sori_slice.index(\"소리\") != 0:  # 소리 앞에 글자가 있으면\n",
    "            word.append(sori_slice[:sori_slice.index(\"소리\")+2])  # \"~소리\" 까지 워드에 넣어라\n",
    "            query_slice.remove(sori_slice)\n",
    "            query_left = ' '.join(query_slice)\n",
    "            print('query_left : ', query_left)\n",
    "            print('speech : ', speech)\n",
    "            return ''.join(word)\n",
    "\n",
    "        # 2) 소리 앞에 글자가 없을 때\n",
    "        else:\n",
    "            # 2-1) 소리 뒤에 '치'가 오면, 액션으로 넘기자   ex.소리치는\n",
    "            try:\n",
    "                if sori_slice[sori_slice.index(\"소리\")+2] == '치':\n",
    "                    query_left = ' '.join(query_slice)\n",
    "                    print('query_left : ', query_left)\n",
    "                    print('speech : ', speech)\n",
    "                    return 'action입니다.'\n",
    "\n",
    "            # 2-2) 소리 뒤에도 '치'가 없을 때 (\"소리(나는)\" 일 때) [try-else-pass] or 그냥 '소리' 로 끝날 때 [except-pass]\n",
    "                else:\n",
    "                    pass\n",
    "            except:\n",
    "                pass\n",
    "\n",
    "            # 2-2-1) split() 소리 바로 앞 엘리먼트의 마지막 글자가 '는'일 때, (N V는 소리)      ex.아이가 우는 소리\n",
    "            if query_slice[sori_index-1][-1] == '는':\n",
    "                word.append(query_slice[sori_index-2])\n",
    "                word.append(query_slice[sori_index-1])\n",
    "\n",
    "                query_slice.remove(query_slice[sori_index-2])\n",
    "                query_slice.remove(query_slice[sori_index-2])\n",
    "                query_slice.remove(query_slice[sori_index-2])\n",
    "                query_left = ' '.join(query_slice)\n",
    "                print('query_left : ', query_left)\n",
    "\n",
    "                print('speech : ', speech)\n",
    "                return ' '.join(word) + ' 소리'\n",
    "            # 2-2-2) split() 소리 바로 앞 엘리먼트의 마지막 글자가 '는'이 아닐 때, (N 소리)     ex.의자 소리\n",
    "            else:\n",
    "                word.append(query_slice[sori_index-1])\n",
    "\n",
    "                query_slice.remove(query_slice[sori_index-1])\n",
    "                query_slice.remove(query_slice[sori_index-1])\n",
    "                query_left = ' '.join(query_slice)\n",
    "                print('query_left : ', query_left)\n",
    "\n",
    "                print('speech : ', speech)\n",
    "                return ' '.join(word) + ' 소리'\n",
    "\n",
    "query = \"한강에서 소리치는 장면\"\n",
    "query = \"도시에서 오토바이 소리가 나는 장면\"\n",
    "query = \"침대에서 아이가 우는 소리가 나는 장면\"\n",
    "query = \"숲속에서 새소리가 나는 장면\"\n",
    "query = \"컴퓨터 타자 소리가 나는 장면\"\n",
    "query = \"양나윤이 어?라고 하는 소리가 있는 장면\"\n",
    "query = \"황정민이 '드루와' 라고 소리치는 말하는 장면\"\n",
    "\n",
    "speech_sound(query)\n"
   ]
  }
 ],
 "metadata": {
  "interpreter": {
   "hash": "97f2e0345dc74e3e4083d7c33dbb6b4dd0ffabc4473295d6b4939f7afd3b04e0"
  },
  "kernelspec": {
   "display_name": "Python 3.8.12 ('ds_study')",
   "language": "python",
   "name": "python3"
  },
  "language_info": {
   "codemirror_mode": {
    "name": "ipython",
    "version": 3
   },
   "file_extension": ".py",
   "mimetype": "text/x-python",
   "name": "python",
   "nbconvert_exporter": "python",
   "pygments_lexer": "ipython3",
   "version": "3.8.12"
  },
  "orig_nbformat": 4
 },
 "nbformat": 4,
 "nbformat_minor": 2
}
