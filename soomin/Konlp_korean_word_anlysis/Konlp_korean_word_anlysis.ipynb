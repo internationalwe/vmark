{
 "cells": [
  {
   "cell_type": "markdown",
   "metadata": {},
   "source": [
    "# [1] Konlpy로 한국어 형태소 분석하기"
   ]
  },
  {
   "cell_type": "code",
   "execution_count": null,
   "metadata": {},
   "outputs": [],
   "source": [
    "!pip list"
   ]
  },
  {
   "cell_type": "code",
   "execution_count": 9,
   "metadata": {},
   "outputs": [],
   "source": [
    "####한국어 형태소 분석기####\n",
    "from konlpy.tag import Kkma, Komoran, Okt, Hannanum, Mecab #Mecab은 윈도우에서 작동 불가능\n",
    "okt = Okt()\n",
    "kkma = Kkma()\n",
    "komoran = Komoran()\n",
    "hannanum = Hannanum()"
   ]
  },
  {
   "cell_type": "code",
   "execution_count": 3,
   "metadata": {},
   "outputs": [],
   "source": [
    "text = '나랏말이 중국과 달라 한자와 서로 통하지 아니하므로, \\\n",
    "    우매한 백성들이 말하고 싶은 것이 있어도 마침내 제 뜻을 잘 표현하지 못하는 사람이 많다.\\\n",
    "    내 이를 딱하게 여기어 새로 스물여덟 자를 만들었으니, \\\n",
    "    사람들로 하여금 쉬 익히어 날마다 쓰는 데 편하게 할 뿐이다.'"
   ]
  },
  {
   "cell_type": "code",
   "execution_count": 46,
   "metadata": {},
   "outputs": [
    {
     "name": "stdout",
     "output_type": "stream",
     "text": [
      "[Kkma morphs 함수]\n",
      "['나랏말', '이', '중국', '과', '닿', 'ㄹ라', '한자', '와', '서로', '통하', '지', '아니하', '므로', ',', '우매', '하', 'ㄴ', '백성', '들', '이', '말하', '고', '싶', '은', '것', '이', '있', '어도', '마침내', '저', '의', '뜻', '을', '잘', '표현', '하', '지', '못하', '는', '사람', '이', '많', '다', '.', '내', '이르', 'ㄹ', '딱하', '게', '여기', '어', '새로', '스물', '여덟', '자', '를', '만들', '었', '으니', ',', '사람', '들', '로', '하여금', '쉬', '익히', '어', '날', '마다', '쓰', '는', '데', '편하', '게', '하', 'ㄹ', '뿐', '이', '다', '.']\n",
      "[Okt 함수]\n",
      "['나랏말', '이', '중국', '과', '달라', '한자', '와', '서로', '통', '하지', '아니하므로', ',', '우매', '한', '백성', '들', '이', '말', '하고', '싶은', '것', '이', '있어도', '마침내', '제', '뜻', '을', '잘', '표현', '하지', '못', '하는', '사람', '이', '많다', '.', '내', '이를', '딱하게', '여기어', '새로', '스물', '여덟', '자를', '만들었으니', ',', '사람', '들', '로', '하여금', '쉬', '익히어', '날', '마다', '쓰는', '데', '편하게', '할', '뿐', '이다', '.']\n",
      "[Komoran 함수]\n",
      "['나랏말이', '중국', '과', '다르', '아', '한자', '와', '서로', '통하', '지', '아니하', '므로', ',', '우매', '하', 'ㄴ', '백성', '들', '이', '말', '하', '고', '싶', '은', '것', '이', '있', '어도', '마침내', '제', '뜻', '을', '잘', '표현', '하', '지', '못하', '는', '사람', '이', '많', '다', '.', '내', '이', '를', '딱하', '게', '여기', '어', '새로', '스물', '여덟', '자', '를', '만들', '었', '으니', ',', '사람', '들', '로', '하여금', '쉬', '익히', '어', '날', '마다', '쓰', '는', '데', '편하', '게', '하', 'ㄹ', '뿐', '이', '다', '.']\n",
      "[Hannanum 함수]\n",
      "['나랏말', '이', '중국', '과', '다르', '아', '하', 'ㄴ', '자', '와', '서로', '통하', '지', '아니하', '므로', ',', '우매', '하', 'ㄴ', '백성들', '이', '말', '하고', '싶', '은', '것', '이', '있', '어도', '마침내', '저', '의', '뜻', '을', '잘', '표현', '하', '지', '못하', '는', '사람', '이', '많', '다', '.', '내', '이', '를', '딱하', '게', '여기', '이', '어', '새로', '스물여덟', '자', '를', '만들', '었으니', ',', '사람들', '로', '하여금', '쉬', '익히', '어', '날마다', '쓰', '는', '데', '편하', '게', '하', 'ㄹ', '뿐', '이', '다', '.']\n"
     ]
    }
   ],
   "source": [
    "#### .morphs()함수: 텍스트를 형태소 단위로 나누어준다.####\n",
    "print(\"[Kkma morphs 함수]\")\n",
    "print(kkma.morphs(text))\n",
    "\n",
    "print(\"[Okt 함수]\")\n",
    "print(okt.morphs(text))\n",
    "\n",
    "print(\"[Komoran 함수]\")\n",
    "print(komoran.morphs(text))\n",
    "\n",
    "print(\"[Hannanum 함수]\")\n",
    "print(hannanum.morphs(text))\n"
   ]
  },
  {
   "cell_type": "code",
   "execution_count": null,
   "metadata": {},
   "outputs": [],
   "source": [
    "##### stem: 각 단어에서 어간(으로) 추출 #####\n",
    "print(\"[Okt 함수]\")\n",
    "print(okt.morphs(text))\n",
    "\n",
    "print(\"[Okt 함수: stem사용하여 어간 추출]\")\n",
    "print(okt.morphs(text, stem= True))"
   ]
  },
  {
   "cell_type": "code",
   "execution_count": 18,
   "metadata": {},
   "outputs": [
    {
     "name": "stdout",
     "output_type": "stream",
     "text": [
      "['나랏말', '이', '중국', '과', '달라', '한자', '와', '서로', '통', '하지', '아니하므로', ',', '우매', '한', '백성', '들', '이', '말', '하고', '싶은', '것', '이', '있어도', '마침내', '제', '뜻', '을', '잘', '표현', '하지', '못', '하는', '사람', '이', '많다', '.', '내', '이를', '딱하게', '여기어', '새로', '스물', '여덟', '자를', '만들었으니', ',', '사람', '들', '로', '하여금', '쉬', '익히어', '날', '마다', '쓰는', '데', '편하게', '할', '뿐', '이다', '.']\n",
      "['나랏말', '이', '중국', '과', '달라', '한자', '와', '서로', '통', '하지', '아니하므로', ',', '우매', '한', '백성', '들', '이', '말', '하고', '싶은', '것', '이', '있어도', '마침내', '제', '뜻', '을', '잘', '표현', '하지', '못', '하는', '사람', '이', '많다', '.', '내', '이를', '딱하게', '여기어', '새로', '스물', '여덟', '자를', '만들었으니', ',', '사람', '들', '로', '하여금', '쉬', '익히어', '날', '마다', '쓰는', '데', '편하게', '할', '뿐', '이다', '.']\n"
     ]
    }
   ],
   "source": [
    "print(okt.morphs(text))\n",
    "print(okt.morphs(text, norm=True))"
   ]
  },
  {
   "cell_type": "code",
   "execution_count": 21,
   "metadata": {},
   "outputs": [
    {
     "name": "stdout",
     "output_type": "stream",
     "text": [
      "[Kkma nouns 함수]\n",
      "['나랏말', '중국', '한자', '우매', '백성', '저', '뜻', '표현', '사람', '내', '스물', '스물여덟', '여덟', '자', '로', '날', '데', '뿐']\n",
      "[OKt nouns 함수]\n",
      "['나랏말', '중국', '달라', '한자', '서로', '통', '우매', '백성', '말', '것', '마침내', '제', '뜻', '표현', '사람', '내', '스물', '여덟', '사람', '쉬', '날', '데', '뿐']\n",
      "[Komoran nouns 함수]\n",
      "['중국', '한자', '우매', '백성', '말', '것', '뜻', '표현', '사람', '자', '사람', '날', '데', '뿐']\n",
      "[Hannanum nouns 함수]\n",
      "['나랏말', '중국', '자', '우매', '백성들', '말', '것', '저', '뜻', '표현', '사람', '내', '이', '여기', '스물여덟', '자', '사람들', '데', '뿐']\n"
     ]
    }
   ],
   "source": [
    "#### .nouns()함수: 명사를 추출 ####\n",
    "print(\"[Kkma nouns 함수]\")\n",
    "print(kkma.nouns(text))\n",
    "\n",
    "print(\"[OKt nouns 함수]\")\n",
    "print(okt.nouns(text))\n",
    "\n",
    "print(\"[Komoran nouns 함수]\")\n",
    "print(komoran.nouns(text))\n",
    "\n",
    "print(\"[Hannanum nouns 함수]\")\n",
    "print(hannanum.nouns(text))"
   ]
  },
  {
   "cell_type": "code",
   "execution_count": 22,
   "metadata": {},
   "outputs": [
    {
     "name": "stdout",
     "output_type": "stream",
     "text": [
      "[Okt phrases 함수]\n",
      "['나랏말', '중국', '중국과 달라', '중국과 달라 한자', '중국과 달라 한자와 서로', '중국과 달라 한자와 서로 통', '우매', '백성들', '마침내', '마침내 제', '마침내 제 뜻', '표현', '못하는 사람', '스물여덟', '사람들', '달라', '한자', '서로', '사람', '스물', '여덟']\n"
     ]
    }
   ],
   "source": [
    "#### .phrases()함수: 어절을 추출 ####\n",
    "print(\"[Okt phrases 함수]\")\n",
    "print(okt.phrases(text))"
   ]
  },
  {
   "cell_type": "code",
   "execution_count": 23,
   "metadata": {},
   "outputs": [
    {
     "name": "stdout",
     "output_type": "stream",
     "text": [
      "[Kkma pos 함수]\n",
      "[('나랏말', 'UN'), ('이', 'JKS'), ('중국', 'NNG'), ('과', 'JKM'), ('닿', 'VV'), ('ㄹ라', 'ECD'), ('한자', 'NNG'), ('와', 'JKM'), ('서로', 'MAG'), ('통하', 'VV'), ('지', 'ECD'), ('아니하', 'VXV'), ('므로', 'ECD'), (',', 'SP'), ('우매', 'NNG'), ('하', 'XSV'), ('ㄴ', 'ETD'), ('백성', 'NNG'), ('들', 'XSN'), ('이', 'JKS'), ('말하', 'VV'), ('고', 'ECE'), ('싶', 'VXA'), ('은', 'ETD'), ('것', 'NNB'), ('이', 'JKS'), ('있', 'VV'), ('어도', 'ECD'), ('마침내', 'MAG'), ('저', 'NP'), ('의', 'JKG'), ('뜻', 'NNG'), ('을', 'JKO'), ('잘', 'MAG'), ('표현', 'NNG'), ('하', 'XSV'), ('지', 'ECD'), ('못하', 'VX'), ('는', 'ETD'), ('사람', 'NNG'), ('이', 'JKS'), ('많', 'VA'), ('다', 'EFN'), ('.', 'SF'), ('내', 'NP'), ('이르', 'VV'), ('ㄹ', 'ETD'), ('딱하', 'VA'), ('게', 'ECD'), ('여기', 'VV'), ('어', 'ECD'), ('새로', 'MAG'), ('스물', 'NR'), ('여덟', 'NR'), ('자', 'NNG'), ('를', 'JKO'), ('만들', 'VV'), ('었', 'EPT'), ('으니', 'ECD'), (',', 'SP'), ('사람', 'NNG'), ('들', 'XSN'), ('로', 'NNG'), ('하여금', 'MAG'), ('쉬', 'MAG'), ('익히', 'VV'), ('어', 'ECD'), ('날', 'NNG'), ('마다', 'JX'), ('쓰', 'VV'), ('는', 'ETD'), ('데', 'NNB'), ('편하', 'VA'), ('게', 'ECD'), ('하', 'VV'), ('ㄹ', 'ETD'), ('뿐', 'NNB'), ('이', 'VCP'), ('다', 'EFN'), ('.', 'SF')]\n",
      "[Okt pos 함수]\n",
      "[('나랏말', 'Noun'), ('이', 'Josa'), ('중국', 'Noun'), ('과', 'Josa'), ('달라', 'Noun'), ('한자', 'Noun'), ('와', 'Josa'), ('서로', 'Noun'), ('통', 'Noun'), ('하지', 'Verb'), ('아니하므로', 'Adjective'), (',', 'Punctuation'), ('우매', 'Noun'), ('한', 'Josa'), ('백성', 'Noun'), ('들', 'Suffix'), ('이', 'Josa'), ('말', 'Noun'), ('하고', 'Josa'), ('싶은', 'Verb'), ('것', 'Noun'), ('이', 'Josa'), ('있어도', 'Adjective'), ('마침내', 'Noun'), ('제', 'Noun'), ('뜻', 'Noun'), ('을', 'Josa'), ('잘', 'Verb'), ('표현', 'Noun'), ('하지', 'Verb'), ('못', 'VerbPrefix'), ('하는', 'Verb'), ('사람', 'Noun'), ('이', 'Josa'), ('많다', 'Adjective'), ('.', 'Punctuation'), ('내', 'Noun'), ('이를', 'Verb'), ('딱하게', 'Adjective'), ('여기어', 'Verb'), ('새로', 'Adjective'), ('스물', 'Noun'), ('여덟', 'Noun'), ('자를', 'Verb'), ('만들었으니', 'Verb'), (',', 'Punctuation'), ('사람', 'Noun'), ('들', 'Suffix'), ('로', 'Josa'), ('하여금', 'Adverb'), ('쉬', 'Noun'), ('익히어', 'Verb'), ('날', 'Noun'), ('마다', 'Josa'), ('쓰는', 'Verb'), ('데', 'Noun'), ('편하게', 'Adjective'), ('할', 'Verb'), ('뿐', 'Noun'), ('이다', 'Josa'), ('.', 'Punctuation')]\n",
      "[Komoran pos 함수]\n",
      "[('나랏말이', 'NA'), ('중국', 'NNP'), ('과', 'JC'), ('다르', 'VA'), ('아', 'EC'), ('한자', 'NNG'), ('와', 'JC'), ('서로', 'MAG'), ('통하', 'VV'), ('지', 'EC'), ('아니하', 'VX'), ('므로', 'EC'), (',', 'SP'), ('우매', 'NNG'), ('하', 'XSV'), ('ㄴ', 'ETM'), ('백성', 'NNG'), ('들', 'XSN'), ('이', 'JKS'), ('말', 'NNG'), ('하', 'XSV'), ('고', 'EC'), ('싶', 'VX'), ('은', 'ETM'), ('것', 'NNB'), ('이', 'JKS'), ('있', 'VV'), ('어도', 'EC'), ('마침내', 'MAG'), ('제', 'XPN'), ('뜻', 'NNG'), ('을', 'JKO'), ('잘', 'MAG'), ('표현', 'NNG'), ('하', 'XSV'), ('지', 'EC'), ('못하', 'VX'), ('는', 'ETM'), ('사람', 'NNG'), ('이', 'JKS'), ('많', 'VA'), ('다', 'EF'), ('.', 'SF'), ('내', 'NP'), ('이', 'NP'), ('를', 'JKO'), ('딱하', 'VA'), ('게', 'EC'), ('여기', 'VV'), ('어', 'EC'), ('새로', 'MAG'), ('스물', 'NR'), ('여덟', 'NR'), ('자', 'NNB'), ('를', 'JKO'), ('만들', 'VV'), ('었', 'EP'), ('으니', 'EC'), (',', 'SP'), ('사람', 'NNG'), ('들', 'XSN'), ('로', 'JKB'), ('하여금', 'MAG'), ('쉬', 'MAG'), ('익히', 'VV'), ('어', 'EC'), ('날', 'NNG'), ('마다', 'JX'), ('쓰', 'VV'), ('는', 'ETM'), ('데', 'NNB'), ('편하', 'VA'), ('게', 'EC'), ('하', 'VV'), ('ㄹ', 'ETM'), ('뿐', 'NNB'), ('이', 'VCP'), ('다', 'EF'), ('.', 'SF')]\n",
      "[Hannanum pos 함수]\n",
      "[('나랏말', 'N'), ('이', 'J'), ('중국', 'N'), ('과', 'J'), ('다르', 'P'), ('아', 'E'), ('하', 'P'), ('ㄴ', 'E'), ('자', 'N'), ('와', 'J'), ('서로', 'M'), ('통하', 'P'), ('지', 'E'), ('아니하', 'P'), ('므로', 'E'), (',', 'S'), ('우매', 'N'), ('하', 'X'), ('ㄴ', 'E'), ('백성들', 'N'), ('이', 'J'), ('말', 'N'), ('하고', 'J'), ('싶', 'P'), ('은', 'E'), ('것', 'N'), ('이', 'J'), ('있', 'P'), ('어도', 'E'), ('마침내', 'M'), ('저', 'N'), ('의', 'J'), ('뜻', 'N'), ('을', 'J'), ('잘', 'M'), ('표현', 'N'), ('하', 'X'), ('지', 'E'), ('못하', 'P'), ('는', 'E'), ('사람', 'N'), ('이', 'J'), ('많', 'P'), ('다', 'E'), ('.', 'S'), ('내', 'N'), ('이', 'N'), ('를', 'J'), ('딱하', 'P'), ('게', 'E'), ('여기', 'N'), ('이', 'J'), ('어', 'E'), ('새로', 'M'), ('스물여덟', 'N'), ('자', 'N'), ('를', 'J'), ('만들', 'P'), ('었으니', 'E'), (',', 'S'), ('사람들', 'N'), ('로', 'J'), ('하여금', 'M'), ('쉬', 'M'), ('익히', 'P'), ('어', 'E'), ('날마다', 'M'), ('쓰', 'P'), ('는', 'E'), ('데', 'N'), ('편하', 'P'), ('게', 'E'), ('하', 'P'), ('ㄹ', 'E'), ('뿐', 'N'), ('이', 'J'), ('다', 'E'), ('.', 'S')]\n"
     ]
    }
   ],
   "source": [
    "#### .pos()함수: 품사 태깅 #### \n",
    "print(\"[Kkma pos 함수]\")\n",
    "print(kkma.pos(text)) #join=True는 형태소와 품사를 붙여서 리스트화\n",
    "\n",
    "print(\"[Okt pos 함수]\")\n",
    "print(okt.pos(text))\n",
    "\n",
    "print(\"[Komoran pos 함수]\")\n",
    "print(komoran.pos(text))\n",
    "\n",
    "print(\"[Hannanum pos 함수]\")\n",
    "print(hannanum.pos(text))"
   ]
  },
  {
   "cell_type": "code",
   "execution_count": 24,
   "metadata": {},
   "outputs": [
    {
     "name": "stdout",
     "output_type": "stream",
     "text": [
      "[Kkma pos 함수]\n",
      "['나랏말/UN', '이/JKS', '중국/NNG', '과/JKM', '닿/VV', 'ㄹ라/ECD', '한자/NNG', '와/JKM', '서로/MAG', '통하/VV', '지/ECD', '아니하/VXV', '므로/ECD', ',/SP', '우매/NNG', '하/XSV', 'ㄴ/ETD', '백성/NNG', '들/XSN', '이/JKS', '말하/VV', '고/ECE', '싶/VXA', '은/ETD', '것/NNB', '이/JKS', '있/VV', '어도/ECD', '마침내/MAG', '저/NP', '의/JKG', '뜻/NNG', '을/JKO', '잘/MAG', '표현/NNG', '하/XSV', '지/ECD', '못하/VX', '는/ETD', '사람/NNG', '이/JKS', '많/VA', '다/EFN', './SF', '내/NP', '이르/VV', 'ㄹ/ETD', '딱하/VA', '게/ECD', '여기/VV', '어/ECD', '새로/MAG', '스물/NR', '여덟/NR', '자/NNG', '를/JKO', '만들/VV', '었/EPT', '으니/ECD', ',/SP', '사람/NNG', '들/XSN', '로/NNG', '하여금/MAG', '쉬/MAG', '익히/VV', '어/ECD', '날/NNG', '마다/JX', '쓰/VV', '는/ETD', '데/NNB', '편하/VA', '게/ECD', '하/VV', 'ㄹ/ETD', '뿐/NNB', '이/VCP', '다/EFN', './SF']\n"
     ]
    }
   ],
   "source": [
    "print(\"[Kkma pos 함수]\")\n",
    "print(kkma.pos(text, join=True)) #join=True는 형태소와 품사를 붙여서 리스트화"
   ]
  },
  {
   "cell_type": "markdown",
   "metadata": {},
   "source": [
    "# [2] 텍스트 빈도 분석\n",
    "\n",
    "### (1,2,3) 설치/데이터준비/텍스트읽어오기"
   ]
  },
  {
   "cell_type": "code",
   "execution_count": 25,
   "metadata": {},
   "outputs": [
    {
     "name": "stdout",
     "output_type": "stream",
     "text": [
      "['소나기 / 황순원\\n', '소년은 개울가에서 소녀를 보자 곧 윤 초시네 증손녀(曾孫女)딸이라는 걸 알 수 있었다. 소녀는 개울에다 손을 잠그고 물장난을 하고 있는 것이다. 서울서는 이런 개울물을 보지 못하기나 한 듯이.\\n', '벌써 며칠째 소녀는, 학교에서 돌아오는 길에 물장난이었다. 그런데, 어제까지 개울 기슭에서 하더니, 오늘은 징검다리 한가운데 앉아서 하고 있다.\\n', '소년은 개울둑에 앉아 버렸다. 소녀가 비키기를 기다리자는 것이다.\\n', '요행 지나가는 사람이 있어, 소녀가 길을 비켜 주었다.\\n', '다음 날은 좀 늦게 개울가로 나왔다.\\n', '이 날은 소녀가 징검다리 한가운데 앉아 세수를 하고 있었다. 분홍 스웨터 소매를 걷어올린 목덜미가 마냥 희었다.\\n', '한참 세수를 하고 나더니, 이번에는 물 속을 빤히 들여다 본다. 얼굴이라도 비추어 보는 것이리라. 갑자기 물을 움켜 낸다. 고기 새끼라도 지나가는 듯.\\n', '소녀는 소년이 개울둑에 앉아 있는 걸 아는지 모르는지 그냥 날쌔게 물만 움켜 낸다. 그러나, 번번이 허탕이다. 그대로 재미있는 양, 자꾸 물만 움킨다. 어제처럼 개울을 건너는 사람이 있어야 길을 비킬 모양이다.\\n', '그러다가 소녀가 물 속에서 무엇을 하나 집어 낸다. 하얀 조약돌이었다. 그리고는 벌떡 일어나 팔짝팔짝 징검다리를 뛰어 건너간다.\\n', '다 건너가더니만 홱 이리로 돌아서며,\\n', '“이 바보.”\\n', '조약돌이 날아왔다.\\n', '소년은 저도 모르게 벌떡 일어섰다.\\n', '단발 머리를 나풀거리며 소녀가 막 달린다. 갈밭 사잇길로 들어섰다. 뒤에는 청량한 가을 햇살 아래 빛나는 갈꽃뿐.\\n', '이제 저쯤 갈밭머리로 소녀가 나타나리라. 꽤 오랜 시간이 지났다고 생각됐다. 그런데도 소녀는 나타나지 않는다. 발돋움을 했다. 그러고도 상당한 시간이 지났다고 생각됐다.\\n', '저 쪽 갈밭머리에 갈꽃이 한 옴큼 움직였다. 소녀가 갈꽃을 안고 있었다. 그리고, 이제는 천천한 걸음이었다. 유난히 맑은 가을 햇살이 소녀의 갈꽃머리에서 반짝거렸다. 소녀 아닌 갈꽃이 들길을 걸어가는 것만 같았다.\\n', '소년은 이 갈꽃이 아주 뵈지 않게 되기까지 그대로 서 있었다. 문득, 소녀가 던지 조약돌을 내려다보았다. 물기가 걷혀 있었다. 소년은 조약돌을 집어 주머니에 넣었다.\\n', '다음 날부터 좀더 늦게 개울가로 나왔다. 소녀의 그림자가 뵈지 않았다. 다행이었다.\\n', '그러나, 이상한 일이었다. 소녀의 그림자가 뵈지 않는 날이 계속될수록 소년의 가슴 한 구석에는 어딘가 허전함이 자리 잡는 것이었다. 주머니 속 조약돌을 주무르는 버릇이 생겼다.\\n', '그러한 어떤 날, 소년은 전에 소녀가 앉아 물장난을 하던 징검다리 한가운데에 앉아 보았다. 물 속에 손을 잠갔다. 세수를 하였다. 물 속을 들여다보았다. 검게 탄 얼굴이 그대로 비치었다. 싫었다.\\n', '소년은 두 손으로 물 속의 얼굴을 움키었다. 몇 번이고 움키었다. 그러다가 깜짝 놀라 일어나고 말았다. 소녀가 이리로 건너오고 있지 않느냐.\\n', '‘숨어서 내가 하는 일을 엿보고 있었구나.’ 소년은 달리기를 시작했다. 디딤돌을 헛디뎠다. 한 발이 물 속에 빠졌다. 더 달렸다.\\n', '몸을 가릴 데가 있어 줬으면 좋겠다. 이 쪽 길에는 갈밭도 없다. 메밀밭이다. 전에 없이 메밀꽃 냄새가 짜릿하게 코를 찌른다고 생각됐다. 미간이 아찔했다. 찝찔한 액체가 입술에 흘러들었다. 코피였다.\\n', '소년은 한 손으로 코피를 훔쳐내면서 그냥 달렸다. 어디선가 ‘바보, 바보’ 하는 소리가 자꾸만 뒤따라오는 것 같았다.\\n', '토요일이었다.\\n', '개울가에 이르니, 며칠째 보이지 않던 소녀가 건너편 가에 앉아 물장난을 하고 있었다. 모르는 체 징검다리를 건너기 시작했다. 얼마 전에 소녀 앞에서 한 번 실수를 했을 뿐, 여태 큰길 가듯이 건너던 징검다리를 오늘은 조심스럽게 건넌다.\\n', '“얘.”\\n', '못 들은 체했다. 둑 위로 올라섰다.\\n', '“얘, 이게 무슨 조개지?”\\n', '자기도 모르게 돌아섰다. 소녀의 맑고 검은 눈과 마주쳤다. 얼른 소녀의 손바닥으로 눈을 떨구었다.\\n', '“비단조개.”\\n', '“이름도 참 곱다.”\\n', '갈림길에 왔다. 여기서 소녀는 아래편으로 한 삼 마장쯤, 소년은 우대로 한 십 리 가까운 길을 가야 한다.\\n', '소녀가 걸음을 멈추며,\\n', '“너, 저 산 너머에 가 본 일 있니?”\\n', '벌 끝을 가리켰다.\\n', '“없다.”\\n', '“우리, 가 보지 않으련? 시골 오니까 혼자서 심심해 못 견디겠다.”\\n', '“저래 봬도 멀다.”\\n', '“멀면 얼마나 멀기에? 서울 있을 땐 사뭇 먼 데까지 소풍 갔었다.”\\n', '소녀의 눈이 금새 ‘바보,바보,’할 것만 같았다.\\n', '논 사잇길로 들어섰다. 벼 가을걷이하는 곁을 지났다.\\n', '허수아비가 서 있었다. 소년이 새끼줄을 흔들었다. 참새가 몇 마리 날아간다. ‘참, 오늘은 일찍 집으로 돌아가 텃논의 참새를 봐야 할걸.’ 하는 생각이 든다.\\n', '“야, 재밌다!”\\n', '소녀가 허수아비 줄을 잡더니 흔들어 댄다. 허수아비가 자꾸 우쭐거리며 춤을 춘다. 소녀의 왼쪽 볼에 살포시 보조개가 패었다.\\n', '저만큼 허수아비가 또 서 있다. 소녀가 그리로 달려간다. 그 뒤를 소년도 달렸다. 오늘 같은 날은 일찍 집으로 돌아가 집안일을 도와야 한다는 생각을 잊어버리기라도 하려는 듯이.\\n', '소녀의 곁을 스쳐 그냥 달린다. 메뚜기가 따끔따끔 얼굴에 와 부딪친다. 쪽빛으로 한껏 갠 가을 하늘이 소년의 눈앞에서 맴을 돈다. 어지럽다. 저놈의 독수리, 저놈의 독수리, 저놈의 독수리가 맴을 돌고 있기 때문이다.\\n', '돌아다보니, 소녀는 지금 자기가 지나쳐 온 허수아비를 흔들고 있다. 좀 전 허수아비보다 더 우쭐거린다.\\n', '논이 끝난 곳에 도랑이 하나 있었다. 소녀가 먼저 뛰어 건넜다.\\n', '거기서부터 산 밑까지는 밭이었다.\\n', '수숫단을 세워 놓은 밭머리를 지났다.\\n', '“저게 뭐니?”\\n', '“원두막.”\\n', '“여기 참외, 맛있니?”\\n', '“그럼, 참외 맛도 좋지만 수박 맛은 더 좋다.”\\n', '“하나 먹어 봤으면.”\\n', '소년이 참외 그루에 심은 무우밭으로 들어가, 무우 두 밑을 뽑아 왔다. 아직 밑이 덜 들어 있었다. 잎을 비틀어 팽개친 후, 소녀에게 한개 건넨다. 그리고는 이렇게 먹어야 한다는 듯이, 먼저 대강이를 한 입 베물어 낸 다음, 손톱으로 한 돌이 껍질을 벗겨 우쩍 깨문다.\\n', '소녀도 따라 했다. 그러나, 세 입도 못 먹고,\\n', '“아, 맵고 지려.”\\n', '하며 집어던지고 만다.\\n', '“참, 맛 없어 못 먹겠다.”\\n', '소년이 더 멀리 팽개쳐 버렸다.\\n', '산이 가까워졌다.\\n', '단풍이 눈에 따가웠다.\\n', '“야아!”\\n', '소녀가 산을 향해 달려갔다. 이번은 소년이 뒤따라 달리지 않았다. 그러고도 곧 소녀보다 더 많은 꽃을 꺾었다.\\n', '“이게 들국화, 이게 싸리꽃, 이게 도라지꽃,…….”\\n', '“도라지꽃이 이렇게 예쁜 줄은 몰랐네. 난 보랏빛이 좋아!…… 그런데, 이 양산 같이 생긴 노란 꽃이 뭐지?”\\n', '“마타리꽃.”\\n', '소녀는 마타리꽃을 양산 받듯이 해 보인다. 약간 상기된 얼굴에 살포시 보조개를 떠올리며.\\n', '다시 소년은 꽃 한 옴큼을 꺾어 왔다. 싱싱한 꽃가지만 골라 소녀에게 건넨다.\\n', '그러나 소녀는\\n', '“하나도 버리지 마라.”\\n', '산마루께로 올라갔다.\\n', '맞은편 골짜기에 오순도순 초가집이 몇 모여 있었다.\\n', '누가 말할 것도 아닌데, 바위에 나란히 걸터앉았다. 유달리 주위가 조용해진 것 같았다. 따가운 가을 햇살만이 말라가는 풀 냄새를 퍼뜨리고 있었다.\\n', '“저건 또 무슨 꽃이지?”\\n', '적잖이 비탈진 곳에 칡덩굴이 엉키어 꽃을 달고 있었다.\\n', '“꼭 등꽃 같네. 서울 우리 학교에 큰 등나무가 있었단다. 저 꽃을 보니까 등나무 밑에서 놀던 동무들 생각이 난다.”\\n', '소녀가 조용히 일어나 비탈진 곳으로 간다. 꽃송이가 많이 달린 줄기를 잡고 끊기 시작한다. 좀처럼 끊어지지 않는다. 안간힘을 쓰다가 그만 미끄러지고 만다. 칡덩굴을 그러쥐었다.\\n', '소년이 놀라 달려갔다. 소녀가 손을 내밀었다. 손을 잡아 이끌어 올리며, 소년은 제가 꺾어다 줄 것을 잘못했다고 뉘우친다. 소녀의 오른쪽 무릎에 핏방울이 내맺혔다. 소년은 저도 모르게 생채기에 입술을 가져다 대고 빨기 시작했다. 그러다가, 무슨 생각을 했는지 홱 일어나 저 쪽으로 달려간다.\\n', '좀 만에 숨이 차 돌아온 소년은\\n', '“이걸 바르면 낫는다.”\\n', '송진을 생채기에다 문질러 바르고는 그 달음으로 칡덩굴 있는 데로 내려가, 꽃 많이 달린 몇 줄기를 이빨로 끊어 가지고 올라온다. 그리고는,\\n', '“저기 송아지가 있다. 그리 가 보자.”\\n', '누렁송아지였다. 아직 코뚜레도 꿰지 않았다.\\n', '소년이 고삐를 바투 잡아 쥐고 등을 긁어 주는 체 훌쩍 올라탔다. 송아지가 껑충거리며 돌아간다.\\n', '소녀의 흰 얼굴이, 분홍 스웨터가, 남색 스커트가, 안고 있는 꽃과 함께 범벅이 된다. 모두가 하나의 큰 꽃묶음 같다. 어지럽다. 그러나, 내리지 않으리라. 자랑스러웠다. 이것만은 소녀가 흉내 내지 못할, 자기 혼자만이 할 수 있는 일인 것이다.\\n', '“너희, 예서 뭣들 하느냐?”\\n', '농부(農夫)하나가 억새풀 사이로 올라왔다.\\n', '송아지 등에서 뛰어내렸다. 어린 송아지를 타서 허리가 상하면 어쩌느냐고 꾸지람을 들을 것만 같다.\\n', '그런데, 나룻이 긴 농부는 소녀 편을 한 번 훑어보고는 그저 송아지 고삐를 풀어 내면서,\\n', '“어서들 집으로 가거라. 소나기가 올라.”\\n', '참, 먹장구름 한 장이 머리 위에 와 있다. 갑자기 사면이 소란스러워진 것 같다. 바람이 우수수 소리를 내며 지나간다. 삽시간에 주위가 보랏빛으로 변했다.\\n', '산을 내려오는데, 떡갈나무 잎에서 빗방울 듣는 소리가 난다. 굵은 빗방울이었다. 목덜미가 선뜻선뜻했다. 그러자, 대번에 눈앞을 가로막는 빗줄기.\\n', '비안개 속에 원두막이 보였다. 그리로 가 비를 그을 수밖에.\\n', '그러나, 원두막은 기둥이 기울고 지붕도 갈래갈래 찢어져 있었다. 그런 대로 비가 덜 새는 곳을 가려 소녀를 들어서게 했다.\\n', '소녀의 입술이 파아랗게 질렸다. 어깨를 자꾸 떨었다.\\n', '무명 겹저고리를 벗어 소녀의 어깨를 싸 주었다. 소녀는 비에 젖은 눈을 들어 한 번 쳐다보았을 뿐, 소년이 하는 대로 잠자코 있었다. 그리고는, 안고 온 꽃묶음 속에서 가지가 꺾이고 꽃이 일그러진 송이를 골라 발 밑에 버린다. 소녀가 들어선 곳도 비가 새기 시작했다. 더 거기서 비를 그을 수 없었다.\\n', '밖을 내다보던 소년이 무엇을 생각했는지 수수밭 쪽으로 달려간다. 세워 놓은 수숫단 속을 비집어 보더니, 옆의 수숫단을 날라다 덧세운다. 다시 속을 비집어 본다. 그리고는 이쪽을 향해 손짓을 한다.\\n', '수숫단 속은 비는 안 새었다. 그저 어둡고 좁은 게 안 됐다. 앞에 나앉은 소년은 그냥 비를 맞아야만 했다. 그런 소년의 어깨에서 김이 올랐다.\\n', '소녀가 속삭이듯이, 이리 들어와 앉으라고 했다. 괜찮다고 했다. 소녀가 다시, 들어와 앉으라고 했다. 할 수 없이 뒷걸음질을 쳤다. 그 바람에, 소녀가 안고 있는 꽃묶음이 망그러졌다. 그러나, 소녀는 상관없다고 생각했다. 비에 젖은 소년의 몸 내음새가 확 코에 끼얹혀졌다. 그러나, 고개를 돌리지 않았다. 도리어 소년의 몸기운으로 해서 떨리던 몸이 적이 누그러지는 느낌이었다.\\n', '소란하던 수숫잎 소리가 뚝 그쳤다. 밖이 멀개졌다.\\n', '수숫단 속을 벗어 나왔다. 멀지 않은 앞쪽에 햇빛이 눈부시게 내리붓고 있었다. 도랑 있는 곳까지 와 보니, 엄청나게 물이 불어 있었다. 빛마저 제법 붉은 흙탕물이었다. 뛰어 건널 수가 없었다.\\n', '소년이 등을 돌려 댔다. 소녀가 순순히 업히었다. 걷어올린 소년의 잠방이까지 물이 올라왔다. 소녀는 ‘어머나’소리를 지르며 소년의 목을 끌어안았다.\\n', '개울가에 다다르기 전에, 가을 하늘이 언제 그랬는가 싶게 구름 한 점 없이 쪽빛으로 개어 있었다.\\n', '그 뒤로 소녀의 모습은 뵈지 않았다. 매일같이 개울가로 달려와 봐도 뵈지 않았다.\\n', '학교에서 쉬는 시간에 운동장을 살피기도 했다. 남 몰래 5학년 여자 반을 엿보기도 했다. 그러나, 뵈지 않았다.\\n', '그날도 소년은 주머니 속 흰 조약돌만 만지작거리며 개울가로 나왔다. 그랬더니, 이 쪽 개울둑에 소녀가 앉아 있는 게 아닌가.\\n', '소년은 가슴부터 두근거렸다.\\n', '“그 동안 앓았다.”\\n', '어쩐지 소녀의 얼굴이 해쓱해져 있었다.\\n', '“그 날, 소나기 맞은 탓 아냐?”\\n', '소녀가 가만히 고개를 끄덕이었다.\\n', '“인제 다 났냐?”\\n', '“아직도…….”\\n', '“그럼, 누워 있어야지.”\\n', '“하도 갑갑해서 나왔다. ……참, 그 날 재밌었어……. 그런데그 날 어디서 이런 물이 들었는지 잘 지지 않는다.”\\n', '소녀가 분홍 스웨터 앞자락을 내려다본다. 거기에 검붉은 진흙물 같은 게 들어 있었다.\\n', '소녀가 가만히 보조개를 떠올리며,\\n', '“그래 이게 무슨 물 같니?”\\n', '소년은 스웨터 앞자락만 바라보고 있었다.\\n', '“내, 생각해 냈다. 그 날, 도랑을 건너면서 내가 업힌 일이 있지? 그 때, 네 등에서 옮은 물이다.”\\n', '소년은 얼굴이 확 달아오름을 느꼈다.\\n', '갈림길에서 소녀는\\n', '“저, 오늘 아침에 우리 집에서 대추를 땄다. 낼 제사 지내려고…….”\\n', '대추 한 줌을 내준다. 소년은 주춤한다.\\n', '“맛봐라. 우리 증조(曾祖)할아버지가 심었다는데, 아주 달다.”\\n', '소년은 두 손을 오그려 내밀며,\\n', '“참, 알도 굵다!”\\n', '“그리고 저, 우리 이번에 제사 지내고 나서 좀 있다. 집을 내주게 됐다.”\\n', '소년은 소녀네가 이사해 오기 전에 벌써 어른들의 이야기를 들어서, 윤 초시 손자(孫子)가 서울서 사업에 실패해 가지고 고향에 돌아오지 않을 수 없게 되었다는 걸 알고 있었다. 그것이 이번에는 고향 집마저 남의 손에 넘기게 된 모양이었다.\\n', '“왜 그런지 난 이사 가는 게 싫어졌다. 어른들이 하는 일이니 어쩔 수 없지만…….”\\n', '전에 없이, 소녀의 까만 눈에 쓸쓸한 빛이 떠돌았다.\\n', '소녀와 헤어져 돌아오는 길에, 소년은 혼잣속으로, 소녀가 이사를 간다는 말을 수없이 되뇌어 보았다. 무어 그리 안타까울 것도 서러울 것도 없었다. 그렇건만, 소년은 지금 자기가 씹고 있는 대추알의 단맛을 모르고 있었다.\\n', '이 날 밤, 소년은 몰래 덕쇠 할아버지네 호두밭으로 갔다.\\n', '낯에 봐 두었던 나무로 올라갔다. 그리고, 봐 두었던 가지를 향해 작대기를 내리쳤다. 호두송이 떨어지는 소리가 별나게 크게 들렸다. 가슴이 선뜩했다. 그러나 다음 순간, 굵은 호두야 많이 떨어져라, 많이 떨어져라, 저도 모를 힘에 이끌려 마구 작대기를 내리 치는 것이었다.\\n', '돌아오는 길에는 열 이틀 달이 지우는 그늘만 골라 디뎠다. 그늘의 고마움을 처음 느꼈다.\\n', '불룩한 주머니를 어루만졌다. 호두송이를 맨손으로 깠다가는 옴이 오르기 쉽다는 말 같은 건 아무렇지도 않았다. 그저 근동에서 제일 가는 이 덕쇠 할아버지네 호두를 어서 소녀에게 맛보여야 한다는 생각만이 앞섰다.\\n', '그러다, 아차 하는 생각이 들었다. 소녀더러 병이 좀 낫거들랑 이사 가기 전에 한 번 개울가로 나와 달라는 말을 못해 둔 것이었다. 바보 같은것, 바보 같은것.\\n', '이튿날, 소년이 학교에서 돌아오니, 아버지가 나들이옷으로 갈아입고 닭 한 마리를 안고 있었다.\\n', '어디 가시느냐고 물었다.\\n', '그 말에도 대꾸도 없이, 아버지는 안고 있는 닭의 무게를 겨냥해 보면서,\\n', '“이만하면 될까?”\\n', '어머니가 망태기를 내주며,\\n', '“벌써 며칠째 ‘걀걀’하고 알 날 자리를 보던데요. 크진 않아도살은 쪘을 거여요.”\\n', '소년이 이번에는 어머니한테 아버지가 어디 가시느냐고 물어 보았다.\\n', '“저, 서당골 윤 초시 댁에 가신다. 제삿상에라도 놓으시라고…….”\\n', '“그럼, 큰 놈으로 하나 가져가지. 저 얼룩수탉으로…….”\\n', '이 말에, 아버지는 허허 웃고 나서,\\n', '“임마, 그래도 이게 실속이 있다.”\\n', '소년은 공연히 열적어, 책보를 집어던지고는 외양간으로가, 쇠잔등을 한 번 철썩 갈겼다. 쇠파리라도 잡는 체.\\n', '개울물은 날로 여물어 갔다.\\n', '소년은 갈림길에서 아래쪽으로 가 보았다. 갈밭머리에서 바라보는 서당골 마을은 쪽빛 하늘 아래 한결 가까워 보였다.\\n', '어른들의 말이, 내일 소녀네가 양평읍으로 이사 간다는 것이었다. 거기 가서는 조그마한 가겟방을 보게 되리라는 것이었다.\\n', '소년은 저도 모르게 주머니 속 호두알을 만지작거리며, 한 손으로는 수없이 갈꽃을 휘어 꺾고 있었다.\\n', '그 날 밤, 소년은 자리에 누워서도 같은 생각뿐이었다. 내일 소녀네가 이사하는 걸 가 보나 어쩌나. 가면 소녀를 보게 될까 어떨까.\\n', '그러다가 까무룩 잠이 들었는가 하는데,\\n', '“허, 참 세상일도…….”\\n', '마을 갔던 아버지가 언제 돌아왔는지,\\n', '“윤 초시 댁도 말이 아니야, 그 많던 전답을 다 팔아 버리고, 대대로 살아오던 집마저 남의 손에 넘기더니, 또 악상까지 당하는걸 보면…….”\\n', '남폿불 밑에서 바느질감을 안고 있던 어머니가,\\n', '“증손(曾孫)이라곤 계집애 그 애 하나뿐이었지요?”\\n', '“그렇지, 사내 애 둘 있던 건 어려서 잃어버리고…….”\\n', '“어쩌면 그렇게 자식복이 없을까.”\\n', '“글쎄 말이지. 이번 앤 꽤 여러 날 앓는 걸 약도 변변히 못써 봤다더군. 지금 같아서 윤 초시네도 대가 끊긴 셈이지.……그런데참, 이번 계집앤 어린 것이 여간 잔망스럽지가 않아. 글쎄, 죽기전에 이런 말을 했다지 않아? 자기가 죽거든 자기 입던 옷을 꼭그대로 입혀서 묻어 달라고…….”']\n",
      "[\"'You've got to find what you love,' Jobs says\\n\", '\\xa0\\n', 'This is the text of the Commencement address by Steve Jobs, CEO of Apple Computer and of Pixar Animation Studios, delivered on June 12, 2005.\\n', '\\xa0\\n', '\\xa0\\n', \"I am honored to be with you today at your commencement from one of the finest universities in the world. I never graduated from college. Truth be told, this is the closest I've ever gotten to a college graduation. Today I want to tell you three stories from my life. That's it. No big deal. Just three stories. \\n\", '\\xa0\\n', 'The first story is about connecting the dots. \\n', 'I dropped out of Reed College after the first 6 months, but then stayed around as a drop-in for another 18 months or so before I really quit. So why did I drop out? \\n', '\\xa0\\n', 'It started before I was born. My biological mother was a young, unwed college graduate student, and she decided to put me up for adoption. She felt very strongly that I should be adopted by college graduates, so everything was all set for me to be adopted at birth by a lawyer and his wife. Except that when I popped out they decided at the last minute that they really wanted a girl. So my parents, who were on a waiting list, got a call in the middle of the night asking: \"We have an unexpected baby boy; do you want him?\" They said: \"Of course.\" My biological mother later found out that my mother had never graduated from college and that my father had never graduated from high school. She refused to sign the final adoption papers. She only relented a few months later when my parents promised that I would someday go to college. \\n', '\\xa0\\n', \"And 17 years later I did go to college. But I naively chose a college that was almost as expensive as Stanford, and all of my working-class parents' savings were being spent on my college tuition. After six months, I couldn't see the value in it. I had no idea what I wanted to do with my life and no idea how college was going to help me figure it out. And here I was spending all of the money my parents had saved their entire life. So I decided to drop out and trust that it would all work out OK. It was pretty scary at the time, but looking back it was one of the best decisions I ever made. The minute I dropped out I could stop taking the required classes that didn't interest me, and begin dropping in on the ones that looked interesting.\\xa0 \\n\", '\\xa0\\n', \"It wasn't all romantic. I didn't have a dorm room, so I slept on the floor in friends' rooms, I returned coke bottles for the 5¢ deposits to buy food with, and I would walk the 7 miles across town every Sunday night to get one good meal a week at the Hare Krishna temple. I loved it. And much of what I stumbled into by following my curiosity and intuition turned out to be priceless later on. Let me give you one example: \\n\", '\\xa0\\n', \"Reed College at that time offered perhaps the best calligraphy instruction in the country. Throughout the campus every poster, every label on every drawer, was beautifully hand calligraphed. Because I had dropped out and didn't have to take the normal classes, I decided to take a calligraphy class to learn how to do this. I learned about serif and san serif typefaces, about varying the amount of space between different letter combinations, about what makes great typography great. It was beautiful, historical, artistically subtle in a way that science can't capture, and I found it fascinating. \\n\", '\\xa0\\n', 'None of this had even a hope of any practical application in my life. But ten years later, when we were designing the first Macintosh computer, it all came back to me. And we designed it all into the Mac. It was the first computer with beautiful typography. If I had never dropped in on that single course in college, the Mac would have never had multiple typefaces or proportionally spaced fonts. And since Windows just copied the Mac, its likely that no personal computer would have them. If I had never dropped out, I would have never dropped in on this calligraphy class, and personal computers might not have the wonderful typography that they do. Of course it was impossible to connect the dots looking forward when I was in college. But it was very, very clear looking backwards ten years later. \\n', '\\xa0\\n', \"Again, you can't connect the dots looking forward; you can only connect them looking backwards. So you have to trust that the dots will somehow connect in your future. You have to trust in something - your gut, destiny, life, karma, whatever. This approach has never let me down, and it has made all the difference in my life. \\n\", '\\xa0\\n', 'My second story is about love and loss. \\n', '\\xa0\\n', 'I was lucky – I found what I loved to do early in life. Woz and I started Apple in my parents garage when I was 20. We worked hard, and in 10 years Apple had grown from just the two of us in a garage into a $2 billion company with over 4000 employees. We had just released our finest creation - the Macintosh - a year earlier, and I had just turned 30. And then I got fired. How can you get fired from a company you started? Well, as Apple grew we hired someone who I thought was very talented to run the company with me, and for the first year or so things went well. But then our visions of the future began to diverge and eventually we had a falling out. When we did, our Board of Directors sided with him. So at 30 I was out. And very publicly out. What had been the focus of my entire adult life was gone, and it was devastating. \\n', '\\xa0\\n', \"I really didn't know what to do for a few months. I felt that I had let the previous generation of entrepreneurs down - that I had dropped the baton as it was being passed to me. I met with David Packard and Bob Noyce and tried to apologize for screwing up so badly. I was a very public failure, and I even thought about running away from the valley. But something slowly began to dawn on me – I still loved what I did. The turn of events at Apple had not changed that one bit. I had been rejected, but I was still in love. And so I decided to start over. \\n\", '\\xa0\\n', \"I didn't see it then, but it turned out that getting fired from Apple was the best thing that could have ever happened to me. The heaviness of being successful was replaced by the lightness of being a beginner again, less sure about everything. It freed me to enter one of the most creative periods of my life.\\xa0 \\n\", '\\xa0\\n', \"During the next five years, I started a company named NeXT, another company named Pixar, and fell in love with an amazing woman who would become my wife. Pixar went on to create the worlds first computer animated feature film, Toy Story, and is now the most successful animation studio in the world. In a remarkable turn of events, Apple bought NeXT, I retuned to Apple, and the technology we developed at NeXT is at the heart of Apple's current renaissance. And Laurene and I have a wonderful family together. \\n\", '\\n', '\\xa0\\n', \"I'm pretty sure none of this would have happened if I hadn't been fired from Apple. It was awful tasting medicine, but I guess the patient needed it. Sometimes life hits you in the head with a brick. Don't lose faith. I'm convinced that the only thing that kept me going was that I loved what I did. You've got to find what you love. And that is as true for your work as it is for your lovers. Your work is going to fill a large part of your life, and the only way to be truly satisfied is to do what you believe is great work. And the only way to do great work is to love what you do. If you haven't found it yet, keep looking. Don't settle. As with all matters of the heart, you'll know when you find it. And, like any great relationship, it just gets better and better as the years roll on. So keep looking until you find it. Don't settle.\\xa0\\xa0 \\n\", '\\xa0\\n', 'My third story is about death. \\n', '\\xa0\\n', 'When I was 17, I read a quote that went something like: \"If you live each day as if it was your last, someday you\\'ll most certainly be right.\" It made an impression on me, and since then, for the past 33 years, I have looked in the mirror every morning and asked myself: \"If today were the last day of my life, would I want to do what I am about to do today?\" And whenever the answer has been \"No\" for too many days in a row, I know I need to change something. \\n', '\\xa0\\n', \"Remembering that I'll be dead soon is the most important tool I've ever encountered to help me make the big choices in life. Because almost everything – all external expectations, all pride, all fear of embarrassment or failure - these things just fall away in the face of death, leaving only what is truly important. Remembering that you are going to die is the best way I know to avoid the trap of thinking you have something to lose. You are already naked. There is no reason not to follow your heart. \\n\", '\\xa0\\n', \"About a year ago I was diagnosed with cancer. I had a scan at 7:30 in the morning, and it clearly showed a tumor on my pancreas. I didn't even know what a pancreas was. The doctors told me this was almost certainly a type of cancer that is incurable, and that I should expect to live no longer than three to six months. My doctor advised me to go home and get my affairs in order, which is doctor's code for prepare to die. It means to try to tell your kids everything you thought you'd have the next 10 years to tell them in just a few months. It means to make sure everything is buttoned up so that it will be as easy as possible for your family. It means to say your goodbyes. \\n\", '\\xa0\\n', \"I lived with that diagnosis all day. Later that evening I had a biopsy, where they stuck an endoscope down my throat, through my stomach and into my intestines, put a needle into my pancreas and got a few cells from the tumor. I was sedated, but my wife, who was there, told me that when they viewed the cells under a microscope the doctors started crying because it turned out to be a very rare form of pancreatic cancer that is curable with surgery. I had the surgery and I'm fine now. \\n\", '\\xa0\\n', \"This was the closest I've been to facing death, and I hope its the closest I get for a few more decades. Having lived through it, I can now say this to you with a bit more certainty than when death was a useful but purely intellectual concept: \\n\", '\\xa0\\n', \"No one wants to die. Even people who want to go to heaven don't want to die to get there. And yet death is the destination we all share. No one has ever escaped it. And that is as it should be, because Death is very likely the single best invention of Life. It is Life's change agent. It clears out the old to make way for the new. Right now the new is you, but someday not too long from now, you will gradually become the old and be cleared away. Sorry to be so dramatic, but it is quite true.\\xa0 \\n\", '\\xa0\\n', \"Your time is limited, so don't waste it living someone else's life. Don't be trapped by dogma - which is living with the results of other people's thinking. Don't let the noise of other's opinions drown out your own inner voice. And most important, have the courage to follow your heart and intuition. They somehow already know what you truly want to become. Everything else is secondary. \\n\", '\\xa0\\n', \"When I was young, there was an amazing publication called The Whole Earth Catalog, which was one of the bibles of my generation. It was created by a fellow named Stewart Brand not far from here in Menlo Park, and he brought it to life with his poetic touch. This was in the late 1960's, before personal computers and desktop publishing, so it was all made with typewriters, scissors, and polaroid cameras. It was sort of like Google in paperback form, 35 years before Google came along: it was idealistic, and overflowing with neat tools and great notions. \\n\", '\\xa0\\n', 'Stewart and his team put out several issues of The Whole Earth Catalog, and then when it had run its course, they put out a final issue. It was the mid-1970s, and I was your age. On the back cover of their final issue was a photograph of an early morning country road, the kind you might find yourself hitchhiking on if you were so adventurous. Beneath it were the words: \"Stay Hungry. Stay Foolish.\" It was their farewell message as they signed off. Stay Hungry. Stay Foolish. And I have always wished that for myself. And now, as you graduate to begin anew, I wish that for you. \\n', '\\xa0\\n', 'Stay Hungry. Stay Foolish. \\n', '\\xa0\\n', 'Thank you all very much. \\n', '\\xa0\\n', '\\xa0\\n']\n"
     ]
    }
   ],
   "source": [
    "####텍스트 읽어오기####\n",
    "##한국어 텍스트##\n",
    "f = open(\"./소나기.txt\",'rt',encoding='utf-8')\n",
    "lines = f.readlines()\n",
    "line = []\n",
    "for i in range(len(lines)):\n",
    "    line.append(lines[i])\n",
    "f.close()\n",
    "\n",
    "print(line)\n",
    "##영어 텍스트##\n",
    "f = open(\"./stevejobs.txt\",'rt',encoding='utf-8')\n",
    "lines2 = f.readlines()\n",
    "line2 = []\n",
    "for i in range(len(lines2)):\n",
    "    line2.append(lines2[i])\n",
    "f.close()\n",
    "\n",
    "print(line2)"
   ]
  },
  {
   "cell_type": "markdown",
   "metadata": {},
   "source": [
    "### (4) 텍스트에서 특수문자 지워주기"
   ]
  },
  {
   "cell_type": "code",
   "execution_count": 26,
   "metadata": {},
   "outputs": [
    {
     "name": "stdout",
     "output_type": "stream",
     "text": [
      "['소나기  황순원', '소년은 개울가에서 소녀를 보자 곧 윤 초시네 증손녀딸이라는 걸 알 수 있었다 소녀는 개울에다 손을 잠그고 물장난을 하고 있는 것이다 서울서는 이런 개울물을 보지 못하기나 한 듯이', '벌써 며칠째 소녀는 학교에서 돌아오는 길에 물장난이었다 그런데 어제까지 개울 기슭에서 하더니 오늘은 징검다리 한가운데 앉아서 하고 있다', '소년은 개울둑에 앉아 버렸다 소녀가 비키기를 기다리자는 것이다', '요행 지나가는 사람이 있어 소녀가 길을 비켜 주었다', '다음 날은 좀 늦게 개울가로 나왔다', '이 날은 소녀가 징검다리 한가운데 앉아 세수를 하고 있었다 분홍 스웨터 소매를 걷어올린 목덜미가 마냥 희었다', '한참 세수를 하고 나더니 이번에는 물 속을 빤히 들여다 본다 얼굴이라도 비추어 보는 것이리라 갑자기 물을 움켜 낸다 고기 새끼라도 지나가는 듯', '소녀는 소년이 개울둑에 앉아 있는 걸 아는지 모르는지 그냥 날쌔게 물만 움켜 낸다 그러나 번번이 허탕이다 그대로 재미있는 양 자꾸 물만 움킨다 어제처럼 개울을 건너는 사람이 있어야 길을 비킬 모양이다', '그러다가 소녀가 물 속에서 무엇을 하나 집어 낸다 하얀 조약돌이었다 그리고는 벌떡 일어나 팔짝팔짝 징검다리를 뛰어 건너간다', '다 건너가더니만 홱 이리로 돌아서며', '이 바보', '조약돌이 날아왔다', '소년은 저도 모르게 벌떡 일어섰다', '단발 머리를 나풀거리며 소녀가 막 달린다 갈밭 사잇길로 들어섰다 뒤에는 청량한 가을 햇살 아래 빛나는 갈꽃뿐', '이제 저쯤 갈밭머리로 소녀가 나타나리라 꽤 오랜 시간이 지났다고 생각됐다 그런데도 소녀는 나타나지 않는다 발돋움을 했다 그러고도 상당한 시간이 지났다고 생각됐다', '저 쪽 갈밭머리에 갈꽃이 한 옴큼 움직였다 소녀가 갈꽃을 안고 있었다 그리고 이제는 천천한 걸음이었다 유난히 맑은 가을 햇살이 소녀의 갈꽃머리에서 반짝거렸다 소녀 아닌 갈꽃이 들길을 걸어가는 것만 같았다', '소년은 이 갈꽃이 아주 뵈지 않게 되기까지 그대로 서 있었다 문득 소녀가 던지 조약돌을 내려다보았다 물기가 걷혀 있었다 소년은 조약돌을 집어 주머니에 넣었다', '다음 날부터 좀더 늦게 개울가로 나왔다 소녀의 그림자가 뵈지 않았다 다행이었다', '그러나 이상한 일이었다 소녀의 그림자가 뵈지 않는 날이 계속될수록 소년의 가슴 한 구석에는 어딘가 허전함이 자리 잡는 것이었다 주머니 속 조약돌을 주무르는 버릇이 생겼다', '그러한 어떤 날 소년은 전에 소녀가 앉아 물장난을 하던 징검다리 한가운데에 앉아 보았다 물 속에 손을 잠갔다 세수를 하였다 물 속을 들여다보았다 검게 탄 얼굴이 그대로 비치었다 싫었다', '소년은 두 손으로 물 속의 얼굴을 움키었다 몇 번이고 움키었다 그러다가 깜짝 놀라 일어나고 말았다 소녀가 이리로 건너오고 있지 않느냐', '숨어서 내가 하는 일을 엿보고 있었구나 소년은 달리기를 시작했다 디딤돌을 헛디뎠다 한 발이 물 속에 빠졌다 더 달렸다', '몸을 가릴 데가 있어 줬으면 좋겠다 이 쪽 길에는 갈밭도 없다 메밀밭이다 전에 없이 메밀꽃 냄새가 짜릿하게 코를 찌른다고 생각됐다 미간이 아찔했다 찝찔한 액체가 입술에 흘러들었다 코피였다', '소년은 한 손으로 코피를 훔쳐내면서 그냥 달렸다 어디선가 바보 바보 하는 소리가 자꾸만 뒤따라오는 것 같았다', '토요일이었다', '개울가에 이르니 며칠째 보이지 않던 소녀가 건너편 가에 앉아 물장난을 하고 있었다 모르는 체 징검다리를 건너기 시작했다 얼마 전에 소녀 앞에서 한 번 실수를 했을 뿐 여태 큰길 가듯이 건너던 징검다리를 오늘은 조심스럽게 건넌다', '얘', '못 들은 체했다 둑 위로 올라섰다', '얘 이게 무슨 조개지', '자기도 모르게 돌아섰다 소녀의 맑고 검은 눈과 마주쳤다 얼른 소녀의 손바닥으로 눈을 떨구었다', '비단조개', '이름도 참 곱다', '갈림길에 왔다 여기서 소녀는 아래편으로 한 삼 마장쯤 소년은 우대로 한 십 리 가까운 길을 가야 한다', '소녀가 걸음을 멈추며', '너 저 산 너머에 가 본 일 있니', '벌 끝을 가리켰다', '없다', '우리 가 보지 않으련 시골 오니까 혼자서 심심해 못 견디겠다', '저래 봬도 멀다', '멀면 얼마나 멀기에 서울 있을 땐 사뭇 먼 데까지 소풍 갔었다', '소녀의 눈이 금새 바보바보할 것만 같았다', '논 사잇길로 들어섰다 벼 가을걷이하는 곁을 지났다', '허수아비가 서 있었다 소년이 새끼줄을 흔들었다 참새가 몇 마리 날아간다 참 오늘은 일찍 집으로 돌아가 텃논의 참새를 봐야 할걸 하는 생각이 든다', '야 재밌다', '소녀가 허수아비 줄을 잡더니 흔들어 댄다 허수아비가 자꾸 우쭐거리며 춤을 춘다 소녀의 왼쪽 볼에 살포시 보조개가 패었다', '저만큼 허수아비가 또 서 있다 소녀가 그리로 달려간다 그 뒤를 소년도 달렸다 오늘 같은 날은 일찍 집으로 돌아가 집안일을 도와야 한다는 생각을 잊어버리기라도 하려는 듯이', '소녀의 곁을 스쳐 그냥 달린다 메뚜기가 따끔따끔 얼굴에 와 부딪친다 쪽빛으로 한껏 갠 가을 하늘이 소년의 눈앞에서 맴을 돈다 어지럽다 저놈의 독수리 저놈의 독수리 저놈의 독수리가 맴을 돌고 있기 때문이다', '돌아다보니 소녀는 지금 자기가 지나쳐 온 허수아비를 흔들고 있다 좀 전 허수아비보다 더 우쭐거린다', '논이 끝난 곳에 도랑이 하나 있었다 소녀가 먼저 뛰어 건넜다', '거기서부터 산 밑까지는 밭이었다', '수숫단을 세워 놓은 밭머리를 지났다', '저게 뭐니', '원두막', '여기 참외 맛있니', '그럼 참외 맛도 좋지만 수박 맛은 더 좋다', '하나 먹어 봤으면', '소년이 참외 그루에 심은 무우밭으로 들어가 무우 두 밑을 뽑아 왔다 아직 밑이 덜 들어 있었다 잎을 비틀어 팽개친 후 소녀에게 한개 건넨다 그리고는 이렇게 먹어야 한다는 듯이 먼저 대강이를 한 입 베물어 낸 다음 손톱으로 한 돌이 껍질을 벗겨 우쩍 깨문다', '소녀도 따라 했다 그러나 세 입도 못 먹고', '아 맵고 지려', '하며 집어던지고 만다', '참 맛 없어 못 먹겠다', '소년이 더 멀리 팽개쳐 버렸다', '산이 가까워졌다', '단풍이 눈에 따가웠다', '야아', '소녀가 산을 향해 달려갔다 이번은 소년이 뒤따라 달리지 않았다 그러고도 곧 소녀보다 더 많은 꽃을 꺾었다', '이게 들국화 이게 싸리꽃 이게 도라지꽃', '도라지꽃이 이렇게 예쁜 줄은 몰랐네 난 보랏빛이 좋아 그런데 이 양산 같이 생긴 노란 꽃이 뭐지', '마타리꽃', '소녀는 마타리꽃을 양산 받듯이 해 보인다 약간 상기된 얼굴에 살포시 보조개를 떠올리며', '다시 소년은 꽃 한 옴큼을 꺾어 왔다 싱싱한 꽃가지만 골라 소녀에게 건넨다', '그러나 소녀는', '하나도 버리지 마라', '산마루께로 올라갔다', '맞은편 골짜기에 오순도순 초가집이 몇 모여 있었다', '누가 말할 것도 아닌데 바위에 나란히 걸터앉았다 유달리 주위가 조용해진 것 같았다 따가운 가을 햇살만이 말라가는 풀 냄새를 퍼뜨리고 있었다', '저건 또 무슨 꽃이지', '적잖이 비탈진 곳에 칡덩굴이 엉키어 꽃을 달고 있었다', '꼭 등꽃 같네 서울 우리 학교에 큰 등나무가 있었단다 저 꽃을 보니까 등나무 밑에서 놀던 동무들 생각이 난다', '소녀가 조용히 일어나 비탈진 곳으로 간다 꽃송이가 많이 달린 줄기를 잡고 끊기 시작한다 좀처럼 끊어지지 않는다 안간힘을 쓰다가 그만 미끄러지고 만다 칡덩굴을 그러쥐었다', '소년이 놀라 달려갔다 소녀가 손을 내밀었다 손을 잡아 이끌어 올리며 소년은 제가 꺾어다 줄 것을 잘못했다고 뉘우친다 소녀의 오른쪽 무릎에 핏방울이 내맺혔다 소년은 저도 모르게 생채기에 입술을 가져다 대고 빨기 시작했다 그러다가 무슨 생각을 했는지 홱 일어나 저 쪽으로 달려간다', '좀 만에 숨이 차 돌아온 소년은', '이걸 바르면 낫는다', '송진을 생채기에다 문질러 바르고는 그 달음으로 칡덩굴 있는 데로 내려가 꽃 많이 달린 몇 줄기를 이빨로 끊어 가지고 올라온다 그리고는', '저기 송아지가 있다 그리 가 보자', '누렁송아지였다 아직 코뚜레도 꿰지 않았다', '소년이 고삐를 바투 잡아 쥐고 등을 긁어 주는 체 훌쩍 올라탔다 송아지가 껑충거리며 돌아간다', '소녀의 흰 얼굴이 분홍 스웨터가 남색 스커트가 안고 있는 꽃과 함께 범벅이 된다 모두가 하나의 큰 꽃묶음 같다 어지럽다 그러나 내리지 않으리라 자랑스러웠다 이것만은 소녀가 흉내 내지 못할 자기 혼자만이 할 수 있는 일인 것이다', '너희 예서 뭣들 하느냐', '농부하나가 억새풀 사이로 올라왔다', '송아지 등에서 뛰어내렸다 어린 송아지를 타서 허리가 상하면 어쩌느냐고 꾸지람을 들을 것만 같다', '그런데 나룻이 긴 농부는 소녀 편을 한 번 훑어보고는 그저 송아지 고삐를 풀어 내면서', '어서들 집으로 가거라 소나기가 올라', '참 먹장구름 한 장이 머리 위에 와 있다 갑자기 사면이 소란스러워진 것 같다 바람이 우수수 소리를 내며 지나간다 삽시간에 주위가 보랏빛으로 변했다', '산을 내려오는데 떡갈나무 잎에서 빗방울 듣는 소리가 난다 굵은 빗방울이었다 목덜미가 선뜻선뜻했다 그러자 대번에 눈앞을 가로막는 빗줄기', '비안개 속에 원두막이 보였다 그리로 가 비를 그을 수밖에', '그러나 원두막은 기둥이 기울고 지붕도 갈래갈래 찢어져 있었다 그런 대로 비가 덜 새는 곳을 가려 소녀를 들어서게 했다', '소녀의 입술이 파아랗게 질렸다 어깨를 자꾸 떨었다', '무명 겹저고리를 벗어 소녀의 어깨를 싸 주었다 소녀는 비에 젖은 눈을 들어 한 번 쳐다보았을 뿐 소년이 하는 대로 잠자코 있었다 그리고는 안고 온 꽃묶음 속에서 가지가 꺾이고 꽃이 일그러진 송이를 골라 발 밑에 버린다 소녀가 들어선 곳도 비가 새기 시작했다 더 거기서 비를 그을 수 없었다', '밖을 내다보던 소년이 무엇을 생각했는지 수수밭 쪽으로 달려간다 세워 놓은 수숫단 속을 비집어 보더니 옆의 수숫단을 날라다 덧세운다 다시 속을 비집어 본다 그리고는 이쪽을 향해 손짓을 한다', '수숫단 속은 비는 안 새었다 그저 어둡고 좁은 게 안 됐다 앞에 나앉은 소년은 그냥 비를 맞아야만 했다 그런 소년의 어깨에서 김이 올랐다', '소녀가 속삭이듯이 이리 들어와 앉으라고 했다 괜찮다고 했다 소녀가 다시 들어와 앉으라고 했다 할 수 없이 뒷걸음질을 쳤다 그 바람에 소녀가 안고 있는 꽃묶음이 망그러졌다 그러나 소녀는 상관없다고 생각했다 비에 젖은 소년의 몸 내음새가 확 코에 끼얹혀졌다 그러나 고개를 돌리지 않았다 도리어 소년의 몸기운으로 해서 떨리던 몸이 적이 누그러지는 느낌이었다', '소란하던 수숫잎 소리가 뚝 그쳤다 밖이 멀개졌다', '수숫단 속을 벗어 나왔다 멀지 않은 앞쪽에 햇빛이 눈부시게 내리붓고 있었다 도랑 있는 곳까지 와 보니 엄청나게 물이 불어 있었다 빛마저 제법 붉은 흙탕물이었다 뛰어 건널 수가 없었다', '소년이 등을 돌려 댔다 소녀가 순순히 업히었다 걷어올린 소년의 잠방이까지 물이 올라왔다 소녀는 어머나소리를 지르며 소년의 목을 끌어안았다', '개울가에 다다르기 전에 가을 하늘이 언제 그랬는가 싶게 구름 한 점 없이 쪽빛으로 개어 있었다', '그 뒤로 소녀의 모습은 뵈지 않았다 매일같이 개울가로 달려와 봐도 뵈지 않았다', '학교에서 쉬는 시간에 운동장을 살피기도 했다 남 몰래 학년 여자 반을 엿보기도 했다 그러나 뵈지 않았다', '그날도 소년은 주머니 속 흰 조약돌만 만지작거리며 개울가로 나왔다 그랬더니 이 쪽 개울둑에 소녀가 앉아 있는 게 아닌가', '소년은 가슴부터 두근거렸다', '그 동안 앓았다', '어쩐지 소녀의 얼굴이 해쓱해져 있었다', '그 날 소나기 맞은 탓 아냐', '소녀가 가만히 고개를 끄덕이었다', '인제 다 났냐', '아직도', '그럼 누워 있어야지', '하도 갑갑해서 나왔다 참 그 날 재밌었어 그런데그 날 어디서 이런 물이 들었는지 잘 지지 않는다', '소녀가 분홍 스웨터 앞자락을 내려다본다 거기에 검붉은 진흙물 같은 게 들어 있었다', '소녀가 가만히 보조개를 떠올리며', '그래 이게 무슨 물 같니', '소년은 스웨터 앞자락만 바라보고 있었다', '내 생각해 냈다 그 날 도랑을 건너면서 내가 업힌 일이 있지 그 때 네 등에서 옮은 물이다', '소년은 얼굴이 확 달아오름을 느꼈다', '갈림길에서 소녀는', '저 오늘 아침에 우리 집에서 대추를 땄다 낼 제사 지내려고', '대추 한 줌을 내준다 소년은 주춤한다', '맛봐라 우리 증조할아버지가 심었다는데 아주 달다', '소년은 두 손을 오그려 내밀며', '참 알도 굵다', '그리고 저 우리 이번에 제사 지내고 나서 좀 있다 집을 내주게 됐다', '소년은 소녀네가 이사해 오기 전에 벌써 어른들의 이야기를 들어서 윤 초시 손자가 서울서 사업에 실패해 가지고 고향에 돌아오지 않을 수 없게 되었다는 걸 알고 있었다 그것이 이번에는 고향 집마저 남의 손에 넘기게 된 모양이었다', '왜 그런지 난 이사 가는 게 싫어졌다 어른들이 하는 일이니 어쩔 수 없지만', '전에 없이 소녀의 까만 눈에 쓸쓸한 빛이 떠돌았다', '소녀와 헤어져 돌아오는 길에 소년은 혼잣속으로 소녀가 이사를 간다는 말을 수없이 되뇌어 보았다 무어 그리 안타까울 것도 서러울 것도 없었다 그렇건만 소년은 지금 자기가 씹고 있는 대추알의 단맛을 모르고 있었다', '이 날 밤 소년은 몰래 덕쇠 할아버지네 호두밭으로 갔다', '낯에 봐 두었던 나무로 올라갔다 그리고 봐 두었던 가지를 향해 작대기를 내리쳤다 호두송이 떨어지는 소리가 별나게 크게 들렸다 가슴이 선뜩했다 그러나 다음 순간 굵은 호두야 많이 떨어져라 많이 떨어져라 저도 모를 힘에 이끌려 마구 작대기를 내리 치는 것이었다', '돌아오는 길에는 열 이틀 달이 지우는 그늘만 골라 디뎠다 그늘의 고마움을 처음 느꼈다', '불룩한 주머니를 어루만졌다 호두송이를 맨손으로 깠다가는 옴이 오르기 쉽다는 말 같은 건 아무렇지도 않았다 그저 근동에서 제일 가는 이 덕쇠 할아버지네 호두를 어서 소녀에게 맛보여야 한다는 생각만이 앞섰다', '그러다 아차 하는 생각이 들었다 소녀더러 병이 좀 낫거들랑 이사 가기 전에 한 번 개울가로 나와 달라는 말을 못해 둔 것이었다 바보 같은것 바보 같은것', '이튿날 소년이 학교에서 돌아오니 아버지가 나들이옷으로 갈아입고 닭 한 마리를 안고 있었다', '어디 가시느냐고 물었다', '그 말에도 대꾸도 없이 아버지는 안고 있는 닭의 무게를 겨냥해 보면서', '이만하면 될까', '어머니가 망태기를 내주며', '벌써 며칠째 걀걀하고 알 날 자리를 보던데요 크진 않아도살은 쪘을 거여요', '소년이 이번에는 어머니한테 아버지가 어디 가시느냐고 물어 보았다', '저 서당골 윤 초시 댁에 가신다 제삿상에라도 놓으시라고', '그럼 큰 놈으로 하나 가져가지 저 얼룩수탉으로', '이 말에 아버지는 허허 웃고 나서', '임마 그래도 이게 실속이 있다', '소년은 공연히 열적어 책보를 집어던지고는 외양간으로가 쇠잔등을 한 번 철썩 갈겼다 쇠파리라도 잡는 체', '개울물은 날로 여물어 갔다', '소년은 갈림길에서 아래쪽으로 가 보았다 갈밭머리에서 바라보는 서당골 마을은 쪽빛 하늘 아래 한결 가까워 보였다', '어른들의 말이 내일 소녀네가 양평읍으로 이사 간다는 것이었다 거기 가서는 조그마한 가겟방을 보게 되리라는 것이었다', '소년은 저도 모르게 주머니 속 호두알을 만지작거리며 한 손으로는 수없이 갈꽃을 휘어 꺾고 있었다', '그 날 밤 소년은 자리에 누워서도 같은 생각뿐이었다 내일 소녀네가 이사하는 걸 가 보나 어쩌나 가면 소녀를 보게 될까 어떨까', '그러다가 까무룩 잠이 들었는가 하는데', '허 참 세상일도', '마을 갔던 아버지가 언제 돌아왔는지', '윤 초시 댁도 말이 아니야 그 많던 전답을 다 팔아 버리고 대대로 살아오던 집마저 남의 손에 넘기더니 또 악상까지 당하는걸 보면', '남폿불 밑에서 바느질감을 안고 있던 어머니가', '증손이라곤 계집애 그 애 하나뿐이었지요', '그렇지 사내 애 둘 있던 건 어려서 잃어버리고', '어쩌면 그렇게 자식복이 없을까', '글쎄 말이지 이번 앤 꽤 여러 날 앓는 걸 약도 변변히 못써 봤다더군 지금 같아서 윤 초시네도 대가 끊긴 셈이지그런데참 이번 계집앤 어린 것이 여간 잔망스럽지가 않아 글쎄 죽기전에 이런 말을 했다지 않아 자기가 죽거든 자기 입던 옷을 꼭그대로 입혀서 묻어 달라고']\n"
     ]
    }
   ],
   "source": [
    "###특수문자 제거하기###\n",
    "##한국어##\n",
    "import re\n",
    "compile = re.compile(\"[^ ㄱ-ㅣ가-힣]+\")\n",
    "for i in range(len(line)):\n",
    "\n",
    "    a = compile.sub(\"\",line[i])\n",
    "    line[i] = a\n",
    "print(line)"
   ]
  },
  {
   "cell_type": "code",
   "execution_count": 33,
   "metadata": {},
   "outputs": [
    {
     "name": "stdout",
     "output_type": "stream",
     "text": [
      "[' you ve got to find what you love jobs says ', ' ', 'this is the text of the commencement address by steve jobs ceo of apple computer and of pixar animation studios delivered on june 12 2005 ', ' ', ' ', 'i am honored to be with you today at your commencement from one of the finest universities in the world i never graduated from college truth be told this is the closest i ve ever gotten to a college graduation today i want to tell you three stories from my life that s it no big deal just three stories ', ' ', 'the first story is about connecting the dots ', 'i dropped out of reed college after the first 6 months but then stayed around as a drop in for another 18 months or so before i really quit so why did i drop out ', ' ', 'it started before i was born my biological mother was a young unwed college graduate student and she decided to put me up for adoption she felt very strongly that i should be adopted by college graduates so everything was all set for me to be adopted at birth by a lawyer and his wife except that when i popped out they decided at the last minute that they really wanted a girl so my parents who were on a waiting list got a call in the middle of the night asking we have an unexpected baby boy do you want him they said of course my biological mother later found out that my mother had never graduated from college and that my father had never graduated from high school she refused to sign the final adoption papers she only relented a few months later when my parents promised that i would someday go to college ', ' ', 'and 17 years later i did go to college but i naively chose a college that was almost as expensive as stanford and all of my working class parents savings were being spent on my college tuition after six months i couldn t see the value in it i had no idea what i wanted to do with my life and no idea how college was going to help me figure it out and here i was spending all of the money my parents had saved their entire life so i decided to drop out and trust that it would all work out ok it was pretty scary at the time but looking back it was one of the best decisions i ever made the minute i dropped out i could stop taking the required classes that didn t interest me and begin dropping in on the ones that looked interesting ', ' ', 'it wasn t all romantic i didn t have a dorm room so i slept on the floor in friends rooms i returned coke bottles for the 5 deposits to buy food with and i would walk the 7 miles across town every sunday night to get one good meal a week at the hare krishna temple i loved it and much of what i stumbled into by following my curiosity and intuition turned out to be priceless later on let me give you one example ', ' ', 'reed college at that time offered perhaps the best calligraphy instruction in the country throughout the campus every poster every label on every drawer was beautifully hand calligraphed because i had dropped out and didn t have to take the normal classes i decided to take a calligraphy class to learn how to do this i learned about serif and san serif typefaces about varying the amount of space between different letter combinations about what makes great typography great it was beautiful historical artistically subtle in a way that science can t capture and i found it fascinating ', ' ', 'none of this had even a hope of any practical application in my life but ten years later when we were designing the first macintosh computer it all came back to me and we designed it all into the mac it was the first computer with beautiful typography if i had never dropped in on that single course in college the mac would have never had multiple typefaces or proportionally spaced fonts and since windows just copied the mac its likely that no personal computer would have them if i had never dropped out i would have never dropped in on this calligraphy class and personal computers might not have the wonderful typography that they do of course it was impossible to connect the dots looking forward when i was in college but it was very very clear looking backwards ten years later ', ' ', 'again you can t connect the dots looking forward you can only connect them looking backwards so you have to trust that the dots will somehow connect in your future you have to trust in something your gut destiny life karma whatever this approach has never let me down and it has made all the difference in my life ', ' ', 'my second story is about love and loss ', ' ', 'i was lucky i found what i loved to do early in life woz and i started apple in my parents garage when i was 20 we worked hard and in 10 years apple had grown from just the two of us in a garage into a 2 billion company with over 4000 employees we had just released our finest creation the macintosh a year earlier and i had just turned 30 and then i got fired how can you get fired from a company you started well as apple grew we hired someone who i thought was very talented to run the company with me and for the first year or so things went well but then our visions of the future began to diverge and eventually we had a falling out when we did our board of directors sided with him so at 30 i was out and very publicly out what had been the focus of my entire adult life was gone and it was devastating ', ' ', 'i really didn t know what to do for a few months i felt that i had let the previous generation of entrepreneurs down that i had dropped the baton as it was being passed to me i met with david packard and bob noyce and tried to apologize for screwing up so badly i was a very public failure and i even thought about running away from the valley but something slowly began to dawn on me i still loved what i did the turn of events at apple had not changed that one bit i had been rejected but i was still in love and so i decided to start over ', ' ', 'i didn t see it then but it turned out that getting fired from apple was the best thing that could have ever happened to me the heaviness of being successful was replaced by the lightness of being a beginner again less sure about everything it freed me to enter one of the most creative periods of my life ', ' ', 'during the next five years i started a company named next another company named pixar and fell in love with an amazing woman who would become my wife pixar went on to create the worlds first computer animated feature film toy story and is now the most successful animation studio in the world in a remarkable turn of events apple bought next i retuned to apple and the technology we developed at next is at the heart of apple s current renaissance and laurene and i have a wonderful family together ', ' ', ' ', 'i m pretty sure none of this would have happened if i hadn t been fired from apple it was awful tasting medicine but i guess the patient needed it sometimes life hits you in the head with a brick don t lose faith i m convinced that the only thing that kept me going was that i loved what i did you ve got to find what you love and that is as true for your work as it is for your lovers your work is going to fill a large part of your life and the only way to be truly satisfied is to do what you believe is great work and the only way to do great work is to love what you do if you haven t found it yet keep looking don t settle as with all matters of the heart you ll know when you find it and like any great relationship it just gets better and better as the years roll on so keep looking until you find it don t settle ', ' ', 'my third story is about death ', ' ', 'when i was 17 i read a quote that went something like if you live each day as if it was your last someday you ll most certainly be right it made an impression on me and since then for the past 33 years i have looked in the mirror every morning and asked myself if today were the last day of my life would i want to do what i am about to do today and whenever the answer has been no for too many days in a row i know i need to change something ', ' ', 'remembering that i ll be dead soon is the most important tool i ve ever encountered to help me make the big choices in life because almost everything all external expectations all pride all fear of embarrassment or failure these things just fall away in the face of death leaving only what is truly important remembering that you are going to die is the best way i know to avoid the trap of thinking you have something to lose you are already naked there is no reason not to follow your heart ', ' ', 'about a year ago i was diagnosed with cancer i had a scan at 7 30 in the morning and it clearly showed a tumor on my pancreas i didn t even know what a pancreas was the doctors told me this was almost certainly a type of cancer that is incurable and that i should expect to live no longer than three to six months my doctor advised me to go home and get my affairs in order which is doctor s code for prepare to die it means to try to tell your kids everything you thought you d have the next 10 years to tell them in just a few months it means to make sure everything is buttoned up so that it will be as easy as possible for your family it means to say your goodbyes ', ' ', 'i lived with that diagnosis all day later that evening i had a biopsy where they stuck an endoscope down my throat through my stomach and into my intestines put a needle into my pancreas and got a few cells from the tumor i was sedated but my wife who was there told me that when they viewed the cells under a microscope the doctors started crying because it turned out to be a very rare form of pancreatic cancer that is curable with surgery i had the surgery and i m fine now ', ' ', 'this was the closest i ve been to facing death and i hope its the closest i get for a few more decades having lived through it i can now say this to you with a bit more certainty than when death was a useful but purely intellectual concept ', ' ', 'no one wants to die even people who want to go to heaven don t want to die to get there and yet death is the destination we all share no one has ever escaped it and that is as it should be because death is very likely the single best invention of life it is life s change agent it clears out the old to make way for the new right now the new is you but someday not too long from now you will gradually become the old and be cleared away sorry to be so dramatic but it is quite true ', ' ', 'your time is limited so don t waste it living someone else s life don t be trapped by dogma which is living with the results of other people s thinking don t let the noise of other s opinions drown out your own inner voice and most important have the courage to follow your heart and intuition they somehow already know what you truly want to become everything else is secondary ', ' ', 'when i was young there was an amazing publication called the whole earth catalog which was one of the bibles of my generation it was created by a fellow named stewart brand not far from here in menlo park and he brought it to life with his poetic touch this was in the late 1960 s before personal computers and desktop publishing so it was all made with typewriters scissors and polaroid cameras it was sort of like google in paperback form 35 years before google came along it was idealistic and overflowing with neat tools and great notions ', ' ', 'stewart and his team put out several issues of the whole earth catalog and then when it had run its course they put out a final issue it was the mid 1970s and i was your age on the back cover of their final issue was a photograph of an early morning country road the kind you might find yourself hitchhiking on if you were so adventurous beneath it were the words stay hungry stay foolish it was their farewell message as they signed off stay hungry stay foolish and i have always wished that for myself and now as you graduate to begin anew i wish that for you ', ' ', 'stay hungry stay foolish ', ' ', 'thank you all very much ', ' ', ' ']\n"
     ]
    }
   ],
   "source": [
    "##영어##\n",
    "compile = re.compile(\"\\W+\")\n",
    "for i in range(len(line2)):\n",
    "\n",
    "    a = compile.sub(\" \",line2[i])\n",
    "    line2[i] = a.lower()\n",
    "print(line2)"
   ]
  },
  {
   "cell_type": "markdown",
   "metadata": {},
   "source": [
    "### (5) 불용어 제거하기"
   ]
  },
  {
   "cell_type": "code",
   "execution_count": 35,
   "metadata": {},
   "outputs": [
    {
     "name": "stdout",
     "output_type": "stream",
     "text": [
      "['소나기  황순원', '소년은 개울가에서 소녀를 보자 곧 윤 초시네 증손녀딸이라는 걸 알 수 있었다 소녀는 개울에다 손을 잠그고 물장난을 하고 있는 것이다 서울서는 이런 개울물을 보지 못하기나 한 듯이', '벌써 며칠째 소녀는 학교에서 돌아오는 길에 물장난이었다 그런데 어제까지 개울 기슭에서 하더니 오늘은 징검다리 한가운데 앉아서 하고 있다', '소년은 개울둑에 앉아 버렸다 소녀가 비키기를 기다리자는 것이다', '요행 지나가는 사람이 있어 소녀가 길을 비켜 주었다', '다음 날은 좀 늦게 개울가로 나왔다', '이 날은 소녀가 징검다리 한가운데 앉아 세수를 하고 있었다 분홍 스웨터 소매를 걷어올린 목덜미가 마냥 희었다', '한참 세수를 하고 나더니 이번에는 물 속을 빤히 들여다 본다 얼굴이라도 비추어 보는 것이리라 갑자기 물을 움켜 낸다 고기 새끼라도 지나가는 듯', '소녀는 소년이 개울둑에 앉아 있는 걸 아는지 모르는지 그냥 날쌔게 물만 움켜 낸다 그러나 번번이 허탕이다 그대로 재미있는 양 자꾸 물만 움킨다 어제처럼 개울을 건너는 사람이 있어야 길을 비킬 모양이다', '그러다가 소녀가 물 속에서 무엇을 하나 집어 낸다 하얀 조약돌이었다 그리고는 벌떡 일어나 팔짝팔짝 징검다리를 뛰어 건너간다', '다 건너가더니만 홱 이리로 돌아서며', '이 바보', '조약돌이 날아왔다', '소년은 저도 모르게 벌떡 일어섰다', '단발 머리를 나풀거리며 소녀가 막 달린다 갈밭 사잇길로 들어섰다 뒤에는 청량한 가을 햇살 아래 빛나는 갈꽃뿐', '이제 저쯤 갈밭머리로 소녀가 나타나리라 꽤 오랜 시간이 지났다고 생각됐다 그런데도 소녀는 나타나지 않는다 발돋움을 했다 그러고도 상당한 시간이 지났다고 생각됐다', '저 쪽 갈밭머리에 갈꽃이 한 옴큼 움직였다 소녀가 갈꽃을 안고 있었다 그리고 이제는 천천한 걸음이었다 유난히 맑은 가을 햇살이 소녀의 갈꽃머리에서 반짝거렸다 소녀 아닌 갈꽃이 들길을 걸어가는 것만 같았다', '소년은 이 갈꽃이 아주 뵈지 않게 되기까지 그대로 서 있었다 문득 소녀가 던지 조약돌을 내려다보았다 물기가 걷혀 있었다 소년은 조약돌을 집어 주머니에 넣었다', '다음 날부터 좀더 늦게 개울가로 나왔다 소녀의 그림자가 뵈지 않았다 다행이었다', '그러나 이상한 일이었다 소녀의 그림자가 뵈지 않는 날이 계속될수록 소년의 가슴 한 구석에는 어딘가 허전함이 자리 잡는 것이었다 주머니 속 조약돌을 주무르는 버릇이 생겼다', '그러한 어떤 날 소년은 전에 소녀가 앉아 물장난을 하던 징검다리 한가운데에 앉아 보았다 물 속에 손을 잠갔다 세수를 하였다 물 속을 들여다보았다 검게 탄 얼굴이 그대로 비치었다 싫었다', '소년은 두 손으로 물 속의 얼굴을 움키었다 몇 번이고 움키었다 그러다가 깜짝 놀라 일어나고 말았다 소녀가 이리로 건너오고 있지 않느냐', '숨어서 내가 하는 일을 엿보고 있었구나 소년은 달리기를 시작했다 디딤돌을 헛디뎠다 한 발이 물 속에 빠졌다 더 달렸다', '몸을 가릴 데가 있어 줬으면 좋겠다 이 쪽 길에는 갈밭도 없다 메밀밭이다 전에 없이 메밀꽃 냄새가 짜릿하게 코를 찌른다고 생각됐다 미간이 아찔했다 찝찔한 액체가 입술에 흘러들었다 코피였다', '소년은 한 손으로 코피를 훔쳐내면서 그냥 달렸다 어디선가 바보 바보 하는 소리가 자꾸만 뒤따라오는 것 같았다', '토요일이었다', '개울가에 이르니 며칠째 보이지 않던 소녀가 건너편 가에 앉아 물장난을 하고 있었다 모르는 체 징검다리를 건너기 시작했다 얼마 전에 소녀 앞에서 한 번 실수를 했을 뿐 여태 큰길 가듯이 건너던 징검다리를 오늘은 조심스럽게 건넌다', '얘', '못 들은 체했다 둑 위로 올라섰다', '얘 이게 무슨 조개지', '자기도 모르게 돌아섰다 소녀의 맑고 검은 눈과 마주쳤다 얼른 소녀의 손바닥으로 눈을 떨구었다', '비단조개', '이름도 참 곱다', '갈림길에 왔다 여기서 소녀는 아래편으로 한 삼 마장쯤 소년은 우대로 한 십 리 가까운 길을 가야 한다', '소녀가 걸음을 멈추며', '너 저 산 너머에 가 본 일 있니', '벌 끝을 가리켰다', '없다', '우리 가 보지 않으련 시골 오니까 혼자서 심심해 못 견디겠다', '저래 봬도 멀다', '멀면 얼마나 멀기에 서울 있을 땐 사뭇 먼 데까지 소풍 갔었다', '소녀의 눈이 금새 바보바보할 것만 같았다', '논 사잇길로 들어섰다 벼 가을걷이하는 곁을 지났다', '허수아비가 서 있었다 소년이 새끼줄을 흔들었다 참새가 몇 마리 날아간다 참 오늘은 일찍 집으로 돌아가 텃논의 참새를 봐야 할걸 하는 생각이 든다', '야 재밌다', '소녀가 허수아비 줄을 잡더니 흔들어 댄다 허수아비가 자꾸 우쭐거리며 춤을 춘다 소녀의 왼쪽 볼에 살포시 보조개가 패었다', '저만큼 허수아비가 또 서 있다 소녀가 그리로 달려간다 그 뒤를 소년도 달렸다 오늘 같은 날은 일찍 집으로 돌아가 집안일을 도와야 한다는 생각을 잊어버리기라도 하려는 듯이', '소녀의 곁을 스쳐 그냥 달린다 메뚜기가 따끔따끔 얼굴에 와 부딪친다 쪽빛으로 한껏 갠 가을 하늘이 소년의 눈앞에서 맴을 돈다 어지럽다 저놈의 독수리 저놈의 독수리 저놈의 독수리가 맴을 돌고 있기 때문이다', '돌아다보니 소녀는 지금 자기가 지나쳐 온 허수아비를 흔들고 있다 좀 전 허수아비보다 더 우쭐거린다', '논이 끝난 곳에 도랑이 하나 있었다 소녀가 먼저 뛰어 건넜다', '거기서부터 산 밑까지는 밭이었다', '수숫단을 세워 놓은 밭머리를 지났다', '저게 뭐니', '원두막', '여기 참외 맛있니', '그럼 참외 맛도 좋지만 수박 맛은 더 좋다', '하나 먹어 봤으면', '소년이 참외 그루에 심은 무우밭으로 들어가 무우 두 밑을 뽑아 왔다 아직 밑이 덜 들어 있었다 잎을 비틀어 팽개친 후 소녀에게 한개 건넨다 그리고는 이렇게 먹어야 한다는 듯이 먼저 대강이를 한 입 베물어 낸 다음 손톱으로 한 돌이 껍질을 벗겨 우쩍 깨문다', '소녀도 따라 했다 그러나 세 입도 못 먹고', '아 맵고 지려', '하며 집어던지고 만다', '참 맛 없어 못 먹겠다', '소년이 더 멀리 팽개쳐 버렸다', '산이 가까워졌다', '단풍이 눈에 따가웠다', '야아', '소녀가 산을 향해 달려갔다 이번은 소년이 뒤따라 달리지 않았다 그러고도 곧 소녀보다 더 많은 꽃을 꺾었다', '이게 들국화 이게 싸리꽃 이게 도라지꽃', '도라지꽃이 이렇게 예쁜 줄은 몰랐네 난 보랏빛이 좋아 그런데 이 양산 같이 생긴 노란 꽃이 뭐지', '마타리꽃', '소녀는 마타리꽃을 양산 받듯이 해 보인다 약간 상기된 얼굴에 살포시 보조개를 떠올리며', '다시 소년은 꽃 한 옴큼을 꺾어 왔다 싱싱한 꽃가지만 골라 소녀에게 건넨다', '그러나 소녀는', '하나도 버리지 마라', '산마루께로 올라갔다', '맞은편 골짜기에 오순도순 초가집이 몇 모여 있었다', '누가 말할 것도 아닌데 바위에 나란히 걸터앉았다 유달리 주위가 조용해진 것 같았다 따가운 가을 햇살만이 말라가는 풀 냄새를 퍼뜨리고 있었다', '저건 또 무슨 꽃이지', '적잖이 비탈진 곳에 칡덩굴이 엉키어 꽃을 달고 있었다', '꼭 등꽃 같네 서울 우리 학교에 큰 등나무가 있었단다 저 꽃을 보니까 등나무 밑에서 놀던 동무들 생각이 난다', '소녀가 조용히 일어나 비탈진 곳으로 간다 꽃송이가 많이 달린 줄기를 잡고 끊기 시작한다 좀처럼 끊어지지 않는다 안간힘을 쓰다가 그만 미끄러지고 만다 칡덩굴을 그러쥐었다', '소년이 놀라 달려갔다 소녀가 손을 내밀었다 손을 잡아 이끌어 올리며 소년은 제가 꺾어다 줄 것을 잘못했다고 뉘우친다 소녀의 오른쪽 무릎에 핏방울이 내맺혔다 소년은 저도 모르게 생채기에 입술을 가져다 대고 빨기 시작했다 그러다가 무슨 생각을 했는지 홱 일어나 저 쪽으로 달려간다', '좀 만에 숨이 차 돌아온 소년은', '이걸 바르면 낫는다', '송진을 생채기에다 문질러 바르고는 그 달음으로 칡덩굴 있는 데로 내려가 꽃 많이 달린 몇 줄기를 이빨로 끊어 가지고 올라온다 그리고는', '저기 송아지가 있다 그리 가 보자', '누렁송아지였다 아직 코뚜레도 꿰지 않았다', '소년이 고삐를 바투 잡아 쥐고 등을 긁어 주는 체 훌쩍 올라탔다 송아지가 껑충거리며 돌아간다', '소녀의 흰 얼굴이 분홍 스웨터가 남색 스커트가 안고 있는 꽃과 함께 범벅이 된다 모두가 하나의 큰 꽃묶음 같다 어지럽다 그러나 내리지 않으리라 자랑스러웠다 이것만은 소녀가 흉내 내지 못할 자기 혼자만이 할 수 있는 일인 것이다', '너희 예서 뭣들 하느냐', '농부하나가 억새풀 사이로 올라왔다', '송아지 등에서 뛰어내렸다 어린 송아지를 타서 허리가 상하면 어쩌느냐고 꾸지람을 들을 것만 같다', '그런데 나룻이 긴 농부는 소녀 편을 한 번 훑어보고는 그저 송아지 고삐를 풀어 내면서', '어서들 집으로 가거라 소나기가 올라', '참 먹장구름 한 장이 머리 위에 와 있다 갑자기 사면이 소란스러워진 것 같다 바람이 우수수 소리를 내며 지나간다 삽시간에 주위가 보랏빛으로 변했다', '산을 내려오는데 떡갈나무 잎에서 빗방울 듣는 소리가 난다 굵은 빗방울이었다 목덜미가 선뜻선뜻했다 그러자 대번에 눈앞을 가로막는 빗줄기', '비안개 속에 원두막이 보였다 그리로 가 비를 그을 수밖에', '그러나 원두막은 기둥이 기울고 지붕도 갈래갈래 찢어져 있었다 그런 대로 비가 덜 새는 곳을 가려 소녀를 들어서게 했다', '소녀의 입술이 파아랗게 질렸다 어깨를 자꾸 떨었다', '무명 겹저고리를 벗어 소녀의 어깨를 싸 주었다 소녀는 비에 젖은 눈을 들어 한 번 쳐다보았을 뿐 소년이 하는 대로 잠자코 있었다 그리고는 안고 온 꽃묶음 속에서 가지가 꺾이고 꽃이 일그러진 송이를 골라 발 밑에 버린다 소녀가 들어선 곳도 비가 새기 시작했다 더 거기서 비를 그을 수 없었다', '밖을 내다보던 소년이 무엇을 생각했는지 수수밭 쪽으로 달려간다 세워 놓은 수숫단 속을 비집어 보더니 옆의 수숫단을 날라다 덧세운다 다시 속을 비집어 본다 그리고는 이쪽을 향해 손짓을 한다', '수숫단 속은 비는 안 새었다 그저 어둡고 좁은 게 안 됐다 앞에 나앉은 소년은 그냥 비를 맞아야만 했다 그런 소년의 어깨에서 김이 올랐다', '소녀가 속삭이듯이 이리 들어와 앉으라고 했다 괜찮다고 했다 소녀가 다시 들어와 앉으라고 했다 할 수 없이 뒷걸음질을 쳤다 그 바람에 소녀가 안고 있는 꽃묶음이 망그러졌다 그러나 소녀는 상관없다고 생각했다 비에 젖은 소년의 몸 내음새가 확 코에 끼얹혀졌다 그러나 고개를 돌리지 않았다 도리어 소년의 몸기운으로 해서 떨리던 몸이 적이 누그러지는 느낌이었다', '소란하던 수숫잎 소리가 뚝 그쳤다 밖이 멀개졌다', '수숫단 속을 벗어 나왔다 멀지 않은 앞쪽에 햇빛이 눈부시게 내리붓고 있었다 도랑 있는 곳까지 와 보니 엄청나게 물이 불어 있었다 빛마저 제법 붉은 흙탕물이었다 뛰어 건널 수가 없었다', '소년이 등을 돌려 댔다 소녀가 순순히 업히었다 걷어올린 소년의 잠방이까지 물이 올라왔다 소녀는 어머나소리를 지르며 소년의 목을 끌어안았다', '개울가에 다다르기 전에 가을 하늘이 언제 그랬는가 싶게 구름 한 점 없이 쪽빛으로 개어 있었다', '그 뒤로 소녀의 모습은 뵈지 않았다 매일같이 개울가로 달려와 봐도 뵈지 않았다', '학교에서 쉬는 시간에 운동장을 살피기도 했다 남 몰래 학년 여자 반을 엿보기도 했다 그러나 뵈지 않았다', '그날도 소년은 주머니 속 흰 조약돌만 만지작거리며 개울가로 나왔다 그랬더니 이 쪽 개울둑에 소녀가 앉아 있는 게 아닌가', '소년은 가슴부터 두근거렸다', '그 동안 앓았다', '어쩐지 소녀의 얼굴이 해쓱해져 있었다', '그 날 소나기 맞은 탓 아냐', '소녀가 가만히 고개를 끄덕이었다', '인제 다 났냐', '아직도', '그럼 누워 있어야지', '하도 갑갑해서 나왔다 참 그 날 재밌었어 그런데그 날 어디서 이런 물이 들었는지 잘 지지 않는다', '소녀가 분홍 스웨터 앞자락을 내려다본다 거기에 검붉은 진흙물 같은 게 들어 있었다', '소녀가 가만히 보조개를 떠올리며', '그래 이게 무슨 물 같니', '소년은 스웨터 앞자락만 바라보고 있었다', '내 생각해 냈다 그 날 도랑을 건너면서 내가 업힌 일이 있지 그 때 네 등에서 옮은 물이다', '소년은 얼굴이 확 달아오름을 느꼈다', '갈림길에서 소녀는', '저 오늘 아침에 우리 집에서 대추를 땄다 낼 제사 지내려고', '대추 한 줌을 내준다 소년은 주춤한다', '맛봐라 우리 증조할아버지가 심었다는데 아주 달다', '소년은 두 손을 오그려 내밀며', '참 알도 굵다', '그리고 저 우리 이번에 제사 지내고 나서 좀 있다 집을 내주게 됐다', '소년은 소녀네가 이사해 오기 전에 벌써 어른들의 이야기를 들어서 윤 초시 손자가 서울서 사업에 실패해 가지고 고향에 돌아오지 않을 수 없게 되었다는 걸 알고 있었다 그것이 이번에는 고향 집마저 남의 손에 넘기게 된 모양이었다', '왜 그런지 난 이사 가는 게 싫어졌다 어른들이 하는 일이니 어쩔 수 없지만', '전에 없이 소녀의 까만 눈에 쓸쓸한 빛이 떠돌았다', '소녀와 헤어져 돌아오는 길에 소년은 혼잣속으로 소녀가 이사를 간다는 말을 수없이 되뇌어 보았다 무어 그리 안타까울 것도 서러울 것도 없었다 그렇건만 소년은 지금 자기가 씹고 있는 대추알의 단맛을 모르고 있었다', '이 날 밤 소년은 몰래 덕쇠 할아버지네 호두밭으로 갔다', '낯에 봐 두었던 나무로 올라갔다 그리고 봐 두었던 가지를 향해 작대기를 내리쳤다 호두송이 떨어지는 소리가 별나게 크게 들렸다 가슴이 선뜩했다 그러나 다음 순간 굵은 호두야 많이 떨어져라 많이 떨어져라 저도 모를 힘에 이끌려 마구 작대기를 내리 치는 것이었다', '돌아오는 길에는 열 이틀 달이 지우는 그늘만 골라 디뎠다 그늘의 고마움을 처음 느꼈다', '불룩한 주머니를 어루만졌다 호두송이를 맨손으로 깠다가는 옴이 오르기 쉽다는 말 같은 건 아무렇지도 않았다 그저 근동에서 제일 가는 이 덕쇠 할아버지네 호두를 어서 소녀에게 맛보여야 한다는 생각만이 앞섰다', '그러다 아차 하는 생각이 들었다 소녀더러 병이 좀 낫거들랑 이사 가기 전에 한 번 개울가로 나와 달라는 말을 못해 둔 것이었다 바보 같은것 바보 같은것', '이튿날 소년이 학교에서 돌아오니 아버지가 나들이옷으로 갈아입고 닭 한 마리를 안고 있었다', '어디 가시느냐고 물었다', '그 말에도 대꾸도 없이 아버지는 안고 있는 닭의 무게를 겨냥해 보면서', '이만하면 될까', '어머니가 망태기를 내주며', '벌써 며칠째 걀걀하고 알 날 자리를 보던데요 크진 않아도살은 쪘을 거여요', '소년이 이번에는 어머니한테 아버지가 어디 가시느냐고 물어 보았다', '저 서당골 윤 초시 댁에 가신다 제삿상에라도 놓으시라고', '그럼 큰 놈으로 하나 가져가지 저 얼룩수탉으로', '이 말에 아버지는 허허 웃고 나서', '임마 그래도 이게 실속이 있다', '소년은 공연히 열적어 책보를 집어던지고는 외양간으로가 쇠잔등을 한 번 철썩 갈겼다 쇠파리라도 잡는 체', '개울물은 날로 여물어 갔다', '소년은 갈림길에서 아래쪽으로 가 보았다 갈밭머리에서 바라보는 서당골 마을은 쪽빛 하늘 아래 한결 가까워 보였다', '어른들의 말이 내일 소녀네가 양평읍으로 이사 간다는 것이었다 거기 가서는 조그마한 가겟방을 보게 되리라는 것이었다', '소년은 저도 모르게 주머니 속 호두알을 만지작거리며 한 손으로는 수없이 갈꽃을 휘어 꺾고 있었다', '그 날 밤 소년은 자리에 누워서도 같은 생각뿐이었다 내일 소녀네가 이사하는 걸 가 보나 어쩌나 가면 소녀를 보게 될까 어떨까', '그러다가 까무룩 잠이 들었는가 하는데', '마을 갔던 아버지가 언제 돌아왔는지', '윤 초시 댁도 말이 아니야 그 많던 전답을 다 팔아 버리고 대대로 살아오던 집마저 남의 손에 넘기더니 또 악상까지 당하는걸 보면', '남폿불 밑에서 바느질감을 안고 있던 어머니가', '증손이라곤 계집애 그 애 하나뿐이었지요', '그렇지 사내 애 둘 있던 건 어려서 잃어버리고', '어쩌면 그렇게 자식복이 없을까', '글쎄 말이지 이번 앤 꽤 여러 날 앓는 걸 약도 변변히 못써 봤다더군 지금 같아서 윤 초시네도 대가 끊긴 셈이지그런데참 이번 계집앤 어린 것이 여간 잔망스럽지가 않아 글쎄 죽기전에 이런 말을 했다지 않아 자기가 죽거든 자기 입던 옷을 꼭그대로 입혀서 묻어 달라고']\n"
     ]
    }
   ],
   "source": [
    "###불용어 제거하기###\n",
    "##한국어##\n",
    "stop_word = [\"허 참 세상일도\", \"내면서\", \"것이다\"] #사용하지 않을 단어 또는 문장 추가\n",
    "line = [i for i in line if i not in stop_word]\n",
    "print(line)"
   ]
  },
  {
   "cell_type": "code",
   "execution_count": 36,
   "metadata": {},
   "outputs": [
    {
     "name": "stderr",
     "output_type": "stream",
     "text": [
      "[nltk_data] Downloading collection 'all'\n",
      "[nltk_data]    | \n",
      "[nltk_data]    | Downloading package abc to /Users/Soomin/nltk_data...\n",
      "[nltk_data]    |   Package abc is already up-to-date!\n",
      "[nltk_data]    | Downloading package alpino to\n",
      "[nltk_data]    |     /Users/Soomin/nltk_data...\n",
      "[nltk_data]    |   Package alpino is already up-to-date!\n",
      "[nltk_data]    | Downloading package averaged_perceptron_tagger to\n",
      "[nltk_data]    |     /Users/Soomin/nltk_data...\n",
      "[nltk_data]    |   Package averaged_perceptron_tagger is already up-\n",
      "[nltk_data]    |       to-date!\n",
      "[nltk_data]    | Downloading package averaged_perceptron_tagger_ru to\n",
      "[nltk_data]    |     /Users/Soomin/nltk_data...\n",
      "[nltk_data]    |   Package averaged_perceptron_tagger_ru is already\n",
      "[nltk_data]    |       up-to-date!\n",
      "[nltk_data]    | Downloading package basque_grammars to\n",
      "[nltk_data]    |     /Users/Soomin/nltk_data...\n",
      "[nltk_data]    |   Package basque_grammars is already up-to-date!\n",
      "[nltk_data]    | Downloading package biocreative_ppi to\n",
      "[nltk_data]    |     /Users/Soomin/nltk_data...\n",
      "[nltk_data]    |   Package biocreative_ppi is already up-to-date!\n",
      "[nltk_data]    | Downloading package bllip_wsj_no_aux to\n",
      "[nltk_data]    |     /Users/Soomin/nltk_data...\n",
      "[nltk_data]    |   Package bllip_wsj_no_aux is already up-to-date!\n",
      "[nltk_data]    | Downloading package book_grammars to\n",
      "[nltk_data]    |     /Users/Soomin/nltk_data...\n",
      "[nltk_data]    |   Package book_grammars is already up-to-date!\n",
      "[nltk_data]    | Downloading package brown to\n",
      "[nltk_data]    |     /Users/Soomin/nltk_data...\n",
      "[nltk_data]    |   Package brown is already up-to-date!\n",
      "[nltk_data]    | Downloading package brown_tei to\n",
      "[nltk_data]    |     /Users/Soomin/nltk_data...\n",
      "[nltk_data]    |   Package brown_tei is already up-to-date!\n",
      "[nltk_data]    | Downloading package cess_cat to\n",
      "[nltk_data]    |     /Users/Soomin/nltk_data...\n",
      "[nltk_data]    |   Package cess_cat is already up-to-date!\n",
      "[nltk_data]    | Downloading package cess_esp to\n",
      "[nltk_data]    |     /Users/Soomin/nltk_data...\n",
      "[nltk_data]    |   Package cess_esp is already up-to-date!\n",
      "[nltk_data]    | Downloading package chat80 to\n",
      "[nltk_data]    |     /Users/Soomin/nltk_data...\n",
      "[nltk_data]    |   Package chat80 is already up-to-date!\n",
      "[nltk_data]    | Downloading package city_database to\n",
      "[nltk_data]    |     /Users/Soomin/nltk_data...\n",
      "[nltk_data]    |   Package city_database is already up-to-date!\n",
      "[nltk_data]    | Downloading package cmudict to\n",
      "[nltk_data]    |     /Users/Soomin/nltk_data...\n",
      "[nltk_data]    |   Package cmudict is already up-to-date!\n",
      "[nltk_data]    | Downloading package comparative_sentences to\n",
      "[nltk_data]    |     /Users/Soomin/nltk_data...\n",
      "[nltk_data]    |   Package comparative_sentences is already up-to-\n",
      "[nltk_data]    |       date!\n",
      "[nltk_data]    | Downloading package comtrans to\n",
      "[nltk_data]    |     /Users/Soomin/nltk_data...\n",
      "[nltk_data]    |   Package comtrans is already up-to-date!\n",
      "[nltk_data]    | Downloading package conll2000 to\n",
      "[nltk_data]    |     /Users/Soomin/nltk_data...\n",
      "[nltk_data]    |   Package conll2000 is already up-to-date!\n",
      "[nltk_data]    | Downloading package conll2002 to\n",
      "[nltk_data]    |     /Users/Soomin/nltk_data...\n",
      "[nltk_data]    |   Package conll2002 is already up-to-date!\n",
      "[nltk_data]    | Downloading package conll2007 to\n",
      "[nltk_data]    |     /Users/Soomin/nltk_data...\n",
      "[nltk_data]    |   Package conll2007 is already up-to-date!\n",
      "[nltk_data]    | Downloading package crubadan to\n",
      "[nltk_data]    |     /Users/Soomin/nltk_data...\n",
      "[nltk_data]    |   Package crubadan is already up-to-date!\n",
      "[nltk_data]    | Downloading package dependency_treebank to\n",
      "[nltk_data]    |     /Users/Soomin/nltk_data...\n",
      "[nltk_data]    |   Package dependency_treebank is already up-to-date!\n",
      "[nltk_data]    | Downloading package dolch to\n",
      "[nltk_data]    |     /Users/Soomin/nltk_data...\n",
      "[nltk_data]    |   Package dolch is already up-to-date!\n",
      "[nltk_data]    | Downloading package europarl_raw to\n",
      "[nltk_data]    |     /Users/Soomin/nltk_data...\n",
      "[nltk_data]    |   Package europarl_raw is already up-to-date!\n",
      "[nltk_data]    | Downloading package extended_omw to\n",
      "[nltk_data]    |     /Users/Soomin/nltk_data...\n",
      "[nltk_data]    |   Package extended_omw is already up-to-date!\n",
      "[nltk_data]    | Downloading package floresta to\n",
      "[nltk_data]    |     /Users/Soomin/nltk_data...\n",
      "[nltk_data]    |   Package floresta is already up-to-date!\n",
      "[nltk_data]    | Downloading package framenet_v15 to\n",
      "[nltk_data]    |     /Users/Soomin/nltk_data...\n",
      "[nltk_data]    |   Package framenet_v15 is already up-to-date!\n",
      "[nltk_data]    | Downloading package framenet_v17 to\n",
      "[nltk_data]    |     /Users/Soomin/nltk_data...\n",
      "[nltk_data]    |   Package framenet_v17 is already up-to-date!\n",
      "[nltk_data]    | Downloading package gazetteers to\n",
      "[nltk_data]    |     /Users/Soomin/nltk_data...\n",
      "[nltk_data]    |   Package gazetteers is already up-to-date!\n",
      "[nltk_data]    | Downloading package genesis to\n",
      "[nltk_data]    |     /Users/Soomin/nltk_data...\n",
      "[nltk_data]    |   Package genesis is already up-to-date!\n",
      "[nltk_data]    | Downloading package gutenberg to\n",
      "[nltk_data]    |     /Users/Soomin/nltk_data...\n",
      "[nltk_data]    |   Package gutenberg is already up-to-date!\n",
      "[nltk_data]    | Downloading package ieer to\n",
      "[nltk_data]    |     /Users/Soomin/nltk_data...\n",
      "[nltk_data]    |   Package ieer is already up-to-date!\n",
      "[nltk_data]    | Downloading package inaugural to\n",
      "[nltk_data]    |     /Users/Soomin/nltk_data...\n",
      "[nltk_data]    |   Package inaugural is already up-to-date!\n",
      "[nltk_data]    | Downloading package indian to\n",
      "[nltk_data]    |     /Users/Soomin/nltk_data...\n",
      "[nltk_data]    |   Package indian is already up-to-date!\n",
      "[nltk_data]    | Downloading package jeita to\n",
      "[nltk_data]    |     /Users/Soomin/nltk_data...\n",
      "[nltk_data]    |   Package jeita is already up-to-date!\n",
      "[nltk_data]    | Downloading package kimmo to\n",
      "[nltk_data]    |     /Users/Soomin/nltk_data...\n",
      "[nltk_data]    |   Package kimmo is already up-to-date!\n",
      "[nltk_data]    | Downloading package knbc to\n",
      "[nltk_data]    |     /Users/Soomin/nltk_data...\n",
      "[nltk_data]    |   Package knbc is already up-to-date!\n",
      "[nltk_data]    | Downloading package large_grammars to\n",
      "[nltk_data]    |     /Users/Soomin/nltk_data...\n",
      "[nltk_data]    |   Package large_grammars is already up-to-date!\n",
      "[nltk_data]    | Downloading package lin_thesaurus to\n",
      "[nltk_data]    |     /Users/Soomin/nltk_data...\n",
      "[nltk_data]    |   Package lin_thesaurus is already up-to-date!\n",
      "[nltk_data]    | Downloading package mac_morpho to\n",
      "[nltk_data]    |     /Users/Soomin/nltk_data...\n",
      "[nltk_data]    |   Package mac_morpho is already up-to-date!\n",
      "[nltk_data]    | Downloading package machado to\n",
      "[nltk_data]    |     /Users/Soomin/nltk_data...\n",
      "[nltk_data]    |   Package machado is already up-to-date!\n",
      "[nltk_data]    | Downloading package masc_tagged to\n",
      "[nltk_data]    |     /Users/Soomin/nltk_data...\n",
      "[nltk_data]    |   Package masc_tagged is already up-to-date!\n",
      "[nltk_data]    | Downloading package maxent_ne_chunker to\n",
      "[nltk_data]    |     /Users/Soomin/nltk_data...\n",
      "[nltk_data]    |   Package maxent_ne_chunker is already up-to-date!\n",
      "[nltk_data]    | Downloading package maxent_treebank_pos_tagger to\n",
      "[nltk_data]    |     /Users/Soomin/nltk_data...\n",
      "[nltk_data]    |   Package maxent_treebank_pos_tagger is already up-\n",
      "[nltk_data]    |       to-date!\n",
      "[nltk_data]    | Downloading package moses_sample to\n",
      "[nltk_data]    |     /Users/Soomin/nltk_data...\n",
      "[nltk_data]    |   Package moses_sample is already up-to-date!\n",
      "[nltk_data]    | Downloading package movie_reviews to\n",
      "[nltk_data]    |     /Users/Soomin/nltk_data...\n",
      "[nltk_data]    |   Package movie_reviews is already up-to-date!\n",
      "[nltk_data]    | Downloading package mte_teip5 to\n",
      "[nltk_data]    |     /Users/Soomin/nltk_data...\n",
      "[nltk_data]    |   Package mte_teip5 is already up-to-date!\n",
      "[nltk_data]    | Downloading package mwa_ppdb to\n",
      "[nltk_data]    |     /Users/Soomin/nltk_data...\n",
      "[nltk_data]    |   Package mwa_ppdb is already up-to-date!\n",
      "[nltk_data]    | Downloading package names to\n",
      "[nltk_data]    |     /Users/Soomin/nltk_data...\n",
      "[nltk_data]    |   Package names is already up-to-date!\n",
      "[nltk_data]    | Downloading package nombank.1.0 to\n",
      "[nltk_data]    |     /Users/Soomin/nltk_data...\n",
      "[nltk_data]    |   Package nombank.1.0 is already up-to-date!\n",
      "[nltk_data]    | Downloading package nonbreaking_prefixes to\n",
      "[nltk_data]    |     /Users/Soomin/nltk_data...\n",
      "[nltk_data]    |   Package nonbreaking_prefixes is already up-to-date!\n",
      "[nltk_data]    | Downloading package nps_chat to\n",
      "[nltk_data]    |     /Users/Soomin/nltk_data...\n",
      "[nltk_data]    |   Package nps_chat is already up-to-date!\n",
      "[nltk_data]    | Downloading package omw to /Users/Soomin/nltk_data...\n",
      "[nltk_data]    |   Package omw is already up-to-date!\n",
      "[nltk_data]    | Downloading package omw-1.4 to\n",
      "[nltk_data]    |     /Users/Soomin/nltk_data...\n",
      "[nltk_data]    |   Package omw-1.4 is already up-to-date!\n",
      "[nltk_data]    | Downloading package opinion_lexicon to\n",
      "[nltk_data]    |     /Users/Soomin/nltk_data...\n",
      "[nltk_data]    |   Package opinion_lexicon is already up-to-date!\n",
      "[nltk_data]    | Downloading package panlex_swadesh to\n",
      "[nltk_data]    |     /Users/Soomin/nltk_data...\n",
      "[nltk_data]    |   Package panlex_swadesh is already up-to-date!\n",
      "[nltk_data]    | Downloading package paradigms to\n",
      "[nltk_data]    |     /Users/Soomin/nltk_data...\n",
      "[nltk_data]    |   Package paradigms is already up-to-date!\n",
      "[nltk_data]    | Downloading package pe08 to\n",
      "[nltk_data]    |     /Users/Soomin/nltk_data...\n",
      "[nltk_data]    |   Package pe08 is already up-to-date!\n",
      "[nltk_data]    | Downloading package perluniprops to\n",
      "[nltk_data]    |     /Users/Soomin/nltk_data...\n",
      "[nltk_data]    |   Package perluniprops is already up-to-date!\n",
      "[nltk_data]    | Downloading package pil to /Users/Soomin/nltk_data...\n",
      "[nltk_data]    |   Package pil is already up-to-date!\n",
      "[nltk_data]    | Downloading package pl196x to\n",
      "[nltk_data]    |     /Users/Soomin/nltk_data...\n",
      "[nltk_data]    |   Package pl196x is already up-to-date!\n",
      "[nltk_data]    | Downloading package porter_test to\n",
      "[nltk_data]    |     /Users/Soomin/nltk_data...\n",
      "[nltk_data]    |   Package porter_test is already up-to-date!\n",
      "[nltk_data]    | Downloading package ppattach to\n",
      "[nltk_data]    |     /Users/Soomin/nltk_data...\n",
      "[nltk_data]    |   Package ppattach is already up-to-date!\n",
      "[nltk_data]    | Downloading package problem_reports to\n",
      "[nltk_data]    |     /Users/Soomin/nltk_data...\n",
      "[nltk_data]    |   Package problem_reports is already up-to-date!\n",
      "[nltk_data]    | Downloading package product_reviews_1 to\n",
      "[nltk_data]    |     /Users/Soomin/nltk_data...\n",
      "[nltk_data]    |   Package product_reviews_1 is already up-to-date!\n",
      "[nltk_data]    | Downloading package product_reviews_2 to\n",
      "[nltk_data]    |     /Users/Soomin/nltk_data...\n",
      "[nltk_data]    |   Package product_reviews_2 is already up-to-date!\n",
      "[nltk_data]    | Downloading package propbank to\n",
      "[nltk_data]    |     /Users/Soomin/nltk_data...\n",
      "[nltk_data]    |   Package propbank is already up-to-date!\n",
      "[nltk_data]    | Downloading package pros_cons to\n",
      "[nltk_data]    |     /Users/Soomin/nltk_data...\n",
      "[nltk_data]    |   Package pros_cons is already up-to-date!\n",
      "[nltk_data]    | Downloading package ptb to /Users/Soomin/nltk_data...\n",
      "[nltk_data]    |   Package ptb is already up-to-date!\n",
      "[nltk_data]    | Downloading package punkt to\n",
      "[nltk_data]    |     /Users/Soomin/nltk_data...\n",
      "[nltk_data]    |   Package punkt is already up-to-date!\n",
      "[nltk_data]    | Downloading package qc to /Users/Soomin/nltk_data...\n",
      "[nltk_data]    |   Package qc is already up-to-date!\n",
      "[nltk_data]    | Downloading package reuters to\n",
      "[nltk_data]    |     /Users/Soomin/nltk_data...\n",
      "[nltk_data]    |   Package reuters is already up-to-date!\n",
      "[nltk_data]    | Downloading package rslp to\n",
      "[nltk_data]    |     /Users/Soomin/nltk_data...\n",
      "[nltk_data]    |   Package rslp is already up-to-date!\n",
      "[nltk_data]    | Downloading package rte to /Users/Soomin/nltk_data...\n",
      "[nltk_data]    |   Package rte is already up-to-date!\n",
      "[nltk_data]    | Downloading package sample_grammars to\n",
      "[nltk_data]    |     /Users/Soomin/nltk_data...\n",
      "[nltk_data]    |   Package sample_grammars is already up-to-date!\n",
      "[nltk_data]    | Downloading package semcor to\n",
      "[nltk_data]    |     /Users/Soomin/nltk_data...\n",
      "[nltk_data]    |   Package semcor is already up-to-date!\n",
      "[nltk_data]    | Downloading package senseval to\n",
      "[nltk_data]    |     /Users/Soomin/nltk_data...\n",
      "[nltk_data]    |   Package senseval is already up-to-date!\n",
      "[nltk_data]    | Downloading package sentence_polarity to\n",
      "[nltk_data]    |     /Users/Soomin/nltk_data...\n",
      "[nltk_data]    |   Package sentence_polarity is already up-to-date!\n",
      "[nltk_data]    | Downloading package sentiwordnet to\n",
      "[nltk_data]    |     /Users/Soomin/nltk_data...\n",
      "[nltk_data]    |   Package sentiwordnet is already up-to-date!\n",
      "[nltk_data]    | Downloading package shakespeare to\n",
      "[nltk_data]    |     /Users/Soomin/nltk_data...\n",
      "[nltk_data]    |   Package shakespeare is already up-to-date!\n",
      "[nltk_data]    | Downloading package sinica_treebank to\n",
      "[nltk_data]    |     /Users/Soomin/nltk_data...\n",
      "[nltk_data]    |   Package sinica_treebank is already up-to-date!\n",
      "[nltk_data]    | Downloading package smultron to\n",
      "[nltk_data]    |     /Users/Soomin/nltk_data...\n",
      "[nltk_data]    |   Package smultron is already up-to-date!\n",
      "[nltk_data]    | Downloading package snowball_data to\n",
      "[nltk_data]    |     /Users/Soomin/nltk_data...\n",
      "[nltk_data]    |   Package snowball_data is already up-to-date!\n",
      "[nltk_data]    | Downloading package spanish_grammars to\n",
      "[nltk_data]    |     /Users/Soomin/nltk_data...\n",
      "[nltk_data]    |   Package spanish_grammars is already up-to-date!\n",
      "[nltk_data]    | Downloading package state_union to\n",
      "[nltk_data]    |     /Users/Soomin/nltk_data...\n",
      "[nltk_data]    |   Package state_union is already up-to-date!\n",
      "[nltk_data]    | Downloading package stopwords to\n",
      "[nltk_data]    |     /Users/Soomin/nltk_data...\n",
      "[nltk_data]    |   Package stopwords is already up-to-date!\n",
      "[nltk_data]    | Downloading package subjectivity to\n",
      "[nltk_data]    |     /Users/Soomin/nltk_data...\n",
      "[nltk_data]    |   Package subjectivity is already up-to-date!\n",
      "[nltk_data]    | Downloading package swadesh to\n",
      "[nltk_data]    |     /Users/Soomin/nltk_data...\n",
      "[nltk_data]    |   Package swadesh is already up-to-date!\n",
      "[nltk_data]    | Downloading package switchboard to\n",
      "[nltk_data]    |     /Users/Soomin/nltk_data...\n",
      "[nltk_data]    |   Package switchboard is already up-to-date!\n",
      "[nltk_data]    | Downloading package tagsets to\n",
      "[nltk_data]    |     /Users/Soomin/nltk_data...\n",
      "[nltk_data]    |   Package tagsets is already up-to-date!\n",
      "[nltk_data]    | Downloading package timit to\n",
      "[nltk_data]    |     /Users/Soomin/nltk_data...\n",
      "[nltk_data]    |   Package timit is already up-to-date!\n",
      "[nltk_data]    | Downloading package toolbox to\n",
      "[nltk_data]    |     /Users/Soomin/nltk_data...\n",
      "[nltk_data]    |   Package toolbox is already up-to-date!\n",
      "[nltk_data]    | Downloading package treebank to\n",
      "[nltk_data]    |     /Users/Soomin/nltk_data...\n",
      "[nltk_data]    |   Package treebank is already up-to-date!\n",
      "[nltk_data]    | Downloading package twitter_samples to\n",
      "[nltk_data]    |     /Users/Soomin/nltk_data...\n",
      "[nltk_data]    |   Package twitter_samples is already up-to-date!\n",
      "[nltk_data]    | Downloading package udhr to\n",
      "[nltk_data]    |     /Users/Soomin/nltk_data...\n",
      "[nltk_data]    |   Package udhr is already up-to-date!\n",
      "[nltk_data]    | Downloading package udhr2 to\n",
      "[nltk_data]    |     /Users/Soomin/nltk_data...\n",
      "[nltk_data]    |   Package udhr2 is already up-to-date!\n",
      "[nltk_data]    | Downloading package unicode_samples to\n",
      "[nltk_data]    |     /Users/Soomin/nltk_data...\n",
      "[nltk_data]    |   Package unicode_samples is already up-to-date!\n",
      "[nltk_data]    | Downloading package universal_tagset to\n",
      "[nltk_data]    |     /Users/Soomin/nltk_data...\n",
      "[nltk_data]    |   Package universal_tagset is already up-to-date!\n",
      "[nltk_data]    | Downloading package universal_treebanks_v20 to\n",
      "[nltk_data]    |     /Users/Soomin/nltk_data...\n",
      "[nltk_data]    |   Package universal_treebanks_v20 is already up-to-\n",
      "[nltk_data]    |       date!\n",
      "[nltk_data]    | Downloading package vader_lexicon to\n",
      "[nltk_data]    |     /Users/Soomin/nltk_data...\n",
      "[nltk_data]    |   Package vader_lexicon is already up-to-date!\n",
      "[nltk_data]    | Downloading package verbnet to\n",
      "[nltk_data]    |     /Users/Soomin/nltk_data...\n",
      "[nltk_data]    |   Package verbnet is already up-to-date!\n",
      "[nltk_data]    | Downloading package verbnet3 to\n",
      "[nltk_data]    |     /Users/Soomin/nltk_data...\n",
      "[nltk_data]    |   Package verbnet3 is already up-to-date!\n",
      "[nltk_data]    | Downloading package webtext to\n",
      "[nltk_data]    |     /Users/Soomin/nltk_data...\n",
      "[nltk_data]    |   Package webtext is already up-to-date!\n",
      "[nltk_data]    | Downloading package wmt15_eval to\n",
      "[nltk_data]    |     /Users/Soomin/nltk_data...\n",
      "[nltk_data]    |   Package wmt15_eval is already up-to-date!\n",
      "[nltk_data]    | Downloading package word2vec_sample to\n",
      "[nltk_data]    |     /Users/Soomin/nltk_data...\n",
      "[nltk_data]    |   Package word2vec_sample is already up-to-date!\n",
      "[nltk_data]    | Downloading package wordnet to\n",
      "[nltk_data]    |     /Users/Soomin/nltk_data...\n",
      "[nltk_data]    |   Package wordnet is already up-to-date!\n",
      "[nltk_data]    | Downloading package wordnet2021 to\n",
      "[nltk_data]    |     /Users/Soomin/nltk_data...\n",
      "[nltk_data]    |   Package wordnet2021 is already up-to-date!\n",
      "[nltk_data]    | Downloading package wordnet31 to\n",
      "[nltk_data]    |     /Users/Soomin/nltk_data...\n",
      "[nltk_data]    |   Package wordnet31 is already up-to-date!\n",
      "[nltk_data]    | Downloading package wordnet_ic to\n",
      "[nltk_data]    |     /Users/Soomin/nltk_data...\n",
      "[nltk_data]    |   Package wordnet_ic is already up-to-date!\n",
      "[nltk_data]    | Downloading package words to\n",
      "[nltk_data]    |     /Users/Soomin/nltk_data...\n",
      "[nltk_data]    |   Package words is already up-to-date!\n",
      "[nltk_data]    | Downloading package ycoe to\n",
      "[nltk_data]    |     /Users/Soomin/nltk_data...\n",
      "[nltk_data]    |   Package ycoe is already up-to-date!\n",
      "[nltk_data]    | \n",
      "[nltk_data]  Done downloading collection all\n",
      "[nltk_data] Downloading package wordnet to /Users/Soomin/nltk_data...\n",
      "[nltk_data]   Package wordnet is already up-to-date!\n",
      "[nltk_data] Downloading package stopwords to\n",
      "[nltk_data]     /Users/Soomin/nltk_data...\n",
      "[nltk_data]   Package stopwords is already up-to-date!\n"
     ]
    }
   ],
   "source": [
    "##영어##\n",
    "import nltk\n",
    "##처음 한번만 실행 후 주석처리##\n",
    "nltk.download('all')\n",
    "nltk.download('wordnet')\n",
    "nltk.download('stopwords')\n",
    "##############################\n",
    "from nltk.corpus import stopwords\n",
    "stop_word_eng = set(stopwords.words('english'))\n",
    "line2 = [i for i in line2 if i not in stop_word_eng]"
   ]
  },
  {
   "cell_type": "code",
   "execution_count": 38,
   "metadata": {},
   "outputs": [
    {
     "name": "stdout",
     "output_type": "stream",
     "text": [
      "[' you ve got to find what you love jobs says ', ' ', 'this is the text of the commencement address by steve jobs ceo of apple computer and of pixar animation studios delivered on june 12 2005 ', ' ', ' ', 'i am honored to be with you today at your commencement from one of the finest universities in the world i never graduated from college truth be told this is the closest i ve ever gotten to a college graduation today i want to tell you three stories from my life that s it no big deal just three stories ', ' ', 'the first story is about connecting the dots ', 'i dropped out of reed college after the first 6 months but then stayed around as a drop in for another 18 months or so before i really quit so why did i drop out ', ' ', 'it started before i was born my biological mother was a young unwed college graduate student and she decided to put me up for adoption she felt very strongly that i should be adopted by college graduates so everything was all set for me to be adopted at birth by a lawyer and his wife except that when i popped out they decided at the last minute that they really wanted a girl so my parents who were on a waiting list got a call in the middle of the night asking we have an unexpected baby boy do you want him they said of course my biological mother later found out that my mother had never graduated from college and that my father had never graduated from high school she refused to sign the final adoption papers she only relented a few months later when my parents promised that i would someday go to college ', ' ', 'and 17 years later i did go to college but i naively chose a college that was almost as expensive as stanford and all of my working class parents savings were being spent on my college tuition after six months i couldn t see the value in it i had no idea what i wanted to do with my life and no idea how college was going to help me figure it out and here i was spending all of the money my parents had saved their entire life so i decided to drop out and trust that it would all work out ok it was pretty scary at the time but looking back it was one of the best decisions i ever made the minute i dropped out i could stop taking the required classes that didn t interest me and begin dropping in on the ones that looked interesting ', ' ', 'it wasn t all romantic i didn t have a dorm room so i slept on the floor in friends rooms i returned coke bottles for the 5 deposits to buy food with and i would walk the 7 miles across town every sunday night to get one good meal a week at the hare krishna temple i loved it and much of what i stumbled into by following my curiosity and intuition turned out to be priceless later on let me give you one example ', ' ', 'reed college at that time offered perhaps the best calligraphy instruction in the country throughout the campus every poster every label on every drawer was beautifully hand calligraphed because i had dropped out and didn t have to take the normal classes i decided to take a calligraphy class to learn how to do this i learned about serif and san serif typefaces about varying the amount of space between different letter combinations about what makes great typography great it was beautiful historical artistically subtle in a way that science can t capture and i found it fascinating ', ' ', 'none of this had even a hope of any practical application in my life but ten years later when we were designing the first macintosh computer it all came back to me and we designed it all into the mac it was the first computer with beautiful typography if i had never dropped in on that single course in college the mac would have never had multiple typefaces or proportionally spaced fonts and since windows just copied the mac its likely that no personal computer would have them if i had never dropped out i would have never dropped in on this calligraphy class and personal computers might not have the wonderful typography that they do of course it was impossible to connect the dots looking forward when i was in college but it was very very clear looking backwards ten years later ', ' ', 'again you can t connect the dots looking forward you can only connect them looking backwards so you have to trust that the dots will somehow connect in your future you have to trust in something your gut destiny life karma whatever this approach has never let me down and it has made all the difference in my life ', ' ', 'my second story is about love and loss ', ' ', 'i was lucky i found what i loved to do early in life woz and i started apple in my parents garage when i was 20 we worked hard and in 10 years apple had grown from just the two of us in a garage into a 2 billion company with over 4000 employees we had just released our finest creation the macintosh a year earlier and i had just turned 30 and then i got fired how can you get fired from a company you started well as apple grew we hired someone who i thought was very talented to run the company with me and for the first year or so things went well but then our visions of the future began to diverge and eventually we had a falling out when we did our board of directors sided with him so at 30 i was out and very publicly out what had been the focus of my entire adult life was gone and it was devastating ', ' ', 'i really didn t know what to do for a few months i felt that i had let the previous generation of entrepreneurs down that i had dropped the baton as it was being passed to me i met with david packard and bob noyce and tried to apologize for screwing up so badly i was a very public failure and i even thought about running away from the valley but something slowly began to dawn on me i still loved what i did the turn of events at apple had not changed that one bit i had been rejected but i was still in love and so i decided to start over ', ' ', 'i didn t see it then but it turned out that getting fired from apple was the best thing that could have ever happened to me the heaviness of being successful was replaced by the lightness of being a beginner again less sure about everything it freed me to enter one of the most creative periods of my life ', ' ', 'during the next five years i started a company named next another company named pixar and fell in love with an amazing woman who would become my wife pixar went on to create the worlds first computer animated feature film toy story and is now the most successful animation studio in the world in a remarkable turn of events apple bought next i retuned to apple and the technology we developed at next is at the heart of apple s current renaissance and laurene and i have a wonderful family together ', ' ', ' ', 'i m pretty sure none of this would have happened if i hadn t been fired from apple it was awful tasting medicine but i guess the patient needed it sometimes life hits you in the head with a brick don t lose faith i m convinced that the only thing that kept me going was that i loved what i did you ve got to find what you love and that is as true for your work as it is for your lovers your work is going to fill a large part of your life and the only way to be truly satisfied is to do what you believe is great work and the only way to do great work is to love what you do if you haven t found it yet keep looking don t settle as with all matters of the heart you ll know when you find it and like any great relationship it just gets better and better as the years roll on so keep looking until you find it don t settle ', ' ', 'my third story is about death ', ' ', 'when i was 17 i read a quote that went something like if you live each day as if it was your last someday you ll most certainly be right it made an impression on me and since then for the past 33 years i have looked in the mirror every morning and asked myself if today were the last day of my life would i want to do what i am about to do today and whenever the answer has been no for too many days in a row i know i need to change something ', ' ', 'remembering that i ll be dead soon is the most important tool i ve ever encountered to help me make the big choices in life because almost everything all external expectations all pride all fear of embarrassment or failure these things just fall away in the face of death leaving only what is truly important remembering that you are going to die is the best way i know to avoid the trap of thinking you have something to lose you are already naked there is no reason not to follow your heart ', ' ', 'about a year ago i was diagnosed with cancer i had a scan at 7 30 in the morning and it clearly showed a tumor on my pancreas i didn t even know what a pancreas was the doctors told me this was almost certainly a type of cancer that is incurable and that i should expect to live no longer than three to six months my doctor advised me to go home and get my affairs in order which is doctor s code for prepare to die it means to try to tell your kids everything you thought you d have the next 10 years to tell them in just a few months it means to make sure everything is buttoned up so that it will be as easy as possible for your family it means to say your goodbyes ', ' ', 'i lived with that diagnosis all day later that evening i had a biopsy where they stuck an endoscope down my throat through my stomach and into my intestines put a needle into my pancreas and got a few cells from the tumor i was sedated but my wife who was there told me that when they viewed the cells under a microscope the doctors started crying because it turned out to be a very rare form of pancreatic cancer that is curable with surgery i had the surgery and i m fine now ', ' ', 'this was the closest i ve been to facing death and i hope its the closest i get for a few more decades having lived through it i can now say this to you with a bit more certainty than when death was a useful but purely intellectual concept ', ' ', 'no one wants to die even people who want to go to heaven don t want to die to get there and yet death is the destination we all share no one has ever escaped it and that is as it should be because death is very likely the single best invention of life it is life s change agent it clears out the old to make way for the new right now the new is you but someday not too long from now you will gradually become the old and be cleared away sorry to be so dramatic but it is quite true ', ' ', 'your time is limited so don t waste it living someone else s life don t be trapped by dogma which is living with the results of other people s thinking don t let the noise of other s opinions drown out your own inner voice and most important have the courage to follow your heart and intuition they somehow already know what you truly want to become everything else is secondary ', ' ', 'when i was young there was an amazing publication called the whole earth catalog which was one of the bibles of my generation it was created by a fellow named stewart brand not far from here in menlo park and he brought it to life with his poetic touch this was in the late 1960 s before personal computers and desktop publishing so it was all made with typewriters scissors and polaroid cameras it was sort of like google in paperback form 35 years before google came along it was idealistic and overflowing with neat tools and great notions ', ' ', 'stewart and his team put out several issues of the whole earth catalog and then when it had run its course they put out a final issue it was the mid 1970s and i was your age on the back cover of their final issue was a photograph of an early morning country road the kind you might find yourself hitchhiking on if you were so adventurous beneath it were the words stay hungry stay foolish it was their farewell message as they signed off stay hungry stay foolish and i have always wished that for myself and now as you graduate to begin anew i wish that for you ', ' ', 'stay hungry stay foolish ', ' ', 'thank you all very much ', ' ', ' ']\n"
     ]
    }
   ],
   "source": [
    "print(line2)"
   ]
  },
  {
   "cell_type": "markdown",
   "metadata": {},
   "source": [
    "### (6) 품사 분석 및 어근 같은 부분 동일화, 토큰화"
   ]
  },
  {
   "cell_type": "code",
   "execution_count": 39,
   "metadata": {},
   "outputs": [
    {
     "name": "stdout",
     "output_type": "stream",
     "text": [
      "['소나기', '황순원', '소년', '소녀', '곧', '윤', '초시', '증손녀', '딸', '걸', '알', '수', '소녀', '개울', '손', '물장난', '것', '서울', '개울물', '보지', '듯이', '벌써', '며칠', '소녀', '학교', '길', '물장난', '어제', '개울', '기슭', '오늘', '징', '한가운데', '소년', '개울', '둑', '소녀', '비키', '것', '요행', '사람', '소녀', '길', '다음', '날', '좀', '개울', '가로', '이', '날', '소녀', '징', '한가운데', '세수', '분홍', '스웨터', '소매', '목덜미', '마냥', '한참', '세수', '이번', '물', '속', '얼굴', '것', '리라', '갑자기', '물', '고기', '새끼', '듯', '소녀', '소년', '개울', '둑', '걸', '그냥', '날쌔', '물', '번번이', '허탕', '그대로', '양', '자꾸', '물', '어제', '개울', '사람', '길', '모양', '소녀', '물', '속', '무엇', '하나', '조약돌', '벌떡', '징검', '다리', '홱', '리', '이', '바보', '조약돌', '소년', '저', '벌떡', '단발', '머리', '소녀', '막', '달린다', '밭', '사', '뒤', '가을', '햇살', '아래', '꽃', '이제', '쯤', '밭머리', '소녀', '꽤', '시간', '생각', '소녀', '발돋움', '시간', '생각', '저', '쪽', '밭머리', '꽃', '옴', '소녀', '꽃', '안고', '이제', '천천', '걸음', '맑은', '가을', '햇살', '소녀', '꽃', '머리', '소녀', '꽃', '길', '것', '소년', '이', '꽃', '아주', '그대로', '문득', '소녀', '조약돌', '물기', '소년', '조약돌', '주머니', '다음', '날', '좀더', '개울', '가로', '소녀', '그림자', '다행', '일', '소녀', '그림자', '날', '계속', '소년', '가슴', '구석', '어딘가', '자리', '것', '주머니', '속', '조약돌', '버릇', '날', '소년', '전', '소녀', '물장난', '징', '한가운데', '물', '속', '손', '세수', '물', '속', '얼굴', '그대로', '소년', '두', '손', '물', '속', '얼굴', '몇', '번', '깜짝', '일어나고', '소녀', '리', '내', '일', '소년', '달리기', '시작', '디딤돌', '발', '물', '속', '더', '몸', '데', '이', '쪽', '길', '밭', '메밀', '밭', '전', '메밀', '꽃', '냄새', '코', '생각', '간이', '액체', '입술', '코피', '소년', '손', '코피', '그냥', '어디', '선', '바보', '바보', '소리', '자꾸만', '것', '토요일', '며칠', '보이지', '소녀', '건너편', '물장난', '체', '징검', '다리', '시작', '얼마', '전', '소녀', '앞', '번', '실수', '뿐', '여태', '큰길', '징검', '다리', '오늘', '조심', '얘', '못', '체', '둑', '위로', '얘', '이', '무슨', '조개', '자기', '소녀', '눈', '얼른', '소녀', '손바닥', '눈', '비단', '조개', '이름', '갈림길', '여기', '소녀', '아래', '편', '삼', '마장', '소년', '우대', '십', '리', '길', '가야', '소녀', '걸음', '너', '저', '산', '너머', '일', '벌', '끝', '우리', '보지', '시골', '오', '혼자', '못', '봬', '얼마나', '서울', '땐', '사뭇', '데', '소풍', '소녀', '눈', '바보바보', '것', '논', '사', '벼', '가을걷이', '곁', '허수아비', '소년', '새끼', '줄', '참새', '몇', '마리', '오늘', '일찍', '집', '텃논', '참새', '걸', '생각', '소녀', '허수아비', '줄', '허수아비', '자꾸', '춤', '소녀', '왼쪽', '볼', '살포시', '보조개', '패었다', '저만큼', '허수아비', '또', '소녀', '그', '뒤', '소년', '오늘', '날', '일찍', '집', '집안일', '도', '생각', '기', '듯이', '소녀', '곁', '그냥', '달린다', '메뚜기', '얼굴', '쪽빛', '갠', '가을', '하늘', '소년', '눈앞', '맴', '돈', '놈', '독수리', '놈', '독수리', '놈', '독수리', '맴', '때문', '소녀', '지금', '자기', '온', '허수아비', '좀', '전', '허수아비', '더', '논', '곳', '도랑', '하나', '소녀', '먼저', '거기', '부터', '산', '밑', '밭', '숫단', '밭머리', '저', '뭐', '원두막', '여기', '참외', '참외', '맛', '수박', '맛', '더', '하나', '소년', '참외', '그루', '무우', '밭', '무우', '두', '밑', '밑', '덜', '잎', '비', '팽개친', '후', '소녀', '듯이', '먼저', '대강', '입', '베', '물어', '다음', '손톱', '돌이', '껍질', '소녀', '세', '입도', '못', '맵', '맛', '못', '소년', '더', '멀리', '팽개쳐', '산이', '단풍', '눈', '소녀', '산', '향', '이번', '소년', '달리', '곧', '소녀', '더', '꽃', '이', '들국화', '이', '싸리', '꽃', '이', '도라지꽃', '도라지꽃', '줄', '난', '보랏빛', '이', '양산', '꽃', '뭐', '마타리', '꽃', '소녀', '마타리', '꽃', '양산', '해', '약간', '상기', '얼굴', '살포시', '보조개', '다시', '소년', '꽃', '옴', '꽃', '가지', '소녀', '소녀', '하나', '산마루', '로', '맞은편', '골짜기', '오순도순', '초가집', '몇', '누가', '말', '것', '바위', '걸터', '유', '달리', '주위', '것', '가을', '햇살', '말라가', '풀', '냄새', '퍼뜨리', '저건', '또', '무슨', '꽃', '비', '탈진', '곳', '칡', '덩굴', '키', '꽃', '달', '꼭', '등꽃', '서울', '우리', '학교', '등나무', '저', '꽃', '보', '등나무', '밑', '동무', '생각', '소녀', '비', '탈진', '곳', '간다', '꽃송이', '줄기', '잡고', '시작', '좀처럼', '안간힘', '칡', '덩굴', '소년', '소녀', '손', '손', '소년', '제', '줄', '것', '소녀', '오른쪽', '무릎', '핏방울', '내맺혔다', '소년', '저', '생채기', '입술', '대고', '시작', '무슨', '생각', '홱', '저', '쪽', '좀', '숨', '차', '소년', '걸', '송진', '생채기', '그', '달', '음으로', '칡', '덩굴', '데', '꽃', '몇', '줄기', '이빨', '가지', '저기', '송아지', '누렁', '송아지', '코뚜레', '꿰', '소년', '고삐', '바투', '쥐', '등', '체', '훌쩍', '송아지', '껑충', '거리', '소녀', '얼굴', '분홍', '스웨터', '남색', '스커트', '안고', '꽃', '범벅', '모두', '하나', '꽃', '묶음', '리지', '것', '소녀', '흉내', '내지', '자기', '혼자', '수', '일인', '것', '너희', '예서', '뭣들', '농부', '하나', '풀', '사이', '송아지', '등', '송아지', '허리', '상하', '어쩌느냐', '꾸지람', '것', '나룻', '농부', '소녀', '편', '번', '보고', '송아지', '고삐', '내면', '어서', '집', '소나기', '장', '구름', '머리', '위', '갑자기', '사면', '소란', '것', '바람', '우수수', '소리', '삽시간', '주위', '보랏빛', '산', '떡갈나무', '잎', '빗방울', '소리', '빗방울', '목덜미', '선뜻', '선뜻', '눈앞', '빗줄기', '비', '안개', '속', '원두막', '비', '그을', '수', '원두막', '기둥', '지붕', '대로', '비', '덜', '곳', '소녀', '소녀', '입술', '파아랗', '어깨', '자꾸', '무명', '겹', '저고리', '소녀', '어깨', '소녀', '비', '눈', '번', '뿐', '소년', '대로', '잠자코', '안고', '온', '꽃', '묶음', '속', '가지', '꽃', '송이', '발', '밑', '소녀', '곳도', '비', '시작', '더', '거기', '비', '그을', '수', '밖', '소년', '무엇', '생각', '수수', '밭', '쪽', '숫단', '속', '비', '보더', '옆', '숫단', '덧', '다시', '속', '비', '쪽', '향', '손짓', '숫단', '속', '안', '게', '안', '앞', '소년', '그냥', '비', '소년', '어깨', '김', '소녀', '소녀', '다시', '수', '뒷걸음질', '그', '바람', '소녀', '안고', '꽃', '묶음', '망', '소녀', '생각', '비', '소년', '몸', '음새', '확', '코', '끼', '고개', '돌리지', '도리어', '소년', '몸', '기운', '몸', '적', '누', '숫잎', '소리', '뚝', '밖', '숫단', '속', '앞쪽', '햇빛', '도랑', '곳', '물이', '불어', '빛', '제법', '흙탕물', '수가', '소년', '등', '소녀', '소년', '잠방이', '물이', '소녀', '어머나', '소리', '소년', '목', '전', '가을', '하늘', '언제', '구름', '점', '쪽빛', '그', '뒤', '소녀', '모습', '매일', '개울', '가로', '학교', '시간', '운동장', '살피', '기도', '남', '몰래', '학년', '여자', '반', '그날', '소년', '주머니', '속', '조약돌', '개울', '가로', '이', '쪽', '개울', '둑', '소녀', '게', '소년', '가슴', '그', '동안', '어쩐지', '소녀', '얼굴', '해쓱', '그', '날', '소나기', '탓', '소녀', '고개', '인제', '그', '날', '날', '물이', '지지', '소녀', '분홍', '스웨터', '앞', '자락', '거기', '검', '진흙', '물', '게', '소녀', '보조개', '이', '무슨', '물', '소년', '스웨터', '앞', '자락', '내', '생각', '그', '날', '도랑', '내', '업힌', '그', '때', '네', '등', '옮', '물이', '소년', '얼굴', '확', '갈림길', '소녀', '저', '오늘', '아침', '우리', '집', '대추', '낼', '제사', '대추', '줌', '소년', '주춤', '우리', '증조', '할아버지', '아주', '소년', '두', '손', '알도', '저', '우리', '이번', '제사', '좀', '집', '소년', '소녀', '이사해', '오기', '전', '벌써', '어른', '이야기', '윤', '초시', '손자', '서울', '사업', '가지', '고향', '수', '걸', '알', '그것', '이번', '고향', '집', '남', '손', '모양', '왜', '난', '이사', '게', '어른', '일이', '수', '전', '소녀', '눈', '빛', '소녀', '길', '소년', '혼잣속', '소녀', '이사', '간다', '말', '뇌', '무어', '것', '것', '소년', '지금', '자기', '대추', '알', '단맛', '이', '날', '밤', '소년', '몰래', '덕쇠', '할아버지', '호두', '밭', '낯', '나무', '가지', '향', '작대기', '호두', '송이', '소리', '나', '크게', '가슴', '다음', '순간', '호두', '저', '힘', '마구', '작대기', '것', '길', '열', '이틀', '달이', '그늘', '그늘', '고마움', '처음', '불', '주머니', '호두', '송이', '맨손', '옴', '말', '건', '근동', '제일', '이', '덕쇠', '할아버지', '호두', '어서', '소녀', '여야', '생각', '아차', '생각', '소녀', '병', '좀', '이사', '가기', '전', '번', '개울', '가로', '달라', '말', '것', '바보', '바보', '이튿날', '소년', '학교', '아버지', '나들이', '옷', '닭', '마리', '안고', '어디', '그', '말', '대꾸', '아버지', '안고', '닭', '무게', '겨냥', '이만', '어머니', '망태기', '벌써', '며칠', '알', '날', '자리', '도살', '거여', '소년', '이번', '어머니', '아버지', '어디', '물어', '저', '골', '윤', '초시', '댁', '삿', '놈', '하나', '저', '얼룩', '수탉', '이', '말', '아버지', '임마', '이', '실속', '소년', '적', '책보', '외양간', '쇠잔', '등', '번', '철썩', '쇠파리', '체', '개울물', '날로', '물어', '소년', '갈림길', '아래쪽', '밭머리', '골', '마을', '쪽빛', '하늘', '아래', '한결', '어른', '말', '내일', '소녀', '양평읍', '이사', '간다', '것', '거기', '가겟방', '것', '소년', '저', '주머니', '속', '호두', '알', '손', '꽃', '휘', '그', '날', '밤', '소년', '자리', '생각', '내일', '소녀', '이사', '걸', '보나', '가면', '소녀', '잠', '마을', '아버지', '언제', '윤', '초시', '댁', '말', '그', '전답', '팔', '대대로', '집', '남', '손', '또', '악상', '남폿불', '밑', '바느질', '감', '안고', '어머니', '증손', '계집애', '그', '애', '하나', '사내', '애', '둘', '건', '어쩌면', '자식', '복', '글쎄', '말', '이번', '앤', '꽤', '여러', '날', '걸', '약도', '변', '지금', '윤', '초', '네', '대가', '셈', '이번', '계집', '앤', '것', '여간', '글쎄', '말', '자기', '자기', '옷', '꼭', '그대로', '달라']\n"
     ]
    }
   ],
   "source": [
    "###문장분석###\n",
    "##한국어##\n",
    "from konlpy.tag import Okt\n",
    "okt = Okt()\n",
    "result =[]\n",
    "result = [okt.nouns(i) for i in line] #명사만 추출\n",
    "final_result= [r for i in result for r in i]\n",
    "print(final_result)"
   ]
  },
  {
   "cell_type": "code",
   "execution_count": 40,
   "metadata": {},
   "outputs": [
    {
     "name": "stdout",
     "output_type": "stream",
     "text": [
      "['got', 'find', 'love', 'job', 'say', 'text', 'commenc', 'address', 'steve', 'job', 'ceo', 'appl', 'comput', 'pixar', 'anim', 'studio', 'deliv', 'june', '12', '2005', 'honor', 'today', 'commenc', 'one', 'finest', 'univers', 'world', 'never', 'graduat', 'colleg', 'truth', 'told', 'closest', 'ever', 'gotten', 'colleg', 'graduat', 'today', 'want', 'tell', 'three', 'stori', 'life', 'big', 'deal', 'three', 'stori', 'first', 'stori', 'connect', 'dot', 'drop', 'reed', 'colleg', 'first', '6', 'month', 'stay', 'around', 'drop', 'anoth', '18', 'month', 'realli', 'quit', 'drop', 'start', 'born', 'biolog', 'mother', 'young', 'unw', 'colleg', 'graduat', 'student', 'decid', 'put', 'adopt', 'felt', 'strongli', 'adopt', 'colleg', 'graduat', 'everyth', 'set', 'adopt', 'birth', 'lawyer', 'wife', 'except', 'pop', 'decid', 'last', 'minut', 'realli', 'want', 'girl', 'parent', 'wait', 'list', 'got', 'call', 'middl', 'night', 'ask', 'unexpect', 'babi', 'boy', 'want', 'said', 'cours', 'biolog', 'mother', 'later', 'found', 'mother', 'never', 'graduat', 'colleg', 'father', 'never', 'graduat', 'high', 'school', 'refus', 'sign', 'final', 'adopt', 'paper', 'relent', 'month', 'later', 'parent', 'promis', 'would', 'someday', 'go', 'colleg', '17', 'year', 'later', 'go', 'colleg', 'naiv', 'chose', 'colleg', 'almost', 'expens', 'stanford', 'work', 'class', 'parent', 'save', 'spent', 'colleg', 'tuition', 'six', 'month', 'see', 'valu', 'idea', 'want', 'life', 'idea', 'colleg', 'go', 'help', 'figur', 'spend', 'money', 'parent', 'save', 'entir', 'life', 'decid', 'drop', 'trust', 'would', 'work', 'ok', 'pretti', 'scari', 'time', 'look', 'back', 'one', 'best', 'decis', 'ever', 'made', 'minut', 'drop', 'could', 'stop', 'take', 'requir', 'class', 'interest', 'begin', 'drop', 'one', 'look', 'interest', 'romant', 'dorm', 'room', 'slept', 'floor', 'friend', 'room', 'return', 'coke', 'bottl', '5', 'deposit', 'buy', 'food', 'would', 'walk', '7', 'mile', 'across', 'town', 'everi', 'sunday', 'night', 'get', 'one', 'good', 'meal', 'week', 'hare', 'krishna', 'templ', 'love', 'much', 'stumbl', 'follow', 'curios', 'intuit', 'turn', 'priceless', 'later', 'let', 'give', 'one', 'exampl', 'reed', 'colleg', 'time', 'offer', 'perhap', 'best', 'calligraphi', 'instruct', 'countri', 'throughout', 'campu', 'everi', 'poster', 'everi', 'label', 'everi', 'drawer', 'beauti', 'hand', 'calligraph', 'drop', 'take', 'normal', 'class', 'decid', 'take', 'calligraphi', 'class', 'learn', 'learn', 'serif', 'san', 'serif', 'typefac', 'vari', 'amount', 'space', 'differ', 'letter', 'combin', 'make', 'great', 'typographi', 'great', 'beauti', 'histor', 'artist', 'subtl', 'way', 'scienc', 'captur', 'found', 'fascin', 'none', 'even', 'hope', 'practic', 'applic', 'life', 'ten', 'year', 'later', 'design', 'first', 'macintosh', 'comput', 'came', 'back', 'design', 'mac', 'first', 'comput', 'beauti', 'typographi', 'never', 'drop', 'singl', 'cours', 'colleg', 'mac', 'would', 'never', 'multipl', 'typefac', 'proport', 'space', 'font', 'sinc', 'window', 'copi', 'mac', 'like', 'person', 'comput', 'would', 'never', 'drop', 'would', 'never', 'drop', 'calligraphi', 'class', 'person', 'comput', 'might', 'wonder', 'typographi', 'cours', 'imposs', 'connect', 'dot', 'look', 'forward', 'colleg', 'clear', 'look', 'backward', 'ten', 'year', 'later', 'connect', 'dot', 'look', 'forward', 'connect', 'look', 'backward', 'trust', 'dot', 'somehow', 'connect', 'futur', 'trust', 'someth', 'gut', 'destini', 'life', 'karma', 'whatev', 'approach', 'never', 'let', 'made', 'differ', 'life', 'second', 'stori', 'love', 'loss', 'lucki', 'found', 'love', 'earli', 'life', 'woz', 'start', 'appl', 'parent', 'garag', '20', 'work', 'hard', '10', 'year', 'appl', 'grown', 'two', 'us', 'garag', '2', 'billion', 'compani', '4000', 'employe', 'releas', 'finest', 'creation', 'macintosh', 'year', 'earlier', 'turn', '30', 'got', 'fire', 'get', 'fire', 'compani', 'start', 'well', 'appl', 'grew', 'hire', 'someon', 'thought', 'talent', 'run', 'compani', 'first', 'year', 'thing', 'went', 'well', 'vision', 'futur', 'began', 'diverg', 'eventu', 'fall', 'board', 'director', 'side', '30', 'publicli', 'focu', 'entir', 'adult', 'life', 'gone', 'devast', 'realli', 'know', 'month', 'felt', 'let', 'previou', 'gener', 'entrepreneur', 'drop', 'baton', 'pass', 'met', 'david', 'packard', 'bob', 'noyc', 'tri', 'apolog', 'screw', 'badli', 'public', 'failur', 'even', 'thought', 'run', 'away', 'valley', 'someth', 'slowli', 'began', 'dawn', 'still', 'love', 'turn', 'event', 'appl', 'chang', 'one', 'bit', 'reject', 'still', 'love', 'decid', 'start', 'see', 'turn', 'get', 'fire', 'appl', 'best', 'thing', 'could', 'ever', 'happen', 'heavi', 'success', 'replac', 'light', 'beginn', 'less', 'sure', 'everyth', 'freed', 'enter', 'one', 'creativ', 'period', 'life', 'next', 'five', 'year', 'start', 'compani', 'name', 'next', 'anoth', 'compani', 'name', 'pixar', 'fell', 'love', 'amaz', 'woman', 'would', 'becom', 'wife', 'pixar', 'went', 'creat', 'world', 'first', 'comput', 'anim', 'featur', 'film', 'toy', 'stori', 'success', 'anim', 'studio', 'world', 'remark', 'turn', 'event', 'appl', 'bought', 'next', 'retun', 'appl', 'technolog', 'develop', 'next', 'heart', 'appl', 'current', 'renaiss', 'lauren', 'wonder', 'famili', 'togeth', 'pretti', 'sure', 'none', 'would', 'happen', 'fire', 'appl', 'aw', 'tast', 'medicin', 'guess', 'patient', 'need', 'sometim', 'life', 'hit', 'head', 'brick', 'lose', 'faith', 'convinc', 'thing', 'kept', 'go', 'love', 'got', 'find', 'love', 'true', 'work', 'lover', 'work', 'go', 'fill', 'larg', 'part', 'life', 'way', 'truli', 'satisfi', 'believ', 'great', 'work', 'way', 'great', 'work', 'love', 'found', 'yet', 'keep', 'look', 'settl', 'matter', 'heart', 'know', 'find', 'like', 'great', 'relationship', 'get', 'better', 'better', 'year', 'roll', 'keep', 'look', 'find', 'settl', 'third', 'stori', 'death', '17', 'read', 'quot', 'went', 'someth', 'like', 'live', 'day', 'last', 'someday', 'certainli', 'right', 'made', 'impress', 'sinc', 'past', '33', 'year', 'look', 'mirror', 'everi', 'morn', 'ask', 'today', 'last', 'day', 'life', 'would', 'want', 'today', 'whenev', 'answer', 'mani', 'day', 'row', 'know', 'need', 'chang', 'someth', 'rememb', 'dead', 'soon', 'import', 'tool', 'ever', 'encount', 'help', 'make', 'big', 'choic', 'life', 'almost', 'everyth', 'extern', 'expect', 'pride', 'fear', 'embarrass', 'failur', 'thing', 'fall', 'away', 'face', 'death', 'leav', 'truli', 'import', 'rememb', 'go', 'die', 'best', 'way', 'know', 'avoid', 'trap', 'think', 'someth', 'lose', 'alreadi', 'nake', 'reason', 'follow', 'heart', 'year', 'ago', 'diagnos', 'cancer', 'scan', '7', '30', 'morn', 'clearli', 'show', 'tumor', 'pancrea', 'even', 'know', 'pancrea', 'doctor', 'told', 'almost', 'certainli', 'type', 'cancer', 'incur', 'expect', 'live', 'longer', 'three', 'six', 'month', 'doctor', 'advis', 'go', 'home', 'get', 'affair', 'order', 'doctor', 'code', 'prepar', 'die', 'mean', 'tri', 'tell', 'kid', 'everyth', 'thought', 'next', '10', 'year', 'tell', 'month', 'mean', 'make', 'sure', 'everyth', 'button', 'easi', 'possibl', 'famili', 'mean', 'say', 'goodby', 'live', 'diagnosi', 'day', 'later', 'even', 'biopsi', 'stuck', 'endoscop', 'throat', 'stomach', 'intestin', 'put', 'needl', 'pancrea', 'got', 'cell', 'tumor', 'sedat', 'wife', 'told', 'view', 'cell', 'microscop', 'doctor', 'start', 'cri', 'turn', 'rare', 'form', 'pancreat', 'cancer', 'curabl', 'surgeri', 'surgeri', 'fine', 'closest', 'face', 'death', 'hope', 'closest', 'get', 'decad', 'live', 'say', 'bit', 'certainti', 'death', 'use', 'pure', 'intellectu', 'concept', 'one', 'want', 'die', 'even', 'peopl', 'want', 'go', 'heaven', 'want', 'die', 'get', 'yet', 'death', 'destin', 'share', 'one', 'ever', 'escap', 'death', 'like', 'singl', 'best', 'invent', 'life', 'life', 'chang', 'agent', 'clear', 'old', 'make', 'way', 'new', 'right', 'new', 'someday', 'long', 'gradual', 'becom', 'old', 'clear', 'away', 'sorri', 'dramat', 'quit', 'true', 'time', 'limit', 'wast', 'live', 'someon', 'els', 'life', 'trap', 'dogma', 'live', 'result', 'peopl', 'think', 'let', 'nois', 'opinion', 'drown', 'inner', 'voic', 'import', 'courag', 'follow', 'heart', 'intuit', 'somehow', 'alreadi', 'know', 'truli', 'want', 'becom', 'everyth', 'els', 'secondari', 'young', 'amaz', 'public', 'call', 'whole', 'earth', 'catalog', 'one', 'bibl', 'gener', 'creat', 'fellow', 'name', 'stewart', 'brand', 'far', 'menlo', 'park', 'brought', 'life', 'poetic', 'touch', 'late', '1960', 'person', 'comput', 'desktop', 'publish', 'made', 'typewrit', 'scissor', 'polaroid', 'camera', 'sort', 'like', 'googl', 'paperback', 'form', '35', 'year', 'googl', 'came', 'along', 'idealist', 'overflow', 'neat', 'tool', 'great', 'notion', 'stewart', 'team', 'put', 'sever', 'issu', 'whole', 'earth', 'catalog', 'run', 'cours', 'put', 'final', 'issu', 'mid', '1970', 'age', 'back', 'cover', 'final', 'issu', 'photograph', 'earli', 'morn', 'countri', 'road', 'kind', 'might', 'find', 'hitchhik', 'adventur', 'beneath', 'word', 'stay', 'hungri', 'stay', 'foolish', 'farewel', 'messag', 'sign', 'stay', 'hungri', 'stay', 'foolish', 'alway', 'wish', 'graduat', 'begin', 'anew', 'wish', 'stay', 'hungri', 'stay', 'foolish', 'thank', 'much']\n"
     ]
    }
   ],
   "source": [
    "##영어##\n",
    "### 어간 추출 사용 시 ###\n",
    "import nltk\n",
    "from nltk.tokenize import RegexpTokenizer\n",
    "from nltk.stem.porter import PorterStemmer\n",
    "ps_stemmer = PorterStemmer()\n",
    "token = RegexpTokenizer('[\\w]+')\n",
    "result2 = [token.tokenize(i) for i in line2]\n",
    "middle_result2= [r for i in result2 for r in i]\n",
    "final_result2 = [ps_stemmer.stem(i) for i in middle_result2 if not i in stop_word_eng] # 불용어 제거\n",
    "print(final_result2)"
   ]
  },
  {
   "cell_type": "markdown",
   "metadata": {},
   "source": [
    "### (6-1) 어간 추출 대신 표제어 추출(lemmatization) 사용 (영어))"
   ]
  },
  {
   "cell_type": "code",
   "execution_count": 41,
   "metadata": {},
   "outputs": [
    {
     "name": "stdout",
     "output_type": "stream",
     "text": [
      "['got', 'find', 'love', 'job', 'say', 'text', 'commencement', 'address', 'steve', 'job', 'ceo', 'apple', 'computer', 'pixar', 'animation', 'studio', 'delivered', 'june', '12', '2005', 'honored', 'today', 'commencement', 'one', 'finest', 'university', 'world', 'never', 'graduated', 'college', 'truth', 'told', 'closest', 'ever', 'gotten', 'college', 'graduation', 'today', 'want', 'tell', 'three', 'story', 'life', 'big', 'deal', 'three', 'story', 'first', 'story', 'connecting', 'dot', 'dropped', 'reed', 'college', 'first', '6', 'month', 'stayed', 'around', 'drop', 'another', '18', 'month', 'really', 'quit', 'drop', 'started', 'born', 'biological', 'mother', 'young', 'unwed', 'college', 'graduate', 'student', 'decided', 'put', 'adoption', 'felt', 'strongly', 'adopted', 'college', 'graduate', 'everything', 'set', 'adopted', 'birth', 'lawyer', 'wife', 'except', 'popped', 'decided', 'last', 'minute', 'really', 'wanted', 'girl', 'parent', 'waiting', 'list', 'got', 'call', 'middle', 'night', 'asking', 'unexpected', 'baby', 'boy', 'want', 'said', 'course', 'biological', 'mother', 'later', 'found', 'mother', 'never', 'graduated', 'college', 'father', 'never', 'graduated', 'high', 'school', 'refused', 'sign', 'final', 'adoption', 'paper', 'relented', 'month', 'later', 'parent', 'promised', 'would', 'someday', 'go', 'college', '17', 'year', 'later', 'go', 'college', 'naively', 'chose', 'college', 'almost', 'expensive', 'stanford', 'working', 'class', 'parent', 'saving', 'spent', 'college', 'tuition', 'six', 'month', 'see', 'value', 'idea', 'wanted', 'life', 'idea', 'college', 'going', 'help', 'figure', 'spending', 'money', 'parent', 'saved', 'entire', 'life', 'decided', 'drop', 'trust', 'would', 'work', 'ok', 'pretty', 'scary', 'time', 'looking', 'back', 'one', 'best', 'decision', 'ever', 'made', 'minute', 'dropped', 'could', 'stop', 'taking', 'required', 'class', 'interest', 'begin', 'dropping', 'one', 'looked', 'interesting', 'romantic', 'dorm', 'room', 'slept', 'floor', 'friend', 'room', 'returned', 'coke', 'bottle', '5', 'deposit', 'buy', 'food', 'would', 'walk', '7', 'mile', 'across', 'town', 'every', 'sunday', 'night', 'get', 'one', 'good', 'meal', 'week', 'hare', 'krishna', 'temple', 'loved', 'much', 'stumbled', 'following', 'curiosity', 'intuition', 'turned', 'priceless', 'later', 'let', 'give', 'one', 'example', 'reed', 'college', 'time', 'offered', 'perhaps', 'best', 'calligraphy', 'instruction', 'country', 'throughout', 'campus', 'every', 'poster', 'every', 'label', 'every', 'drawer', 'beautifully', 'hand', 'calligraphed', 'dropped', 'take', 'normal', 'class', 'decided', 'take', 'calligraphy', 'class', 'learn', 'learned', 'serif', 'san', 'serif', 'typeface', 'varying', 'amount', 'space', 'different', 'letter', 'combination', 'make', 'great', 'typography', 'great', 'beautiful', 'historical', 'artistically', 'subtle', 'way', 'science', 'capture', 'found', 'fascinating', 'none', 'even', 'hope', 'practical', 'application', 'life', 'ten', 'year', 'later', 'designing', 'first', 'macintosh', 'computer', 'came', 'back', 'designed', 'mac', 'first', 'computer', 'beautiful', 'typography', 'never', 'dropped', 'single', 'course', 'college', 'mac', 'would', 'never', 'multiple', 'typeface', 'proportionally', 'spaced', 'font', 'since', 'window', 'copied', 'mac', 'likely', 'personal', 'computer', 'would', 'never', 'dropped', 'would', 'never', 'dropped', 'calligraphy', 'class', 'personal', 'computer', 'might', 'wonderful', 'typography', 'course', 'impossible', 'connect', 'dot', 'looking', 'forward', 'college', 'clear', 'looking', 'backwards', 'ten', 'year', 'later', 'connect', 'dot', 'looking', 'forward', 'connect', 'looking', 'backwards', 'trust', 'dot', 'somehow', 'connect', 'future', 'trust', 'something', 'gut', 'destiny', 'life', 'karma', 'whatever', 'approach', 'never', 'let', 'made', 'difference', 'life', 'second', 'story', 'love', 'loss', 'lucky', 'found', 'loved', 'early', 'life', 'woz', 'started', 'apple', 'parent', 'garage', '20', 'worked', 'hard', '10', 'year', 'apple', 'grown', 'two', 'u', 'garage', '2', 'billion', 'company', '4000', 'employee', 'released', 'finest', 'creation', 'macintosh', 'year', 'earlier', 'turned', '30', 'got', 'fired', 'get', 'fired', 'company', 'started', 'well', 'apple', 'grew', 'hired', 'someone', 'thought', 'talented', 'run', 'company', 'first', 'year', 'thing', 'went', 'well', 'vision', 'future', 'began', 'diverge', 'eventually', 'falling', 'board', 'director', 'sided', '30', 'publicly', 'focus', 'entire', 'adult', 'life', 'gone', 'devastating', 'really', 'know', 'month', 'felt', 'let', 'previous', 'generation', 'entrepreneur', 'dropped', 'baton', 'passed', 'met', 'david', 'packard', 'bob', 'noyce', 'tried', 'apologize', 'screwing', 'badly', 'public', 'failure', 'even', 'thought', 'running', 'away', 'valley', 'something', 'slowly', 'began', 'dawn', 'still', 'loved', 'turn', 'event', 'apple', 'changed', 'one', 'bit', 'rejected', 'still', 'love', 'decided', 'start', 'see', 'turned', 'getting', 'fired', 'apple', 'best', 'thing', 'could', 'ever', 'happened', 'heaviness', 'successful', 'replaced', 'lightness', 'beginner', 'le', 'sure', 'everything', 'freed', 'enter', 'one', 'creative', 'period', 'life', 'next', 'five', 'year', 'started', 'company', 'named', 'next', 'another', 'company', 'named', 'pixar', 'fell', 'love', 'amazing', 'woman', 'would', 'become', 'wife', 'pixar', 'went', 'create', 'world', 'first', 'computer', 'animated', 'feature', 'film', 'toy', 'story', 'successful', 'animation', 'studio', 'world', 'remarkable', 'turn', 'event', 'apple', 'bought', 'next', 'retuned', 'apple', 'technology', 'developed', 'next', 'heart', 'apple', 'current', 'renaissance', 'laurene', 'wonderful', 'family', 'together', 'pretty', 'sure', 'none', 'would', 'happened', 'fired', 'apple', 'awful', 'tasting', 'medicine', 'guess', 'patient', 'needed', 'sometimes', 'life', 'hit', 'head', 'brick', 'lose', 'faith', 'convinced', 'thing', 'kept', 'going', 'loved', 'got', 'find', 'love', 'true', 'work', 'lover', 'work', 'going', 'fill', 'large', 'part', 'life', 'way', 'truly', 'satisfied', 'believe', 'great', 'work', 'way', 'great', 'work', 'love', 'found', 'yet', 'keep', 'looking', 'settle', 'matter', 'heart', 'know', 'find', 'like', 'great', 'relationship', 'get', 'better', 'better', 'year', 'roll', 'keep', 'looking', 'find', 'settle', 'third', 'story', 'death', '17', 'read', 'quote', 'went', 'something', 'like', 'live', 'day', 'last', 'someday', 'certainly', 'right', 'made', 'impression', 'since', 'past', '33', 'year', 'looked', 'mirror', 'every', 'morning', 'asked', 'today', 'last', 'day', 'life', 'would', 'want', 'today', 'whenever', 'answer', 'many', 'day', 'row', 'know', 'need', 'change', 'something', 'remembering', 'dead', 'soon', 'important', 'tool', 'ever', 'encountered', 'help', 'make', 'big', 'choice', 'life', 'almost', 'everything', 'external', 'expectation', 'pride', 'fear', 'embarrassment', 'failure', 'thing', 'fall', 'away', 'face', 'death', 'leaving', 'truly', 'important', 'remembering', 'going', 'die', 'best', 'way', 'know', 'avoid', 'trap', 'thinking', 'something', 'lose', 'already', 'naked', 'reason', 'follow', 'heart', 'year', 'ago', 'diagnosed', 'cancer', 'scan', '7', '30', 'morning', 'clearly', 'showed', 'tumor', 'pancreas', 'even', 'know', 'pancreas', 'doctor', 'told', 'almost', 'certainly', 'type', 'cancer', 'incurable', 'expect', 'live', 'longer', 'three', 'six', 'month', 'doctor', 'advised', 'go', 'home', 'get', 'affair', 'order', 'doctor', 'code', 'prepare', 'die', 'mean', 'try', 'tell', 'kid', 'everything', 'thought', 'next', '10', 'year', 'tell', 'month', 'mean', 'make', 'sure', 'everything', 'buttoned', 'easy', 'possible', 'family', 'mean', 'say', 'goodbye', 'lived', 'diagnosis', 'day', 'later', 'evening', 'biopsy', 'stuck', 'endoscope', 'throat', 'stomach', 'intestine', 'put', 'needle', 'pancreas', 'got', 'cell', 'tumor', 'sedated', 'wife', 'told', 'viewed', 'cell', 'microscope', 'doctor', 'started', 'cry', 'turned', 'rare', 'form', 'pancreatic', 'cancer', 'curable', 'surgery', 'surgery', 'fine', 'closest', 'facing', 'death', 'hope', 'closest', 'get', 'decade', 'lived', 'say', 'bit', 'certainty', 'death', 'useful', 'purely', 'intellectual', 'concept', 'one', 'want', 'die', 'even', 'people', 'want', 'go', 'heaven', 'want', 'die', 'get', 'yet', 'death', 'destination', 'share', 'one', 'ever', 'escaped', 'death', 'likely', 'single', 'best', 'invention', 'life', 'life', 'change', 'agent', 'clear', 'old', 'make', 'way', 'new', 'right', 'new', 'someday', 'long', 'gradually', 'become', 'old', 'cleared', 'away', 'sorry', 'dramatic', 'quite', 'true', 'time', 'limited', 'waste', 'living', 'someone', 'else', 'life', 'trapped', 'dogma', 'living', 'result', 'people', 'thinking', 'let', 'noise', 'opinion', 'drown', 'inner', 'voice', 'important', 'courage', 'follow', 'heart', 'intuition', 'somehow', 'already', 'know', 'truly', 'want', 'become', 'everything', 'else', 'secondary', 'young', 'amazing', 'publication', 'called', 'whole', 'earth', 'catalog', 'one', 'bible', 'generation', 'created', 'fellow', 'named', 'stewart', 'brand', 'far', 'menlo', 'park', 'brought', 'life', 'poetic', 'touch', 'late', '1960', 'personal', 'computer', 'desktop', 'publishing', 'made', 'typewriter', 'scissors', 'polaroid', 'camera', 'sort', 'like', 'google', 'paperback', 'form', '35', 'year', 'google', 'came', 'along', 'idealistic', 'overflowing', 'neat', 'tool', 'great', 'notion', 'stewart', 'team', 'put', 'several', 'issue', 'whole', 'earth', 'catalog', 'run', 'course', 'put', 'final', 'issue', 'mid', '1970s', 'age', 'back', 'cover', 'final', 'issue', 'photograph', 'early', 'morning', 'country', 'road', 'kind', 'might', 'find', 'hitchhiking', 'adventurous', 'beneath', 'word', 'stay', 'hungry', 'stay', 'foolish', 'farewell', 'message', 'signed', 'stay', 'hungry', 'stay', 'foolish', 'always', 'wished', 'graduate', 'begin', 'anew', 'wish', 'stay', 'hungry', 'stay', 'foolish', 'thank', 'much']\n"
     ]
    }
   ],
   "source": [
    "##영어##\n",
    "### 표제어 추출 사용 시 ###\n",
    "import nltk\n",
    "from nltk.tokenize import RegexpTokenizer\n",
    "from nltk.stem import WordNetLemmatizer\n",
    "lemmatizer = WordNetLemmatizer()\n",
    "token = RegexpTokenizer('[\\w]+')\n",
    "result_pre_lem = [token.tokenize(i) for i in line2]\n",
    "middle_pre_lem= [r for i in result_pre_lem for r in i]\n",
    "final_lem = [lemmatizer.lemmatize(i) for i in middle_pre_lem if not i in stop_word_eng] # 불용어 제거\n",
    "print(final_lem)"
   ]
  },
  {
   "cell_type": "markdown",
   "metadata": {},
   "source": [
    "### (7) 단어 수 세기"
   ]
  },
  {
   "cell_type": "code",
   "execution_count": 42,
   "metadata": {},
   "outputs": [
    {
     "name": "stdout",
     "output_type": "stream",
     "text": [
      "한국어 top 10\n",
      "소녀    72\n",
      "소년    49\n",
      "꽃     24\n",
      "것     21\n",
      "속     15\n",
      "이     15\n",
      "날     14\n",
      "생각    13\n",
      "그     13\n",
      "저     13\n",
      "dtype: int64\n",
      "English top 10\n",
      "life      17\n",
      "colleg    14\n",
      "year      12\n",
      "drop      11\n",
      "appl      10\n",
      "one       10\n",
      "love      10\n",
      "look       9\n",
      "want       9\n",
      "would      9\n",
      "dtype: int64\n"
     ]
    }
   ],
   "source": [
    "###텍스트에서 많이 나온 단어###\n",
    "import pandas as pd\n",
    "##한국어##\n",
    "korean = pd.Series(final_result).value_counts().head(10)\n",
    "print(\"한국어 top 10\")\n",
    "print(korean)\n",
    "\n",
    "##영어##\n",
    "english = pd.Series(final_result2).value_counts().head(10)\n",
    "print(\"English top 10\")\n",
    "print(english)"
   ]
  },
  {
   "cell_type": "markdown",
   "metadata": {},
   "source": [
    "### (7-1) lemmatization 사용 시 빈도 순위"
   ]
  },
  {
   "cell_type": "code",
   "execution_count": 45,
   "metadata": {},
   "outputs": [
    {
     "name": "stdout",
     "output_type": "stream",
     "text": [
      "English top 10\n"
     ]
    },
    {
     "data": {
      "text/plain": [
       "life        17\n",
       "college     14\n",
       "year        12\n",
       "one         10\n",
       "apple       10\n",
       "would        9\n",
       "never        8\n",
       "month        7\n",
       "computer     7\n",
       "looking      7\n",
       "dtype: int64"
      ]
     },
     "execution_count": 45,
     "metadata": {},
     "output_type": "execute_result"
    }
   ],
   "source": [
    "###텍스트에서 많이 나온 단어###\n",
    "###표제어 추출 시#####\n",
    "import pandas as pd\n",
    "##영어##\n",
    "english = pd.Series(final_lem).value_counts().head(10)\n",
    "print(\"English top 10\")\n",
    "english"
   ]
  },
  {
   "cell_type": "markdown",
   "metadata": {},
   "source": [
    "# [3] 텍스트 유사도"
   ]
  },
  {
   "cell_type": "markdown",
   "metadata": {},
   "source": [
    "### (1) cosine 유사도 ( -1 ~ 1 )"
   ]
  },
  {
   "cell_type": "code",
   "execution_count": 78,
   "metadata": {},
   "outputs": [
    {
     "name": "stdout",
     "output_type": "stream",
     "text": [
      "코사인 유사도 측정\n",
      "[[0.41120706]]\n"
     ]
    }
   ],
   "source": [
    "####### 텍스트 유사도 측정 ######\n",
    "from sklearn.feature_extraction.text import TfidfVectorizer\n",
    "sentences = (\"이 요리 의 레시피 를 알려줘.\",\n",
    "        \"이 요리 어떻게 만드는 지 알려줘.\")\n",
    "tfidf_vectorizer = TfidfVectorizer()\n",
    "\n",
    "# 문장 벡터화 하기(사전 만들기)\n",
    "tfidf_matrix = tfidf_vectorizer.fit_transform(sentences)\n",
    "\n",
    "### 코사인 유사도 ###\n",
    "from sklearn.metrics.pairwise import cosine_similarity\n",
    "# 첫 번째와 두 번째 문장 비교\n",
    "cos_similar = cosine_similarity(tfidf_matrix[0:1], tfidf_matrix[1:2])\n",
    "print(\"코사인 유사도 측정\")\n",
    "print(cos_similar)"
   ]
  },
  {
   "cell_type": "markdown",
   "metadata": {},
   "source": [
    "### (2) 유클리디언 유사도 (거리 -> 0 ~ 1)"
   ]
  },
  {
   "cell_type": "code",
   "execution_count": 79,
   "metadata": {},
   "outputs": [
    {
     "name": "stdout",
     "output_type": "stream",
     "text": [
      "유클리디언 유사도 측정\n",
      "[[0.29486722]]\n"
     ]
    }
   ],
   "source": [
    "### 유클리디언 유사도 (두 점 사이의 거리 구하기) ###\n",
    "import numpy as np\n",
    "from sklearn.metrics.pairwise import euclidean_distances\n",
    "\n",
    "## 정규화 ##\n",
    "tfidf_normalized = tfidf_matrix/np.sum(tfidf_matrix)\n",
    "\n",
    "##유클리디언 유사도##\n",
    "euc_d_norm = euclidean_distances(tfidf_normalized[0:1],tfidf_normalized[1:2])\n",
    "print(\"유클리디언 유사도 측정\")\n",
    "print(euc_d_norm)"
   ]
  },
  {
   "cell_type": "markdown",
   "metadata": {},
   "source": [
    "### (3) 맨하탄 유사도"
   ]
  },
  {
   "cell_type": "code",
   "execution_count": 80,
   "metadata": {},
   "outputs": [
    {
     "name": "stdout",
     "output_type": "stream",
     "text": [
      "맨하탄 유사도 측정\n",
      "[[0.5544387]]\n"
     ]
    }
   ],
   "source": [
    "### 맨하탄 유사도(격자로 된 거리에서의 최단거리) ###\n",
    "from sklearn.metrics.pairwise import manhattan_distances\n",
    "manhattan_d = manhattan_distances(tfidf_normalized[0:1],tfidf_normalized[1:2])\n",
    "print(\"맨하탄 유사도 측정\")\n",
    "print(manhattan_d)"
   ]
  }
 ],
 "metadata": {
  "interpreter": {
   "hash": "97f2e0345dc74e3e4083d7c33dbb6b4dd0ffabc4473295d6b4939f7afd3b04e0"
  },
  "kernelspec": {
   "display_name": "Python 3.8.12 ('ds_study')",
   "language": "python",
   "name": "python3"
  },
  "language_info": {
   "codemirror_mode": {
    "name": "ipython",
    "version": 3
   },
   "file_extension": ".py",
   "mimetype": "text/x-python",
   "name": "python",
   "nbconvert_exporter": "python",
   "pygments_lexer": "ipython3",
   "version": "3.8.12"
  },
  "orig_nbformat": 4
 },
 "nbformat": 4,
 "nbformat_minor": 2
}
