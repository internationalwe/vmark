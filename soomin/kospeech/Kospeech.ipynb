{
 "cells": [
  {
   "cell_type": "code",
   "execution_count": 2,
   "metadata": {},
   "outputs": [
    {
     "name": "stdout",
     "output_type": "stream",
     "text": [
      "Requirement already satisfied: tqdm in /Users/Soomin/opt/miniconda3/envs/ds_study/lib/python3.8/site-packages (from -r requirements.txt (line 1)) (4.63.0)\n",
      "Requirement already satisfied: gluonnlp in /Users/Soomin/opt/miniconda3/envs/ds_study/lib/python3.8/site-packages (from -r requirements.txt (line 2)) (0.10.0)\n",
      "Requirement already satisfied: sentencepiece in /Users/Soomin/opt/miniconda3/envs/ds_study/lib/python3.8/site-packages (from -r requirements.txt (line 3)) (0.1.96)\n",
      "Collecting hgtk\n",
      "  Downloading hgtk-0.1.3.tar.gz (6.2 kB)\n",
      "  Preparing metadata (setup.py) ... \u001b[?25ldone\n",
      "\u001b[?25hRequirement already satisfied: pandas in /Users/Soomin/opt/miniconda3/envs/ds_study/lib/python3.8/site-packages (from -r requirements.txt (line 5)) (1.2.4)\n",
      "Requirement already satisfied: numpy>=1.16.0 in /Users/Soomin/opt/miniconda3/envs/ds_study/lib/python3.8/site-packages (from gluonnlp->-r requirements.txt (line 2)) (1.22.3)\n",
      "Requirement already satisfied: packaging in /Users/Soomin/opt/miniconda3/envs/ds_study/lib/python3.8/site-packages (from gluonnlp->-r requirements.txt (line 2)) (21.3)\n",
      "Requirement already satisfied: cython in /Users/Soomin/opt/miniconda3/envs/ds_study/lib/python3.8/site-packages (from gluonnlp->-r requirements.txt (line 2)) (0.29.28)\n",
      "Requirement already satisfied: python-dateutil>=2.7.3 in /Users/Soomin/opt/miniconda3/envs/ds_study/lib/python3.8/site-packages (from pandas->-r requirements.txt (line 5)) (2.8.2)\n",
      "Requirement already satisfied: pytz>=2017.3 in /Users/Soomin/opt/miniconda3/envs/ds_study/lib/python3.8/site-packages (from pandas->-r requirements.txt (line 5)) (2021.3)\n",
      "Requirement already satisfied: six>=1.5 in /Users/Soomin/opt/miniconda3/envs/ds_study/lib/python3.8/site-packages (from python-dateutil>=2.7.3->pandas->-r requirements.txt (line 5)) (1.16.0)\n",
      "Requirement already satisfied: pyparsing!=3.0.5,>=2.0.2 in /Users/Soomin/opt/miniconda3/envs/ds_study/lib/python3.8/site-packages (from packaging->gluonnlp->-r requirements.txt (line 2)) (3.0.4)\n",
      "Building wheels for collected packages: hgtk\n",
      "  Building wheel for hgtk (setup.py) ... \u001b[?25ldone\n",
      "\u001b[?25h  Created wheel for hgtk: filename=hgtk-0.1.3-py2.py3-none-any.whl size=6689 sha256=829e66570c7b9587baa1231726ad7b8324c5c6bf1b37d0ea4b59d9e779086263\n",
      "  Stored in directory: /Users/Soomin/Library/Caches/pip/wheels/93/33/b8/bc2256172a415340e34f3c11ef2b0f3f391769000bb74de988\n",
      "Successfully built hgtk\n",
      "Installing collected packages: hgtk\n",
      "Successfully installed hgtk-0.1.3\n",
      "\u001b[33mWARNING: There was an error checking the latest version of pip.\u001b[0m\u001b[33m\n",
      "\u001b[0m"
     ]
    }
   ],
   "source": [
    "!pip install -r requirements.txt"
   ]
  },
  {
   "cell_type": "code",
   "execution_count": null,
   "metadata": {},
   "outputs": [],
   "source": []
  }
 ],
 "metadata": {
  "interpreter": {
   "hash": "97f2e0345dc74e3e4083d7c33dbb6b4dd0ffabc4473295d6b4939f7afd3b04e0"
  },
  "kernelspec": {
   "display_name": "Python 3.8.12 ('ds_study')",
   "language": "python",
   "name": "python3"
  },
  "language_info": {
   "codemirror_mode": {
    "name": "ipython",
    "version": 3
   },
   "file_extension": ".py",
   "mimetype": "text/x-python",
   "name": "python",
   "nbconvert_exporter": "python",
   "pygments_lexer": "ipython3",
   "version": "3.8.12"
  },
  "orig_nbformat": 4
 },
 "nbformat": 4,
 "nbformat_minor": 2
}
