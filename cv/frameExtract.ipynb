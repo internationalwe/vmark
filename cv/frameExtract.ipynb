{
 "cells": [
  {
   "cell_type": "code",
   "execution_count": null,
   "metadata": {
    "collapsed": true,
    "pycharm": {
     "name": "#%%\n"
    }
   },
   "outputs": [],
   "source": [
    "import cv2\n",
    "import os\n",
    "\n",
    "#사용할 비디오 파일의 경로 및 이름을 넣어주도록 함\n",
    "filepath = './datasets/droneviewfireladder.mp4'\n",
    "video = cv2.VideoCapture(filepath)\n",
    "\n",
    "if not video.isOpened():\n",
    "    print(\"Could not Open :\", filepath)\n",
    "    exit(0)"
   ]
  },
  {
   "cell_type": "code",
   "execution_count": null,
   "outputs": [],
   "source": [
    "# 길이,가로, 세로 길이 및 frame per second 값 저장\n",
    "length = int(video.get(cv2.CAP_PROP_FRAME_COUNT))\n",
    "width = int(video.get(cv2.CAP_PROP_FRAME_WIDTH))\n",
    "height = int(video.get(cv2.CAP_PROP_FRAME_HEIGHT))\n",
    "fps = video.get(cv2.CAP_PROP_FPS)\n",
    "\n",
    "print(\"length :\", length)\n",
    "print(\"width :\", width)\n",
    "print(\"height :\", height)\n",
    "print(\"fps :\", fps)"
   ],
   "metadata": {
    "collapsed": false,
    "pycharm": {
     "name": "#%%\n"
    }
   }
  },
  {
   "cell_type": "code",
   "execution_count": null,
   "outputs": [],
   "source": [
    "# 파일 이름의 폴더 생성\n",
    "try:\n",
    "    if not os.path.exists(filepath[:-4]):\n",
    "        os.makedirs(filepath[:-4])\n",
    "except OSError:\n",
    "    print ('Error: Creating directory. ' +  filepath[:-4])"
   ],
   "metadata": {
    "collapsed": false,
    "pycharm": {
     "name": "#%%\n"
    }
   }
  },
  {
   "cell_type": "code",
   "execution_count": null,
   "outputs": [],
   "source": [
    "# frame별로 추출\n",
    "count = 0\n",
    "# 원하는 초와 끝나는 초를 넣으면됨\n",
    "start_second = 0\n",
    "end_second = 0\n",
    "\n",
    "while(video.isOpened()):\n",
    "    ret, image = video.read()\n",
    "    frame = int(video.get(1))\n",
    "    if(frame % 10 == 0 and frame >= fps * start_second and frame<= fps * end_second): #앞서 불러온 fps 값을 사용하여 1초마다 추출\n",
    "        cv2.imwrite(filepath[:-4] + \"/frame%d.jpg\" % count, image)\n",
    "        print('Saved frame number :', str(frame))\n",
    "        count += 1\n",
    "\n",
    "video.release()"
   ],
   "metadata": {
    "collapsed": false,
    "pycharm": {
     "name": "#%%\n"
    }
   }
  }
 ],
 "metadata": {
  "kernelspec": {
   "display_name": "Python 3",
   "language": "python",
   "name": "python3"
  },
  "language_info": {
   "codemirror_mode": {
    "name": "ipython",
    "version": 2
   },
   "file_extension": ".py",
   "mimetype": "text/x-python",
   "name": "python",
   "nbconvert_exporter": "python",
   "pygments_lexer": "ipython2",
   "version": "2.7.6"
  }
 },
 "nbformat": 4,
 "nbformat_minor": 0
}