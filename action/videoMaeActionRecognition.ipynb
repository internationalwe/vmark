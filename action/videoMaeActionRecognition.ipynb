{
 "cells": [
  {
   "cell_type": "markdown",
   "id": "ff50b35d",
   "metadata": {
    "pycharm": {
     "name": "#%% md\n"
    }
   },
   "source": [
    "# ActionRecognition"
   ]
  },
  {
   "cell_type": "markdown",
   "id": "fe974a86",
   "metadata": {
    "pycharm": {
     "name": "#%% md\n"
    }
   },
   "source": [
    "# 데이터 불러오기"
   ]
  },
  {
   "cell_type": "code",
   "execution_count": 16,
   "id": "31239f93",
   "metadata": {
    "pycharm": {
     "name": "#%%\n"
    }
   },
   "outputs": [],
   "source": [
    "import json\n",
    "import pandas as pd\n",
    "path = '../../dataset/somethingv2/document/labels.json'\n",
    "with open(path,'r') as json_file :\n",
    "    label_dic = json.load(json_file)\n",
    "# 훈련 데이터 불러오기\n",
    "path = '../../dataset/somethingv2/document/train.json'\n",
    "with open(path,'r') as json_file :\n",
    "    json_temp = json.load(json_file)\n",
    "    train_pd = pd.json_normalize(json_temp)\n",
    "# 테스트 데이터 불러오기\n",
    "path = '../../dataset/somethingv2/document/test.json'\n",
    "with open(path,'r') as json_file :\n",
    "    json_temp = json.load(json_file)\n",
    "    test_pd = pd.json_normalize(json_temp)\n",
    "# validation 데이터 불러오기\n",
    "path = '../../dataset/somethingv2/document/validation.json'\n",
    "with open(path,'r') as json_file :\n",
    "    json_temp = json.load(json_file)\n",
    "    validation_pd = pd.json_normalize(json_temp)\n",
    "# 라벨을 한글로\n",
    "path = '../../dataset/somethingv2/document/transLabels.json'\n",
    "with open(path,'r') as json_file :\n",
    "    trans_labels_dict = json.load(json_file)\n",
    "# test 정답 데이터 불러오기\n",
    "test_answer_pd = pd.read_csv(\"../../dataset/somethingv2/document/test-answers.csv\",sep=';',names=[\"id\",\"label\"])"
   ]
  },
  {
   "cell_type": "code",
   "execution_count": 17,
   "id": "fcf64acf",
   "metadata": {
    "pycharm": {
     "name": "#%%\n"
    }
   },
   "outputs": [
    {
     "data": {
      "text/html": [
       "<div>\n",
       "<style scoped>\n",
       "    .dataframe tbody tr th:only-of-type {\n",
       "        vertical-align: middle;\n",
       "    }\n",
       "\n",
       "    .dataframe tbody tr th {\n",
       "        vertical-align: top;\n",
       "    }\n",
       "\n",
       "    .dataframe thead th {\n",
       "        text-align: right;\n",
       "    }\n",
       "</style>\n",
       "<table border=\"1\" class=\"dataframe\">\n",
       "  <thead>\n",
       "    <tr style=\"text-align: right;\">\n",
       "      <th></th>\n",
       "      <th>id</th>\n",
       "      <th>label</th>\n",
       "    </tr>\n",
       "  </thead>\n",
       "  <tbody>\n",
       "    <tr>\n",
       "      <th>0</th>\n",
       "      <td>208583</td>\n",
       "      <td>Moving something closer to something</td>\n",
       "    </tr>\n",
       "    <tr>\n",
       "      <th>1</th>\n",
       "      <td>50058</td>\n",
       "      <td>Stacking number of something</td>\n",
       "    </tr>\n",
       "    <tr>\n",
       "      <th>2</th>\n",
       "      <td>139625</td>\n",
       "      <td>Putting something similar to other things that...</td>\n",
       "    </tr>\n",
       "    <tr>\n",
       "      <th>3</th>\n",
       "      <td>40500</td>\n",
       "      <td>Rolling something on a flat surface</td>\n",
       "    </tr>\n",
       "    <tr>\n",
       "      <th>4</th>\n",
       "      <td>79958</td>\n",
       "      <td>Moving something across a surface without it f...</td>\n",
       "    </tr>\n",
       "    <tr>\n",
       "      <th>...</th>\n",
       "      <td>...</td>\n",
       "      <td>...</td>\n",
       "    </tr>\n",
       "    <tr>\n",
       "      <th>27152</th>\n",
       "      <td>161335</td>\n",
       "      <td>Letting something roll along a flat surface</td>\n",
       "    </tr>\n",
       "    <tr>\n",
       "      <th>27153</th>\n",
       "      <td>80251</td>\n",
       "      <td>Bending something so that it deforms</td>\n",
       "    </tr>\n",
       "    <tr>\n",
       "      <th>27154</th>\n",
       "      <td>95514</td>\n",
       "      <td>Poking something so lightly that it doesn't or...</td>\n",
       "    </tr>\n",
       "    <tr>\n",
       "      <th>27155</th>\n",
       "      <td>212574</td>\n",
       "      <td>Pretending to squeeze something</td>\n",
       "    </tr>\n",
       "    <tr>\n",
       "      <th>27156</th>\n",
       "      <td>152570</td>\n",
       "      <td>Tipping something over</td>\n",
       "    </tr>\n",
       "  </tbody>\n",
       "</table>\n",
       "<p>27157 rows × 2 columns</p>\n",
       "</div>"
      ],
      "text/plain": [
       "           id                                              label\n",
       "0      208583               Moving something closer to something\n",
       "1       50058                       Stacking number of something\n",
       "2      139625  Putting something similar to other things that...\n",
       "3       40500                Rolling something on a flat surface\n",
       "4       79958  Moving something across a surface without it f...\n",
       "...       ...                                                ...\n",
       "27152  161335        Letting something roll along a flat surface\n",
       "27153   80251               Bending something so that it deforms\n",
       "27154   95514  Poking something so lightly that it doesn't or...\n",
       "27155  212574                    Pretending to squeeze something\n",
       "27156  152570                             Tipping something over\n",
       "\n",
       "[27157 rows x 2 columns]"
      ]
     },
     "execution_count": 17,
     "metadata": {},
     "output_type": "execute_result"
    }
   ],
   "source": [
    "test_answer_pd"
   ]
  },
  {
   "cell_type": "code",
   "execution_count": 18,
   "id": "8bb42726",
   "metadata": {
    "pycharm": {
     "name": "#%%\n"
    }
   },
   "outputs": [
    {
     "data": {
      "text/plain": [
       "{'Approaching something with your camera': 'X',\n",
       " 'Attaching something to something': 'X',\n",
       " 'Bending something so that it deforms': '구부리다',\n",
       " 'Bending something until it breaks': '구부리다',\n",
       " 'Burying something in something': 'X',\n",
       " 'Closing something': '닫다',\n",
       " 'Covering something with something': '덮다',\n",
       " 'Digging something out of something': 'X',\n",
       " 'Dropping something behind something': '떨어뜨리다',\n",
       " 'Dropping something in front of something': '떨어뜨리다',\n",
       " 'Dropping something into something': '떨어뜨리다',\n",
       " 'Dropping something next to something': '떨어뜨리다',\n",
       " 'Dropping something onto something': '떨어뜨리다',\n",
       " 'Failing to put something into something because something does not fit': 'X',\n",
       " 'Folding something': 'X',\n",
       " 'Hitting something with something': '때리다',\n",
       " 'Holding something': '잡고 있다',\n",
       " 'Holding something behind something': '잡고 있다',\n",
       " 'Holding something in front of something': '잡고 있다',\n",
       " 'Holding something next to something': '잡고 있다',\n",
       " 'Holding something over something': '잡고 있다',\n",
       " 'Laying something on the table on its side, not upright': '놓다',\n",
       " 'Letting something roll along a flat surface': '굴리다',\n",
       " 'Letting something roll down a slanted surface': '굴리다',\n",
       " 'Letting something roll up a slanted surface, so it rolls back down': '굴리다',\n",
       " 'Lifting a surface with something on it but not enough for it to slide down': '들어올리다',\n",
       " 'Lifting a surface with something on it until it starts sliding down': '들어올리다',\n",
       " 'Lifting something up completely without letting it drop down': '들어올리다',\n",
       " 'Lifting something up completely, then letting it drop down': '들어올리다',\n",
       " 'Lifting something with something on it': '들어올리다',\n",
       " 'Lifting up one end of something without letting it drop down': '들어올리다',\n",
       " 'Lifting up one end of something, then letting it drop down': '들어올리다',\n",
       " 'Moving away from something with your camera': 'X',\n",
       " 'Moving part of something': '옮기다',\n",
       " 'Moving something across a surface until it falls down': '옮기다',\n",
       " 'Moving something across a surface without it falling down': '옮기다',\n",
       " 'Moving something and something away from each other': '옮기다',\n",
       " 'Moving something and something closer to each other': '옮기다',\n",
       " 'Moving something and something so they collide with each other': '옮기다',\n",
       " 'Moving something and something so they pass each other': '옮기다',\n",
       " 'Moving something away from something': '옮기다',\n",
       " 'Moving something away from the camera': '옮기다',\n",
       " 'Moving something closer to something': '옮기다',\n",
       " 'Moving something down': '옮기다',\n",
       " 'Moving something towards the camera': '옮기다',\n",
       " 'Moving something up': '옮기다',\n",
       " 'Opening something': '열다',\n",
       " 'Picking something up': '들다',\n",
       " 'Piling something up': 'X',\n",
       " 'Plugging something into something': 'X',\n",
       " 'Plugging something into something but pulling it right out as you remove your hand': 'X',\n",
       " 'Poking a hole into some substance': '누르다',\n",
       " 'Poking a hole into something soft': '누르다',\n",
       " 'Poking a stack of something so the stack collapses': '누르다',\n",
       " 'Poking a stack of something without the stack collapsing': '누르다',\n",
       " 'Poking something so it slightly moves': 'X',\n",
       " \"Poking something so lightly that it doesn't or almost doesn't move\": '누르다',\n",
       " 'Poking something so that it falls over': 'X',\n",
       " 'Poking something so that it spins around': 'X',\n",
       " 'Pouring something into something': '붓다',\n",
       " 'Pouring something into something until it overflows': '붓다',\n",
       " 'Pouring something onto something': '붓다',\n",
       " 'Pouring something out of something': '붓다',\n",
       " 'Pretending or failing to wipe something off of something': 'X',\n",
       " 'Pretending or trying and failing to twist something': '구부리다',\n",
       " 'Pretending to be tearing something that is not tearable': 'X',\n",
       " 'Pretending to close something without actually closing it': '닫다',\n",
       " 'Pretending to open something without actually opening it': '열다',\n",
       " 'Pretending to pick something up': '들다',\n",
       " 'Pretending to poke something': '누르다',\n",
       " 'Pretending to pour something out of something, but something is empty': '붓다',\n",
       " 'Pretending to put something behind something': '넣다',\n",
       " 'Pretending to put something into something': '넣다',\n",
       " 'Pretending to put something next to something': '넣다',\n",
       " 'Pretending to put something on a surface': '넣다',\n",
       " 'Pretending to put something onto something': '넣다',\n",
       " 'Pretending to put something underneath something': '넣다',\n",
       " 'Pretending to scoop something up with something': '넣다',\n",
       " 'Pretending to spread air onto something': 'X',\n",
       " 'Pretending to sprinkle air onto something': 'X',\n",
       " 'Pretending to squeeze something': 'X',\n",
       " 'Pretending to take something from somewhere': '넣다',\n",
       " 'Pretending to take something out of something': '넣다',\n",
       " 'Pretending to throw something': '던지다',\n",
       " 'Pretending to turn something upside down': 'X',\n",
       " 'Pulling something from behind of something': '넣다',\n",
       " 'Pulling something from left to right': '당기다',\n",
       " 'Pulling something from right to left': '당기다',\n",
       " 'Pulling something onto something': '당기다',\n",
       " 'Pulling something out of something': '당기다',\n",
       " 'Pulling two ends of something but nothing happens': '당기다',\n",
       " 'Pulling two ends of something so that it gets stretched': '당기다',\n",
       " 'Pulling two ends of something so that it separates into two pieces': 'X',\n",
       " 'Pushing something from left to right': '밀다',\n",
       " 'Pushing something from right to left': '밀다',\n",
       " 'Pushing something off of something': '밀다',\n",
       " 'Pushing something onto something': '밀다',\n",
       " 'Pushing something so it spins': '밀다',\n",
       " \"Pushing something so that it almost falls off but doesn't\": '밀다',\n",
       " 'Pushing something so that it falls off the table': '밀다',\n",
       " 'Pushing something so that it slightly moves': '밀다',\n",
       " 'Pushing something with something': '밀다',\n",
       " 'Putting number of something onto something': 'X',\n",
       " 'Putting something and something on the table': '놓다',\n",
       " 'Putting something behind something': '놓다',\n",
       " 'Putting something in front of something': '놓다',\n",
       " 'Putting something into something': '놓다',\n",
       " 'Putting something next to something': '놓다',\n",
       " 'Putting something on a flat surface without letting it roll': '놓다',\n",
       " 'Putting something on a surface': '놓다',\n",
       " 'Putting something on the edge of something so it is not supported and falls down': '놓다',\n",
       " \"Putting something onto a slanted surface but it doesn't glide down\": '놓다',\n",
       " 'Putting something onto something': '놓다',\n",
       " 'Putting something onto something else that cannot support it so it falls down': '놓다',\n",
       " 'Putting something similar to other things that are already on the table': '놓다',\n",
       " \"Putting something that can't roll onto a slanted surface, so it slides down\": '놓다',\n",
       " \"Putting something that can't roll onto a slanted surface, so it stays where it is\": '놓다',\n",
       " 'Putting something that cannot actually stand upright upright on the table, so it falls on its side': '놓다',\n",
       " 'Putting something underneath something': '놓다',\n",
       " 'Putting something upright on the table': '놓다',\n",
       " 'Putting something, something and something on the table': '놓다',\n",
       " 'Removing something, revealing something behind': 'X',\n",
       " 'Rolling something on a flat surface': 'X',\n",
       " 'Scooping something up with something': 'X',\n",
       " 'Showing a photo of something to the camera': 'X',\n",
       " 'Showing something behind something': 'X',\n",
       " 'Showing something next to something': 'X',\n",
       " 'Showing something on top of something': 'X',\n",
       " 'Showing something to the camera': 'X',\n",
       " 'Showing that something is empty': 'X',\n",
       " 'Showing that something is inside something': 'X',\n",
       " 'Something being deflected from something': 'X',\n",
       " 'Something colliding with something and both are being deflected': 'X',\n",
       " 'Something colliding with something and both come to a halt': 'X',\n",
       " 'Something falling like a feather or paper': 'X',\n",
       " 'Something falling like a rock': 'X',\n",
       " 'Spilling something behind something': 'X',\n",
       " 'Spilling something next to something': 'X',\n",
       " 'Spilling something onto something': 'X',\n",
       " 'Spinning something so it continues spinning': 'X',\n",
       " 'Spinning something that quickly stops spinning': 'X',\n",
       " 'Spreading something onto something': 'X',\n",
       " 'Sprinkling something onto something': 'X',\n",
       " 'Squeezing something': 'X',\n",
       " 'Stacking number of something': 'X',\n",
       " 'Stuffing something into something': 'X',\n",
       " 'Taking one of many similar things on the table': 'X',\n",
       " 'Taking something from somewhere': 'X',\n",
       " 'Taking something out of something': 'X',\n",
       " 'Tearing something into two pieces': '찢다',\n",
       " 'Tearing something just a little bit': '찢다',\n",
       " 'Throwing something': '던지다',\n",
       " 'Throwing something against something': '던지다',\n",
       " 'Throwing something in the air and catching it': '던지다',\n",
       " 'Throwing something in the air and letting it fall': '던지다',\n",
       " 'Throwing something onto a surface': '던지다',\n",
       " \"Tilting something with something on it slightly so it doesn't fall down\": 'X',\n",
       " 'Tilting something with something on it until it falls off': 'X',\n",
       " 'Tipping something over': 'X',\n",
       " 'Tipping something with something in it over, so something in it falls out': 'X',\n",
       " 'Touching (without moving) part of something': '만지다',\n",
       " \"Trying but failing to attach something to something because it doesn't stick\": 'X',\n",
       " 'Trying to bend something unbendable so nothing happens': 'X',\n",
       " 'Trying to pour something into something, but missing so it spills next to it': 'X',\n",
       " 'Turning something upside down': '돌리다',\n",
       " 'Turning the camera downwards while filming something': '돌리다',\n",
       " 'Turning the camera left while filming something': '돌리다',\n",
       " 'Turning the camera right while filming something': '돌리다',\n",
       " 'Turning the camera upwards while filming something': '돌리다',\n",
       " 'Twisting (wringing) something wet until water comes out': 'X',\n",
       " 'Twisting something': 'X',\n",
       " 'Uncovering something': 'X',\n",
       " 'Unfolding something': 'X',\n",
       " 'Wiping something off of something': 'X'}"
      ]
     },
     "execution_count": 18,
     "metadata": {},
     "output_type": "execute_result"
    }
   ],
   "source": [
    "trans_labels_dict"
   ]
  },
  {
   "cell_type": "markdown",
   "id": "79a79fa4",
   "metadata": {
    "pycharm": {
     "name": "#%% md\n"
    }
   },
   "source": [
    "# train 데이터 준비하기"
   ]
  },
  {
   "cell_type": "code",
   "execution_count": 19,
   "id": "b8cae0cd",
   "metadata": {
    "pycharm": {
     "name": "#%%\n"
    }
   },
   "outputs": [
    {
     "data": {
      "text/html": [
       "<style>#sk-container-id-2 {color: black;background-color: white;}#sk-container-id-2 pre{padding: 0;}#sk-container-id-2 div.sk-toggleable {background-color: white;}#sk-container-id-2 label.sk-toggleable__label {cursor: pointer;display: block;width: 100%;margin-bottom: 0;padding: 0.3em;box-sizing: border-box;text-align: center;}#sk-container-id-2 label.sk-toggleable__label-arrow:before {content: \"▸\";float: left;margin-right: 0.25em;color: #696969;}#sk-container-id-2 label.sk-toggleable__label-arrow:hover:before {color: black;}#sk-container-id-2 div.sk-estimator:hover label.sk-toggleable__label-arrow:before {color: black;}#sk-container-id-2 div.sk-toggleable__content {max-height: 0;max-width: 0;overflow: hidden;text-align: left;background-color: #f0f8ff;}#sk-container-id-2 div.sk-toggleable__content pre {margin: 0.2em;color: black;border-radius: 0.25em;background-color: #f0f8ff;}#sk-container-id-2 input.sk-toggleable__control:checked~div.sk-toggleable__content {max-height: 200px;max-width: 100%;overflow: auto;}#sk-container-id-2 input.sk-toggleable__control:checked~label.sk-toggleable__label-arrow:before {content: \"▾\";}#sk-container-id-2 div.sk-estimator input.sk-toggleable__control:checked~label.sk-toggleable__label {background-color: #d4ebff;}#sk-container-id-2 div.sk-label input.sk-toggleable__control:checked~label.sk-toggleable__label {background-color: #d4ebff;}#sk-container-id-2 input.sk-hidden--visually {border: 0;clip: rect(1px 1px 1px 1px);clip: rect(1px, 1px, 1px, 1px);height: 1px;margin: -1px;overflow: hidden;padding: 0;position: absolute;width: 1px;}#sk-container-id-2 div.sk-estimator {font-family: monospace;background-color: #f0f8ff;border: 1px dotted black;border-radius: 0.25em;box-sizing: border-box;margin-bottom: 0.5em;}#sk-container-id-2 div.sk-estimator:hover {background-color: #d4ebff;}#sk-container-id-2 div.sk-parallel-item::after {content: \"\";width: 100%;border-bottom: 1px solid gray;flex-grow: 1;}#sk-container-id-2 div.sk-label:hover label.sk-toggleable__label {background-color: #d4ebff;}#sk-container-id-2 div.sk-serial::before {content: \"\";position: absolute;border-left: 1px solid gray;box-sizing: border-box;top: 0;bottom: 0;left: 50%;z-index: 0;}#sk-container-id-2 div.sk-serial {display: flex;flex-direction: column;align-items: center;background-color: white;padding-right: 0.2em;padding-left: 0.2em;position: relative;}#sk-container-id-2 div.sk-item {position: relative;z-index: 1;}#sk-container-id-2 div.sk-parallel {display: flex;align-items: stretch;justify-content: center;background-color: white;position: relative;}#sk-container-id-2 div.sk-item::before, #sk-container-id-2 div.sk-parallel-item::before {content: \"\";position: absolute;border-left: 1px solid gray;box-sizing: border-box;top: 0;bottom: 0;left: 50%;z-index: -1;}#sk-container-id-2 div.sk-parallel-item {display: flex;flex-direction: column;z-index: 1;position: relative;background-color: white;}#sk-container-id-2 div.sk-parallel-item:first-child::after {align-self: flex-end;width: 50%;}#sk-container-id-2 div.sk-parallel-item:last-child::after {align-self: flex-start;width: 50%;}#sk-container-id-2 div.sk-parallel-item:only-child::after {width: 0;}#sk-container-id-2 div.sk-dashed-wrapped {border: 1px dashed gray;margin: 0 0.4em 0.5em 0.4em;box-sizing: border-box;padding-bottom: 0.4em;background-color: white;}#sk-container-id-2 div.sk-label label {font-family: monospace;font-weight: bold;display: inline-block;line-height: 1.2em;}#sk-container-id-2 div.sk-label-container {text-align: center;}#sk-container-id-2 div.sk-container {/* jupyter's `normalize.less` sets `[hidden] { display: none; }` but bootstrap.min.css set `[hidden] { display: none !important; }` so we also need the `!important` here to be able to override the default hidden behavior on the sphinx rendered scikit-learn.org. See: https://github.com/scikit-learn/scikit-learn/issues/21755 */display: inline-block !important;position: relative;}#sk-container-id-2 div.sk-text-repr-fallback {display: none;}</style><div id=\"sk-container-id-2\" class=\"sk-top-container\"><div class=\"sk-text-repr-fallback\"><pre>LabelEncoder()</pre><b>In a Jupyter environment, please rerun this cell to show the HTML representation or trust the notebook. <br />On GitHub, the HTML representation is unable to render, please try loading this page with nbviewer.org.</b></div><div class=\"sk-container\" hidden><div class=\"sk-item\"><div class=\"sk-estimator sk-toggleable\"><input class=\"sk-toggleable__control sk-hidden--visually\" id=\"sk-estimator-id-2\" type=\"checkbox\" checked><label for=\"sk-estimator-id-2\" class=\"sk-toggleable__label sk-toggleable__label-arrow\">LabelEncoder</label><div class=\"sk-toggleable__content\"><pre>LabelEncoder()</pre></div></div></div></div></div>"
      ],
      "text/plain": [
       "LabelEncoder()"
      ]
     },
     "execution_count": 19,
     "metadata": {},
     "output_type": "execute_result"
    }
   ],
   "source": [
    "from sklearn import preprocessing\n",
    "trans_labels = list(set(trans_labels_dict.values()))\n",
    "le = preprocessing.LabelEncoder()\n",
    "le.fit(trans_labels)"
   ]
  },
  {
   "cell_type": "code",
   "execution_count": 20,
   "id": "249a164f",
   "metadata": {
    "pycharm": {
     "name": "#%%\n"
    }
   },
   "outputs": [
    {
     "data": {
      "text/plain": [
       "22"
      ]
     },
     "execution_count": 20,
     "metadata": {},
     "output_type": "execute_result"
    }
   ],
   "source": [
    "len(le.classes_)"
   ]
  },
  {
   "cell_type": "code",
   "execution_count": 21,
   "id": "ec1262f0",
   "metadata": {
    "pycharm": {
     "name": "#%%\n"
    }
   },
   "outputs": [
    {
     "data": {
      "text/plain": [
       "array([0])"
      ]
     },
     "execution_count": 21,
     "metadata": {},
     "output_type": "execute_result"
    }
   ],
   "source": [
    "le.transform([\"X\"])"
   ]
  },
  {
   "cell_type": "code",
   "execution_count": 22,
   "id": "69159848",
   "metadata": {
    "pycharm": {
     "name": "#%%\n"
    }
   },
   "outputs": [],
   "source": [
    "import re\n",
    "import pandas as pd\n",
    "from sklearn import preprocessing\n",
    "train_trans_label_list = []\n",
    "for data in train_pd[\"template\"]:\n",
    "    train_trans_label_list.append(trans_labels_dict[re.sub(\"[\\[\\]]\",\"\",data)])\n",
    "\n",
    "train_trans_label_list = le.transform(train_trans_label_list)\n",
    "\n",
    "train_path_list = []\n",
    "path = '../../dataset/somethingv2/video2/'\n",
    "for data in train_pd[\"id\"]:\n",
    "    train_path_list.append(path+data+\".mp4\")\n",
    "\n",
    "train_pd[\"path\"] = train_path_list\n",
    "train_pd[\"korean_label\"] = train_trans_label_list\n",
    "train_csv = train_pd.loc[train_pd[\"korean_label\"]!=0,[\"path\",\"korean_label\"]]\n",
    "train_csv.to_csv(\"./trainTestValData/train2.csv\",index=False,header=False)"
   ]
  },
  {
   "cell_type": "markdown",
   "id": "e8d7b35d",
   "metadata": {
    "pycharm": {
     "name": "#%% md\n"
    }
   },
   "source": [
    "# validation 데이터 준비하기"
   ]
  },
  {
   "cell_type": "code",
   "execution_count": 23,
   "id": "d7cd3a29",
   "metadata": {
    "pycharm": {
     "name": "#%%\n"
    }
   },
   "outputs": [],
   "source": [
    "import re\n",
    "import pandas as pd\n",
    "val_trans_label_list = []\n",
    "for data in validation_pd[\"template\"]:\n",
    "    val_trans_label_list.append(trans_labels_dict[re.sub(\"[\\[\\]]\",\"\",data)])\n",
    "\n",
    "val_trans_label_list = le.transform(val_trans_label_list)\n",
    "val_path_list = []\n",
    "path = '../../dataset/somethingv2/video2/'\n",
    "for data in validation_pd[\"id\"]:\n",
    "    val_path_list.append(path+data+\".mp4\")\n",
    "\n",
    "validation_pd[\"path\"] = val_path_list\n",
    "validation_pd[\"korean_label\"] = val_trans_label_list\n",
    "val_csv = validation_pd.loc[validation_pd[\"korean_label\"] != 0, [\"path\",\"korean_label\"]]\n",
    "val_csv.to_csv(\"./trainTestValData/val2.csv\",index=False,header=False)"
   ]
  },
  {
   "cell_type": "markdown",
   "id": "6aee2c42",
   "metadata": {
    "pycharm": {
     "name": "#%% md\n"
    }
   },
   "source": [
    "# test 데이터 준비하기"
   ]
  },
  {
   "cell_type": "code",
   "execution_count": 24,
   "id": "aeebdb8f",
   "metadata": {
    "pycharm": {
     "name": "#%%\n"
    }
   },
   "outputs": [],
   "source": [
    "import re\n",
    "import pandas as pd\n",
    "\n",
    "test_path_list = []\n",
    "path = '../../dataset/somethingv2/video2/'\n",
    "for data in test_pd[\"id\"]:\n",
    "    test_path_list.append(path+data+\".mp4\")\n",
    "\n",
    "test_trans_label_list = [trans_labels_dict[data] for data in test_answer_pd[\"label\"]]\n",
    "test_trans_label_list = le.transform(test_trans_label_list)\n",
    "test_pd[\"path\"] = test_path_list\n",
    "test_pd[\"korean_label\"] = test_trans_label_list\n",
    "test_csv = test_pd.loc[test_pd[\"korean_label\"]!= 0,[\"path\",\"korean_label\"]]\n",
    "test_csv.to_csv(\"./trainTestValData/test2.csv\",index=False,header=False)"
   ]
  },
  {
   "cell_type": "code",
   "execution_count": 25,
   "id": "43757c4a",
   "metadata": {
    "pycharm": {
     "name": "#%%\n"
    }
   },
   "outputs": [
    {
     "data": {
      "text/plain": [
       "4     19777\n",
       "19    15516\n",
       "16    13098\n",
       "12     8333\n",
       "3      8254\n",
       "8      7015\n",
       "20     6894\n",
       "10     5823\n",
       "7      4765\n",
       "14     4680\n",
       "5      3382\n",
       "21     3021\n",
       "9      2727\n",
       "18     2726\n",
       "11     2527\n",
       "17     2014\n",
       "6      1976\n",
       "2      1800\n",
       "13     1738\n",
       "15     1471\n",
       "1      1295\n",
       "Name: korean_label, dtype: int64"
      ]
     },
     "execution_count": 25,
     "metadata": {},
     "output_type": "execute_result"
    }
   ],
   "source": [
    "train_csv[\"korean_label\"].value_counts()"
   ]
  },
  {
   "cell_type": "code",
   "execution_count": 8,
   "id": "e80084ae",
   "metadata": {
    "pycharm": {
     "name": "#%%\n"
    }
   },
   "outputs": [],
   "source": [
    "import matplotlib.pyplot as plt\n",
    "import matplotlib as mpl\n",
    "\n",
    "# 유니코드 깨짐현상 해결\n",
    "mpl.rcParams['axes.unicode_minus'] = False\n",
    "\n",
    "# 나눔고딕 폰트 적용\n",
    "plt.rcParams[\"font.family\"] = 'NanumGothic'"
   ]
  },
  {
   "cell_type": "code",
   "execution_count": 9,
   "id": "415bb75c",
   "metadata": {
    "pycharm": {
     "name": "#%%\n"
    }
   },
   "outputs": [
    {
     "data": {
      "text/plain": [
       "<AxesSubplot:xlabel='count', ylabel='korean_label'>"
      ]
     },
     "execution_count": 9,
     "metadata": {},
     "output_type": "execute_result"
    },
    {
     "data": {
      "image/png": "[encoded data removed]",
      "text/plain": [
       "<Figure size 432x288 with 1 Axes>"
      ]
     },
     "metadata": {
      "needs_background": "light"
     },
     "output_type": "display_data"
    }
   ],
   "source": [
    "import seaborn as sns\n",
    "\n",
    "sns.countplot(y=\"korean_label\",data=train_pd,order = train_pd[\"korean_label\"].value_counts().index)"
   ]
  },
  {
   "cell_type": "code",
   "execution_count": 17,
   "id": "c82186bc",
   "metadata": {
    "pycharm": {
     "name": "#%%\n"
    }
   },
   "outputs": [
    {
     "data": {
      "text/plain": [
       "X        50081\n",
       "놓다       19777\n",
       "옮기다      15516\n",
       "밀다       13098\n",
       "들어올리다     8333\n",
       "넣다        8254\n",
       "던지다       7015\n",
       "잡고 있다     6894\n",
       "돌리다       5823\n",
       "당기다       4765\n",
       "떨어뜨리다     4680\n",
       "누르다       3382\n",
       "찢다        3021\n",
       "덮다        2727\n",
       "열다        2726\n",
       "들다        2527\n",
       "붓다        2014\n",
       "닫다        1976\n",
       "굴리다       1800\n",
       "때리다       1738\n",
       "만지다       1471\n",
       "구부리다      1295\n",
       "Name: korean_label, dtype: int64"
      ]
     },
     "execution_count": 17,
     "metadata": {},
     "output_type": "execute_result"
    }
   ],
   "source": [
    "train_pd[\"korean_label\"].value_counts()"
   ]
  },
  {
   "cell_type": "code",
   "execution_count": 18,
   "id": "2bc5f467",
   "metadata": {
    "pycharm": {
     "name": "#%%\n"
    }
   },
   "outputs": [],
   "source": [
    "import matplotlib.pyplot as plt\n",
    "import matplotlib as mpl\n",
    "\n",
    "# 유니코드 깨짐현상 해결\n",
    "mpl.rcParams['axes.unicode_minus'] = False\n",
    "\n",
    "# 나눔고딕 폰트 적용\n",
    "plt.rcParams[\"font.family\"] = 'NanumGothic'"
   ]
  },
  {
   "cell_type": "code",
   "execution_count": 19,
   "id": "358e7ebb",
   "metadata": {
    "pycharm": {
     "name": "#%%\n"
    }
   },
   "outputs": [
    {
     "data": {
      "text/plain": [
       "<AxesSubplot:xlabel='count', ylabel='korean_label'>"
      ]
     },
     "execution_count": 19,
     "metadata": {},
     "output_type": "execute_result"
    },
    {
     "data": {
      "image/png": "[encoded data removed]",
      "text/plain": [
       "<Figure size 432x288 with 1 Axes>"
      ]
     },
     "metadata": {
      "needs_background": "light"
     },
     "output_type": "display_data"
    }
   ],
   "source": [
    "import seaborn as sns\n",
    "\n",
    "sns.countplot(y=\"korean_label\",data=train_pd,order = train_pd[\"korean_label\"].value_counts().index)"
   ]
  },
  {
   "cell_type": "code",
   "execution_count": null,
   "id": "c331fde9",
   "metadata": {
    "pycharm": {
     "name": "#%%\n"
    }
   },
   "outputs": [],
   "source": [
    "!OUTPUT_DIR='./ssv2_videomae_pretrain_base_patch16_224_frame_16x2_tube_mask_ratio_0.9_e800/eval_lr_5e-4_epoch_50'\\\n",
    "DATA_PATH='./list_ssv2'\\\n",
    "MODEL_PATH='./ssv2_videomae_pretrain_base_patch16_224_frame_16x2_tube_mask_ratio_0.9_e800/checkpoint-799.pth'\\\n",
    "run_class_finetuning.py \\\n",
    "--model vit_base_patch16_224 \\\n",
    "--data_set SSV2 \\\n",
    "--nb_classes 174 \\\n",
    "--data_path ${DATA_PATH} \\\n",
    "--finetune ${MODEL_PATH} \\\n",
    "--log_dir ${OUTPUT_DIR} \\\n",
    "--output_dir ${OUTPUT_DIR} \\\n",
    "--batch_size 8 \\\n",
    "--num_sample 1 \\\n",
    "--input_size 224 \\\n",
    "--short_side_size 224 \\\n",
    "--save_ckpt_freq 10 \\\n",
    "--num_frames 16 \\\n",
    "--opt adamw \\\n",
    "--lr 5e-4 \\\n",
    "--opt_betas 0.9 0.999 \\\n",
    "--weight_decay 0.05 \\\n",
    "--epochs 50 \\\n",
    "--dist_eval \\\n",
    "--test_num_segment 2 \\\n",
    "--test_num_crop 3 \\\n",
    "--enable_deepspeed "
   ]
  }
 ],
 "metadata": {
  "kernelspec": {
   "display_name": "Python 3 (ipykernel)",
   "language": "python",
   "name": "python3"
  },
  "language_info": {
   "codemirror_mode": {
    "name": "ipython",
    "version": 3
   },
   "file_extension": ".py",
   "mimetype": "text/x-python",
   "name": "python",
   "nbconvert_exporter": "python",
   "pygments_lexer": "ipython3",
   "version": "3.8.5"
  }
 },
 "nbformat": 4,
 "nbformat_minor": 5
}
