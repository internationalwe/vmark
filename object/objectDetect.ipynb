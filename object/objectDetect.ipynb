{
 "cells": [
  {
   "cell_type": "markdown",
   "source": [
    "1. 총\n",
    "- roboflow pistols dataset : https://public.roboflow.com/object-detection/pistols/1 (Pistols.v1-resize-416x416.yolov5pytorch.zip)\n",
    "\n",
    "2. 계단\n",
    "- Staircase Dataset : https://data.mendeley.com/datasets/7m97gp4yz9/1 (7m97gp4yz9-1.zip)\n",
    "- Real-time stair detection : https://akshayk07.weebly.com/real-time-stair-detection.html (stairs_dataset.zip)\n",
    "3. 문\n",
    "- DoorDetect-Dataset : https://github.com/MiguelARD/DoorDetect-Dataset (DoorDetect-Dataset-master.zip) 1213\n",
    "-"
   ],
   "metadata": {
    "collapsed": false,
    "pycharm": {
     "name": "#%% md\n"
    }
   }
  },
  {
   "cell_type": "code",
   "execution_count": 9,
   "outputs": [],
   "source": [
    "# coco yolo 데이터셋 각 class별 인덱스 찾는 함수\n",
    "#\n",
    "def find_index(object):\n",
    "    A = ['비행기','사과','가방','바나나','야구 방망이','야구 글로브','곰','침대','벤치','자전거','새','배','책','병','그릇','브로콜리','버스','케익','자동차','당근','고양이','핸드폰','의자','시계','소','컵','식탁','개','도넛','코끼리','소화전','포크','프리스비','기린','헤어 드라이어','핸드백','말','핫도그','키보드','연','칼','노트북','전자레인지','오토바이','마우스','오랜지','오븐','주차요금 징수기','사람','피자','화분','냉장고','리모콘','샌드위치','가위','양','싱크대','스케이트보드','스키','스노우보드','소파','숟가락','공','정지표시','여행가방','서핑보드','테디베어','테니스 라켓','넥타이','토스트기','화장실','칫솔','신호등','기차','트럭','티비','우산','꽃병','와인잔','얼룩말']\n",
    "    try :\n",
    "        idx = A.index(object)\n",
    "        return idx\n",
    "    except:\n",
    "        print(object, \"없음\")\n",
    "        return -1"
   ],
   "metadata": {
    "collapsed": false,
    "pycharm": {
     "name": "#%%\n"
    }
   }
  },
  {
   "cell_type": "code",
   "execution_count": 10,
   "outputs": [
    {
     "name": "stdout",
     "output_type": "stream",
     "text": [
      "총 없음\n",
      "계단 없음\n",
      "문 없음\n"
     ]
    }
   ],
   "source": [
    "nonlabel_object = []\n",
    "\n",
    "object_list = ['티비',\n",
    "    '가방',\n",
    "    '개',\n",
    "    '냉장고',\n",
    "    '병',\n",
    "    '버스',\n",
    "    '소파',\n",
    "    '핸드폰',\n",
    "    '시계',\n",
    "    '오토바이',\n",
    "    '와인잔',\n",
    "    '의자',\n",
    "    '자동차',\n",
    "    '책',\n",
    "    '칼',\n",
    "    '컵',\n",
    "    '핸드백',\n",
    "    '사람',\n",
    "    '기차',\n",
    "    '비행기',\n",
    "    '침대',\n",
    "    '자전거',\n",
    "    '우산',\n",
    "    '고양이',\n",
    "    '총',\n",
    "    '계단',\n",
    "    '문'\n",
    "    ]\n",
    "for obj in object_list:\n",
    "    idx = find_index(obj)\n",
    "    if idx == -1:\n",
    "        nonlabel_object.append(obj)"
   ],
   "metadata": {
    "collapsed": false,
    "pycharm": {
     "name": "#%%\n"
    }
   }
  },
  {
   "cell_type": "code",
   "execution_count": 11,
   "outputs": [
    {
     "data": {
      "text/plain": "['총', '계단', '문']"
     },
     "execution_count": 11,
     "metadata": {},
     "output_type": "execute_result"
    }
   ],
   "source": [
    "nonlabel_object"
   ],
   "metadata": {
    "collapsed": false,
    "pycharm": {
     "name": "#%%\n"
    }
   }
  },
  {
   "cell_type": "code",
   "execution_count": 12,
   "outputs": [
    {
     "name": "stdout",
     "output_type": "stream",
     "text": [
      "총 없음\n",
      "계단 없음\n",
      "문 없음\n"
     ]
    }
   ],
   "source": [
    "from collections import defaultdict\n",
    "coco_indexTo_newIndex_dict = defaultdict(int)\n",
    "object_index_dict = defaultdict(int)\n",
    "for idx in range(len(object_list)):\n",
    "    object_index_dict[object_list[idx]] = idx\n",
    "    if find_index(object_list[idx]) != -1:\n",
    "        coco_indexTo_newIndex_dict[find_index(object_list[idx])] = idx\n",
    "\n",
    "# 지원하는 object리스트 중 coco dataset에 해당하는 인덱스 모음\n",
    "coco_index_list = list(coco_indexTo_newIndex_dict.keys())"
   ],
   "metadata": {
    "collapsed": false,
    "pycharm": {
     "name": "#%%\n"
    }
   }
  },
  {
   "cell_type": "code",
   "execution_count": 13,
   "outputs": [
    {
     "name": "stdout",
     "output_type": "stream",
     "text": [
      "defaultdict(<class 'int'>, {'티비': 0, '가방': 1, '개': 2, '냉장고': 3, '병': 4, '버스': 5, '소파': 6, '핸드폰': 7, '시계': 8, '오토바이': 9, '와인잔': 10, '의자': 11, '자동차': 12, '책': 13, '칼': 14, '컵': 15, '핸드백': 16, '사람': 17, '기차': 18, '비행기': 19, '침대': 20, '자전거': 21, '우산': 22, '고양이': 23, '총': 24, '계단': 25, '문': 26})\n",
      "defaultdict(<class 'int'>, {75: 0, 2: 1, 27: 2, 51: 3, 13: 4, 16: 5, 60: 6, 21: 7, 23: 8, 43: 9, 78: 10, 22: 11, 18: 12, 12: 13, 40: 14, 25: 15, 35: 16, 48: 17, 73: 18, 0: 19, 7: 20, 9: 21, 76: 22, 20: 23})\n"
     ]
    }
   ],
   "source": [
    "print(object_index_dict)\n",
    "print(coco_indexTo_newIndex_dict)"
   ],
   "metadata": {
    "collapsed": false,
    "pycharm": {
     "name": "#%%\n"
    }
   }
  },
  {
   "cell_type": "markdown",
   "source": [
    "## Train Dataset 전처리"
   ],
   "metadata": {
    "collapsed": false,
    "pycharm": {
     "name": "#%% md\n"
    }
   }
  },
  {
   "cell_type": "markdown",
   "source": [
    "### coco 데이터셋 전처리"
   ],
   "metadata": {
    "collapsed": false,
    "pycharm": {
     "name": "#%% md\n"
    }
   }
  },
  {
   "cell_type": "code",
   "execution_count": 6,
   "outputs": [],
   "source": [
    "import os\n",
    "# 원래 coco 데이터셋 라벨, 이미지 디렉토리 주소\n",
    "origianl_train_label_dir = \"../dataset/Microsoft COCO.v2-raw.yolov5pytorch/train/labels/\"\n",
    "original_train_image_dir = \"../dataset/Microsoft COCO.v2-raw.yolov5pytorch/train/images/\"\n",
    "\n",
    "# 전처리한 coco 데이터셋 라벨, 이미지 디렉토리 주소\n",
    "change_train_label_dir = \"../dataset/change_coco_dataset/train/labels/\"\n",
    "change_train_image_dir = \"../dataset/change_coco_dataset/train/images/\"\n",
    "\n",
    "coco_train_label_list = [name for name in os.listdir(origianl_train_label_dir)]"
   ],
   "metadata": {
    "collapsed": false,
    "pycharm": {
     "name": "#%%\n"
    }
   }
  },
  {
   "cell_type": "code",
   "execution_count": 7,
   "outputs": [],
   "source": [
    "import os, shutil\n",
    "for label_name in coco_train_label_list:\n",
    "    # .txt확장자를 갖고 있는 파일 이름을 .jpg확장자를 갖고 있는 파일이름으로 변경\n",
    "    image_name = os.path.splitext(label_name)[0] +\".jpg\"\n",
    "\n",
    "    #원래 라벨 및 이미지 파일 주소 변수\n",
    "    original_train_label_path = origianl_train_label_dir + label_name\n",
    "    original_train_image_path = original_train_image_dir + image_name\n",
    "\n",
    "    #전처리된 라벨 및 이미지 파일 주소 변수\n",
    "    change_train_label_path = change_train_label_dir + label_name\n",
    "    change_train_image_path = change_train_image_dir + image_name\n",
    "\n",
    "    with open(original_train_label_path,'r') as file:\n",
    "        # 파일에 쓸 문자열 저장 변수\n",
    "        new_string = []\n",
    "        # 지원하는 object가 있는 파일 인지 확인 하는 flag\n",
    "        exist_flag = False\n",
    "\n",
    "        # 지원하는 object class에 맞게 전처리\n",
    "        for line in file:\n",
    "            data = line.split()\n",
    "            # 지원하는 object가 있으면 new_string 추가\n",
    "            if int(data[0]) in coco_index_list:\n",
    "                # coco dataset의 index를 지원하는 object의 순서에 맞게 index 변경\n",
    "                data[0] = str(coco_indexTo_newIndex_dict[int(data[0])])\n",
    "                new_string.append(\" \".join(data))\n",
    "                # 지원하는 object가 라벨파일에 있으면 flag를 true로 변경\n",
    "                exist_flag = True\n",
    "        # 지원하는 object가 있으면 전처리된 라벨 데이터 파일에 쓰고 해당하는 이미지 복사\n",
    "        if exist_flag == True:\n",
    "            with open(change_train_label_path,'w') as change_file:\n",
    "                change_file.write(\"\\n\".join(new_string))\n",
    "            shutil.copy(original_train_image_path, change_train_image_path)"
   ],
   "metadata": {
    "collapsed": false,
    "pycharm": {
     "name": "#%%\n"
    }
   }
  },
  {
   "cell_type": "markdown",
   "source": [
    "### 문 데이터 전처리"
   ],
   "metadata": {
    "collapsed": false,
    "pycharm": {
     "name": "#%% md\n"
    }
   }
  },
  {
   "cell_type": "code",
   "execution_count": 16,
   "outputs": [],
   "source": [
    "# 일부분 오류 데이터 삭제했음\n",
    "\n",
    "import os\n",
    "# 원래 coco 데이터셋 라벨, 이미지 디렉토리 주소\n",
    "door1_origianl_train_label_dir = \"../dataset/DoorDetect-Dataset-master/labels/\"\n",
    "door1_original_train_image_dir = \"../dataset/DoorDetect-Dataset-master/images/\"\n",
    "\n",
    "# 전처리한 coco 데이터셋 라벨, 이미지 디렉토리 주소\n",
    "door1_change_train_label_dir = \"../dataset/change_door_dataset/train/labels/\"\n",
    "door1_change_train_image_dir = \"../dataset/change_door_dataset/train/images/\"\n",
    "\n",
    "door1_train_label_list = [name for name in os.listdir(door1_origianl_train_label_dir)]"
   ],
   "metadata": {
    "collapsed": false,
    "pycharm": {
     "name": "#%%\n"
    }
   }
  },
  {
   "cell_type": "code",
   "execution_count": 17,
   "outputs": [],
   "source": [
    "import os, shutil\n",
    "for label_name in door1_train_label_list:\n",
    "    if len(label_name) >=110:\n",
    "        continue\n",
    "\n",
    "    # .txt확장자를 갖고 있는 파일 이름을 .jpg확장자를 갖고 있는 파일이름으로 변경\n",
    "    image_name = os.path.splitext(label_name)[0] +\".jpg\"\n",
    "\n",
    "    #원래 라벨 및 이미지 파일 주소 변수\n",
    "    original_train_label_path = door1_origianl_train_label_dir + label_name\n",
    "    original_train_image_path = door1_original_train_image_dir + image_name\n",
    "\n",
    "    #전처리된 라벨 및 이미지 파일 주소 변수\n",
    "    change_train_label_path = door1_change_train_label_dir + label_name\n",
    "    change_train_image_path = door1_change_train_image_dir + image_name\n",
    "\n",
    "    with open(original_train_label_path,'r') as file:\n",
    "        # 파일에 쓸 문자열 저장 변수\n",
    "        new_string = []\n",
    "        # 지원하는 object가 있는 파일 인지 확인 하는 flag\n",
    "        exist_flag = False\n",
    "\n",
    "        # 지원하는 object class에 맞게 전처리\n",
    "        for line in file:\n",
    "            data = line.split()\n",
    "            # 문에 해당하는 id로 class 인덱스\n",
    "            if data[0] == \"0\" or data[0] == \"2\" or data[0] == \"3\":\n",
    "                data[0] = str(26)\n",
    "                new_string.append(\" \".join(data))\n",
    "                # 지원하는 object가 라벨파일에 있으면 flag를 true로 변경\n",
    "                exist_flag = True\n",
    "        # 지원하는 object가 있으면 전처리된 라벨 데이터 파일에 쓰고 해당하는 이미지 복사\n",
    "        if exist_flag == True:\n",
    "            with open(change_train_label_path,'w') as change_file:\n",
    "                change_file.write(\"\\n\".join(new_string))\n",
    "            shutil.copy(original_train_image_path, change_train_image_path)"
   ],
   "metadata": {
    "collapsed": false,
    "pycharm": {
     "name": "#%%\n"
    }
   }
  },
  {
   "cell_type": "code",
   "execution_count": 37,
   "outputs": [],
   "source": [
    "import numpy as np\n",
    "from sklearn.model_selection import train_test_split\n",
    "import os\n",
    "# 이미지,라벨 데이터 이름 정렬\n",
    "image_list = sorted([_ for _ in os.listdir(door1_change_train_image_dir)])\n",
    "label_list = sorted([_ for _ in os.listdir(door1_change_train_label_dir)])\n",
    "# train, test로 나누기\n",
    "train_names, valid_names = train_test_split(image_list, test_size=0.2, random_state=42, shuffle=True)\n",
    "trainLabels_names, validLabels_names = train_test_split(label_list, test_size=0.2, random_state=42, shuffle=True)"
   ],
   "metadata": {
    "collapsed": false,
    "pycharm": {
     "name": "#%%\n"
    }
   }
  },
  {
   "cell_type": "code",
   "execution_count": 38,
   "outputs": [],
   "source": [
    "# train 이미지랑 라벨 같은지 확인\n",
    "for image, label in zip(train_names,trainLabels_names):\n",
    "  if image[:-4] != label[:-4]:\n",
    "    print(image,label)"
   ],
   "metadata": {
    "collapsed": false,
    "pycharm": {
     "name": "#%%\n"
    }
   }
  },
  {
   "cell_type": "code",
   "execution_count": 39,
   "outputs": [],
   "source": [
    "# train 이미지랑 라벨 같은지 확인\n",
    "for image, label in zip(valid_names,validLabels_names):\n",
    "  if image[:-4] != label[:-4]:\n",
    "    print(image,label)"
   ],
   "metadata": {
    "collapsed": false,
    "pycharm": {
     "name": "#%%\n"
    }
   }
  },
  {
   "cell_type": "code",
   "execution_count": 40,
   "outputs": [],
   "source": [
    "import shutil\n",
    "for image, label in zip(train_names,trainLabels_names):\n",
    "  shutil.move(door1_change_train_image_dir+image,\"../dataset/change_door_dataset/valid/images/\")\n",
    "  shutil.move(door1_change_train_label_dir+label,\"../dataset/change_door_dataset/valid/labels/\")"
   ],
   "metadata": {
    "collapsed": false,
    "pycharm": {
     "name": "#%%\n"
    }
   }
  },
  {
   "cell_type": "markdown",
   "source": [
    "### 총 데이터셋 전처리"
   ],
   "metadata": {
    "collapsed": false,
    "pycharm": {
     "name": "#%% md\n"
    }
   }
  },
  {
   "cell_type": "code",
   "execution_count": 20,
   "outputs": [],
   "source": [
    "import os\n",
    "# 원래 coco 데이터셋 라벨, 이미지 디렉토리 주소\n",
    "gun1_origianl_train_label_dir = \"../dataset/Pistols.v1-resize-416x416.yolov5pytorch/export/labels/\"\n",
    "gun1_original_train_image_dir = \"../dataset/Pistols.v1-resize-416x416.yolov5pytorch/export/images/\"\n",
    "\n",
    "# 전처리한 coco 데이터셋 라벨, 이미지 디렉토리 주소\n",
    "gun1_change_train_label_dir = \"../dataset/change_gun_dataset/train/labels/\"\n",
    "gun1_change_train_image_dir = \"../dataset/change_gun_dataset/train/images/\"\n",
    "\n",
    "gun1_train_label_list = [name for name in os.listdir(gun1_origianl_train_label_dir)]"
   ],
   "metadata": {
    "collapsed": false,
    "pycharm": {
     "name": "#%%\n"
    }
   }
  },
  {
   "cell_type": "code",
   "execution_count": 23,
   "outputs": [],
   "source": [
    "import os, shutil\n",
    "for label_name in gun1_train_label_list:\n",
    "\n",
    "    # .txt확장자를 갖고 있는 파일 이름을 .jpg확장자를 갖고 있는 파일이름으로 변경\n",
    "    image_name = os.path.splitext(label_name)[0] +\".jpg\"\n",
    "\n",
    "    #원래 라벨 및 이미지 파일 주소 변수\n",
    "    original_train_label_path = gun1_origianl_train_label_dir + label_name\n",
    "    original_train_image_path = gun1_original_train_image_dir + image_name\n",
    "\n",
    "    #전처리된 라벨 및 이미지 파일 주소 변수\n",
    "    change_train_label_path = gun1_change_train_label_dir + label_name\n",
    "    change_train_image_path = gun1_change_train_image_dir + image_name\n",
    "\n",
    "    with open(original_train_label_path,'r') as file:\n",
    "        # 파일에 쓸 문자열 저장 변수\n",
    "        new_string = []\n",
    "        # 지원하는 object가 있는 파일 인지 확인 하는 flag\n",
    "        exist_flag = False\n",
    "\n",
    "        # 지원하는 object class에 맞게 전처리\n",
    "        for line in file:\n",
    "            data = line.split()\n",
    "            # 문에 해당하는 id로 class 인덱스\n",
    "            if data[0] == \"0\":\n",
    "                data[0] = str(24)\n",
    "                new_string.append(\" \".join(data))\n",
    "                # 지원하는 object가 라벨파일에 있으면 flag를 true로 변경\n",
    "                exist_flag = True\n",
    "        # 지원하는 object가 있으면 전처리된 라벨 데이터 파일에 쓰고 해당하는 이미지 복사\n",
    "        if exist_flag == True:\n",
    "            with open(change_train_label_path,'w') as change_file:\n",
    "                change_file.write(\"\\n\".join(new_string))\n",
    "            shutil.copy(original_train_image_path, change_train_image_path)\n"
   ],
   "metadata": {
    "collapsed": false,
    "pycharm": {
     "name": "#%%\n"
    }
   }
  },
  {
   "cell_type": "code",
   "execution_count": 41,
   "outputs": [],
   "source": [
    "import numpy as np\n",
    "from sklearn.model_selection import train_test_split\n",
    "import os\n",
    "\n",
    "# 이미지,라벨 데이터 이름 정렬\n",
    "image_list = sorted([_ for _ in os.listdir(gun1_change_train_image_dir)])\n",
    "label_list = sorted([_ for _ in os.listdir(gun1_change_train_label_dir)])\n",
    "# train, test로 나누기\n",
    "train_names, valid_names = train_test_split(image_list, test_size=0.2, random_state=42, shuffle=True)\n",
    "trainLabels_names, validLabels_names = train_test_split(label_list, test_size=0.2, random_state=42, shuffle=True)"
   ],
   "metadata": {
    "collapsed": false,
    "pycharm": {
     "name": "#%%\n"
    }
   }
  },
  {
   "cell_type": "code",
   "execution_count": 42,
   "outputs": [],
   "source": [
    "# train 이미지랑 라벨 같은지 확인\n",
    "for image, label in zip(train_names,trainLabels_names):\n",
    "  if image[:-4] != label[:-4]:\n",
    "    print(image,label)"
   ],
   "metadata": {
    "collapsed": false,
    "pycharm": {
     "name": "#%%\n"
    }
   }
  },
  {
   "cell_type": "code",
   "execution_count": 43,
   "outputs": [],
   "source": [
    "# train 이미지랑 라벨 같은지 확인\n",
    "for image, label in zip(valid_names,validLabels_names):\n",
    "  if image[:-4] != label[:-4]:\n",
    "    print(image,label)"
   ],
   "metadata": {
    "collapsed": false,
    "pycharm": {
     "name": "#%%\n"
    }
   }
  },
  {
   "cell_type": "code",
   "execution_count": 44,
   "outputs": [],
   "source": [
    "import shutil\n",
    "for image, label in zip(train_names,trainLabels_names):\n",
    "  shutil.move(gun1_change_train_image_dir+image,\"../dataset/change_gun_dataset/valid/images/\")\n",
    "  shutil.move(gun1_change_train_label_dir+label,\"../dataset/change_gun_dataset/valid/labels/\")"
   ],
   "metadata": {
    "collapsed": false,
    "pycharm": {
     "name": "#%%\n"
    }
   }
  },
  {
   "cell_type": "markdown",
   "source": [
    "### 계단 데이터셋 전처리1"
   ],
   "metadata": {
    "collapsed": false,
    "pycharm": {
     "name": "#%% md\n"
    }
   }
  },
  {
   "cell_type": "code",
   "execution_count": 29,
   "outputs": [],
   "source": [
    "import os\n",
    "# 원래 coco 데이터셋 라벨, 이미지 디렉토리 주소\n",
    "stair1_origianl_train_label_dir = \"../dataset/stairs_dataset/train/\"\n",
    "stair1_original_train_image_dir = \"../dataset/stairs_dataset/train/\"\n",
    "\n",
    "# 전처리한 coco 데이터셋 라벨, 이미지 디렉토리 주소\n",
    "stair1_change_train_label_dir = \"../dataset/change_stair1_dataset/train/labels/\"\n",
    "stair1_change_train_image_dir = \"../dataset/change_stair1_dataset/train/images/\"\n",
    "\n",
    "stair1_train_label_list = [name for name in os.listdir(stair1_origianl_train_label_dir) if name.split(\".\")[-1] == \"txt\"]"
   ],
   "metadata": {
    "collapsed": false,
    "pycharm": {
     "name": "#%%\n"
    }
   }
  },
  {
   "cell_type": "code",
   "execution_count": 30,
   "outputs": [],
   "source": [
    "import os, shutil\n",
    "for label_name in stair1_train_label_list:\n",
    "\n",
    "    # .txt확장자를 갖고 있는 파일 이름을 .jpg확장자를 갖고 있는 파일이름으로 변경\n",
    "    image_name = os.path.splitext(label_name)[0] +\".jpg\"\n",
    "\n",
    "    #원래 라벨 및 이미지 파일 주소 변수\n",
    "    original_train_label_path = stair1_origianl_train_label_dir + label_name\n",
    "    original_train_image_path = stair1_original_train_image_dir + image_name\n",
    "\n",
    "    #전처리된 라벨 및 이미지 파일 주소 변수\n",
    "    change_train_label_path = stair1_change_train_label_dir + label_name\n",
    "    change_train_image_path = stair1_change_train_image_dir + image_name\n",
    "\n",
    "    with open(original_train_label_path,'r') as file:\n",
    "        # 파일에 쓸 문자열 저장 변수\n",
    "        new_string = []\n",
    "        # 지원하는 object가 있는 파일 인지 확인 하는 flag\n",
    "        exist_flag = False\n",
    "\n",
    "        # 지원하는 object class에 맞게 전처리\n",
    "        for line in file:\n",
    "            data = line.split()\n",
    "            # 문에 해당하는 id로 class 인덱스\n",
    "            if data[0] == \"0\":\n",
    "                data[0] = str(25)\n",
    "                new_string.append(\" \".join(data))\n",
    "                # 지원하는 object가 라벨파일에 있으면 flag를 true로 변경\n",
    "                exist_flag = True\n",
    "        # 지원하는 object가 있으면 전처리된 라벨 데이터 파일에 쓰고 해당하는 이미지 복사\n",
    "        if exist_flag == True:\n",
    "            with open(change_train_label_path,'w') as change_file:\n",
    "                change_file.write(\"\\n\".join(new_string))\n",
    "            shutil.copy(original_train_image_path, change_train_image_path)\n"
   ],
   "metadata": {
    "collapsed": false,
    "pycharm": {
     "name": "#%%\n"
    }
   }
  },
  {
   "cell_type": "code",
   "execution_count": 45,
   "outputs": [],
   "source": [
    "import numpy as np\n",
    "from sklearn.model_selection import train_test_split\n",
    "import os\n",
    "\n",
    "# 이미지,라벨 데이터 이름 정렬\n",
    "image_list = sorted([_ for _ in os.listdir(stair1_change_train_image_dir)])\n",
    "label_list = sorted([_ for _ in os.listdir(stair1_change_train_label_dir)])\n",
    "# train, test로 나누기\n",
    "train_names, valid_names = train_test_split(image_list, test_size=0.2, random_state=42, shuffle=True)\n",
    "trainLabels_names, validLabels_names = train_test_split(label_list, test_size=0.2, random_state=42, shuffle=True)"
   ],
   "metadata": {
    "collapsed": false,
    "pycharm": {
     "name": "#%%\n"
    }
   }
  },
  {
   "cell_type": "code",
   "execution_count": 46,
   "outputs": [],
   "source": [
    "# train 이미지랑 라벨 같은지 확인\n",
    "for image, label in zip(train_names,trainLabels_names):\n",
    "  if image[:-4] != label[:-4]:\n",
    "    print(image,label)"
   ],
   "metadata": {
    "collapsed": false,
    "pycharm": {
     "name": "#%%\n"
    }
   }
  },
  {
   "cell_type": "code",
   "execution_count": 47,
   "outputs": [],
   "source": [
    "# train 이미지랑 라벨 같은지 확인\n",
    "for image, label in zip(valid_names,validLabels_names):\n",
    "  if image[:-4] != label[:-4]:\n",
    "    print(image,label)"
   ],
   "metadata": {
    "collapsed": false,
    "pycharm": {
     "name": "#%%\n"
    }
   }
  },
  {
   "cell_type": "code",
   "execution_count": 48,
   "outputs": [],
   "source": [
    "import shutil\n",
    "for image, label in zip(train_names,trainLabels_names):\n",
    "  shutil.move(stair1_change_train_image_dir+image,\"../dataset/change_stair1_dataset/valid/images/\")\n",
    "  shutil.move(stair1_change_train_label_dir+label,\"../dataset/change_stair1_dataset/valid/labels/\")"
   ],
   "metadata": {
    "collapsed": false,
    "pycharm": {
     "name": "#%%\n"
    }
   }
  },
  {
   "cell_type": "markdown",
   "source": [
    "### 계단 데이터셋 전처리2"
   ],
   "metadata": {
    "collapsed": false,
    "pycharm": {
     "name": "#%% md\n"
    }
   }
  },
  {
   "cell_type": "code",
   "execution_count": null,
   "outputs": [],
   "source": [],
   "metadata": {
    "collapsed": false,
    "pycharm": {
     "name": "#%%\n"
    }
   }
  },
  {
   "cell_type": "code",
   "execution_count": null,
   "outputs": [],
   "source": [],
   "metadata": {
    "collapsed": false,
    "pycharm": {
     "name": "#%%\n"
    }
   }
  },
  {
   "cell_type": "markdown",
   "source": [
    "## Valid 데이터셋 전처리"
   ],
   "metadata": {
    "collapsed": false,
    "pycharm": {
     "name": "#%% md\n"
    }
   }
  },
  {
   "cell_type": "code",
   "execution_count": 14,
   "outputs": [],
   "source": [
    "import os\n",
    "# 원래 coco 데이터셋 라벨, 이미지 디렉토리 주소\n",
    "origianl_valid_label_dir = \"../dataset/Microsoft COCO.v2-raw.yolov5pytorch/valid/labels/\"\n",
    "original_valid_image_dir = \"../dataset/Microsoft COCO.v2-raw.yolov5pytorch/valid/images/\"\n",
    "\n",
    "# 전처리한 coco 데이터셋 라벨, 이미지 디렉토리 주소\n",
    "change_valid_label_dir = \"../dataset/change_coco_dataset/valid/labels/\"\n",
    "change_valid_image_dir = \"../dataset/change_coco_dataset/valid/images/\"\n",
    "\n",
    "coco_valid_label_list = [path for path in os.listdir(origianl_valid_label_dir)]"
   ],
   "metadata": {
    "collapsed": false,
    "pycharm": {
     "name": "#%%\n"
    }
   }
  },
  {
   "cell_type": "code",
   "execution_count": 15,
   "outputs": [],
   "source": [
    "import os, shutil\n",
    "for label_name in coco_valid_label_list:\n",
    "    # .txt확장자를 갖고 있는 파일 이름을 .jpg확장자를 갖고 있는 파일이름으로 변경\n",
    "    image_name = os.path.splitext(label_name)[0] +\".jpg\"\n",
    "\n",
    "    #원래 라벨 및 이미지 파일 주소 변수\n",
    "    original_valid_label_path = origianl_valid_label_dir + label_name\n",
    "    original_valid_image_path = original_valid_image_dir + image_name\n",
    "\n",
    "    #전처리된 라벨 및 이미지 파일 주소 변수\n",
    "    change_valid_label_path = change_valid_label_dir + label_name\n",
    "    change_valid_image_path = change_valid_image_dir + image_name\n",
    "\n",
    "    with open(original_valid_label_path,'r') as file:\n",
    "        # 파일에 쓸 문자열 저장 변수\n",
    "        new_string = []\n",
    "        # 지원하는 object가 있는 파일 인지 확인 하는 flag\n",
    "        exist_flag = False\n",
    "\n",
    "        # 지원하는 object class에 맞게 전처리\n",
    "        for line in file:\n",
    "            data = line.split()\n",
    "            # 지원하는 object가 있으면 new_string 추가\n",
    "            if int(data[0]) in coco_index_list:\n",
    "                # coco dataset의 index를 지원하는 object의 순서에 맞게 index 변경\n",
    "                data[0] = str(coco_indexTo_newIndex_dict[int(data[0])])\n",
    "                new_string.append(\" \".join(data))\n",
    "                # 지원하는 object가 라벨파일에 있으면 flag를 true로 변경\n",
    "                exist_flag = True\n",
    "        # 지원하는 object가 있으면 전처리된 라벨 데이터 파일에 쓰고 해당하는 이미지 복사\n",
    "        if exist_flag == True:\n",
    "            with open(change_valid_label_path,'w') as change_file:\n",
    "                change_file.write(\"\\n\".join(new_string))\n",
    "            shutil.copy(original_valid_image_path, change_valid_image_path)"
   ],
   "metadata": {
    "collapsed": false,
    "pycharm": {
     "name": "#%%\n"
    }
   }
  },
  {
   "cell_type": "code",
   "execution_count": null,
   "outputs": [],
   "source": [],
   "metadata": {
    "collapsed": false,
    "pycharm": {
     "name": "#%%\n"
    }
   }
  },
  {
   "cell_type": "code",
   "execution_count": null,
   "outputs": [],
   "source": [
    "# Yolov5 github 레포지토리 clone\n",
    "!git clone https://github.com/ultralytics/yolov5.git"
   ],
   "metadata": {
    "collapsed": false,
    "pycharm": {
     "name": "#%%\n"
    }
   }
  },
  {
   "cell_type": "code",
   "execution_count": 10,
   "outputs": [
    {
     "name": "stdout",
     "output_type": "stream",
     "text": [
      "C:\\Users\\tlsgh\\PycharmProjects\\ObjectDetect\\code\\yolov5-master\n"
     ]
    }
   ],
   "source": [
    "%cd yolov5-master"
   ],
   "metadata": {
    "collapsed": false,
    "pycharm": {
     "name": "#%%\n"
    }
   }
  },
  {
   "cell_type": "code",
   "execution_count": null,
   "outputs": [],
   "source": [
    "# 필요한 모듈 설치\n",
    "!pip install -U -r requirements.txt\n"
   ],
   "metadata": {
    "collapsed": false,
    "pycharm": {
     "name": "#%%\n",
     "is_executing": true
    }
   }
  },
  {
   "cell_type": "code",
   "execution_count": null,
   "outputs": [],
   "source": [
    "!conda install pytorch torchvision torchaudio cudatoolkit=11.3 -c pytorch"
   ],
   "metadata": {
    "collapsed": false,
    "pycharm": {
     "name": "#%%\n"
    }
   }
  },
  {
   "cell_type": "code",
   "execution_count": 19,
   "outputs": [
    {
     "data": {
      "text/plain": "False"
     },
     "execution_count": 19,
     "metadata": {},
     "output_type": "execute_result"
    }
   ],
   "source": [
    "import torch\n",
    "torch.cuda.is_available()"
   ],
   "metadata": {
    "collapsed": false,
    "pycharm": {
     "name": "#%%\n"
    }
   }
  },
  {
   "cell_type": "code",
   "execution_count": 17,
   "outputs": [
    {
     "name": "stdout",
     "output_type": "stream",
     "text": [
      "^C\n"
     ]
    }
   ],
   "source": [
    "# 훈련시키기\n",
    "!python ./train.py --data \"./data.yaml\" --img 128 --epochs 100"
   ],
   "metadata": {
    "collapsed": false,
    "pycharm": {
     "name": "#%%\n"
    }
   }
  },
  {
   "cell_type": "code",
   "execution_count": null,
   "outputs": [],
   "source": [],
   "metadata": {
    "collapsed": false,
    "pycharm": {
     "name": "#%%\n"
    }
   }
  }
 ],
 "metadata": {
  "kernelspec": {
   "display_name": "Python 3",
   "language": "python",
   "name": "python3"
  },
  "language_info": {
   "codemirror_mode": {
    "name": "ipython",
    "version": 2
   },
   "file_extension": ".py",
   "mimetype": "text/x-python",
   "name": "python",
   "nbconvert_exporter": "python",
   "pygments_lexer": "ipython2",
   "version": "2.7.6"
  }
 },
 "nbformat": 4,
 "nbformat_minor": 0
}