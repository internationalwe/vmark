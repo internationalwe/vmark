{
 "cells": [
  {
   "cell_type": "markdown",
   "metadata": {},
   "source": [
    "## 파일 불러오기"
   ]
  },
  {
   "cell_type": "code",
   "execution_count": null,
   "metadata": {},
   "outputs": [],
   "source": [
    "from scipy.io import wavfile\n",
    "import numpy as np\n",
    "\n",
    "train_audio_path = 'data/train/audio/'\n",
    "filename = 'yes/0a7c2a8d_nohash_0.wav'\n",
    "sample_rate, samples = wavfile.read(train_audio_path + filename)\n",
    "print('sample rate : {}, samples.shape : {}'.format(sample_rate, samples.shape))"
   ]
  },
  {
   "cell_type": "markdown",
   "metadata": {},
   "source": [
    "## 로그 스팩트럼 변환"
   ]
  },
  {
   "cell_type": "code",
   "execution_count": 5,
   "metadata": {},
   "outputs": [
    {
     "ename": "SyntaxError",
     "evalue": "invalid non-printable character U+200B (Temp/ipykernel_10588/1637968178.py, line 3)",
     "output_type": "error",
     "traceback": [
      "\u001b[1;36m  File \u001b[1;32m\"C:\\Users\\jcc96\\AppData\\Local\\Temp/ipykernel_10588/1637968178.py\"\u001b[1;36m, line \u001b[1;32m3\u001b[0m\n\u001b[1;33m    ​\u001b[0m\n\u001b[1;37m    ^\u001b[0m\n\u001b[1;31mSyntaxError\u001b[0m\u001b[1;31m:\u001b[0m invalid non-printable character U+200B\n"
     ]
    }
   ],
   "source": [
    "from scipy import signal\n",
    "\n",
    "def log_specgram(audio, sample_rate, window_size=20, step_size=10, eps=1e-10):\n",
    "    # nperseg: Length of each segment\n",
    "    # noverlap: Number of points to overlap between segments\n",
    "    nperseg = int(round(window_size * sample_rate / 1e3))\n",
    "    noverlap = int(round(step_size * sample_rate / 1e3))\n",
    "    freqs, times, spec = signal.spectrogram(audio, fs=sample_rate,\n",
    "                                            window='hann', nperseg=nperseg,\n",
    "                                            noverlap=noverlap, detrend=False)\n",
    "    return freqs, times, np.log(spec.T.astype(np.float32) + eps)"
   ]
  },
  {
   "cell_type": "markdown",
   "metadata": {},
   "source": [
    "## 앰플리튜드 스팩트로그램 플롯 그리기"
   ]
  },
  {
   "cell_type": "code",
   "execution_count": null,
   "metadata": {},
   "outputs": [],
   "source": [
    "import matplotlib.pyplot as plt\n",
    "\n",
    "freqs, times, spectrogram = log_specgram(samples, sample_rate)\n",
    "\n",
    "fig = plt.figure(figsize=(14, 8))\n",
    "ax1 = fig.add_subplot(211)\n",
    "ax1.set_title('Raw wave of ' + filename)\n",
    "ax1.set_ylabel('Amplitude')\n",
    "ax1.plot(np.linspace(0, sample_rate/len(samples), sample_rate), samples)\n",
    "\n",
    "ax2 = fig.add_subplot(212)\n",
    "ax2.imshow(spectrogram.T, aspect='auto', origin='lower',\n",
    "           extent=[times.min(), times.max(), freqs.min(), freqs.max()])\n",
    "ax2.set_yticks(freqs[::16])\n",
    "ax2.set_xticks(times[::16])\n",
    "ax2.set_title('Spectrogram of ' + filename)\n",
    "ax2.set_ylabel('Freqs in Hz')\n",
    "ax2.set_xlabel('Seconds')"
   ]
  },
  {
   "cell_type": "markdown",
   "metadata": {},
   "source": [
    "## 정규분포로 노멀리 제이션"
   ]
  },
  {
   "cell_type": "code",
   "execution_count": null,
   "metadata": {},
   "outputs": [],
   "source": [
    "\n",
    "\n",
    "mean = np.mean(spectrogram, axis=0)\n",
    "std = np.std(spectrogram, axis=0)\n",
    "spectrogram = (spectrogram - mean) / std\n",
    "spectrogram.shape"
   ]
  },
  {
   "cell_type": "markdown",
   "metadata": {},
   "source": [
    "## 사운드가 인식되지 않은곳 확인"
   ]
  },
  {
   "cell_type": "code",
   "execution_count": null,
   "metadata": {},
   "outputs": [],
   "source": [
    "import IPython.display as ipd\n",
    "import webrtcvad\n",
    "vad = webrtcvad.Vad()\n",
    "# 1~3 까지 설정 가능, 높을수록 aggressive\n",
    "vad.set_mode(3)\n",
    "\n",
    "class Frame(object):\n",
    "    \"\"\"Represents a \"frame\" of audio data.\"\"\"\n",
    "    def __init__(self, bytes, timestamp, duration):\n",
    "        self.bytes = bytes\n",
    "        self.timestamp = timestamp\n",
    "        self.duration = duration\n",
    "\n",
    "def frame_generator(frame_duration_ms, audio, sample_rate):\n",
    "    frames = []\n",
    "    n = int(sample_rate * (frame_duration_ms / 1000.0) * 2)\n",
    "    offset = 0\n",
    "    timestamp = 0.0\n",
    "    duration = (float(n) / sample_rate) / 2.0\n",
    "    while offset + n < len(audio):\n",
    "        frames.append(Frame(audio[offset:offset + n], timestamp, duration))\n",
    "        timestamp += duration\n",
    "        offset += n\n",
    "    \n",
    "    return frames\n",
    "\n",
    "# 10, 20, or 30\n",
    "frame_duration_ms = 10 # ms\n",
    "frames = frame_generator(frame_duration, samples, sample_rate)\n",
    "for i, frame in enumerate(frames):\n",
    "    if not vad.is_speech(frame.bytes, sample_rate):\n",
    "        print(i, end=' ')"
   ]
  },
  {
   "cell_type": "markdown",
   "metadata": {},
   "source": [
    "## 자동으로 사운드 파일 내 Silence 를 자르기"
   ]
  },
  {
   "cell_type": "code",
   "execution_count": null,
   "metadata": {},
   "outputs": [],
   "source": [
    "\n",
    "\n",
    "def auto_vad(vad, samples, sample_rate, frame_duration_ms = 10):\n",
    "    not_speech = []\n",
    "    frames = frame_generator(frame_duration_ms, samples, sample_rate)\n",
    "    n_frame = len(frames)\n",
    "    for idx, frame in enumerate(frames):\n",
    "        if not vad.is_speech(frame.bytes, sample_rate):\n",
    "            not_speech.append(idx)\n",
    "    prior = 0\n",
    "    cutted_samples = []\n",
    "    for i in not_speech:\n",
    "        if i - prior > 2:\n",
    "            start = int((float(prior) / n_frame) * sample_rate)\n",
    "            end = int((float(i) / n_frame) * sample_rate)\n",
    "            print(start, end)\n",
    "            if len(cutted_samples) == 0:\n",
    "                cutted_samples = samples[start:end]\n",
    "            else:\n",
    "                cutted_samples = np.append(cutted_samples, samples[start:end])\n",
    "        prior = i\n",
    "    return cutted_samples"
   ]
  },
  {
   "cell_type": "code",
   "execution_count": null,
   "metadata": {},
   "outputs": [],
   "source": [
    "cutted_samples = auto_vad(vad, samples, sample_rate, 10)\n",
    "ipd.Audio(cutted_samples, rate=sample_rate)"
   ]
  },
  {
   "cell_type": "markdown",
   "metadata": {},
   "source": [
    "## 데이터 증강"
   ]
  },
  {
   "cell_type": "code",
   "execution_count": null,
   "metadata": {},
   "outputs": [],
   "source": [
    "import numpy as np\n",
    "import random\n",
    "import itertools\n",
    "import librosa\n",
    "import IPython.display as ipd\n",
    "import matplotlib.pyplot as plt"
   ]
  },
  {
   "cell_type": "code",
   "execution_count": null,
   "metadata": {},
   "outputs": [],
   "source": [
    "def plot_time_series(data):\n",
    "    fig = plt.figure(figsize=(10, 4))\n",
    "    plt.title('Raw wave ')\n",
    "    plt.ylabel('Amplitude')\n",
    "    plt.plot(np.linspace(0, 1, len(data)), data)\n",
    "    plt.show()\n",
    "\n",
    "data, sr = librosa.load('./input.wav', sr=22050)\n",
    "\n",
    "print(data.shape)\n",
    "plot_time_series(data)"
   ]
  },
  {
   "cell_type": "markdown",
   "metadata": {},
   "source": [
    "#### White Noise"
   ]
  },
  {
   "cell_type": "code",
   "execution_count": null,
   "metadata": {},
   "outputs": [],
   "source": [
    "def adding_white_noise(data, sr=22050, noise_rate=0.005):\n",
    "    # noise 방식으로 일반적으로 쓰는 잡음 끼게 하는 겁니다.\n",
    "    wn = np.random.randn(len(data))\n",
    "    data_wn = data + noise_rate*wn\n",
    "    plot_time_series(data_wn)\n",
    "    librosa.output.write_wav('./white_noise.wav', data, sr=sr) # 저장\n",
    "    print('White Noise 저장 성공')\n",
    "    \n",
    "    return data"
   ]
  },
  {
   "cell_type": "markdown",
   "metadata": {},
   "source": [
    "Shifting"
   ]
  },
  {
   "cell_type": "code",
   "execution_count": null,
   "metadata": {},
   "outputs": [],
   "source": [
    "def shifting_sound(data, sr=22050, roll_rate=0.1):\n",
    "    # 그냥 [1, 2, 3, 4] 를 [4, 1, 2, 3]으로 만들어주는겁니다.\n",
    "    data_roll = np.roll(data, int(len(data) * roll_rate))\n",
    "    plot_time_series(data_roll)\n",
    "    librosa.output.write_wav('./rolling_sound.wav', data, sr=sr)\n",
    "    print('rolling_sound 저장 성공')\n",
    "    \n",
    "    return data"
   ]
  },
  {
   "cell_type": "markdown",
   "metadata": {},
   "source": [
    "#### Stretching"
   ]
  },
  {
   "cell_type": "code",
   "execution_count": null,
   "metadata": {},
   "outputs": [],
   "source": [
    "def stretch_sound(data, sr=22050, rate=0.8):\n",
    "    # stretch 해주는 것 테이프 늘어진 것처럼 들린다.\n",
    "    stretch_data = librosa.effects.time_stretch(data, rate)\n",
    "    plot_time_series(stretch_data)\n",
    "    librosa.output.write_wav('./stretch_data.wav', stretch_data, sr=sr)\n",
    "    print('stretch_data 저장 성공')\n",
    "    \n",
    "    return data"
   ]
  },
  {
   "cell_type": "markdown",
   "metadata": {},
   "source": [
    "#### Reverse"
   ]
  },
  {
   "cell_type": "code",
   "execution_count": null,
   "metadata": {},
   "outputs": [],
   "source": [
    "def reverse_sound(data, sr=22050):\n",
    "    # 거꾸로 재생\n",
    "    data_len = len(data)\n",
    "    data = np.array([data[len(data)-1-i] for i in range(len(data))])\n",
    "    plot_time_series(data)\n",
    "    librosa.output.write_wav('./reverse_data.wav', data, sr=sr)\n",
    "    \n",
    "    return data"
   ]
  },
  {
   "cell_type": "markdown",
   "metadata": {},
   "source": [
    "#### Minus"
   ]
  },
  {
   "cell_type": "code",
   "execution_count": null,
   "metadata": {},
   "outputs": [],
   "source": [
    "def minus_sound(data, sr=22050):\n",
    "    # 위상을 뒤집는 것으로서 원래 소리와 똑같이 들린다.\n",
    "    temp_numpy = (-1)*data\n",
    "    plot_time_series(temp_numpy)\n",
    "    librosa.output.write_wav('./minus_data.wav', temp_numpy, sr=sr)\n",
    "    \n",
    "    return data"
   ]
  }
 ],
 "metadata": {
  "interpreter": {
   "hash": "f85f5511336df2de9b0b46ba7208b62e9c8a528553f32d2fac3458fbe3f27cd4"
  },
  "kernelspec": {
   "display_name": "Python 3.9.7 ('base')",
   "language": "python",
   "name": "python3"
  },
  "language_info": {
   "codemirror_mode": {
    "name": "ipython",
    "version": 3
   },
   "file_extension": ".py",
   "mimetype": "text/x-python",
   "name": "python",
   "nbconvert_exporter": "python",
   "pygments_lexer": "ipython3",
   "version": "3.9.7"
  },
  "orig_nbformat": 4
 },
 "nbformat": 4,
 "nbformat_minor": 2
}
