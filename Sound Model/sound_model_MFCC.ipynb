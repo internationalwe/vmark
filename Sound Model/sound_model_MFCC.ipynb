{
 "cells": [
  {
   "cell_type": "code",
   "execution_count": 1,
   "metadata": {},
   "outputs": [],
   "source": [
    "import numpy as np\n",
    "import itertools\n",
    "import librosa\n",
    "import librosa.display\n",
    "import IPython.display as ipd\n",
    "import matplotlib.pyplot as plt\n",
    "import pandas as pd\n",
    "plt.style.use('seaborn-white')"
   ]
  },
  {
   "cell_type": "markdown",
   "metadata": {},
   "source": [
    "## 데이터 불러오기 "
   ]
  },
  {
   "cell_type": "code",
   "execution_count": 2,
   "metadata": {},
   "outputs": [
    {
     "data": {
      "text/html": [
       "<div>\n",
       "<style scoped>\n",
       "    .dataframe tbody tr th:only-of-type {\n",
       "        vertical-align: middle;\n",
       "    }\n",
       "\n",
       "    .dataframe tbody tr th {\n",
       "        vertical-align: top;\n",
       "    }\n",
       "\n",
       "    .dataframe thead th {\n",
       "        text-align: right;\n",
       "    }\n",
       "</style>\n",
       "<table border=\"1\" class=\"dataframe\">\n",
       "  <thead>\n",
       "    <tr style=\"text-align: right;\">\n",
       "      <th></th>\n",
       "      <th>filename</th>\n",
       "      <th>fold</th>\n",
       "      <th>target</th>\n",
       "      <th>category</th>\n",
       "      <th>esc10</th>\n",
       "      <th>src_file</th>\n",
       "      <th>take</th>\n",
       "    </tr>\n",
       "  </thead>\n",
       "  <tbody>\n",
       "    <tr>\n",
       "      <th>0</th>\n",
       "      <td>1-100032-A-0.wav</td>\n",
       "      <td>1</td>\n",
       "      <td>0</td>\n",
       "      <td>dog</td>\n",
       "      <td>True</td>\n",
       "      <td>100032</td>\n",
       "      <td>A</td>\n",
       "    </tr>\n",
       "    <tr>\n",
       "      <th>1</th>\n",
       "      <td>1-100038-A-14.wav</td>\n",
       "      <td>1</td>\n",
       "      <td>14</td>\n",
       "      <td>chirping_birds</td>\n",
       "      <td>False</td>\n",
       "      <td>100038</td>\n",
       "      <td>A</td>\n",
       "    </tr>\n",
       "    <tr>\n",
       "      <th>2</th>\n",
       "      <td>1-100210-A-36.wav</td>\n",
       "      <td>1</td>\n",
       "      <td>36</td>\n",
       "      <td>vacuum_cleaner</td>\n",
       "      <td>False</td>\n",
       "      <td>100210</td>\n",
       "      <td>A</td>\n",
       "    </tr>\n",
       "    <tr>\n",
       "      <th>3</th>\n",
       "      <td>1-100210-B-36.wav</td>\n",
       "      <td>1</td>\n",
       "      <td>36</td>\n",
       "      <td>vacuum_cleaner</td>\n",
       "      <td>False</td>\n",
       "      <td>100210</td>\n",
       "      <td>B</td>\n",
       "    </tr>\n",
       "    <tr>\n",
       "      <th>4</th>\n",
       "      <td>1-101296-A-19.wav</td>\n",
       "      <td>1</td>\n",
       "      <td>19</td>\n",
       "      <td>thunderstorm</td>\n",
       "      <td>False</td>\n",
       "      <td>101296</td>\n",
       "      <td>A</td>\n",
       "    </tr>\n",
       "  </tbody>\n",
       "</table>\n",
       "</div>"
      ],
      "text/plain": [
       "            filename  fold  target        category  esc10  src_file take\n",
       "0   1-100032-A-0.wav     1       0             dog   True    100032    A\n",
       "1  1-100038-A-14.wav     1      14  chirping_birds  False    100038    A\n",
       "2  1-100210-A-36.wav     1      36  vacuum_cleaner  False    100210    A\n",
       "3  1-100210-B-36.wav     1      36  vacuum_cleaner  False    100210    B\n",
       "4  1-101296-A-19.wav     1      19    thunderstorm  False    101296    A"
      ]
     },
     "execution_count": 2,
     "metadata": {},
     "output_type": "execute_result"
    }
   ],
   "source": [
    "sound = './sound data/ESC-50-master/meta/esc50.csv'\n",
    "\n",
    "df = pd.read_csv(sound)\n",
    "df.head()"
   ]
  },
  {
   "cell_type": "code",
   "execution_count": 3,
   "metadata": {},
   "outputs": [
    {
     "name": "stdout",
     "output_type": "stream",
     "text": [
      "[array([0., 0., 0., ..., 0., 0., 0.], dtype=float32), array([-0.01184082, -0.10336304, -0.14141846, ...,  0.06985474,\n",
      "        0.04049683,  0.00274658], dtype=float32), array([-0.00695801, -0.01251221, -0.01126099, ...,  0.215271  ,\n",
      "       -0.00875854, -0.28903198], dtype=float32), array([0.53897095, 0.39627075, 0.26739502, ..., 0.09729004, 0.11227417,\n",
      "       0.07983398], dtype=float32), array([-0.00036621, -0.0007019 , -0.00079346, ...,  0.00317383,\n",
      "        0.00222778,  0.00158691], dtype=float32)]\n"
     ]
    }
   ],
   "source": [
    "audio = []\n",
    "target = []\n",
    "\n",
    "for index, row in df.iterrows():\n",
    "    audio_file = \"./sound data/ESC-50-master/audio/\" + row['filename']\n",
    "    y, sr = librosa.load(audio_file, sr=None)\n",
    "    audio.append(y)\n",
    "    target.append(row['target'])\n",
    "\n",
    "print(audio[:5])"
   ]
  },
  {
   "cell_type": "code",
   "execution_count": 4,
   "metadata": {},
   "outputs": [
    {
     "name": "stdout",
     "output_type": "stream",
     "text": [
      "[0, 14, 36, 36, 19, 19, 30, 34, 9, 30]\n"
     ]
    }
   ],
   "source": [
    "print(target[:10])"
   ]
  },
  {
   "cell_type": "markdown",
   "metadata": {},
   "source": [
    "## 데이터 전처리 "
   ]
  },
  {
   "cell_type": "code",
   "execution_count": 40,
   "metadata": {},
   "outputs": [
    {
     "name": "stdout",
     "output_type": "stream",
     "text": [
      "(2000, 220500) (2000,)\n"
     ]
    }
   ],
   "source": [
    "import numpy as np\n",
    "\n",
    "audio_np = np.array(audio, np.float32)\n",
    "target_np =np.array(target, np.float32)\n",
    "\n",
    "print(audio_np.shape, target_np.shape)"
   ]
  },
  {
   "cell_type": "code",
   "execution_count": 41,
   "metadata": {},
   "outputs": [
    {
     "data": {
      "text/html": [
       "<style>#sk-container-id-2 {color: black;background-color: white;}#sk-container-id-2 pre{padding: 0;}#sk-container-id-2 div.sk-toggleable {background-color: white;}#sk-container-id-2 label.sk-toggleable__label {cursor: pointer;display: block;width: 100%;margin-bottom: 0;padding: 0.3em;box-sizing: border-box;text-align: center;}#sk-container-id-2 label.sk-toggleable__label-arrow:before {content: \"▸\";float: left;margin-right: 0.25em;color: #696969;}#sk-container-id-2 label.sk-toggleable__label-arrow:hover:before {color: black;}#sk-container-id-2 div.sk-estimator:hover label.sk-toggleable__label-arrow:before {color: black;}#sk-container-id-2 div.sk-toggleable__content {max-height: 0;max-width: 0;overflow: hidden;text-align: left;background-color: #f0f8ff;}#sk-container-id-2 div.sk-toggleable__content pre {margin: 0.2em;color: black;border-radius: 0.25em;background-color: #f0f8ff;}#sk-container-id-2 input.sk-toggleable__control:checked~div.sk-toggleable__content {max-height: 200px;max-width: 100%;overflow: auto;}#sk-container-id-2 input.sk-toggleable__control:checked~label.sk-toggleable__label-arrow:before {content: \"▾\";}#sk-container-id-2 div.sk-estimator input.sk-toggleable__control:checked~label.sk-toggleable__label {background-color: #d4ebff;}#sk-container-id-2 div.sk-label input.sk-toggleable__control:checked~label.sk-toggleable__label {background-color: #d4ebff;}#sk-container-id-2 input.sk-hidden--visually {border: 0;clip: rect(1px 1px 1px 1px);clip: rect(1px, 1px, 1px, 1px);height: 1px;margin: -1px;overflow: hidden;padding: 0;position: absolute;width: 1px;}#sk-container-id-2 div.sk-estimator {font-family: monospace;background-color: #f0f8ff;border: 1px dotted black;border-radius: 0.25em;box-sizing: border-box;margin-bottom: 0.5em;}#sk-container-id-2 div.sk-estimator:hover {background-color: #d4ebff;}#sk-container-id-2 div.sk-parallel-item::after {content: \"\";width: 100%;border-bottom: 1px solid gray;flex-grow: 1;}#sk-container-id-2 div.sk-label:hover label.sk-toggleable__label {background-color: #d4ebff;}#sk-container-id-2 div.sk-serial::before {content: \"\";position: absolute;border-left: 1px solid gray;box-sizing: border-box;top: 0;bottom: 0;left: 50%;z-index: 0;}#sk-container-id-2 div.sk-serial {display: flex;flex-direction: column;align-items: center;background-color: white;padding-right: 0.2em;padding-left: 0.2em;position: relative;}#sk-container-id-2 div.sk-item {position: relative;z-index: 1;}#sk-container-id-2 div.sk-parallel {display: flex;align-items: stretch;justify-content: center;background-color: white;position: relative;}#sk-container-id-2 div.sk-item::before, #sk-container-id-2 div.sk-parallel-item::before {content: \"\";position: absolute;border-left: 1px solid gray;box-sizing: border-box;top: 0;bottom: 0;left: 50%;z-index: -1;}#sk-container-id-2 div.sk-parallel-item {display: flex;flex-direction: column;z-index: 1;position: relative;background-color: white;}#sk-container-id-2 div.sk-parallel-item:first-child::after {align-self: flex-end;width: 50%;}#sk-container-id-2 div.sk-parallel-item:last-child::after {align-self: flex-start;width: 50%;}#sk-container-id-2 div.sk-parallel-item:only-child::after {width: 0;}#sk-container-id-2 div.sk-dashed-wrapped {border: 1px dashed gray;margin: 0 0.4em 0.5em 0.4em;box-sizing: border-box;padding-bottom: 0.4em;background-color: white;}#sk-container-id-2 div.sk-label label {font-family: monospace;font-weight: bold;display: inline-block;line-height: 1.2em;}#sk-container-id-2 div.sk-label-container {text-align: center;}#sk-container-id-2 div.sk-container {/* jupyter's `normalize.less` sets `[hidden] { display: none; }` but bootstrap.min.css set `[hidden] { display: none !important; }` so we also need the `!important` here to be able to override the default hidden behavior on the sphinx rendered scikit-learn.org. See: https://github.com/scikit-learn/scikit-learn/issues/21755 */display: inline-block !important;position: relative;}#sk-container-id-2 div.sk-text-repr-fallback {display: none;}</style><div id=\"sk-container-id-2\" class=\"sk-top-container\"><div class=\"sk-text-repr-fallback\"><pre>MinMaxScaler()</pre><b>In a Jupyter environment, please rerun this cell to show the HTML representation or trust the notebook. <br />On GitHub, the HTML representation is unable to render, please try loading this page with nbviewer.org.</b></div><div class=\"sk-container\" hidden><div class=\"sk-item\"><div class=\"sk-estimator sk-toggleable\"><input class=\"sk-toggleable__control sk-hidden--visually\" id=\"sk-estimator-id-2\" type=\"checkbox\" checked><label for=\"sk-estimator-id-2\" class=\"sk-toggleable__label sk-toggleable__label-arrow\">MinMaxScaler</label><div class=\"sk-toggleable__content\"><pre>MinMaxScaler()</pre></div></div></div></div></div>"
      ],
      "text/plain": [
       "MinMaxScaler()"
      ]
     },
     "execution_count": 41,
     "metadata": {},
     "output_type": "execute_result"
    }
   ],
   "source": [
    "from sklearn.preprocessing import MinMaxScaler\n",
    "\n",
    "scaler = MinMaxScaler()\n",
    "scaler.fit(audio_np)"
   ]
  },
  {
   "cell_type": "markdown",
   "metadata": {},
   "source": [
    "## MFCC"
   ]
  },
  {
   "cell_type": "code",
   "execution_count": 42,
   "metadata": {},
   "outputs": [
    {
     "name": "stdout",
     "output_type": "stream",
     "text": [
      "(20, 431)\n"
     ]
    },
    {
     "name": "stderr",
     "output_type": "stream",
     "text": [
      "/var/folders/n9/lhr4vj6d6fz4wh0vbnn7hz2h0000gn/T/ipykernel_1326/3735229544.py:1: FutureWarning: Pass y=[-0.01184082 -0.10336304 -0.14141846 ...  0.06985474  0.04049683\n",
      "  0.00274658] as keyword args. From version 0.10 passing these as positional arguments will result in an error\n",
      "  mfccs = librosa.feature.mfcc(audio_np[1], sr=sr)\n"
     ]
    },
    {
     "data": {
      "text/plain": [
       "<matplotlib.collections.QuadMesh at 0x31b1849d0>"
      ]
     },
     "execution_count": 42,
     "metadata": {},
     "output_type": "execute_result"
    },
    {
     "data": {
      "image/png": "[encoded data removed]",
      "text/plain": [
       "<Figure size 1008x432 with 1 Axes>"
      ]
     },
     "metadata": {
      "needs_background": "light"
     },
     "output_type": "display_data"
    }
   ],
   "source": [
    "mfccs = librosa.feature.mfcc(audio_np[1], sr=sr)\n",
    "print(mfccs.shape)\n",
    "\n",
    "plt.figure(figsize=(14, 6))\n",
    "librosa.display.specshow(mfccs, sr=sr, x_axis='time')"
   ]
  },
  {
   "cell_type": "markdown",
   "metadata": {},
   "source": [
    "## MFCC를 이용한 머신러닝 오디오 분류  "
   ]
  },
  {
   "cell_type": "markdown",
   "metadata": {},
   "source": [
    "#### 데이터 준비 및 전처리"
   ]
  },
  {
   "cell_type": "code",
   "execution_count": 43,
   "metadata": {},
   "outputs": [],
   "source": [
    "audio_mfcc = []\n",
    "for y in audio:\n",
    "  ret = librosa.feature.mfcc(y=y, sr=sr)\n",
    "  audio_mfcc.append(ret)"
   ]
  },
  {
   "cell_type": "code",
   "execution_count": 44,
   "metadata": {},
   "outputs": [
    {
     "name": "stdout",
     "output_type": "stream",
     "text": [
      "(2000, 20, 431) (2000,)\n"
     ]
    }
   ],
   "source": [
    "mfcc_np = np.array(audio_mfcc, np.float32)\n",
    "target_np = np.array(target, np.int16)\n",
    "\n",
    "print(mfcc_np.shape, target_np.shape)"
   ]
  },
  {
   "cell_type": "code",
   "execution_count": 45,
   "metadata": {},
   "outputs": [],
   "source": [
    "mfcc_np = mfcc_np.reshape(2000, 20 * 431)"
   ]
  },
  {
   "cell_type": "code",
   "execution_count": 46,
   "metadata": {},
   "outputs": [
    {
     "data": {
      "text/html": [
       "<style>#sk-container-id-3 {color: black;background-color: white;}#sk-container-id-3 pre{padding: 0;}#sk-container-id-3 div.sk-toggleable {background-color: white;}#sk-container-id-3 label.sk-toggleable__label {cursor: pointer;display: block;width: 100%;margin-bottom: 0;padding: 0.3em;box-sizing: border-box;text-align: center;}#sk-container-id-3 label.sk-toggleable__label-arrow:before {content: \"▸\";float: left;margin-right: 0.25em;color: #696969;}#sk-container-id-3 label.sk-toggleable__label-arrow:hover:before {color: black;}#sk-container-id-3 div.sk-estimator:hover label.sk-toggleable__label-arrow:before {color: black;}#sk-container-id-3 div.sk-toggleable__content {max-height: 0;max-width: 0;overflow: hidden;text-align: left;background-color: #f0f8ff;}#sk-container-id-3 div.sk-toggleable__content pre {margin: 0.2em;color: black;border-radius: 0.25em;background-color: #f0f8ff;}#sk-container-id-3 input.sk-toggleable__control:checked~div.sk-toggleable__content {max-height: 200px;max-width: 100%;overflow: auto;}#sk-container-id-3 input.sk-toggleable__control:checked~label.sk-toggleable__label-arrow:before {content: \"▾\";}#sk-container-id-3 div.sk-estimator input.sk-toggleable__control:checked~label.sk-toggleable__label {background-color: #d4ebff;}#sk-container-id-3 div.sk-label input.sk-toggleable__control:checked~label.sk-toggleable__label {background-color: #d4ebff;}#sk-container-id-3 input.sk-hidden--visually {border: 0;clip: rect(1px 1px 1px 1px);clip: rect(1px, 1px, 1px, 1px);height: 1px;margin: -1px;overflow: hidden;padding: 0;position: absolute;width: 1px;}#sk-container-id-3 div.sk-estimator {font-family: monospace;background-color: #f0f8ff;border: 1px dotted black;border-radius: 0.25em;box-sizing: border-box;margin-bottom: 0.5em;}#sk-container-id-3 div.sk-estimator:hover {background-color: #d4ebff;}#sk-container-id-3 div.sk-parallel-item::after {content: \"\";width: 100%;border-bottom: 1px solid gray;flex-grow: 1;}#sk-container-id-3 div.sk-label:hover label.sk-toggleable__label {background-color: #d4ebff;}#sk-container-id-3 div.sk-serial::before {content: \"\";position: absolute;border-left: 1px solid gray;box-sizing: border-box;top: 0;bottom: 0;left: 50%;z-index: 0;}#sk-container-id-3 div.sk-serial {display: flex;flex-direction: column;align-items: center;background-color: white;padding-right: 0.2em;padding-left: 0.2em;position: relative;}#sk-container-id-3 div.sk-item {position: relative;z-index: 1;}#sk-container-id-3 div.sk-parallel {display: flex;align-items: stretch;justify-content: center;background-color: white;position: relative;}#sk-container-id-3 div.sk-item::before, #sk-container-id-3 div.sk-parallel-item::before {content: \"\";position: absolute;border-left: 1px solid gray;box-sizing: border-box;top: 0;bottom: 0;left: 50%;z-index: -1;}#sk-container-id-3 div.sk-parallel-item {display: flex;flex-direction: column;z-index: 1;position: relative;background-color: white;}#sk-container-id-3 div.sk-parallel-item:first-child::after {align-self: flex-end;width: 50%;}#sk-container-id-3 div.sk-parallel-item:last-child::after {align-self: flex-start;width: 50%;}#sk-container-id-3 div.sk-parallel-item:only-child::after {width: 0;}#sk-container-id-3 div.sk-dashed-wrapped {border: 1px dashed gray;margin: 0 0.4em 0.5em 0.4em;box-sizing: border-box;padding-bottom: 0.4em;background-color: white;}#sk-container-id-3 div.sk-label label {font-family: monospace;font-weight: bold;display: inline-block;line-height: 1.2em;}#sk-container-id-3 div.sk-label-container {text-align: center;}#sk-container-id-3 div.sk-container {/* jupyter's `normalize.less` sets `[hidden] { display: none; }` but bootstrap.min.css set `[hidden] { display: none !important; }` so we also need the `!important` here to be able to override the default hidden behavior on the sphinx rendered scikit-learn.org. See: https://github.com/scikit-learn/scikit-learn/issues/21755 */display: inline-block !important;position: relative;}#sk-container-id-3 div.sk-text-repr-fallback {display: none;}</style><div id=\"sk-container-id-3\" class=\"sk-top-container\"><div class=\"sk-text-repr-fallback\"><pre>MinMaxScaler()</pre><b>In a Jupyter environment, please rerun this cell to show the HTML representation or trust the notebook. <br />On GitHub, the HTML representation is unable to render, please try loading this page with nbviewer.org.</b></div><div class=\"sk-container\" hidden><div class=\"sk-item\"><div class=\"sk-estimator sk-toggleable\"><input class=\"sk-toggleable__control sk-hidden--visually\" id=\"sk-estimator-id-3\" type=\"checkbox\" checked><label for=\"sk-estimator-id-3\" class=\"sk-toggleable__label sk-toggleable__label-arrow\">MinMaxScaler</label><div class=\"sk-toggleable__content\"><pre>MinMaxScaler()</pre></div></div></div></div></div>"
      ],
      "text/plain": [
       "MinMaxScaler()"
      ]
     },
     "execution_count": 46,
     "metadata": {},
     "output_type": "execute_result"
    }
   ],
   "source": [
    "from sklearn.preprocessing import MinMaxScaler\n",
    "\n",
    "scaler =  MinMaxScaler()\n",
    "scaler.fit(mfcc_np)"
   ]
  },
  {
   "cell_type": "markdown",
   "metadata": {},
   "source": [
    "#### 학습 데이터 실험 데이터 분리 "
   ]
  },
  {
   "cell_type": "code",
   "execution_count": 47,
   "metadata": {},
   "outputs": [
    {
     "name": "stdout",
     "output_type": "stream",
     "text": [
      "(1600, 8620)\n",
      "(400, 8620)\n",
      "(1600,)\n",
      "(400,)\n"
     ]
    }
   ],
   "source": [
    "from sklearn.model_selection import train_test_split\n",
    "\n",
    "train_X, test_X, train_y, test_y = train_test_split(mfcc_np, target_np, test_size=0.2)\n",
    "\n",
    "print(train_X.shape)\n",
    "print(test_X.shape)\n",
    "print(train_y.shape)\n",
    "print(test_y.shape)"
   ]
  },
  {
   "cell_type": "markdown",
   "metadata": {},
   "source": [
    "#### Logistic Regression"
   ]
  },
  {
   "cell_type": "code",
   "execution_count": 49,
   "metadata": {},
   "outputs": [
    {
     "name": "stdout",
     "output_type": "stream",
     "text": [
      "0.345\n"
     ]
    },
    {
     "name": "stderr",
     "output_type": "stream",
     "text": [
      "/Users/seyilee/mambaforge/envs/ds_study/lib/python3.8/site-packages/sklearn/linear_model/_logistic.py:444: ConvergenceWarning: lbfgs failed to converge (status=1):\n",
      "STOP: TOTAL NO. of ITERATIONS REACHED LIMIT.\n",
      "\n",
      "Increase the number of iterations (max_iter) or scale the data as shown in:\n",
      "    https://scikit-learn.org/stable/modules/preprocessing.html\n",
      "Please also refer to the documentation for alternative solver options:\n",
      "    https://scikit-learn.org/stable/modules/linear_model.html#logistic-regression\n",
      "  n_iter_i = _check_optimize_result(\n"
     ]
    }
   ],
   "source": [
    "from sklearn.linear_model import LogisticRegression\n",
    "from sklearn.metrics import accuracy_score\n",
    "\n",
    "LR = LogisticRegression()\n",
    "LR.fit(train_X, train_y)\n",
    "pred = LR.predict(test_X)\n",
    "acc = accuracy_score(pred, test_y)\n",
    "print(acc)"
   ]
  },
  {
   "cell_type": "markdown",
   "metadata": {},
   "source": [
    "#### Support Vector Machine"
   ]
  },
  {
   "cell_type": "code",
   "execution_count": 50,
   "metadata": {},
   "outputs": [
    {
     "name": "stdout",
     "output_type": "stream",
     "text": [
      "0.4625\n"
     ]
    }
   ],
   "source": [
    "from sklearn import svm\n",
    "\n",
    "SVM = svm.SVC(kernel='linear')\n",
    "SVM.fit(train_X, train_y)\n",
    "pred = SVM.predict(test_X)\n",
    "acc = accuracy_score(pred, test_y)\n",
    "print(acc)"
   ]
  },
  {
   "cell_type": "markdown",
   "metadata": {},
   "source": [
    "#### Decision Tree"
   ]
  },
  {
   "cell_type": "code",
   "execution_count": 51,
   "metadata": {},
   "outputs": [
    {
     "name": "stdout",
     "output_type": "stream",
     "text": [
      "0.1625\n"
     ]
    }
   ],
   "source": [
    "from sklearn.tree import DecisionTreeClassifier\n",
    "\n",
    "DT = DecisionTreeClassifier()\n",
    "DT.fit(train_X, train_y)\n",
    "pred = DT.predict(test_X)\n",
    "acc = accuracy_score(pred, test_y)\n",
    "print(acc)"
   ]
  },
  {
   "cell_type": "markdown",
   "metadata": {},
   "source": [
    "### MFCC를 이용한 딥러닝 오디오 분류 \n",
    "#### DNN 모델 "
   ]
  },
  {
   "cell_type": "code",
   "execution_count": 52,
   "metadata": {},
   "outputs": [
    {
     "name": "stdout",
     "output_type": "stream",
     "text": [
      "(1600, 8620, 1)\n",
      "(400, 8620, 1)\n",
      "(1600, 50)\n",
      "(400, 50)\n"
     ]
    }
   ],
   "source": [
    "from tensorflow.keras.utils import to_categorical\n",
    "\n",
    "mfcc_np = np.array(audio_mfcc, np.float32)\n",
    "mfcc_np = mfcc_np.reshape((2000, 20*431))\n",
    "mfcc_array = np.expand_dims(mfcc_np, -1)\n",
    "inst_cat = to_categorical(target_np)\n",
    "\n",
    "train_X, test_X, train_y, test_y = train_test_split(mfcc_array, inst_cat, test_size=0.2)\n",
    "\n",
    "print(train_X.shape)\n",
    "print(test_X.shape)\n",
    "print(train_y.shape)\n",
    "print(test_y.shape)"
   ]
  },
  {
   "cell_type": "code",
   "execution_count": 53,
   "metadata": {},
   "outputs": [],
   "source": [
    "from keras.models import Sequential, Model\n",
    "from keras.layers import Input, Dense\n",
    "\n",
    "def model_build():\n",
    "  model = Sequential()\n",
    "\n",
    "  input = Input(shape=(8620, ), name='input')\n",
    "  output = Dense(512, activation='relu', name='hidden1')(input)\n",
    "  output = Dense(256, activation='relu', name='hidden2')(output)\n",
    "  output = Dense(218, activation='relu', name='hidden3')(output)\n",
    "  output = Dense(50, activation='softmax', name='output')(output)\n",
    "\n",
    "  model = Model(inputs=[input], outputs=output)\n",
    "\n",
    "  model.compile(optimizer='adam',\n",
    "                loss='categorical_crossentropy',\n",
    "                metrics=['acc'])\n",
    "  \n",
    "  return model"
   ]
  },
  {
   "cell_type": "code",
   "execution_count": 54,
   "metadata": {},
   "outputs": [
    {
     "name": "stdout",
     "output_type": "stream",
     "text": [
      "Model: \"model_3\"\n",
      "_________________________________________________________________\n",
      " Layer (type)                Output Shape              Param #   \n",
      "=================================================================\n",
      " input (InputLayer)          [(None, 8620)]            0         \n",
      "                                                                 \n",
      " hidden1 (Dense)             (None, 512)               4413952   \n",
      "                                                                 \n",
      " hidden2 (Dense)             (None, 256)               131328    \n",
      "                                                                 \n",
      " hidden3 (Dense)             (None, 218)               56026     \n",
      "                                                                 \n",
      " output (Dense)              (None, 50)                10950     \n",
      "                                                                 \n",
      "=================================================================\n",
      "Total params: 4,612,256\n",
      "Trainable params: 4,612,256\n",
      "Non-trainable params: 0\n",
      "_________________________________________________________________\n"
     ]
    }
   ],
   "source": [
    "model = model_build()\n",
    "model.summary()"
   ]
  },
  {
   "cell_type": "code",
   "execution_count": 55,
   "metadata": {},
   "outputs": [
    {
     "name": "stdout",
     "output_type": "stream",
     "text": [
      "Epoch 1/30\n",
      " 1/40 [..............................] - ETA: 12s - loss: 151.6761 - acc: 0.0000e+00"
     ]
    },
    {
     "name": "stderr",
     "output_type": "stream",
     "text": [
      "2022-07-09 11:23:28.139351: I tensorflow/core/grappler/optimizers/custom_graph_optimizer_registry.cc:113] Plugin optimizer for device_type GPU is enabled.\n"
     ]
    },
    {
     "name": "stdout",
     "output_type": "stream",
     "text": [
      "40/40 [==============================] - 1s 18ms/step - loss: 126.0826 - acc: 0.0508 - val_loss: 27.9848 - val_acc: 0.0625\n",
      "Epoch 2/30\n",
      " 5/40 [==>...........................] - ETA: 0s - loss: 27.8123 - acc: 0.0813"
     ]
    },
    {
     "name": "stderr",
     "output_type": "stream",
     "text": [
      "2022-07-09 11:23:28.906803: I tensorflow/core/grappler/optimizers/custom_graph_optimizer_registry.cc:113] Plugin optimizer for device_type GPU is enabled.\n"
     ]
    },
    {
     "name": "stdout",
     "output_type": "stream",
     "text": [
      "40/40 [==============================] - 1s 15ms/step - loss: 16.8843 - acc: 0.1242 - val_loss: 11.3275 - val_acc: 0.0844\n",
      "Epoch 3/30\n",
      "40/40 [==============================] - 1s 16ms/step - loss: 6.7878 - acc: 0.1602 - val_loss: 6.6605 - val_acc: 0.0719\n",
      "Epoch 4/30\n",
      "40/40 [==============================] - 1s 15ms/step - loss: 4.0291 - acc: 0.1625 - val_loss: 4.7816 - val_acc: 0.0594\n",
      "Epoch 5/30\n",
      "40/40 [==============================] - 1s 15ms/step - loss: 3.5469 - acc: 0.1625 - val_loss: 4.3388 - val_acc: 0.0781\n",
      "Epoch 6/30\n",
      "40/40 [==============================] - 1s 15ms/step - loss: 3.3074 - acc: 0.1930 - val_loss: 4.2331 - val_acc: 0.1219\n",
      "Epoch 7/30\n",
      "40/40 [==============================] - 1s 15ms/step - loss: 3.1033 - acc: 0.2297 - val_loss: 4.2188 - val_acc: 0.0906\n",
      "Epoch 8/30\n",
      "40/40 [==============================] - 1s 15ms/step - loss: 3.0535 - acc: 0.2383 - val_loss: 4.0848 - val_acc: 0.1531\n",
      "Epoch 9/30\n",
      "40/40 [==============================] - 1s 15ms/step - loss: 2.8493 - acc: 0.2867 - val_loss: 3.9692 - val_acc: 0.1344\n",
      "Epoch 10/30\n",
      "40/40 [==============================] - 1s 15ms/step - loss: 2.8463 - acc: 0.2812 - val_loss: 4.0957 - val_acc: 0.1437\n",
      "Epoch 11/30\n",
      "40/40 [==============================] - 1s 15ms/step - loss: 2.7250 - acc: 0.3109 - val_loss: 3.9328 - val_acc: 0.1500\n",
      "Epoch 12/30\n",
      "40/40 [==============================] - 1s 15ms/step - loss: 2.5809 - acc: 0.3352 - val_loss: 4.2318 - val_acc: 0.1562\n",
      "Epoch 13/30\n",
      "40/40 [==============================] - 1s 15ms/step - loss: 2.6449 - acc: 0.3289 - val_loss: 4.1777 - val_acc: 0.1781\n",
      "Epoch 14/30\n",
      "40/40 [==============================] - 1s 15ms/step - loss: 2.4396 - acc: 0.3602 - val_loss: 4.3220 - val_acc: 0.1437\n",
      "Epoch 15/30\n",
      "40/40 [==============================] - 1s 16ms/step - loss: 2.2838 - acc: 0.3852 - val_loss: 3.9005 - val_acc: 0.1531\n",
      "Epoch 16/30\n",
      "40/40 [==============================] - 1s 17ms/step - loss: 2.2588 - acc: 0.4016 - val_loss: 4.1955 - val_acc: 0.1781\n",
      "Epoch 17/30\n",
      "40/40 [==============================] - 1s 15ms/step - loss: 2.0554 - acc: 0.4297 - val_loss: 4.2428 - val_acc: 0.1625\n",
      "Epoch 18/30\n",
      "40/40 [==============================] - 1s 15ms/step - loss: 2.0214 - acc: 0.4492 - val_loss: 4.4990 - val_acc: 0.1375\n",
      "Epoch 19/30\n",
      "40/40 [==============================] - 1s 15ms/step - loss: 2.0875 - acc: 0.4641 - val_loss: 4.3850 - val_acc: 0.2000\n",
      "Epoch 20/30\n",
      "40/40 [==============================] - 1s 16ms/step - loss: 1.8958 - acc: 0.4773 - val_loss: 4.1032 - val_acc: 0.2156\n",
      "Epoch 21/30\n",
      "40/40 [==============================] - 1s 18ms/step - loss: 1.7662 - acc: 0.5078 - val_loss: 4.1495 - val_acc: 0.1938\n",
      "Epoch 22/30\n",
      "40/40 [==============================] - 1s 17ms/step - loss: 1.7527 - acc: 0.5094 - val_loss: 4.1628 - val_acc: 0.2000\n",
      "Epoch 23/30\n",
      "40/40 [==============================] - 1s 15ms/step - loss: 1.5746 - acc: 0.5422 - val_loss: 4.3615 - val_acc: 0.1875\n",
      "Epoch 24/30\n",
      "40/40 [==============================] - 1s 15ms/step - loss: 1.6907 - acc: 0.5305 - val_loss: 4.2156 - val_acc: 0.2281\n",
      "Epoch 25/30\n",
      "40/40 [==============================] - 1s 15ms/step - loss: 1.7812 - acc: 0.5117 - val_loss: 4.5315 - val_acc: 0.2281\n",
      "Epoch 26/30\n",
      "40/40 [==============================] - 1s 15ms/step - loss: 1.4993 - acc: 0.5742 - val_loss: 4.9148 - val_acc: 0.2156\n",
      "Epoch 27/30\n",
      "40/40 [==============================] - 1s 15ms/step - loss: 1.5813 - acc: 0.5563 - val_loss: 5.2288 - val_acc: 0.2125\n",
      "Epoch 28/30\n",
      "40/40 [==============================] - 1s 15ms/step - loss: 1.5900 - acc: 0.5500 - val_loss: 4.6103 - val_acc: 0.2344\n",
      "Epoch 29/30\n",
      "40/40 [==============================] - 1s 15ms/step - loss: 1.4691 - acc: 0.5836 - val_loss: 5.1516 - val_acc: 0.2031\n",
      "Epoch 30/30\n",
      "40/40 [==============================] - 1s 15ms/step - loss: 1.3440 - acc: 0.6023 - val_loss: 5.1746 - val_acc: 0.2062\n"
     ]
    }
   ],
   "source": [
    "history = model.fit(train_X, train_y, epochs=30, validation_split=0.2)"
   ]
  },
  {
   "cell_type": "code",
   "execution_count": 56,
   "metadata": {},
   "outputs": [],
   "source": [
    "def plot_history(history_dict):\n",
    "  loss = history_dict['loss']\n",
    "  val_loss = history_dict['val_loss']\n",
    "\n",
    "  epochs = range(1, len(loss)+1)\n",
    "  fig = plt.figure(figsize=(14, 5))\n",
    "\n",
    "  ax1 = fig.add_subplot(1, 2, 1)\n",
    "  ax1.plot(epochs, loss, 'b--', label='train_loss')\n",
    "  ax1.plot(epochs, val_loss, 'r--', label='val_loss')\n",
    "  ax1.set_xlabel('Epochs')\n",
    "  ax1.set_ylabel('Loss')\n",
    "  ax1.grid()\n",
    "  ax1.legend()\n",
    "\n",
    "  acc = history_dict['acc']\n",
    "  val_acc = history_dict['val_acc']\n",
    "\n",
    "  ax2 = fig.add_subplot(1, 2, 2)\n",
    "  ax2.plot(epochs,  acc, 'b--', label='train_accuracy')\n",
    "  ax2.plot(epochs, val_loss, 'r--', label='val_accuracy')\n",
    "  ax2.set_xlabel('Epochs')\n",
    "  ax2.set_ylabel('Loss')\n",
    "  ax2.grid()\n",
    "  ax2.legend()\n",
    "\n",
    "  plt.show()"
   ]
  },
  {
   "cell_type": "code",
   "execution_count": 57,
   "metadata": {},
   "outputs": [
    {
     "data": {
      "image/png": "[encoded data removed]",
      "text/plain": [
       "<Figure size 1008x360 with 2 Axes>"
      ]
     },
     "metadata": {
      "needs_background": "light"
     },
     "output_type": "display_data"
    }
   ],
   "source": [
    "plot_history(history.history)"
   ]
  },
  {
   "cell_type": "code",
   "execution_count": 58,
   "metadata": {},
   "outputs": [
    {
     "name": "stdout",
     "output_type": "stream",
     "text": [
      "13/13 [==============================] - 0s 13ms/step - loss: 5.0761 - acc: 0.2475\n"
     ]
    },
    {
     "name": "stderr",
     "output_type": "stream",
     "text": [
      "2022-07-09 11:23:47.258118: I tensorflow/core/grappler/optimizers/custom_graph_optimizer_registry.cc:113] Plugin optimizer for device_type GPU is enabled.\n"
     ]
    },
    {
     "data": {
      "text/plain": [
       "[5.076147079467773, 0.2474999874830246]"
      ]
     },
     "execution_count": 58,
     "metadata": {},
     "output_type": "execute_result"
    }
   ],
   "source": [
    "model.evaluate(test_X, test_y)"
   ]
  },
  {
   "cell_type": "markdown",
   "metadata": {},
   "source": [
    "#### CNN 모델"
   ]
  },
  {
   "cell_type": "code",
   "execution_count": 59,
   "metadata": {},
   "outputs": [
    {
     "name": "stdout",
     "output_type": "stream",
     "text": [
      "(1600, 20, 431, 1)\n",
      "(400, 20, 431, 1)\n",
      "(1600, 50)\n",
      "(400, 50)\n"
     ]
    }
   ],
   "source": [
    "from tensorflow.keras.utils import to_categorical\n",
    "\n",
    "mfcc_np = np.array(audio_mfcc, np.float32)\n",
    "mfcc_array = np.expand_dims(mfcc_np, -1)\n",
    "target_cat = to_categorical(target_np)\n",
    "\n",
    "train_X, test_X, train_y, test_y = train_test_split(mfcc_array, target_cat, test_size=0.2)\n",
    "\n",
    "print(train_X.shape)\n",
    "print(test_X.shape)\n",
    "print(train_y.shape)\n",
    "print(test_y.shape)"
   ]
  },
  {
   "cell_type": "code",
   "execution_count": 60,
   "metadata": {},
   "outputs": [],
   "source": [
    "from keras.layers import Conv2D, MaxPool2D, Flatten\n",
    "\n",
    "def model_build():\n",
    "  model =Sequential()\n",
    "\n",
    "  input = Input(shape=(20, 431, 1))\n",
    "\n",
    "  output = Conv2D(128, 3, strides=1, padding='same', activation='relu')(input)\n",
    "  output = MaxPool2D(pool_size=(2, 2), strides=2, padding='same')(output)\n",
    "\n",
    "  output = Conv2D(256, 3, strides=1, padding='same', activation='relu')(output)\n",
    "  output = MaxPool2D(pool_size=(2, 2), strides=2, padding='same')(output)\n",
    "\n",
    "  output = Conv2D(512, 3, strides=1, padding='same', activation='relu')(output)\n",
    "  output = MaxPool2D(pool_size=(2, 2), strides=2, padding='same')(output)\n",
    "\n",
    "  output = Flatten()(output)\n",
    "  output = Dense(512, activation='relu')(output)\n",
    "  output = Dense(256, activation='relu')(output)\n",
    "  output = Dense(128, activation='relu')(output)\n",
    "\n",
    "  output = Dense(50, activation='softmax')(output)\n",
    "\n",
    "  model = Model(inputs=[input], outputs=output)\n",
    "  model.compile(optimizer='adam',\n",
    "               loss='categorical_crossentropy',\n",
    "               metrics=['acc'])\n",
    "  return model\n"
   ]
  },
  {
   "cell_type": "code",
   "execution_count": 61,
   "metadata": {},
   "outputs": [
    {
     "name": "stdout",
     "output_type": "stream",
     "text": [
      "Model: \"model_4\"\n",
      "_________________________________________________________________\n",
      " Layer (type)                Output Shape              Param #   \n",
      "=================================================================\n",
      " input_2 (InputLayer)        [(None, 20, 431, 1)]      0         \n",
      "                                                                 \n",
      " conv2d_3 (Conv2D)           (None, 20, 431, 128)      1280      \n",
      "                                                                 \n",
      " max_pooling2d_3 (MaxPooling  (None, 10, 216, 128)     0         \n",
      " 2D)                                                             \n",
      "                                                                 \n",
      " conv2d_4 (Conv2D)           (None, 10, 216, 256)      295168    \n",
      "                                                                 \n",
      " max_pooling2d_4 (MaxPooling  (None, 5, 108, 256)      0         \n",
      " 2D)                                                             \n",
      "                                                                 \n",
      " conv2d_5 (Conv2D)           (None, 5, 108, 512)       1180160   \n",
      "                                                                 \n",
      " max_pooling2d_5 (MaxPooling  (None, 3, 54, 512)       0         \n",
      " 2D)                                                             \n",
      "                                                                 \n",
      " flatten_1 (Flatten)         (None, 82944)             0         \n",
      "                                                                 \n",
      " dense_4 (Dense)             (None, 512)               42467840  \n",
      "                                                                 \n",
      " dense_5 (Dense)             (None, 256)               131328    \n",
      "                                                                 \n",
      " dense_6 (Dense)             (None, 128)               32896     \n",
      "                                                                 \n",
      " dense_7 (Dense)             (None, 50)                6450      \n",
      "                                                                 \n",
      "=================================================================\n",
      "Total params: 44,115,122\n",
      "Trainable params: 44,115,122\n",
      "Non-trainable params: 0\n",
      "_________________________________________________________________\n"
     ]
    }
   ],
   "source": [
    "model = model_build()\n",
    "model.summary()"
   ]
  },
  {
   "cell_type": "code",
   "execution_count": 62,
   "metadata": {},
   "outputs": [
    {
     "name": "stdout",
     "output_type": "stream",
     "text": [
      "Epoch 1/20\n"
     ]
    },
    {
     "name": "stderr",
     "output_type": "stream",
     "text": [
      "2022-07-09 11:24:10.657362: I tensorflow/core/grappler/optimizers/custom_graph_optimizer_registry.cc:113] Plugin optimizer for device_type GPU is enabled.\n"
     ]
    },
    {
     "name": "stdout",
     "output_type": "stream",
     "text": [
      "10/10 [==============================] - ETA: 0s - loss: 39.3756 - acc: 0.0258"
     ]
    },
    {
     "name": "stderr",
     "output_type": "stream",
     "text": [
      "2022-07-09 11:24:22.832033: I tensorflow/core/grappler/optimizers/custom_graph_optimizer_registry.cc:113] Plugin optimizer for device_type GPU is enabled.\n"
     ]
    },
    {
     "name": "stdout",
     "output_type": "stream",
     "text": [
      "10/10 [==============================] - 13s 1s/step - loss: 39.3756 - acc: 0.0258 - val_loss: 3.8953 - val_acc: 0.0344\n",
      "Epoch 2/20\n",
      "10/10 [==============================] - 12s 1s/step - loss: 3.8589 - acc: 0.0383 - val_loss: 3.7688 - val_acc: 0.0437\n",
      "Epoch 3/20\n",
      "10/10 [==============================] - 12s 1s/step - loss: 3.6443 - acc: 0.0703 - val_loss: 3.6103 - val_acc: 0.0781\n",
      "Epoch 4/20\n",
      "10/10 [==============================] - 12s 1s/step - loss: 3.3830 - acc: 0.1023 - val_loss: 3.4288 - val_acc: 0.1187\n",
      "Epoch 5/20\n",
      "10/10 [==============================] - 12s 1s/step - loss: 3.1038 - acc: 0.1617 - val_loss: 3.1436 - val_acc: 0.1750\n",
      "Epoch 6/20\n",
      "10/10 [==============================] - 12s 1s/step - loss: 2.7811 - acc: 0.2242 - val_loss: 2.8860 - val_acc: 0.2438\n",
      "Epoch 7/20\n",
      "10/10 [==============================] - 12s 1s/step - loss: 2.4563 - acc: 0.3172 - val_loss: 2.8596 - val_acc: 0.2531\n",
      "Epoch 8/20\n",
      "10/10 [==============================] - 12s 1s/step - loss: 2.2217 - acc: 0.3688 - val_loss: 2.8026 - val_acc: 0.2688\n",
      "Epoch 9/20\n",
      "10/10 [==============================] - 12s 1s/step - loss: 1.8998 - acc: 0.4516 - val_loss: 2.7326 - val_acc: 0.2719\n",
      "Epoch 10/20\n",
      "10/10 [==============================] - 13s 1s/step - loss: 1.6893 - acc: 0.5125 - val_loss: 2.6401 - val_acc: 0.3344\n",
      "Epoch 11/20\n",
      "10/10 [==============================] - 13s 1s/step - loss: 1.4461 - acc: 0.5805 - val_loss: 2.6042 - val_acc: 0.3094\n",
      "Epoch 12/20\n",
      "10/10 [==============================] - 13s 1s/step - loss: 1.0691 - acc: 0.6977 - val_loss: 2.8935 - val_acc: 0.3187\n",
      "Epoch 13/20\n",
      "10/10 [==============================] - 13s 1s/step - loss: 0.8545 - acc: 0.7656 - val_loss: 3.0024 - val_acc: 0.3313\n",
      "Epoch 14/20\n",
      "10/10 [==============================] - 14s 1s/step - loss: 0.6867 - acc: 0.8086 - val_loss: 2.9265 - val_acc: 0.3500\n",
      "Epoch 15/20\n",
      "10/10 [==============================] - 14s 1s/step - loss: 0.5189 - acc: 0.8508 - val_loss: 3.6164 - val_acc: 0.3469\n",
      "Epoch 16/20\n",
      "10/10 [==============================] - 14s 1s/step - loss: 0.4790 - acc: 0.8492 - val_loss: 3.3362 - val_acc: 0.3125\n",
      "Epoch 17/20\n",
      "10/10 [==============================] - 14s 1s/step - loss: 0.3388 - acc: 0.8938 - val_loss: 3.5462 - val_acc: 0.3281\n",
      "Epoch 18/20\n",
      "10/10 [==============================] - 14s 1s/step - loss: 0.3142 - acc: 0.9039 - val_loss: 3.7697 - val_acc: 0.3500\n",
      "Epoch 19/20\n",
      "10/10 [==============================] - 14s 1s/step - loss: 0.1905 - acc: 0.9461 - val_loss: 3.8399 - val_acc: 0.3531\n",
      "Epoch 20/20\n",
      "10/10 [==============================] - 14s 1s/step - loss: 0.1320 - acc: 0.9609 - val_loss: 4.1703 - val_acc: 0.3594\n"
     ]
    }
   ],
   "source": [
    "history = model.fit(train_X, train_y, epochs=20, batch_size=128, validation_split=0.2)"
   ]
  },
  {
   "cell_type": "code",
   "execution_count": 63,
   "metadata": {},
   "outputs": [
    {
     "data": {
      "image/png": "[encoded data removed]",
      "text/plain": [
       "<Figure size 1008x360 with 2 Axes>"
      ]
     },
     "metadata": {
      "needs_background": "light"
     },
     "output_type": "display_data"
    }
   ],
   "source": [
    "plot_history(history.history)"
   ]
  },
  {
   "cell_type": "code",
   "execution_count": 64,
   "metadata": {},
   "outputs": [
    {
     "name": "stdout",
     "output_type": "stream",
     "text": [
      "13/13 [==============================] - 1s 108ms/step - loss: 3.6227 - acc: 0.4125\n"
     ]
    },
    {
     "data": {
      "text/plain": [
       "[3.6227238178253174, 0.4124999940395355]"
      ]
     },
     "execution_count": 64,
     "metadata": {},
     "output_type": "execute_result"
    }
   ],
   "source": [
    "model.evaluate(test_X, test_y)"
   ]
  }
 ],
 "metadata": {
  "kernelspec": {
   "display_name": "Python 3 (ipykernel)",
   "language": "python",
   "name": "python3"
  },
  "language_info": {
   "codemirror_mode": {
    "name": "ipython",
    "version": 3
   },
   "file_extension": ".py",
   "mimetype": "text/x-python",
   "name": "python",
   "nbconvert_exporter": "python",
   "pygments_lexer": "ipython3",
   "version": "3.8.13"
  },
  "vscode": {
   "interpreter": {
    "hash": "8afb11e776545c2f779305d38b35ecf7129a79516cbe52bed3bd66b571a222f6"
   }
  }
 },
 "nbformat": 4,
 "nbformat_minor": 2
}
