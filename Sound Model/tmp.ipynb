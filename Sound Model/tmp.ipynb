{
 "cells": [
  {
   "cell_type": "code",
   "execution_count": 1,
   "metadata": {},
   "outputs": [],
   "source": [
    "import numpy as np\n",
    "import itertools\n",
    "import librosa\n",
    "import librosa.display\n",
    "import IPython.display as ipd\n",
    "import matplotlib.pyplot as plt\n",
    "import pandas as pd\n",
    "import warnings\n",
    "import os\n",
    "warnings.filterwarnings(action='ignore')"
   ]
  },
  {
   "cell_type": "code",
   "execution_count": 2,
   "metadata": {},
   "outputs": [],
   "source": [
    "import wave\n",
    "import numpy as np\n",
    "import scipy.io as sio\n",
    "import scipy.io.wavfile\n",
    "\n",
    "def get_duration(audio_path):\n",
    "    audio = wave.open(audio_path)\n",
    "    frames = audio.getnframes()\n",
    "    rate = audio.getframerate()\n",
    "    duration = frames / float(rate)\n",
    "    return duration\n",
    "\n",
    "def get_length(audio_path):\n",
    "    sr, data = sio.wavfile.read(audio_path)\n",
    "    times = np.arange(len(data))/float(sr)\n",
    "    return times\n"
   ]
  },
  {
   "cell_type": "code",
   "execution_count": 3,
   "metadata": {},
   "outputs": [
    {
     "name": "stdout",
     "output_type": "stream",
     "text": [
      "[array([-0.14791888, -0.20709881,  0.03313855, ...,  0.09685236,\n",
      "        0.30741543,  0.38380924], dtype=float32), array([ 0.05579931,  0.19210097,  0.13797641, ..., -0.2298118 ,\n",
      "       -0.03340555,  0.11213755], dtype=float32)]\n",
      "[0, 0, 0, 0, 0, 0, 0, 0, 0, 0]\n"
     ]
    }
   ],
   "source": [
    "class_list = ['airplane', 'bell', 'car_horn', 'cat', 'chirping_birds', \n",
    "              'clapping', 'crying_baby', 'dog_bark', 'drum', 'guitar', 'gun_shot', \n",
    "              'laughing','lion','piano','rain','scream','siren','snoring','thunderstorm',\n",
    "              'vacuum_cleaner'] \n",
    "\n",
    "audio_duration = []\n",
    "audio = []\n",
    "label = []\n",
    "\n",
    "\n",
    "for i in range (len(class_list)):\n",
    "    audio_duration.append([])\n",
    "\n",
    "try:\n",
    "    for i in range(len(class_list)):\n",
    "        dir_path = './Audio Dataset_join 2sec/' \n",
    "        dir_path = dir_path + class_list[i]\n",
    "\n",
    "        for (root, directories, files) in os.walk(dir_path):\n",
    "            for file in files:\n",
    "                if '.mp3' in file:\n",
    "                    file_path = os.path.join(root, file)\n",
    "                    # y, sr = librosa.load(file_path, sr=None, duration=2) \n",
    "                    y, sr = librosa.load(file_path) \n",
    "                    duration = librosa.get_duration(y, sr=sr)\n",
    "                    audio_duration[i].append(duration)\n",
    "                    if len(y) != 44100:\n",
    "                        print(file_path)\n",
    "                    audio.append(y)\n",
    "                    label.append(i)\n",
    "                elif '.wav' in file:\n",
    "                    file_path = os.path.join(root, file)\n",
    "                    # y, sr = librosa.load(file_path, sr=None, duration=2) \n",
    "                    y, sr = librosa.load(file_path) \n",
    "                    duration = librosa.get_duration(y, sr=sr)\n",
    "                    audio_duration[i].append(duration)\n",
    "                    if len(y) != 44100:\n",
    "                        print(file_path)\n",
    "                    audio.append(y)\n",
    "                    label.append(i)\n",
    "except:\n",
    "    print(file_path)\n",
    "\n",
    "print(audio[:2])\n",
    "print(label[:10])"
   ]
  },
  {
   "cell_type": "code",
   "execution_count": 13,
   "metadata": {},
   "outputs": [
    {
     "name": "stdout",
     "output_type": "stream",
     "text": [
      "44100\n"
     ]
    }
   ],
   "source": [
    "print(len(audio[0]))"
   ]
  },
  {
   "cell_type": "code",
   "execution_count": 10,
   "metadata": {},
   "outputs": [
    {
     "name": "stdout",
     "output_type": "stream",
     "text": [
      "44073\n",
      "43990\n",
      "43889\n"
     ]
    }
   ],
   "source": [
    "for i in audio:\n",
    "    if len(i) != 44100:\n",
    "        print(len(i))"
   ]
  },
  {
   "cell_type": "code",
   "execution_count": 4,
   "metadata": {},
   "outputs": [
    {
     "data": {
      "image/png": "[encoded data removed]",
      "text/plain": [
       "<Figure size 432x288 with 1 Axes>"
      ]
     },
     "metadata": {
      "needs_background": "light"
     },
     "output_type": "display_data"
    },
    {
     "data": {
      "image/png": "[encoded data removed]",
      "text/plain": [
       "<Figure size 432x288 with 1 Axes>"
      ]
     },
     "metadata": {
      "needs_background": "light"
     },
     "output_type": "display_data"
    }
   ],
   "source": [
    "for i in range(len(audio_duration[0:2])):\n",
    "    num = len(audio_duration[i])\n",
    "    x = np.arange(num)\n",
    "\n",
    "    plt.bar(x, audio_duration[i])\n",
    "    plt.title(class_list[i])\n",
    "\n",
    "\n",
    "    plt.show()"
   ]
  },
  {
   "cell_type": "code",
   "execution_count": 5,
   "metadata": {},
   "outputs": [
    {
     "name": "stdout",
     "output_type": "stream",
     "text": [
      "num:  airplane 87 2.0\n",
      "num:  bell 42 2.0\n"
     ]
    }
   ],
   "source": [
    "for i in range(len(audio_duration[0:2])):\n",
    "    # print('max_duration: ', max(audio_duration[i]))\n",
    "    # print('min_duration: ', min(audio_duration[i]))\n",
    "    try:\n",
    "        print('num: ', class_list[i], len(audio_duration[i]), min(audio_duration[i]))\n",
    "        \n",
    "    except:\n",
    "        pass\n",
    "    "
   ]
  },
  {
   "cell_type": "code",
   "execution_count": 6,
   "metadata": {},
   "outputs": [
    {
     "name": "stdout",
     "output_type": "stream",
     "text": [
      "44100\n",
      "44100\n"
     ]
    }
   ],
   "source": [
    "array_c = []\n",
    "for i in audio:\n",
    "    array_c.append(len(i))\n",
    "\n",
    "print(max(array_c))\n",
    "print(min(array_c))\n"
   ]
  },
  {
   "cell_type": "code",
   "execution_count": 7,
   "metadata": {},
   "outputs": [
    {
     "name": "stdout",
     "output_type": "stream",
     "text": [
      "22050\n"
     ]
    }
   ],
   "source": [
    "print(sr)"
   ]
  },
  {
   "cell_type": "code",
   "execution_count": 8,
   "metadata": {},
   "outputs": [
    {
     "name": "stdout",
     "output_type": "stream",
     "text": [
      "44100\n"
     ]
    }
   ],
   "source": [
    "print(len(audio[0]))"
   ]
  },
  {
   "cell_type": "code",
   "execution_count": 9,
   "metadata": {},
   "outputs": [
    {
     "name": "stdout",
     "output_type": "stream",
     "text": [
      "(4081, 44100) (4081,)\n"
     ]
    }
   ],
   "source": [
    "\n",
    "audio_np = np.array(audio, np.float64)\n",
    "rabel_np = np.array(label, np.int16)\n",
    "\n",
    "print( audio_np.shape ,rabel_np.shape)"
   ]
  },
  {
   "cell_type": "code",
   "execution_count": 10,
   "metadata": {},
   "outputs": [
    {
     "name": "stdout",
     "output_type": "stream",
     "text": [
      "[ 0  0  0 ... 19 19 19]\n"
     ]
    }
   ],
   "source": [
    "# print(audio_np)\n",
    "print(rabel_np)"
   ]
  },
  {
   "cell_type": "code",
   "execution_count": 11,
   "metadata": {},
   "outputs": [
    {
     "data": {
      "image/png": "[encoded data removed]",
      "text/plain": [
       "<Figure size 1296x144 with 1 Axes>"
      ]
     },
     "metadata": {
      "needs_background": "light"
     },
     "output_type": "display_data"
    },
    {
     "data": {
      "image/png": "[encoded data removed]",
      "text/plain": [
       "<Figure size 1296x144 with 1 Axes>"
      ]
     },
     "metadata": {
      "needs_background": "light"
     },
     "output_type": "display_data"
    }
   ],
   "source": [
    "for idx in range(0, len(audio_np[0:2])):\n",
    "    plt.figure(figsize=(18,2))\n",
    "    plt.plot(audio_np[idx])\n",
    "    plt.ylim((-1, 1))\n",
    "    plt.show()"
   ]
  },
  {
   "cell_type": "code",
   "execution_count": 12,
   "metadata": {},
   "outputs": [
    {
     "data": {
      "text/plain": [
       "MinMaxScaler()"
      ]
     },
     "execution_count": 12,
     "metadata": {},
     "output_type": "execute_result"
    }
   ],
   "source": [
    "from sklearn.preprocessing import MinMaxScaler\n",
    "\n",
    "scaler = MinMaxScaler()\n",
    "scaler.fit(audio_np)"
   ]
  },
  {
   "cell_type": "code",
   "execution_count": 19,
   "metadata": {},
   "outputs": [
    {
     "name": "stdout",
     "output_type": "stream",
     "text": [
      "[ 0  0  0 ... 19 19 19]\n"
     ]
    }
   ],
   "source": [
    "print(rabel_np)"
   ]
  },
  {
   "cell_type": "code",
   "execution_count": 14,
   "metadata": {},
   "outputs": [
    {
     "name": "stdout",
     "output_type": "stream",
     "text": [
      "(3264, 44100)\n",
      "(817, 44100)\n",
      "(3264,)\n",
      "(817,)\n"
     ]
    }
   ],
   "source": [
    "from sklearn.model_selection import train_test_split\n",
    "\n",
    "train_x, test_x, train_y, test_y = train_test_split(audio_np, rabel_np, test_size=0.2)\n",
    "\n",
    "print(train_x.shape)\n",
    "print(test_x.shape)\n",
    "print(train_y.shape)\n",
    "print(test_y.shape)"
   ]
  },
  {
   "cell_type": "code",
   "execution_count": 17,
   "metadata": {},
   "outputs": [
    {
     "name": "stdout",
     "output_type": "stream",
     "text": [
      "0.2717258261933905\n"
     ]
    }
   ],
   "source": [
    "from sklearn.linear_model import LogisticRegression\n",
    "from sklearn.metrics import accuracy_score\n",
    "\n",
    "LR = LogisticRegression()\n",
    "LR.fit(train_x, train_y)\n",
    "pred = LR.predict(test_x)\n",
    "# print(pred)\n",
    "# print(test_y)\n",
    "acc = accuracy_score(pred, test_y)\n",
    "print(acc)"
   ]
  },
  {
   "cell_type": "code",
   "execution_count": 15,
   "metadata": {},
   "outputs": [
    {
     "name": "stdout",
     "output_type": "stream",
     "text": [
      "0.2423500611995104\n"
     ]
    }
   ],
   "source": [
    "from sklearn import svm\n",
    "from sklearn.metrics import accuracy_score\n",
    "\n",
    "SVM = svm.SVC(kernel='linear')\n",
    "SVM.fit(train_x, train_y)\n",
    "pred =SVM.predict(test_x)\n",
    "acc = accuracy_score(pred, test_y)\n",
    "print(acc)\n"
   ]
  },
  {
   "cell_type": "code",
   "execution_count": 25,
   "metadata": {},
   "outputs": [
    {
     "name": "stdout",
     "output_type": "stream",
     "text": [
      "0.2558139534883721\n"
     ]
    }
   ],
   "source": [
    "from sklearn.tree import DecisionTreeClassifier\n",
    "\n",
    "DT = DecisionTreeClassifier()\n",
    "DT.fit(train_x, train_y)\n",
    "pred = DT.predict(test_x)\n",
    "acc = accuracy_score(pred, test_y)\n",
    "print(acc)"
   ]
  },
  {
   "cell_type": "code",
   "execution_count": 33,
   "metadata": {},
   "outputs": [
    {
     "name": "stdout",
     "output_type": "stream",
     "text": [
      "(4081, 44100) 22050\n"
     ]
    }
   ],
   "source": [
    "print(audio_np.shape, sr)"
   ]
  },
  {
   "cell_type": "code",
   "execution_count": 32,
   "metadata": {},
   "outputs": [],
   "source": [
    "audio_stft = []\n",
    "for y in audio_np:\n",
    "  S = librosa.core.stft(y, n_fft=1024, hop_length=512, win_length=1024)\n",
    "  D = np.abs(S)**2\n",
    "  log_S = librosa.power_to_db(S, ref=np.max)\n",
    "  audio_stft.append(log_S)"
   ]
  },
  {
   "cell_type": "code",
   "execution_count": 26,
   "metadata": {},
   "outputs": [
    {
     "data": {
      "text/plain": [
       "<matplotlib.collections.QuadMesh at 0x20cff85ca00>"
      ]
     },
     "execution_count": 26,
     "metadata": {},
     "output_type": "execute_result"
    },
    {
     "data": {
      "image/png": "[encoded data removed]",
      "text/plain": [
       "<Figure size 1008x432 with 1 Axes>"
      ]
     },
     "metadata": {
      "needs_background": "light"
     },
     "output_type": "display_data"
    }
   ],
   "source": [
    "from IPython.core.pylabtools import figsize\n",
    "\n",
    "plt.figure(figsize(14,6))\n",
    "librosa.display.specshow(log_S, sr=16000, x_axis='time')"
   ]
  },
  {
   "cell_type": "code",
   "execution_count": 34,
   "metadata": {},
   "outputs": [
    {
     "name": "stdout",
     "output_type": "stream",
     "text": [
      "(4081, 513, 87) (4081,)\n"
     ]
    }
   ],
   "source": [
    "stft_np = np.array(audio_stft, np.float32)\n",
    "\n",
    "print(stft_np.shape, rabel_np.shape)"
   ]
  },
  {
   "cell_type": "code",
   "execution_count": 43,
   "metadata": {},
   "outputs": [],
   "source": [
    "stft_np = stft_np.reshape(4081, 513 * 87)"
   ]
  },
  {
   "cell_type": "code",
   "execution_count": 44,
   "metadata": {},
   "outputs": [
    {
     "data": {
      "text/plain": [
       "MinMaxScaler()"
      ]
     },
     "execution_count": 44,
     "metadata": {},
     "output_type": "execute_result"
    }
   ],
   "source": [
    "from sklearn.preprocessing import MinMaxScaler\n",
    "\n",
    "scaler = MinMaxScaler()\n",
    "scaler.fit(stft_np)"
   ]
  },
  {
   "cell_type": "code",
   "execution_count": 46,
   "metadata": {},
   "outputs": [
    {
     "name": "stdout",
     "output_type": "stream",
     "text": [
      "(3264, 44631)\n",
      "(817, 44631)\n",
      "(3264,)\n",
      "(817,)\n"
     ]
    }
   ],
   "source": [
    "from sklearn.model_selection import train_test_split\n",
    "\n",
    "train_x, test_x, train_y, test_y = train_test_split(stft_np, rabel_np, test_size=0.2)\n",
    "\n",
    "print(train_x.shape)\n",
    "print(test_x.shape)\n",
    "print(train_y.shape)\n",
    "print(test_y.shape)"
   ]
  },
  {
   "cell_type": "code",
   "execution_count": 47,
   "metadata": {},
   "outputs": [
    {
     "name": "stdout",
     "output_type": "stream",
     "text": [
      "0.7172582619339045\n"
     ]
    }
   ],
   "source": [
    "from sklearn.linear_model import LogisticRegression\n",
    "from sklearn.metrics import accuracy_score\n",
    "\n",
    "LR = LogisticRegression()\n",
    "LR.fit(train_x, train_y)\n",
    "pred = LR.predict(test_x)\n",
    "acc = accuracy_score(pred, test_y)\n",
    "print(acc)"
   ]
  },
  {
   "cell_type": "code",
   "execution_count": 58,
   "metadata": {},
   "outputs": [
    {
     "name": "stdout",
     "output_type": "stream",
     "text": [
      "0.784577723378213\n"
     ]
    }
   ],
   "source": [
    "from sklearn import svm\n",
    "\n",
    "SVM = svm.SVC(kernel='linear')\n",
    "SVM.fit(train_x, train_y)\n",
    "pred =SVM.predict(test_x)\n",
    "acc = accuracy_score(pred, test_y)\n",
    "print(acc)"
   ]
  },
  {
   "cell_type": "code",
   "execution_count": 57,
   "metadata": {},
   "outputs": [
    {
     "name": "stdout",
     "output_type": "stream",
     "text": [
      "0.4920440636474908\n"
     ]
    }
   ],
   "source": [
    "from sklearn.tree import DecisionTreeClassifier\n",
    "\n",
    "DT = DecisionTreeClassifier()\n",
    "DT.fit(train_x, train_y)\n",
    "pred = DT.predict(test_x)\n",
    "acc = accuracy_score(pred, test_y)\n",
    "print(acc)"
   ]
  },
  {
   "cell_type": "markdown",
   "metadata": {},
   "source": [
    "----------"
   ]
  },
  {
   "cell_type": "markdown",
   "metadata": {},
   "source": [
    "## DNN"
   ]
  },
  {
   "cell_type": "code",
   "execution_count": 74,
   "metadata": {},
   "outputs": [
    {
     "name": "stdout",
     "output_type": "stream",
     "text": [
      "(4081, 44100)\n"
     ]
    }
   ],
   "source": [
    "print(audio_np.shape)"
   ]
  },
  {
   "cell_type": "code",
   "execution_count": 70,
   "metadata": {},
   "outputs": [
    {
     "name": "stdout",
     "output_type": "stream",
     "text": [
      "(3264, 44631, 1)\n",
      "(817, 44631, 1)\n",
      "(3264, 20)\n",
      "(817, 20)\n"
     ]
    }
   ],
   "source": [
    "from keras.utils import to_categorical\n",
    "\n",
    "stft_np = np.array(audio_stft, np.float32)\n",
    "stft_np = stft_np.reshape(4081, 513 * 87)\n",
    "cqt_array = np.expand_dims(stft_np, -1)\n",
    "inst_cat = to_categorical(rabel_np)\n",
    "\n",
    "train_x, test_x, train_y, test_y = train_test_split(cqt_array, inst_cat, test_size=0.2)\n",
    "\n",
    "print(train_x.shape)\n",
    "print(test_x.shape)\n",
    "print(train_y.shape)\n",
    "print(test_y.shape)"
   ]
  },
  {
   "cell_type": "code",
   "execution_count": 76,
   "metadata": {},
   "outputs": [],
   "source": [
    "from keras.models import Sequential, Model\n",
    "from keras.layers import Input, Dense\n",
    "\n",
    "def model_build():\n",
    "  model = Sequential()\n",
    "\n",
    "  input = Input(shape=(44631,), name='input')\n",
    "  output = Dense(512, activation='relu', name='hidden1')(input)\n",
    "  output = Dense(256, activation='relu', name='hidden2')(output)\n",
    "  output = Dense(128, activation='relu', name='hidden3')(output)\n",
    "  output = Dense(20, activation='softmax', name='output')(output)\n",
    "\n",
    "  model = Model(inputs=[input], outputs=output)\n",
    "\n",
    "  model.compile(optimizer='adam',\n",
    "                loss = 'categorical_crossentropy',\n",
    "                metrics=['acc'])\n",
    "  return model"
   ]
  },
  {
   "cell_type": "code",
   "execution_count": null,
   "metadata": {},
   "outputs": [],
   "source": [
    "# record \n",
    "# layer = 3 - acc = 0.64\n",
    "# layer = 4 - acc = 0.61\n",
    "# layer = 5 - acc = 0.69"
   ]
  },
  {
   "cell_type": "code",
   "execution_count": 77,
   "metadata": {},
   "outputs": [],
   "source": [
    "### test\n",
    "\n",
    "from keras.models import Sequential, Model\n",
    "from keras.layers import Input, Dense\n",
    "\n",
    "def model_build():\n",
    "  model = Sequential()\n",
    "\n",
    "  input = Input(shape=(44631,), name='input')\n",
    "  output = Dense(1024, activation='relu', name='hidden0')(input)\n",
    "  output = Dense(512, activation='relu', name='hidden1')(output)\n",
    "  output = Dense(256, activation='relu', name='hidden2')(output)\n",
    "  output = Dense(128, activation='relu', name='hidden3')(output)\n",
    "  output = Dense(20, activation='softmax', name='output')(output)\n",
    "\n",
    "  model = Model(inputs=[input], outputs=output)\n",
    "\n",
    "  model.compile(optimizer='adam',\n",
    "                loss = 'categorical_crossentropy',\n",
    "                metrics=['acc'])\n",
    "  return model"
   ]
  },
  {
   "cell_type": "code",
   "execution_count": 78,
   "metadata": {},
   "outputs": [
    {
     "name": "stdout",
     "output_type": "stream",
     "text": [
      "Model: \"model\"\n",
      "_________________________________________________________________\n",
      " Layer (type)                Output Shape              Param #   \n",
      "=================================================================\n",
      " input (InputLayer)          [(None, 44631)]           0         \n",
      "                                                                 \n",
      " hidden0 (Dense)             (None, 1024)              45703168  \n",
      "                                                                 \n",
      " hidden1 (Dense)             (None, 512)               524800    \n",
      "                                                                 \n",
      " hidden2 (Dense)             (None, 256)               131328    \n",
      "                                                                 \n",
      " hidden3 (Dense)             (None, 128)               32896     \n",
      "                                                                 \n",
      " output (Dense)              (None, 20)                2580      \n",
      "                                                                 \n",
      "=================================================================\n",
      "Total params: 46,394,772\n",
      "Trainable params: 46,394,772\n",
      "Non-trainable params: 0\n",
      "_________________________________________________________________\n"
     ]
    }
   ],
   "source": [
    "model = model_build()\n",
    "model.summary()"
   ]
  },
  {
   "cell_type": "code",
   "execution_count": 79,
   "metadata": {},
   "outputs": [
    {
     "name": "stdout",
     "output_type": "stream",
     "text": [
      "Epoch 1/30\n",
      "21/21 [==============================] - 4s 161ms/step - loss: 1540.4242 - acc: 0.1459 - val_loss: 541.2249 - val_acc: 0.1210\n",
      "Epoch 2/30\n",
      "21/21 [==============================] - 3s 154ms/step - loss: 553.8449 - acc: 0.1455 - val_loss: 253.2250 - val_acc: 0.0980\n",
      "Epoch 3/30\n",
      "21/21 [==============================] - 3s 153ms/step - loss: 206.0316 - acc: 0.1628 - val_loss: 81.6436 - val_acc: 0.1179\n",
      "Epoch 4/30\n",
      "21/21 [==============================] - 3s 166ms/step - loss: 71.9561 - acc: 0.1835 - val_loss: 39.1815 - val_acc: 0.2435\n",
      "Epoch 5/30\n",
      "21/21 [==============================] - 4s 170ms/step - loss: 30.9119 - acc: 0.1949 - val_loss: 20.9636 - val_acc: 0.1776\n",
      "Epoch 6/30\n",
      "21/21 [==============================] - 3s 155ms/step - loss: 18.9583 - acc: 0.2241 - val_loss: 12.6240 - val_acc: 0.1807\n",
      "Epoch 7/30\n",
      "21/21 [==============================] - 3s 158ms/step - loss: 11.7815 - acc: 0.2398 - val_loss: 10.0613 - val_acc: 0.3384\n",
      "Epoch 8/30\n",
      "21/21 [==============================] - 3s 153ms/step - loss: 10.0936 - acc: 0.2489 - val_loss: 9.0002 - val_acc: 0.3201\n",
      "Epoch 9/30\n",
      "21/21 [==============================] - 3s 157ms/step - loss: 9.2972 - acc: 0.2761 - val_loss: 6.1110 - val_acc: 0.4043\n",
      "Epoch 10/30\n",
      "21/21 [==============================] - 3s 152ms/step - loss: 7.1053 - acc: 0.3075 - val_loss: 6.0628 - val_acc: 0.4441\n",
      "Epoch 11/30\n",
      "21/21 [==============================] - 3s 166ms/step - loss: 3.7442 - acc: 0.4634 - val_loss: 2.8081 - val_acc: 0.3798\n",
      "Epoch 12/30\n",
      "21/21 [==============================] - 3s 153ms/step - loss: 2.3478 - acc: 0.4937 - val_loss: 2.3280 - val_acc: 0.4992\n",
      "Epoch 13/30\n",
      "21/21 [==============================] - 3s 156ms/step - loss: 2.0380 - acc: 0.5220 - val_loss: 2.0177 - val_acc: 0.5789\n",
      "Epoch 14/30\n",
      "21/21 [==============================] - 3s 158ms/step - loss: 1.9716 - acc: 0.5488 - val_loss: 2.0554 - val_acc: 0.4747\n",
      "Epoch 15/30\n",
      "21/21 [==============================] - 3s 154ms/step - loss: 1.7348 - acc: 0.6036 - val_loss: 1.7223 - val_acc: 0.5911\n",
      "Epoch 16/30\n",
      "21/21 [==============================] - 3s 155ms/step - loss: 1.6228 - acc: 0.6082 - val_loss: 1.9633 - val_acc: 0.4564\n",
      "Epoch 17/30\n",
      "21/21 [==============================] - 3s 153ms/step - loss: 1.8365 - acc: 0.5373 - val_loss: 1.8240 - val_acc: 0.5467\n",
      "Epoch 18/30\n",
      "21/21 [==============================] - 3s 152ms/step - loss: 1.5862 - acc: 0.5913 - val_loss: 2.0949 - val_acc: 0.4043\n",
      "Epoch 19/30\n",
      "21/21 [==============================] - 3s 152ms/step - loss: 1.7256 - acc: 0.5553 - val_loss: 1.8126 - val_acc: 0.5345\n",
      "Epoch 20/30\n",
      "21/21 [==============================] - 3s 151ms/step - loss: 1.4752 - acc: 0.6277 - val_loss: 1.6630 - val_acc: 0.5467\n",
      "Epoch 21/30\n",
      "21/21 [==============================] - 3s 153ms/step - loss: 1.4656 - acc: 0.5998 - val_loss: 1.4958 - val_acc: 0.5835\n",
      "Epoch 22/30\n",
      "21/21 [==============================] - 3s 151ms/step - loss: 1.3375 - acc: 0.6304 - val_loss: 1.8225 - val_acc: 0.5329\n",
      "Epoch 23/30\n",
      "21/21 [==============================] - 3s 152ms/step - loss: 1.2981 - acc: 0.6706 - val_loss: 1.5181 - val_acc: 0.6080\n",
      "Epoch 24/30\n",
      "21/21 [==============================] - 3s 151ms/step - loss: 1.2412 - acc: 0.6691 - val_loss: 1.5227 - val_acc: 0.6080\n",
      "Epoch 25/30\n",
      "21/21 [==============================] - 3s 153ms/step - loss: 1.2855 - acc: 0.6511 - val_loss: 1.5611 - val_acc: 0.5574\n",
      "Epoch 26/30\n",
      "21/21 [==============================] - 3s 155ms/step - loss: 1.3198 - acc: 0.6388 - val_loss: 1.3464 - val_acc: 0.6401\n",
      "Epoch 27/30\n",
      "21/21 [==============================] - 3s 155ms/step - loss: 1.1730 - acc: 0.6829 - val_loss: 1.2738 - val_acc: 0.6263\n",
      "Epoch 28/30\n",
      "21/21 [==============================] - 3s 154ms/step - loss: 1.1279 - acc: 0.6902 - val_loss: 1.4789 - val_acc: 0.5881\n",
      "Epoch 29/30\n",
      "21/21 [==============================] - 3s 152ms/step - loss: 1.2906 - acc: 0.6515 - val_loss: 1.3006 - val_acc: 0.6692\n",
      "Epoch 30/30\n",
      "21/21 [==============================] - 3s 152ms/step - loss: 1.1619 - acc: 0.6752 - val_loss: 1.3884 - val_acc: 0.6493\n"
     ]
    }
   ],
   "source": [
    "history = model.fit(train_x, train_y, epochs=30, batch_size = 128, validation_split=0.2)"
   ]
  },
  {
   "cell_type": "code",
   "execution_count": 80,
   "metadata": {},
   "outputs": [],
   "source": [
    "def plot_history(history_dict):\n",
    "    loss = history_dict['loss']\n",
    "    val_loss = history_dict['val_loss']\n",
    "\n",
    "    epochs = range(1, len(loss) + 1)\n",
    "    fig = plt.figure(figsize=(14,5))\n",
    "\n",
    "    ax1 = fig.add_subplot(1, 2, 1)\n",
    "    ax1.plot(epochs, loss, 'b--', label='train_loss')\n",
    "    ax1.plot(epochs, val_loss, 'r:', label='val_loss')\n",
    "    ax1.set_xlabel('Epochs')\n",
    "    ax1.set_ylabel('Loss')\n",
    "    ax1.grid()\n",
    "    ax1.legend()\n",
    "\n",
    "    acc = history_dict['acc']\n",
    "    val_acc = history_dict['val_acc']\n",
    "\n",
    "    epochs = range(1, len(loss) + 1)\n",
    "    fig = plt.figure(figsize=(14,5))\n",
    "\n",
    "    ax2 = fig.add_subplot(1, 2, 2)\n",
    "    ax2.plot(epochs, acc, 'b--', label='train_accuracy')\n",
    "    ax2.plot(epochs, val_acc, 'r:', label='val_accuracy')\n",
    "    ax2.set_xlabel('Epochs')\n",
    "    ax2.set_ylabel('Loss')\n",
    "    ax2.grid()\n",
    "    ax2.legend()\n",
    "\n",
    "    plt.show()\n",
    "\n",
    "# val 높다는건 오버 피팅되었다는 거다. \n",
    "# acc 는 높게 나옴 학습은 잘됨 (단 오버피팅임)"
   ]
  },
  {
   "cell_type": "code",
   "execution_count": 81,
   "metadata": {},
   "outputs": [
    {
     "data": {
      "image/png": "[encoded data removed]",
      "text/plain": [
       "<Figure size 1008x360 with 1 Axes>"
      ]
     },
     "metadata": {
      "needs_background": "light"
     },
     "output_type": "display_data"
    },
    {
     "data": {
      "image/png": "[encoded data removed]",
      "text/plain": [
       "<Figure size 1008x360 with 1 Axes>"
      ]
     },
     "metadata": {
      "needs_background": "light"
     },
     "output_type": "display_data"
    }
   ],
   "source": [
    "plot_history(history.history)"
   ]
  },
  {
   "cell_type": "code",
   "execution_count": 82,
   "metadata": {},
   "outputs": [
    {
     "name": "stdout",
     "output_type": "stream",
     "text": [
      "26/26 [==============================] - 0s 18ms/step - loss: 1.3467 - acc: 0.6610\n"
     ]
    },
    {
     "data": {
      "text/plain": [
       "[1.3466798067092896, 0.6609547138214111]"
      ]
     },
     "execution_count": 82,
     "metadata": {},
     "output_type": "execute_result"
    }
   ],
   "source": [
    "model.evaluate(test_x, test_y)"
   ]
  },
  {
   "cell_type": "markdown",
   "metadata": {},
   "source": [
    "## CNN"
   ]
  },
  {
   "cell_type": "code",
   "execution_count": 90,
   "metadata": {},
   "outputs": [
    {
     "name": "stdout",
     "output_type": "stream",
     "text": [
      "(3264, 513, 87, 1)\n",
      "(817, 513, 87, 1)\n",
      "(3264, 20)\n"
     ]
    }
   ],
   "source": [
    "from keras.utils import to_categorical\n",
    "\n",
    "cqt_np = np.array(audio_stft, np.float32)\n",
    "\n",
    "cqt_array = np.expand_dims(cqt_np, -1)\n",
    "inst_cat = to_categorical(rabel_np)\n",
    "\n",
    "train_x, test_x, train_y, test_y = train_test_split(cqt_array, inst_cat, test_size=0.2)\n",
    "\n",
    "print(train_x.shape)\n",
    "print(test_x.shape)\n",
    "print(train_y.shape)"
   ]
  },
  {
   "cell_type": "code",
   "execution_count": 92,
   "metadata": {},
   "outputs": [],
   "source": [
    "from keras.layers import Conv2D, MaxPool2D, Flatten\n",
    "\n",
    "def model_build():\n",
    "  model = Sequential()\n",
    "\n",
    "  input = Input(shape=(513, 87, 1))\n",
    "\n",
    "  output = Conv2D(128, 3, strides=1, padding='same', activation='relu')(input)\n",
    "  output = MaxPool2D(pool_size=(2, 2), strides=2, padding='same')(output)\n",
    "\n",
    "  output = Conv2D(256, 3, strides=1, padding='same', activation='relu')(output)\n",
    "  output = MaxPool2D(pool_size=(2, 2), strides=2, padding='same')(output)\n",
    "\n",
    "  output = Conv2D(512, 3, strides=1, padding='same', activation='relu')(output)\n",
    "  output = MaxPool2D(pool_size=(2, 2), strides=2, padding='same')(output)\n",
    "\n",
    "  output = Flatten()(output)\n",
    "  output = Dense(512, activation='relu')(output)\n",
    "  output = Dense(256, activation='relu')(output)\n",
    "  output = Dense(128, activation='relu')(output)\n",
    "\n",
    "  output = Dense(20, activation='softmax')(output)\n",
    "\n",
    "  model = Model(inputs =[input], outputs=output) \n",
    "\n",
    "  model.compile(optimizer='adam',\n",
    "                loss='categorical_crossentropy',\n",
    "                metrics=['acc'])\n",
    "  return model"
   ]
  },
  {
   "cell_type": "code",
   "execution_count": 93,
   "metadata": {},
   "outputs": [
    {
     "name": "stdout",
     "output_type": "stream",
     "text": [
      "Model: \"model_1\"\n",
      "_________________________________________________________________\n",
      " Layer (type)                Output Shape              Param #   \n",
      "=================================================================\n",
      " input_1 (InputLayer)        [(None, 513, 87, 1)]      0         \n",
      "                                                                 \n",
      " conv2d (Conv2D)             (None, 513, 87, 128)      1280      \n",
      "                                                                 \n",
      " max_pooling2d (MaxPooling2D  (None, 257, 44, 128)     0         \n",
      " )                                                               \n",
      "                                                                 \n",
      " conv2d_1 (Conv2D)           (None, 257, 44, 256)      295168    \n",
      "                                                                 \n",
      " max_pooling2d_1 (MaxPooling  (None, 129, 22, 256)     0         \n",
      " 2D)                                                             \n",
      "                                                                 \n",
      " conv2d_2 (Conv2D)           (None, 129, 22, 512)      1180160   \n",
      "                                                                 \n",
      " max_pooling2d_2 (MaxPooling  (None, 65, 11, 512)      0         \n",
      " 2D)                                                             \n",
      "                                                                 \n",
      " flatten (Flatten)           (None, 366080)            0         \n",
      "                                                                 \n",
      " dense (Dense)               (None, 512)               187433472 \n",
      "                                                                 \n",
      " dense_1 (Dense)             (None, 256)               131328    \n",
      "                                                                 \n",
      " dense_2 (Dense)             (None, 128)               32896     \n",
      "                                                                 \n",
      " dense_3 (Dense)             (None, 20)                2580      \n",
      "                                                                 \n",
      "=================================================================\n",
      "Total params: 189,076,884\n",
      "Trainable params: 189,076,884\n",
      "Non-trainable params: 0\n",
      "_________________________________________________________________\n"
     ]
    }
   ],
   "source": [
    "model = model_build()\n",
    "model.summary()"
   ]
  },
  {
   "cell_type": "code",
   "execution_count": 94,
   "metadata": {},
   "outputs": [
    {
     "name": "stdout",
     "output_type": "stream",
     "text": [
      "Epoch 1/20\n",
      "21/21 [==============================] - 422s 18s/step - loss: 40.4867 - acc: 0.2321 - val_loss: 2.5114 - val_acc: 0.2772\n",
      "Epoch 2/20\n",
      "21/21 [==============================] - 366s 17s/step - loss: 2.2421 - acc: 0.3052 - val_loss: 2.1087 - val_acc: 0.3660\n",
      "Epoch 3/20\n",
      "21/21 [==============================] - 384s 18s/step - loss: 2.0858 - acc: 0.3470 - val_loss: 1.9376 - val_acc: 0.4472\n",
      "Epoch 4/20\n",
      "21/21 [==============================] - 384s 18s/step - loss: 1.7113 - acc: 0.4956 - val_loss: 1.7350 - val_acc: 0.5345\n",
      "Epoch 5/20\n",
      "21/21 [==============================] - 349s 17s/step - loss: 1.4203 - acc: 0.5791 - val_loss: 1.3886 - val_acc: 0.5911\n",
      "Epoch 6/20\n",
      "21/21 [==============================] - 347s 17s/step - loss: 1.1936 - acc: 0.6362 - val_loss: 1.2541 - val_acc: 0.6539\n",
      "Epoch 7/20\n",
      "21/21 [==============================] - 370s 18s/step - loss: 1.0061 - acc: 0.6982 - val_loss: 1.1886 - val_acc: 0.6539\n",
      "Epoch 8/20\n",
      "21/21 [==============================] - 346s 16s/step - loss: 0.8499 - acc: 0.7399 - val_loss: 1.0265 - val_acc: 0.7136\n",
      "Epoch 9/20\n",
      "21/21 [==============================] - 336s 16s/step - loss: 0.6834 - acc: 0.7894 - val_loss: 0.9258 - val_acc: 0.7228\n",
      "Epoch 10/20\n",
      "21/21 [==============================] - 345s 16s/step - loss: 0.5561 - acc: 0.8326 - val_loss: 0.8873 - val_acc: 0.7565\n",
      "Epoch 11/20\n",
      "21/21 [==============================] - 334s 16s/step - loss: 0.4903 - acc: 0.8414 - val_loss: 0.8910 - val_acc: 0.7688\n",
      "Epoch 12/20\n",
      "21/21 [==============================] - 370s 18s/step - loss: 0.4015 - acc: 0.8702 - val_loss: 0.9246 - val_acc: 0.7534\n",
      "Epoch 13/20\n",
      "21/21 [==============================] - 360s 17s/step - loss: 0.3177 - acc: 0.9004 - val_loss: 0.9111 - val_acc: 0.7749\n",
      "Epoch 14/20\n",
      "21/21 [==============================] - 336s 16s/step - loss: 0.2437 - acc: 0.9219 - val_loss: 0.9890 - val_acc: 0.7810\n",
      "Epoch 15/20\n",
      "21/21 [==============================] - 366s 17s/step - loss: 0.1800 - acc: 0.9403 - val_loss: 1.0247 - val_acc: 0.7718\n",
      "Epoch 16/20\n",
      "21/21 [==============================] - 337s 16s/step - loss: 0.1489 - acc: 0.9475 - val_loss: 1.1882 - val_acc: 0.7504\n",
      "Epoch 17/20\n",
      "21/21 [==============================] - 327s 16s/step - loss: 0.1680 - acc: 0.9445 - val_loss: 1.1075 - val_acc: 0.7565\n",
      "Epoch 18/20\n",
      "21/21 [==============================] - 353s 17s/step - loss: 0.1764 - acc: 0.9452 - val_loss: 1.2876 - val_acc: 0.7688\n",
      "Epoch 19/20\n",
      "21/21 [==============================] - 354s 17s/step - loss: 0.1185 - acc: 0.9640 - val_loss: 1.0914 - val_acc: 0.7764\n",
      "Epoch 20/20\n",
      "21/21 [==============================] - 360s 17s/step - loss: 0.0963 - acc: 0.9778 - val_loss: 1.2683 - val_acc: 0.7749\n"
     ]
    }
   ],
   "source": [
    "history = model.fit(train_x, train_y, epochs=20, batch_size=128, validation_split=0.2)"
   ]
  },
  {
   "cell_type": "code",
   "execution_count": 95,
   "metadata": {},
   "outputs": [
    {
     "data": {
      "image/png": "[encoded data removed]",
      "text/plain": [
       "<Figure size 1008x360 with 1 Axes>"
      ]
     },
     "metadata": {
      "needs_background": "light"
     },
     "output_type": "display_data"
    },
    {
     "data": {
      "image/png": "[encoded data removed]",
      "text/plain": [
       "<Figure size 1008x360 with 1 Axes>"
      ]
     },
     "metadata": {
      "needs_background": "light"
     },
     "output_type": "display_data"
    }
   ],
   "source": [
    "plot_history(history.history)"
   ]
  },
  {
   "cell_type": "code",
   "execution_count": 96,
   "metadata": {},
   "outputs": [
    {
     "name": "stdout",
     "output_type": "stream",
     "text": [
      "26/26 [==============================] - 28s 1s/step - loss: 1.0554 - acc: 0.7956\n"
     ]
    },
    {
     "data": {
      "text/plain": [
       "[1.0554494857788086, 0.7955936193466187]"
      ]
     },
     "execution_count": 96,
     "metadata": {},
     "output_type": "execute_result"
    }
   ],
   "source": [
    "model.evaluate(test_x, test_y)"
   ]
  },
  {
   "cell_type": "markdown",
   "metadata": {},
   "source": [
    "## MFCC"
   ]
  },
  {
   "cell_type": "code",
   "execution_count": 99,
   "metadata": {},
   "outputs": [],
   "source": [
    "audio_mfcc = []\n",
    "for y in audio_np:\n",
    "    ret = librosa.feature.mfcc(y=y, sr=sr)\n",
    "    audio_mfcc.append(ret)\n"
   ]
  },
  {
   "cell_type": "code",
   "execution_count": 101,
   "metadata": {},
   "outputs": [
    {
     "name": "stdout",
     "output_type": "stream",
     "text": [
      "(4081, 20, 87) (4081,)\n"
     ]
    }
   ],
   "source": [
    "mfcc_np = np.array(audio_mfcc, np.float32)\n",
    "\n",
    "\n",
    "print(mfcc_np.shape, rabel_np.shape)"
   ]
  },
  {
   "cell_type": "code",
   "execution_count": 102,
   "metadata": {},
   "outputs": [],
   "source": [
    "mfcc_np = mfcc_np.reshape(4081, 20 * 87)"
   ]
  },
  {
   "cell_type": "code",
   "execution_count": 106,
   "metadata": {},
   "outputs": [
    {
     "data": {
      "text/plain": [
       "MinMaxScaler()"
      ]
     },
     "execution_count": 106,
     "metadata": {},
     "output_type": "execute_result"
    }
   ],
   "source": [
    "from sklearn.preprocessing import MinMaxScaler\n",
    "\n",
    "scaler = MinMaxScaler()\n",
    "scaler.fit(mfcc_np)"
   ]
  },
  {
   "cell_type": "code",
   "execution_count": 107,
   "metadata": {},
   "outputs": [
    {
     "name": "stdout",
     "output_type": "stream",
     "text": [
      "(3264, 1740)\n",
      "(817, 1740)\n",
      "(3264,)\n",
      "(817,)\n"
     ]
    }
   ],
   "source": [
    "from sklearn.model_selection import train_test_split\n",
    "\n",
    "train_x, test_x, train_y, test_y = train_test_split(mfcc_np, rabel_np, test_size=0.2)\n",
    "\n",
    "print(train_x.shape)\n",
    "print(test_x.shape)\n",
    "print(train_y.shape)\n",
    "print(test_y.shape) \n"
   ]
  },
  {
   "cell_type": "code",
   "execution_count": 108,
   "metadata": {},
   "outputs": [
    {
     "name": "stdout",
     "output_type": "stream",
     "text": [
      "0.7233782129742962\n"
     ]
    }
   ],
   "source": [
    "from sklearn.linear_model import LogisticRegression\n",
    "from sklearn.metrics import accuracy_score\n",
    "\n",
    "LR = LogisticRegression()\n",
    "LR.fit(train_x, train_y)\n",
    "pred = LR.predict(test_x)\n",
    "acc = accuracy_score(pred, test_y)\n",
    "print(acc)"
   ]
  },
  {
   "cell_type": "code",
   "execution_count": 109,
   "metadata": {},
   "outputs": [
    {
     "name": "stdout",
     "output_type": "stream",
     "text": [
      "0.7184822521419829\n"
     ]
    }
   ],
   "source": [
    "from sklearn import svm\n",
    "\n",
    "SVM = svm.SVC(kernel='linear')\n",
    "SVM.fit(train_x, train_y)\n",
    "pred =SVM.predict(test_x)\n",
    "acc = accuracy_score(pred, test_y)\n",
    "print(acc)"
   ]
  },
  {
   "cell_type": "code",
   "execution_count": 110,
   "metadata": {},
   "outputs": [
    {
     "name": "stdout",
     "output_type": "stream",
     "text": [
      "0.5667074663402693\n"
     ]
    }
   ],
   "source": [
    "from sklearn.tree import DecisionTreeClassifier\n",
    "\n",
    "DT = DecisionTreeClassifier()\n",
    "DT.fit(train_x, train_y)\n",
    "pred = DT.predict(test_x)\n",
    "acc = accuracy_score(pred, test_y)\n",
    "print(acc)"
   ]
  },
  {
   "cell_type": "markdown",
   "metadata": {},
   "source": [
    "## DNN + mfcc"
   ]
  },
  {
   "cell_type": "code",
   "execution_count": 113,
   "metadata": {},
   "outputs": [
    {
     "name": "stdout",
     "output_type": "stream",
     "text": [
      "(3264, 1740, 1)\n",
      "(817, 1740, 1)\n",
      "(3264, 20)\n",
      "(817, 20)\n"
     ]
    }
   ],
   "source": [
    "from keras.utils import to_categorical\n",
    "\n",
    "cqt_np = np.array(audio_mfcc, np.float32)\n",
    "cqt_np = cqt_np.reshape(4081, 20 * 87)\n",
    "cqt_array = np.expand_dims(cqt_np, -1)\n",
    "inst_cat = to_categorical(rabel_np)\n",
    "\n",
    "train_x, test_x, train_y, test_y = train_test_split(cqt_array, inst_cat, test_size=0.2)\n",
    "\n",
    "print(train_x.shape)\n",
    "print(test_x.shape)\n",
    "print(train_y.shape)\n",
    "print(test_y.shape)"
   ]
  },
  {
   "cell_type": "code",
   "execution_count": 117,
   "metadata": {},
   "outputs": [],
   "source": [
    "from keras.models import Sequential, Model\n",
    "from keras.layers import Input, Dense\n",
    "\n",
    "def model_build():\n",
    "  model = Sequential()\n",
    "\n",
    "  input = Input(shape=(1740,), name='input')\n",
    "  output = Dense(512, activation='relu', name='hidden1')(input)\n",
    "  output = Dense(256, activation='relu', name='hidden2')(output)\n",
    "  output = Dense(128, activation='relu', name='hidden3')(output)\n",
    "  output = Dense(20, activation='softmax', name='output')(output)\n",
    "\n",
    "  model = Model(inputs=[input], outputs=output)\n",
    "\n",
    "  model.compile(optimizer='adam',\n",
    "                loss = 'categorical_crossentropy',\n",
    "                metrics=['acc'])\n",
    "  return model\n"
   ]
  },
  {
   "cell_type": "code",
   "execution_count": 118,
   "metadata": {},
   "outputs": [
    {
     "name": "stdout",
     "output_type": "stream",
     "text": [
      "Model: \"model_2\"\n",
      "_________________________________________________________________\n",
      " Layer (type)                Output Shape              Param #   \n",
      "=================================================================\n",
      " input (InputLayer)          [(None, 1740)]            0         \n",
      "                                                                 \n",
      " hidden1 (Dense)             (None, 512)               891392    \n",
      "                                                                 \n",
      " hidden2 (Dense)             (None, 256)               131328    \n",
      "                                                                 \n",
      " hidden3 (Dense)             (None, 128)               32896     \n",
      "                                                                 \n",
      " output (Dense)              (None, 20)                2580      \n",
      "                                                                 \n",
      "=================================================================\n",
      "Total params: 1,058,196\n",
      "Trainable params: 1,058,196\n",
      "Non-trainable params: 0\n",
      "_________________________________________________________________\n"
     ]
    }
   ],
   "source": [
    "model = model_build()\n",
    "model.summary()"
   ]
  },
  {
   "cell_type": "code",
   "execution_count": 119,
   "metadata": {},
   "outputs": [
    {
     "name": "stdout",
     "output_type": "stream",
     "text": [
      "Epoch 1/30\n",
      "21/21 [==============================] - 1s 10ms/step - loss: 38.8433 - acc: 0.3987 - val_loss: 8.8315 - val_acc: 0.5498\n",
      "Epoch 2/30\n",
      "21/21 [==============================] - 0s 6ms/step - loss: 5.9402 - acc: 0.5795 - val_loss: 4.5367 - val_acc: 0.5559\n",
      "Epoch 3/30\n",
      "21/21 [==============================] - 0s 6ms/step - loss: 2.6340 - acc: 0.6645 - val_loss: 2.4495 - val_acc: 0.6325\n",
      "Epoch 4/30\n",
      "21/21 [==============================] - 0s 6ms/step - loss: 1.4982 - acc: 0.7361 - val_loss: 2.2148 - val_acc: 0.6953\n",
      "Epoch 5/30\n",
      "21/21 [==============================] - 0s 6ms/step - loss: 0.8621 - acc: 0.8089 - val_loss: 2.1948 - val_acc: 0.6708\n",
      "Epoch 6/30\n",
      "21/21 [==============================] - 0s 6ms/step - loss: 0.6900 - acc: 0.8353 - val_loss: 1.9217 - val_acc: 0.7090\n",
      "Epoch 7/30\n",
      "21/21 [==============================] - 0s 6ms/step - loss: 0.5334 - acc: 0.8514 - val_loss: 1.8450 - val_acc: 0.7121\n",
      "Epoch 8/30\n",
      "21/21 [==============================] - 0s 6ms/step - loss: 0.3666 - acc: 0.8947 - val_loss: 1.9085 - val_acc: 0.6968\n",
      "Epoch 9/30\n",
      "21/21 [==============================] - 0s 6ms/step - loss: 0.2800 - acc: 0.9138 - val_loss: 1.9671 - val_acc: 0.6922\n",
      "Epoch 10/30\n",
      "21/21 [==============================] - 0s 6ms/step - loss: 0.2384 - acc: 0.9207 - val_loss: 1.9406 - val_acc: 0.7182\n",
      "Epoch 11/30\n",
      "21/21 [==============================] - 0s 6ms/step - loss: 0.1857 - acc: 0.9418 - val_loss: 1.7713 - val_acc: 0.7243\n",
      "Epoch 12/30\n",
      "21/21 [==============================] - 0s 6ms/step - loss: 0.1072 - acc: 0.9659 - val_loss: 1.7833 - val_acc: 0.7274\n",
      "Epoch 13/30\n",
      "21/21 [==============================] - 0s 6ms/step - loss: 0.0974 - acc: 0.9678 - val_loss: 1.8156 - val_acc: 0.7198\n",
      "Epoch 14/30\n",
      "21/21 [==============================] - 0s 6ms/step - loss: 0.0906 - acc: 0.9694 - val_loss: 1.8965 - val_acc: 0.7427\n",
      "Epoch 15/30\n",
      "21/21 [==============================] - 0s 6ms/step - loss: 0.0629 - acc: 0.9835 - val_loss: 1.9385 - val_acc: 0.7289\n",
      "Epoch 16/30\n",
      "21/21 [==============================] - 0s 6ms/step - loss: 0.0388 - acc: 0.9900 - val_loss: 1.8702 - val_acc: 0.7458\n",
      "Epoch 17/30\n",
      "21/21 [==============================] - 0s 6ms/step - loss: 0.0339 - acc: 0.9939 - val_loss: 1.7614 - val_acc: 0.7397\n",
      "Epoch 18/30\n",
      "21/21 [==============================] - 0s 6ms/step - loss: 0.0320 - acc: 0.9931 - val_loss: 1.8883 - val_acc: 0.7427\n",
      "Epoch 19/30\n",
      "21/21 [==============================] - 0s 5ms/step - loss: 0.0203 - acc: 0.9973 - val_loss: 1.7956 - val_acc: 0.7489\n",
      "Epoch 20/30\n",
      "21/21 [==============================] - 0s 6ms/step - loss: 0.0148 - acc: 0.9981 - val_loss: 1.7928 - val_acc: 0.7550\n",
      "Epoch 21/30\n",
      "21/21 [==============================] - 0s 7ms/step - loss: 0.0095 - acc: 0.9996 - val_loss: 1.8436 - val_acc: 0.7473\n",
      "Epoch 22/30\n",
      "21/21 [==============================] - 0s 6ms/step - loss: 0.0084 - acc: 1.0000 - val_loss: 1.8087 - val_acc: 0.7427\n",
      "Epoch 23/30\n",
      "21/21 [==============================] - 0s 6ms/step - loss: 0.0069 - acc: 1.0000 - val_loss: 1.8172 - val_acc: 0.7534\n",
      "Epoch 24/30\n",
      "21/21 [==============================] - 0s 6ms/step - loss: 0.0054 - acc: 1.0000 - val_loss: 1.8218 - val_acc: 0.7534\n",
      "Epoch 25/30\n",
      "21/21 [==============================] - 0s 6ms/step - loss: 0.0051 - acc: 1.0000 - val_loss: 1.8211 - val_acc: 0.7473\n",
      "Epoch 26/30\n",
      "21/21 [==============================] - 0s 6ms/step - loss: 0.0045 - acc: 1.0000 - val_loss: 1.8378 - val_acc: 0.7550\n",
      "Epoch 27/30\n",
      "21/21 [==============================] - 0s 6ms/step - loss: 0.0041 - acc: 1.0000 - val_loss: 1.8265 - val_acc: 0.7458\n",
      "Epoch 28/30\n",
      "21/21 [==============================] - 0s 6ms/step - loss: 0.0039 - acc: 1.0000 - val_loss: 1.8388 - val_acc: 0.7473\n",
      "Epoch 29/30\n",
      "21/21 [==============================] - 0s 6ms/step - loss: 0.0037 - acc: 1.0000 - val_loss: 1.8374 - val_acc: 0.7473\n",
      "Epoch 30/30\n",
      "21/21 [==============================] - 0s 6ms/step - loss: 0.0035 - acc: 1.0000 - val_loss: 1.8614 - val_acc: 0.7550\n"
     ]
    }
   ],
   "source": [
    "history = model.fit(train_x, train_y, epochs=30, batch_size = 128, validation_split=0.2)"
   ]
  },
  {
   "cell_type": "code",
   "execution_count": 120,
   "metadata": {},
   "outputs": [
    {
     "data": {
      "image/png": "[encoded data removed]",
      "text/plain": [
       "<Figure size 1008x360 with 1 Axes>"
      ]
     },
     "metadata": {
      "needs_background": "light"
     },
     "output_type": "display_data"
    },
    {
     "data": {
      "image/png": "[encoded data removed]",
      "text/plain": [
       "<Figure size 1008x360 with 1 Axes>"
      ]
     },
     "metadata": {
      "needs_background": "light"
     },
     "output_type": "display_data"
    }
   ],
   "source": [
    "plot_history(history.history)"
   ]
  },
  {
   "cell_type": "markdown",
   "metadata": {},
   "source": [
    "## CNN + mfcc"
   ]
  },
  {
   "cell_type": "code",
   "execution_count": 122,
   "metadata": {},
   "outputs": [
    {
     "name": "stdout",
     "output_type": "stream",
     "text": [
      "(3264, 20, 87, 1)\n",
      "(817, 20, 87, 1)\n",
      "(3264, 20)\n"
     ]
    }
   ],
   "source": [
    "from keras.utils import to_categorical\n",
    "\n",
    "cqt_np = np.array(audio_mfcc, np.float32)\n",
    "\n",
    "cqt_array = np.expand_dims(cqt_np, -1)\n",
    "inst_cat = to_categorical(rabel_np)\n",
    "\n",
    "train_x, test_x, train_y, test_y = train_test_split(cqt_array, inst_cat, test_size=0.2)\n",
    "\n",
    "print(train_x.shape)\n",
    "print(test_x.shape)\n",
    "print(train_y.shape)\n"
   ]
  },
  {
   "cell_type": "code",
   "execution_count": 124,
   "metadata": {},
   "outputs": [],
   "source": [
    "from keras.layers import Conv2D, MaxPool2D, Flatten\n",
    "\n",
    "def model_build():\n",
    "  model = Sequential()\n",
    "\n",
    "  input = Input(shape=(20, 87, 1))\n",
    "\n",
    "  output = Conv2D(128, 3, strides=1, padding='same', activation='relu')(input)\n",
    "  output = MaxPool2D(pool_size=(2, 2), strides=2, padding='same')(output)\n",
    "\n",
    "  output = Conv2D(256, 3, strides=1, padding='same', activation='relu')(output)\n",
    "  output = MaxPool2D(pool_size=(2, 2), strides=2, padding='same')(output)\n",
    "\n",
    "  output = Conv2D(512, 3, strides=1, padding='same', activation='relu')(output)\n",
    "  output = MaxPool2D(pool_size=(2, 2), strides=2, padding='same')(output)\n",
    "\n",
    "  output = Flatten()(output)\n",
    "  output = Dense(512, activation='relu')(output)\n",
    "  output = Dense(256, activation='relu')(output)\n",
    "  output = Dense(128, activation='relu')(output)\n",
    "\n",
    "  output = Dense(20, activation='softmax')(output)\n",
    "\n",
    "  model = Model(inputs =[input], outputs=output) \n",
    "\n",
    "  model.compile(optimizer='adam',\n",
    "                loss='categorical_crossentropy',\n",
    "                metrics=['acc'])\n",
    "  return model"
   ]
  },
  {
   "cell_type": "code",
   "execution_count": 125,
   "metadata": {},
   "outputs": [
    {
     "name": "stdout",
     "output_type": "stream",
     "text": [
      "Model: \"model_3\"\n",
      "_________________________________________________________________\n",
      " Layer (type)                Output Shape              Param #   \n",
      "=================================================================\n",
      " input_2 (InputLayer)        [(None, 20, 87, 1)]       0         \n",
      "                                                                 \n",
      " conv2d_3 (Conv2D)           (None, 20, 87, 128)       1280      \n",
      "                                                                 \n",
      " max_pooling2d_3 (MaxPooling  (None, 10, 44, 128)      0         \n",
      " 2D)                                                             \n",
      "                                                                 \n",
      " conv2d_4 (Conv2D)           (None, 10, 44, 256)       295168    \n",
      "                                                                 \n",
      " max_pooling2d_4 (MaxPooling  (None, 5, 22, 256)       0         \n",
      " 2D)                                                             \n",
      "                                                                 \n",
      " conv2d_5 (Conv2D)           (None, 5, 22, 512)        1180160   \n",
      "                                                                 \n",
      " max_pooling2d_5 (MaxPooling  (None, 3, 11, 512)       0         \n",
      " 2D)                                                             \n",
      "                                                                 \n",
      " flatten_1 (Flatten)         (None, 16896)             0         \n",
      "                                                                 \n",
      " dense_4 (Dense)             (None, 512)               8651264   \n",
      "                                                                 \n",
      " dense_5 (Dense)             (None, 256)               131328    \n",
      "                                                                 \n",
      " dense_6 (Dense)             (None, 128)               32896     \n",
      "                                                                 \n",
      " dense_7 (Dense)             (None, 20)                2580      \n",
      "                                                                 \n",
      "=================================================================\n",
      "Total params: 10,294,676\n",
      "Trainable params: 10,294,676\n",
      "Non-trainable params: 0\n",
      "_________________________________________________________________\n"
     ]
    }
   ],
   "source": [
    "model = model_build()\n",
    "model.summary()"
   ]
  },
  {
   "cell_type": "code",
   "execution_count": 126,
   "metadata": {},
   "outputs": [
    {
     "name": "stdout",
     "output_type": "stream",
     "text": [
      "Epoch 1/20\n",
      "21/21 [==============================] - 17s 786ms/step - loss: 5.6168 - acc: 0.2336 - val_loss: 2.1243 - val_acc: 0.3583\n",
      "Epoch 2/20\n",
      "21/21 [==============================] - 16s 769ms/step - loss: 1.7789 - acc: 0.4730 - val_loss: 1.5898 - val_acc: 0.5421\n",
      "Epoch 3/20\n",
      "21/21 [==============================] - 16s 762ms/step - loss: 1.3659 - acc: 0.5986 - val_loss: 1.2576 - val_acc: 0.6248\n",
      "Epoch 4/20\n",
      "21/21 [==============================] - 16s 756ms/step - loss: 1.0878 - acc: 0.6637 - val_loss: 1.0277 - val_acc: 0.7044\n",
      "Epoch 5/20\n",
      "21/21 [==============================] - 16s 763ms/step - loss: 0.9002 - acc: 0.7212 - val_loss: 0.9700 - val_acc: 0.6983\n",
      "Epoch 6/20\n",
      "21/21 [==============================] - 17s 804ms/step - loss: 0.7532 - acc: 0.7576 - val_loss: 0.8995 - val_acc: 0.7259\n",
      "Epoch 7/20\n",
      "21/21 [==============================] - 17s 789ms/step - loss: 0.6488 - acc: 0.7962 - val_loss: 0.9523 - val_acc: 0.7182\n",
      "Epoch 8/20\n",
      "21/21 [==============================] - 16s 755ms/step - loss: 0.5726 - acc: 0.8131 - val_loss: 0.7528 - val_acc: 0.7795\n",
      "Epoch 9/20\n",
      "21/21 [==============================] - 16s 753ms/step - loss: 0.4738 - acc: 0.8426 - val_loss: 0.8373 - val_acc: 0.7550\n",
      "Epoch 10/20\n",
      "21/21 [==============================] - 16s 753ms/step - loss: 0.3870 - acc: 0.8801 - val_loss: 0.7515 - val_acc: 0.7917\n",
      "Epoch 11/20\n",
      "21/21 [==============================] - 16s 756ms/step - loss: 0.3150 - acc: 0.8974 - val_loss: 0.8103 - val_acc: 0.7688\n",
      "Epoch 12/20\n",
      "21/21 [==============================] - 16s 755ms/step - loss: 0.2668 - acc: 0.9138 - val_loss: 0.8230 - val_acc: 0.8009\n",
      "Epoch 13/20\n",
      "21/21 [==============================] - 16s 756ms/step - loss: 0.2122 - acc: 0.9353 - val_loss: 0.8450 - val_acc: 0.7856\n",
      "Epoch 14/20\n",
      "21/21 [==============================] - 16s 752ms/step - loss: 0.1781 - acc: 0.9445 - val_loss: 0.7882 - val_acc: 0.8070\n",
      "Epoch 15/20\n",
      "21/21 [==============================] - 16s 755ms/step - loss: 0.1256 - acc: 0.9621 - val_loss: 0.8196 - val_acc: 0.8070\n",
      "Epoch 16/20\n",
      "21/21 [==============================] - 16s 753ms/step - loss: 0.0802 - acc: 0.9770 - val_loss: 0.8945 - val_acc: 0.8086\n",
      "Epoch 17/20\n",
      "21/21 [==============================] - 16s 755ms/step - loss: 0.0783 - acc: 0.9751 - val_loss: 1.0185 - val_acc: 0.7902\n",
      "Epoch 18/20\n",
      "21/21 [==============================] - 16s 754ms/step - loss: 0.1003 - acc: 0.9671 - val_loss: 0.9265 - val_acc: 0.8055\n",
      "Epoch 19/20\n",
      "21/21 [==============================] - 16s 757ms/step - loss: 0.0550 - acc: 0.9847 - val_loss: 0.9769 - val_acc: 0.8086\n",
      "Epoch 20/20\n",
      "21/21 [==============================] - 16s 755ms/step - loss: 0.0473 - acc: 0.9889 - val_loss: 1.0903 - val_acc: 0.8040\n"
     ]
    }
   ],
   "source": [
    "history = model.fit(train_x, train_y, epochs=20, batch_size=128, validation_split=0.2)"
   ]
  },
  {
   "cell_type": "code",
   "execution_count": 127,
   "metadata": {},
   "outputs": [
    {
     "data": {
      "image/png": "[encoded data removed]",
      "text/plain": [
       "<Figure size 1008x360 with 1 Axes>"
      ]
     },
     "metadata": {
      "needs_background": "light"
     },
     "output_type": "display_data"
    },
    {
     "data": {
      "image/png": "[encoded data removed]",
      "text/plain": [
       "<Figure size 1008x360 with 1 Axes>"
      ]
     },
     "metadata": {
      "needs_background": "light"
     },
     "output_type": "display_data"
    }
   ],
   "source": [
    "plot_history(history.history)"
   ]
  },
  {
   "cell_type": "code",
   "execution_count": 128,
   "metadata": {},
   "outputs": [
    {
     "name": "stdout",
     "output_type": "stream",
     "text": [
      "26/26 [==============================] - 1s 48ms/step - loss: 1.4908 - acc: 0.7491\n"
     ]
    },
    {
     "data": {
      "text/plain": [
       "[1.4907546043395996, 0.7490820288658142]"
      ]
     },
     "execution_count": 128,
     "metadata": {},
     "output_type": "execute_result"
    }
   ],
   "source": [
    "model.evaluate(test_x, test_y)"
   ]
  },
  {
   "cell_type": "markdown",
   "metadata": {},
   "source": [
    "----------"
   ]
  },
  {
   "cell_type": "code",
   "execution_count": 113,
   "metadata": {},
   "outputs": [
    {
     "name": "stdout",
     "output_type": "stream",
     "text": [
      "(513, 80)\n"
     ]
    },
    {
     "data": {
      "text/plain": [
       "MinMaxScaler()"
      ]
     },
     "execution_count": 113,
     "metadata": {},
     "output_type": "execute_result"
    }
   ],
   "source": [
    "file_path = './Sound_dataset/cat/cat_1.wav'\n",
    "test_y, test_sr = librosa.load(file_path, sr=20400, duration=2.0) \n",
    "S = librosa.core.stft(test_y, n_fft=1024, hop_length=512, win_length=1024)\n",
    "D = np.abs(S)**2\n",
    "log_S = librosa.power_to_db(S, ref=np.max)\n",
    "test_np = np.array(log_S, np.float32)\n",
    "print(test_np.shape)\n",
    "# test_np = test_np.reshape(377, 513 * 80)\n",
    "\n",
    "scaler = MinMaxScaler()\n",
    "scaler.fit(test_np)\n"
   ]
  },
  {
   "cell_type": "code",
   "execution_count": 114,
   "metadata": {},
   "outputs": [
    {
     "name": "stdout",
     "output_type": "stream",
     "text": [
      "26/26 [==============================] - 2s 47ms/step\n"
     ]
    },
    {
     "data": {
      "text/plain": [
       "817"
      ]
     },
     "execution_count": 114,
     "metadata": {},
     "output_type": "execute_result"
    }
   ],
   "source": [
    "len(model.predict(test_x))"
   ]
  },
  {
   "cell_type": "code",
   "execution_count": 112,
   "metadata": {},
   "outputs": [
    {
     "name": "stdout",
     "output_type": "stream",
     "text": [
      "(1, 192000)\n",
      "(1, 20, 376)\n"
     ]
    }
   ],
   "source": [
    "movie = './Audio Dataset_join 2sec/airplane/1-11687-A-47.wav'\n",
    "y,sr = librosa.load(movie, sr=96000, duration=2.0)\n",
    "audio = []\n",
    "audio.append(y)\n",
    "audio_np = np.array(audio, np.float64)\n",
    "print( audio_np.shape )\n",
    "\n",
    "movie_mfcc = librosa.feature.mfcc(audio_np, sr=sr)\n",
    "mfcc_np = np.array(movie_mfcc, np.float32)\n",
    "print(mfcc_np.shape)\n",
    "# model.predict(movie)"
   ]
  },
  {
   "cell_type": "code",
   "execution_count": 110,
   "metadata": {},
   "outputs": [
    {
     "name": "stdout",
     "output_type": "stream",
     "text": [
      "(1, 192001)\n",
      "(1, 20, 376)\n"
     ]
    }
   ],
   "source": [
    "movie = './movie_trim_test/50.wav'\n",
    "y,sr = librosa.load(movie, sr=96000, duration=2.0)\n",
    "audio = []\n",
    "audio.append(y)\n",
    "audio_np = np.array(audio, np.float64)\n",
    "print( audio_np.shape )\n",
    "\n",
    "movie_mfcc = librosa.feature.mfcc(audio_np, sr=sr)\n",
    "mfcc_np = np.array(movie_mfcc, np.float32)\n",
    "print(mfcc_np.shape)\n",
    "# model.predict(movie)"
   ]
  },
  {
   "cell_type": "code",
   "execution_count": 111,
   "metadata": {},
   "outputs": [
    {
     "ename": "ValueError",
     "evalue": "in user code:\n\n    File \"c:\\Users\\jcc96\\anaconda3\\lib\\site-packages\\keras\\engine\\training.py\", line 1845, in predict_function  *\n        return step_function(self, iterator)\n    File \"c:\\Users\\jcc96\\anaconda3\\lib\\site-packages\\keras\\engine\\training.py\", line 1834, in step_function  **\n        outputs = model.distribute_strategy.run(run_step, args=(data,))\n    File \"c:\\Users\\jcc96\\anaconda3\\lib\\site-packages\\keras\\engine\\training.py\", line 1823, in run_step  **\n        outputs = model.predict_step(data)\n    File \"c:\\Users\\jcc96\\anaconda3\\lib\\site-packages\\keras\\engine\\training.py\", line 1791, in predict_step\n        return self(x, training=False)\n    File \"c:\\Users\\jcc96\\anaconda3\\lib\\site-packages\\keras\\utils\\traceback_utils.py\", line 67, in error_handler\n        raise e.with_traceback(filtered_tb) from None\n    File \"c:\\Users\\jcc96\\anaconda3\\lib\\site-packages\\keras\\engine\\input_spec.py\", line 264, in assert_input_compatibility\n        raise ValueError(f'Input {input_index} of layer \"{layer_name}\" is '\n\n    ValueError: Input 0 of layer \"model_10\" is incompatible with the layer: expected shape=(None, 20, 87, 1), found shape=(None, 20, 376)\n",
     "output_type": "error",
     "traceback": [
      "\u001b[1;31m---------------------------------------------------------------------------\u001b[0m",
      "\u001b[1;31mValueError\u001b[0m                                Traceback (most recent call last)",
      "\u001b[1;32m~\\AppData\\Local\\Temp/ipykernel_15076/892203673.py\u001b[0m in \u001b[0;36m<module>\u001b[1;34m\u001b[0m\n\u001b[1;32m----> 1\u001b[1;33m \u001b[0mtmp\u001b[0m \u001b[1;33m=\u001b[0m \u001b[0mnp\u001b[0m\u001b[1;33m.\u001b[0m\u001b[0margmax\u001b[0m\u001b[1;33m(\u001b[0m\u001b[0mmodel\u001b[0m\u001b[1;33m.\u001b[0m\u001b[0mpredict\u001b[0m\u001b[1;33m(\u001b[0m\u001b[0mmfcc_np\u001b[0m\u001b[1;33m)\u001b[0m\u001b[1;33m)\u001b[0m\u001b[1;33m\u001b[0m\u001b[1;33m\u001b[0m\u001b[0m\n\u001b[0m\u001b[0;32m      2\u001b[0m \u001b[0mprint\u001b[0m\u001b[1;33m(\u001b[0m\u001b[0mtmp\u001b[0m\u001b[1;33m)\u001b[0m\u001b[1;33m\u001b[0m\u001b[1;33m\u001b[0m\u001b[0m\n",
      "\u001b[1;32mc:\\Users\\jcc96\\anaconda3\\lib\\site-packages\\keras\\utils\\traceback_utils.py\u001b[0m in \u001b[0;36merror_handler\u001b[1;34m(*args, **kwargs)\u001b[0m\n\u001b[0;32m     65\u001b[0m     \u001b[1;32mexcept\u001b[0m \u001b[0mException\u001b[0m \u001b[1;32mas\u001b[0m \u001b[0me\u001b[0m\u001b[1;33m:\u001b[0m  \u001b[1;31m# pylint: disable=broad-except\u001b[0m\u001b[1;33m\u001b[0m\u001b[1;33m\u001b[0m\u001b[0m\n\u001b[0;32m     66\u001b[0m       \u001b[0mfiltered_tb\u001b[0m \u001b[1;33m=\u001b[0m \u001b[0m_process_traceback_frames\u001b[0m\u001b[1;33m(\u001b[0m\u001b[0me\u001b[0m\u001b[1;33m.\u001b[0m\u001b[0m__traceback__\u001b[0m\u001b[1;33m)\u001b[0m\u001b[1;33m\u001b[0m\u001b[1;33m\u001b[0m\u001b[0m\n\u001b[1;32m---> 67\u001b[1;33m       \u001b[1;32mraise\u001b[0m \u001b[0me\u001b[0m\u001b[1;33m.\u001b[0m\u001b[0mwith_traceback\u001b[0m\u001b[1;33m(\u001b[0m\u001b[0mfiltered_tb\u001b[0m\u001b[1;33m)\u001b[0m \u001b[1;32mfrom\u001b[0m \u001b[1;32mNone\u001b[0m\u001b[1;33m\u001b[0m\u001b[1;33m\u001b[0m\u001b[0m\n\u001b[0m\u001b[0;32m     68\u001b[0m     \u001b[1;32mfinally\u001b[0m\u001b[1;33m:\u001b[0m\u001b[1;33m\u001b[0m\u001b[1;33m\u001b[0m\u001b[0m\n\u001b[0;32m     69\u001b[0m       \u001b[1;32mdel\u001b[0m \u001b[0mfiltered_tb\u001b[0m\u001b[1;33m\u001b[0m\u001b[1;33m\u001b[0m\u001b[0m\n",
      "\u001b[1;32mc:\\Users\\jcc96\\anaconda3\\lib\\site-packages\\keras\\engine\\training.py\u001b[0m in \u001b[0;36mtf__predict_function\u001b[1;34m(iterator)\u001b[0m\n\u001b[0;32m     13\u001b[0m                 \u001b[1;32mtry\u001b[0m\u001b[1;33m:\u001b[0m\u001b[1;33m\u001b[0m\u001b[1;33m\u001b[0m\u001b[0m\n\u001b[0;32m     14\u001b[0m                     \u001b[0mdo_return\u001b[0m \u001b[1;33m=\u001b[0m \u001b[1;32mTrue\u001b[0m\u001b[1;33m\u001b[0m\u001b[1;33m\u001b[0m\u001b[0m\n\u001b[1;32m---> 15\u001b[1;33m                     \u001b[0mretval_\u001b[0m \u001b[1;33m=\u001b[0m \u001b[0mag__\u001b[0m\u001b[1;33m.\u001b[0m\u001b[0mconverted_call\u001b[0m\u001b[1;33m(\u001b[0m\u001b[0mag__\u001b[0m\u001b[1;33m.\u001b[0m\u001b[0mld\u001b[0m\u001b[1;33m(\u001b[0m\u001b[0mstep_function\u001b[0m\u001b[1;33m)\u001b[0m\u001b[1;33m,\u001b[0m \u001b[1;33m(\u001b[0m\u001b[0mag__\u001b[0m\u001b[1;33m.\u001b[0m\u001b[0mld\u001b[0m\u001b[1;33m(\u001b[0m\u001b[0mself\u001b[0m\u001b[1;33m)\u001b[0m\u001b[1;33m,\u001b[0m \u001b[0mag__\u001b[0m\u001b[1;33m.\u001b[0m\u001b[0mld\u001b[0m\u001b[1;33m(\u001b[0m\u001b[0miterator\u001b[0m\u001b[1;33m)\u001b[0m\u001b[1;33m)\u001b[0m\u001b[1;33m,\u001b[0m \u001b[1;32mNone\u001b[0m\u001b[1;33m,\u001b[0m \u001b[0mfscope\u001b[0m\u001b[1;33m)\u001b[0m\u001b[1;33m\u001b[0m\u001b[1;33m\u001b[0m\u001b[0m\n\u001b[0m\u001b[0;32m     16\u001b[0m                 \u001b[1;32mexcept\u001b[0m\u001b[1;33m:\u001b[0m\u001b[1;33m\u001b[0m\u001b[1;33m\u001b[0m\u001b[0m\n\u001b[0;32m     17\u001b[0m                     \u001b[0mdo_return\u001b[0m \u001b[1;33m=\u001b[0m \u001b[1;32mFalse\u001b[0m\u001b[1;33m\u001b[0m\u001b[1;33m\u001b[0m\u001b[0m\n",
      "\u001b[1;31mValueError\u001b[0m: in user code:\n\n    File \"c:\\Users\\jcc96\\anaconda3\\lib\\site-packages\\keras\\engine\\training.py\", line 1845, in predict_function  *\n        return step_function(self, iterator)\n    File \"c:\\Users\\jcc96\\anaconda3\\lib\\site-packages\\keras\\engine\\training.py\", line 1834, in step_function  **\n        outputs = model.distribute_strategy.run(run_step, args=(data,))\n    File \"c:\\Users\\jcc96\\anaconda3\\lib\\site-packages\\keras\\engine\\training.py\", line 1823, in run_step  **\n        outputs = model.predict_step(data)\n    File \"c:\\Users\\jcc96\\anaconda3\\lib\\site-packages\\keras\\engine\\training.py\", line 1791, in predict_step\n        return self(x, training=False)\n    File \"c:\\Users\\jcc96\\anaconda3\\lib\\site-packages\\keras\\utils\\traceback_utils.py\", line 67, in error_handler\n        raise e.with_traceback(filtered_tb) from None\n    File \"c:\\Users\\jcc96\\anaconda3\\lib\\site-packages\\keras\\engine\\input_spec.py\", line 264, in assert_input_compatibility\n        raise ValueError(f'Input {input_index} of layer \"{layer_name}\" is '\n\n    ValueError: Input 0 of layer \"model_10\" is incompatible with the layer: expected shape=(None, 20, 87, 1), found shape=(None, 20, 376)\n"
     ]
    }
   ],
   "source": [
    "tmp = np.argmax(model.predict(mfcc_np))\n",
    "print(tmp)"
   ]
  },
  {
   "cell_type": "code",
   "execution_count": 43,
   "metadata": {},
   "outputs": [
    {
     "name": "stdout",
     "output_type": "stream",
     "text": [
      "17/17 [==============================] - 0s 11ms/step\n",
      "17/17 [==============================] - 0s 10ms/step\n",
      "17/17 [==============================] - 0s 11ms/step\n",
      "17/17 [==============================] - 0s 11ms/step\n",
      "17/17 [==============================] - 0s 11ms/step\n",
      "17/17 [==============================] - 0s 11ms/step\n",
      "17/17 [==============================] - 0s 10ms/step\n",
      "17/17 [==============================] - 0s 11ms/step\n",
      "17/17 [==============================] - 0s 11ms/step\n",
      "17/17 [==============================] - 0s 10ms/step\n",
      "17/17 [==============================] - 0s 11ms/step\n",
      "17/17 [==============================] - 0s 11ms/step\n",
      "17/17 [==============================] - 0s 13ms/step\n",
      "17/17 [==============================] - 0s 12ms/step\n",
      "17/17 [==============================] - 0s 11ms/step\n",
      "17/17 [==============================] - 0s 11ms/step\n",
      "17/17 [==============================] - 0s 10ms/step\n",
      "17/17 [==============================] - 0s 10ms/step\n",
      "17/17 [==============================] - 0s 10ms/step\n",
      "17/17 [==============================] - 0s 11ms/step\n",
      "17/17 [==============================] - 0s 10ms/step\n",
      "17/17 [==============================] - 0s 10ms/step\n",
      "17/17 [==============================] - 0s 10ms/step\n",
      "17/17 [==============================] - 0s 10ms/step\n",
      "17/17 [==============================] - 0s 10ms/step\n",
      "17/17 [==============================] - 0s 10ms/step\n",
      "17/17 [==============================] - 0s 10ms/step\n",
      "17/17 [==============================] - 0s 10ms/step\n",
      "17/17 [==============================] - 0s 10ms/step\n",
      "17/17 [==============================] - 0s 11ms/step\n",
      "17/17 [==============================] - 0s 10ms/step\n",
      "17/17 [==============================] - 0s 10ms/step\n",
      "17/17 [==============================] - 0s 10ms/step\n",
      "17/17 [==============================] - 0s 11ms/step\n",
      "17/17 [==============================] - 0s 11ms/step\n",
      "17/17 [==============================] - 0s 10ms/step\n",
      "17/17 [==============================] - 0s 10ms/step\n",
      "17/17 [==============================] - 0s 10ms/step\n",
      "17/17 [==============================] - 0s 10ms/step\n",
      "17/17 [==============================] - 0s 11ms/step\n",
      "17/17 [==============================] - 0s 10ms/step\n",
      "17/17 [==============================] - 0s 10ms/step\n",
      "17/17 [==============================] - 0s 11ms/step\n",
      "17/17 [==============================] - 0s 10ms/step\n",
      "17/17 [==============================] - 0s 10ms/step\n",
      "17/17 [==============================] - 0s 10ms/step\n",
      "17/17 [==============================] - 0s 10ms/step\n",
      "17/17 [==============================] - 0s 10ms/step\n",
      "17/17 [==============================] - 0s 10ms/step\n",
      "17/17 [==============================] - 0s 10ms/step\n",
      "17/17 [==============================] - 0s 11ms/step\n",
      "17/17 [==============================] - 0s 10ms/step\n",
      "17/17 [==============================] - 0s 12ms/step\n",
      "17/17 [==============================] - 0s 10ms/step\n",
      "17/17 [==============================] - 0s 11ms/step\n",
      "17/17 [==============================] - 0s 11ms/step\n",
      "17/17 [==============================] - 0s 12ms/step\n",
      "17/17 [==============================] - 0s 11ms/step\n",
      "17/17 [==============================] - 0s 12ms/step\n",
      "17/17 [==============================] - 0s 12ms/step\n",
      "17/17 [==============================] - 0s 11ms/step\n",
      "17/17 [==============================] - 0s 11ms/step\n",
      "17/17 [==============================] - 0s 12ms/step\n",
      "17/17 [==============================] - 0s 11ms/step\n",
      "17/17 [==============================] - 0s 11ms/step\n",
      "17/17 [==============================] - 0s 10ms/step\n",
      "17/17 [==============================] - 0s 11ms/step\n",
      "17/17 [==============================] - 0s 10ms/step\n",
      "17/17 [==============================] - 0s 10ms/step\n",
      "17/17 [==============================] - 0s 11ms/step\n",
      "17/17 [==============================] - 0s 11ms/step\n",
      "17/17 [==============================] - 0s 11ms/step\n",
      "17/17 [==============================] - 0s 11ms/step\n",
      "17/17 [==============================] - 0s 11ms/step\n",
      "17/17 [==============================] - 0s 11ms/step\n",
      "17/17 [==============================] - 0s 11ms/step\n",
      "17/17 [==============================] - 0s 11ms/step\n",
      "17/17 [==============================] - 0s 11ms/step\n",
      "17/17 [==============================] - 0s 12ms/step\n",
      "17/17 [==============================] - 0s 11ms/step\n",
      "17/17 [==============================] - 0s 11ms/step\n",
      "17/17 [==============================] - 0s 11ms/step\n",
      "17/17 [==============================] - 0s 11ms/step\n",
      "17/17 [==============================] - 0s 11ms/step\n",
      "17/17 [==============================] - 0s 11ms/step\n",
      "17/17 [==============================] - 0s 11ms/step\n",
      "17/17 [==============================] - 0s 10ms/step\n",
      "17/17 [==============================] - 0s 12ms/step\n",
      "17/17 [==============================] - 0s 11ms/step\n",
      "17/17 [==============================] - 0s 11ms/step\n",
      "17/17 [==============================] - 0s 11ms/step\n",
      "17/17 [==============================] - 0s 11ms/step\n",
      "17/17 [==============================] - 0s 11ms/step\n",
      "17/17 [==============================] - 0s 11ms/step\n",
      "17/17 [==============================] - 0s 11ms/step\n",
      "17/17 [==============================] - 0s 11ms/step\n",
      "17/17 [==============================] - 0s 11ms/step\n",
      "17/17 [==============================] - 0s 11ms/step\n",
      "17/17 [==============================] - 0s 12ms/step\n",
      "17/17 [==============================] - 0s 11ms/step\n",
      "17/17 [==============================] - 0s 11ms/step\n",
      "17/17 [==============================] - 0s 11ms/step\n",
      "17/17 [==============================] - 0s 11ms/step\n",
      "17/17 [==============================] - 0s 11ms/step\n",
      "17/17 [==============================] - 0s 11ms/step\n",
      "17/17 [==============================] - 0s 11ms/step\n",
      "17/17 [==============================] - 0s 11ms/step\n",
      "17/17 [==============================] - 0s 10ms/step\n",
      "17/17 [==============================] - 0s 10ms/step\n",
      "17/17 [==============================] - 0s 11ms/step\n",
      "17/17 [==============================] - 0s 10ms/step\n",
      "17/17 [==============================] - 0s 11ms/step\n",
      "17/17 [==============================] - 0s 11ms/step\n",
      "17/17 [==============================] - 0s 11ms/step\n",
      "17/17 [==============================] - 0s 11ms/step\n",
      "17/17 [==============================] - 0s 11ms/step\n",
      "17/17 [==============================] - 0s 11ms/step\n",
      "17/17 [==============================] - 0s 11ms/step\n",
      "17/17 [==============================] - 0s 12ms/step\n",
      "17/17 [==============================] - 0s 11ms/step\n",
      "17/17 [==============================] - 0s 11ms/step\n",
      "17/17 [==============================] - 0s 11ms/step\n",
      "17/17 [==============================] - 0s 11ms/step\n",
      "17/17 [==============================] - 0s 11ms/step\n",
      "17/17 [==============================] - 0s 11ms/step\n",
      "17/17 [==============================] - 0s 11ms/step\n",
      "17/17 [==============================] - 0s 11ms/step\n",
      "17/17 [==============================] - 0s 11ms/step\n",
      "17/17 [==============================] - 0s 11ms/step\n",
      "17/17 [==============================] - 0s 11ms/step\n",
      "17/17 [==============================] - 0s 11ms/step\n",
      "17/17 [==============================] - 0s 12ms/step\n",
      "17/17 [==============================] - 0s 12ms/step\n",
      "17/17 [==============================] - 0s 14ms/step\n",
      "17/17 [==============================] - 0s 12ms/step\n",
      "17/17 [==============================] - 0s 12ms/step\n",
      "17/17 [==============================] - 0s 11ms/step\n",
      "17/17 [==============================] - 0s 11ms/step\n",
      "17/17 [==============================] - 0s 11ms/step\n",
      "17/17 [==============================] - 0s 11ms/step\n",
      "17/17 [==============================] - 0s 11ms/step\n",
      "17/17 [==============================] - 0s 11ms/step\n",
      "17/17 [==============================] - 0s 11ms/step\n",
      "17/17 [==============================] - 0s 11ms/step\n",
      "17/17 [==============================] - 0s 11ms/step\n",
      "17/17 [==============================] - 0s 11ms/step\n",
      "17/17 [==============================] - 0s 11ms/step\n",
      "17/17 [==============================] - 0s 11ms/step\n",
      "17/17 [==============================] - 0s 11ms/step\n",
      "17/17 [==============================] - 0s 10ms/step\n",
      "17/17 [==============================] - 0s 12ms/step\n",
      "17/17 [==============================] - 0s 11ms/step\n",
      "17/17 [==============================] - 0s 11ms/step\n",
      "17/17 [==============================] - 0s 11ms/step\n",
      "17/17 [==============================] - 0s 11ms/step\n",
      "17/17 [==============================] - 0s 10ms/step\n",
      "17/17 [==============================] - 0s 12ms/step\n",
      "17/17 [==============================] - 0s 11ms/step\n",
      "17/17 [==============================] - 0s 11ms/step\n",
      "17/17 [==============================] - 0s 10ms/step\n",
      "17/17 [==============================] - 0s 11ms/step\n",
      "17/17 [==============================] - 0s 11ms/step\n",
      "17/17 [==============================] - 0s 11ms/step\n",
      "17/17 [==============================] - 0s 11ms/step\n",
      "17/17 [==============================] - 0s 11ms/step\n",
      "17/17 [==============================] - 0s 10ms/step\n",
      "17/17 [==============================] - 0s 10ms/step\n",
      "17/17 [==============================] - 0s 11ms/step\n",
      "17/17 [==============================] - 0s 11ms/step\n",
      "17/17 [==============================] - 0s 11ms/step\n",
      "17/17 [==============================] - 0s 11ms/step\n",
      "17/17 [==============================] - 0s 10ms/step\n",
      "17/17 [==============================] - 0s 11ms/step\n",
      "17/17 [==============================] - 0s 11ms/step\n",
      "17/17 [==============================] - 0s 11ms/step\n",
      "17/17 [==============================] - 0s 11ms/step\n",
      "17/17 [==============================] - 0s 11ms/step\n",
      "17/17 [==============================] - 0s 11ms/step\n",
      "17/17 [==============================] - 0s 10ms/step\n",
      "17/17 [==============================] - 0s 11ms/step\n",
      "17/17 [==============================] - 0s 11ms/step\n",
      "17/17 [==============================] - 0s 11ms/step\n",
      "17/17 [==============================] - 0s 11ms/step\n",
      "17/17 [==============================] - 0s 11ms/step\n",
      "17/17 [==============================] - 0s 10ms/step\n",
      "17/17 [==============================] - 0s 11ms/step\n",
      "17/17 [==============================] - 0s 11ms/step\n",
      "17/17 [==============================] - 0s 11ms/step\n",
      "17/17 [==============================] - 0s 11ms/step\n",
      "17/17 [==============================] - 0s 11ms/step\n",
      "17/17 [==============================] - 0s 11ms/step\n",
      "17/17 [==============================] - 0s 11ms/step\n",
      "17/17 [==============================] - 0s 11ms/step\n",
      "17/17 [==============================] - 0s 13ms/step\n",
      "17/17 [==============================] - 0s 12ms/step\n",
      "17/17 [==============================] - 0s 11ms/step\n",
      "17/17 [==============================] - 0s 11ms/step\n",
      "17/17 [==============================] - 0s 11ms/step\n",
      "17/17 [==============================] - 0s 11ms/step\n",
      "17/17 [==============================] - 0s 11ms/step\n",
      "17/17 [==============================] - 0s 11ms/step\n",
      "17/17 [==============================] - 0s 11ms/step\n",
      "17/17 [==============================] - 0s 10ms/step\n",
      "17/17 [==============================] - 0s 11ms/step\n",
      "17/17 [==============================] - 0s 11ms/step\n",
      "17/17 [==============================] - 0s 10ms/step\n",
      "17/17 [==============================] - 0s 10ms/step\n",
      "17/17 [==============================] - 0s 10ms/step\n",
      "17/17 [==============================] - 0s 11ms/step\n",
      "17/17 [==============================] - 0s 10ms/step\n",
      "17/17 [==============================] - 0s 11ms/step\n",
      "17/17 [==============================] - 0s 11ms/step\n",
      "17/17 [==============================] - 0s 11ms/step\n",
      "17/17 [==============================] - 0s 11ms/step\n",
      "17/17 [==============================] - 0s 11ms/step\n",
      "17/17 [==============================] - 0s 11ms/step\n",
      "17/17 [==============================] - 0s 11ms/step\n",
      "17/17 [==============================] - 0s 11ms/step\n",
      "17/17 [==============================] - 0s 11ms/step\n",
      "17/17 [==============================] - 0s 11ms/step\n",
      "17/17 [==============================] - 0s 11ms/step\n",
      "17/17 [==============================] - 0s 11ms/step\n",
      "17/17 [==============================] - 0s 11ms/step\n",
      "17/17 [==============================] - 0s 11ms/step\n",
      "17/17 [==============================] - 0s 11ms/step\n",
      "17/17 [==============================] - 0s 11ms/step\n",
      "17/17 [==============================] - 0s 11ms/step\n",
      "17/17 [==============================] - 0s 10ms/step\n",
      "17/17 [==============================] - 0s 11ms/step\n",
      "17/17 [==============================] - 0s 11ms/step\n",
      "17/17 [==============================] - 0s 12ms/step\n",
      "17/17 [==============================] - 0s 11ms/step\n",
      "17/17 [==============================] - 0s 11ms/step\n",
      "17/17 [==============================] - 0s 11ms/step\n",
      "17/17 [==============================] - 0s 10ms/step\n",
      "17/17 [==============================] - 0s 10ms/step\n",
      "17/17 [==============================] - 0s 10ms/step\n",
      "17/17 [==============================] - 0s 10ms/step\n",
      "17/17 [==============================] - 0s 11ms/step\n",
      "17/17 [==============================] - 0s 10ms/step\n",
      "17/17 [==============================] - 0s 10ms/step\n",
      "17/17 [==============================] - 0s 11ms/step\n",
      "17/17 [==============================] - 0s 10ms/step\n",
      "17/17 [==============================] - 0s 10ms/step\n",
      "17/17 [==============================] - 0s 11ms/step\n",
      "17/17 [==============================] - 0s 11ms/step\n",
      "17/17 [==============================] - 0s 11ms/step\n",
      "17/17 [==============================] - 0s 11ms/step\n",
      "17/17 [==============================] - 0s 11ms/step\n",
      "17/17 [==============================] - 0s 11ms/step\n",
      "17/17 [==============================] - 0s 11ms/step\n",
      "17/17 [==============================] - 0s 11ms/step\n",
      "17/17 [==============================] - 0s 11ms/step\n",
      "17/17 [==============================] - 0s 11ms/step\n",
      "17/17 [==============================] - 0s 10ms/step\n",
      "17/17 [==============================] - 0s 11ms/step\n",
      "17/17 [==============================] - 0s 11ms/step\n",
      "17/17 [==============================] - 0s 11ms/step\n",
      "17/17 [==============================] - 0s 11ms/step\n",
      "17/17 [==============================] - 0s 11ms/step\n",
      "17/17 [==============================] - 0s 11ms/step\n",
      "17/17 [==============================] - 0s 11ms/step\n",
      "17/17 [==============================] - 0s 11ms/step\n",
      "17/17 [==============================] - 0s 11ms/step\n",
      "17/17 [==============================] - 0s 11ms/step\n",
      "17/17 [==============================] - 0s 11ms/step\n",
      "17/17 [==============================] - 0s 11ms/step\n",
      "17/17 [==============================] - 0s 11ms/step\n",
      "17/17 [==============================] - 0s 11ms/step\n",
      "17/17 [==============================] - 0s 11ms/step\n",
      "17/17 [==============================] - 0s 11ms/step\n",
      "17/17 [==============================] - 0s 11ms/step\n",
      "17/17 [==============================] - 0s 11ms/step\n",
      "17/17 [==============================] - 0s 11ms/step\n",
      "17/17 [==============================] - 0s 11ms/step\n",
      "17/17 [==============================] - 0s 10ms/step\n",
      "17/17 [==============================] - 0s 12ms/step\n",
      "17/17 [==============================] - 0s 11ms/step\n",
      "17/17 [==============================] - 0s 10ms/step\n",
      "17/17 [==============================] - 0s 10ms/step\n",
      "17/17 [==============================] - 0s 10ms/step\n",
      "17/17 [==============================] - 0s 10ms/step\n",
      "17/17 [==============================] - 0s 11ms/step\n",
      "17/17 [==============================] - 0s 11ms/step\n",
      "17/17 [==============================] - 0s 11ms/step\n",
      "17/17 [==============================] - 0s 11ms/step\n",
      "17/17 [==============================] - 0s 11ms/step\n",
      "17/17 [==============================] - 0s 10ms/step\n",
      "17/17 [==============================] - 0s 10ms/step\n",
      "17/17 [==============================] - 0s 11ms/step\n",
      "17/17 [==============================] - 0s 11ms/step\n",
      "17/17 [==============================] - 0s 10ms/step\n",
      "17/17 [==============================] - 0s 10ms/step\n",
      "17/17 [==============================] - 0s 11ms/step\n",
      "17/17 [==============================] - 0s 11ms/step\n",
      "17/17 [==============================] - 0s 11ms/step\n",
      "17/17 [==============================] - 0s 10ms/step\n",
      "17/17 [==============================] - 0s 11ms/step\n",
      "17/17 [==============================] - 0s 10ms/step\n",
      "17/17 [==============================] - 0s 11ms/step\n",
      "17/17 [==============================] - 0s 13ms/step\n",
      "17/17 [==============================] - 0s 11ms/step\n",
      "17/17 [==============================] - 0s 11ms/step\n",
      "17/17 [==============================] - 0s 10ms/step\n",
      "17/17 [==============================] - 0s 11ms/step\n",
      "17/17 [==============================] - 0s 11ms/step\n",
      "17/17 [==============================] - 0s 11ms/step\n",
      "17/17 [==============================] - 0s 10ms/step\n",
      "17/17 [==============================] - 0s 11ms/step\n",
      "17/17 [==============================] - 0s 11ms/step\n",
      "17/17 [==============================] - 0s 11ms/step\n",
      "17/17 [==============================] - 0s 10ms/step\n",
      "17/17 [==============================] - 0s 11ms/step\n",
      "17/17 [==============================] - 0s 11ms/step\n",
      "17/17 [==============================] - 0s 11ms/step\n",
      "17/17 [==============================] - 0s 11ms/step\n",
      "17/17 [==============================] - 0s 10ms/step\n",
      "17/17 [==============================] - 0s 11ms/step\n",
      "17/17 [==============================] - 0s 10ms/step\n",
      "17/17 [==============================] - 0s 11ms/step\n",
      "17/17 [==============================] - 0s 10ms/step\n",
      "17/17 [==============================] - 0s 10ms/step\n",
      "17/17 [==============================] - 0s 10ms/step\n",
      "17/17 [==============================] - 0s 12ms/step\n",
      "17/17 [==============================] - 0s 11ms/step\n",
      "17/17 [==============================] - 0s 10ms/step\n",
      "17/17 [==============================] - 0s 11ms/step\n",
      "17/17 [==============================] - 0s 11ms/step\n",
      "17/17 [==============================] - 0s 11ms/step\n",
      "17/17 [==============================] - 0s 10ms/step\n",
      "17/17 [==============================] - 0s 10ms/step\n",
      "17/17 [==============================] - 0s 11ms/step\n",
      "17/17 [==============================] - 0s 11ms/step\n",
      "17/17 [==============================] - 0s 11ms/step\n",
      "17/17 [==============================] - 0s 11ms/step\n",
      "17/17 [==============================] - 0s 11ms/step\n",
      "17/17 [==============================] - 0s 11ms/step\n",
      "17/17 [==============================] - 0s 11ms/step\n",
      "17/17 [==============================] - 0s 10ms/step\n",
      "17/17 [==============================] - 0s 11ms/step\n",
      "17/17 [==============================] - 0s 11ms/step\n",
      "17/17 [==============================] - 0s 10ms/step\n",
      "17/17 [==============================] - 0s 11ms/step\n",
      "17/17 [==============================] - 0s 11ms/step\n",
      "17/17 [==============================] - 0s 10ms/step\n",
      "17/17 [==============================] - 0s 11ms/step\n",
      "17/17 [==============================] - 0s 10ms/step\n",
      "17/17 [==============================] - 0s 11ms/step\n",
      "17/17 [==============================] - 0s 10ms/step\n",
      "17/17 [==============================] - 0s 11ms/step\n",
      "17/17 [==============================] - 0s 11ms/step\n",
      "17/17 [==============================] - 0s 11ms/step\n",
      "17/17 [==============================] - 0s 11ms/step\n",
      "17/17 [==============================] - 0s 11ms/step\n",
      "17/17 [==============================] - 0s 11ms/step\n",
      "17/17 [==============================] - 0s 11ms/step\n",
      "17/17 [==============================] - 0s 11ms/step\n",
      "17/17 [==============================] - 0s 10ms/step\n",
      "17/17 [==============================] - 0s 11ms/step\n",
      "17/17 [==============================] - 0s 11ms/step\n",
      "17/17 [==============================] - 0s 11ms/step\n",
      "17/17 [==============================] - 0s 11ms/step\n",
      "17/17 [==============================] - 0s 11ms/step\n",
      "17/17 [==============================] - 0s 11ms/step\n",
      "17/17 [==============================] - 0s 11ms/step\n",
      "17/17 [==============================] - 0s 11ms/step\n",
      "17/17 [==============================] - 0s 11ms/step\n",
      "17/17 [==============================] - 0s 11ms/step\n",
      "17/17 [==============================] - 0s 11ms/step\n",
      "17/17 [==============================] - 0s 11ms/step\n",
      "17/17 [==============================] - 0s 11ms/step\n",
      "17/17 [==============================] - 0s 11ms/step\n",
      "17/17 [==============================] - 0s 11ms/step\n",
      "17/17 [==============================] - 0s 11ms/step\n",
      "17/17 [==============================] - 0s 12ms/step\n",
      "17/17 [==============================] - 0s 12ms/step\n",
      "17/17 [==============================] - 0s 11ms/step\n",
      "17/17 [==============================] - 0s 13ms/step\n",
      "17/17 [==============================] - 0s 11ms/step\n",
      "17/17 [==============================] - 0s 11ms/step\n",
      "17/17 [==============================] - 0s 12ms/step\n",
      "17/17 [==============================] - 0s 10ms/step\n",
      "17/17 [==============================] - 0s 10ms/step\n",
      "17/17 [==============================] - 0s 10ms/step\n",
      "17/17 [==============================] - 0s 11ms/step\n",
      "17/17 [==============================] - 0s 12ms/step\n",
      "17/17 [==============================] - 0s 11ms/step\n",
      "17/17 [==============================] - 0s 11ms/step\n",
      "17/17 [==============================] - 0s 10ms/step\n",
      "17/17 [==============================] - 0s 11ms/step\n",
      "17/17 [==============================] - 0s 11ms/step\n",
      "17/17 [==============================] - 0s 11ms/step\n",
      "17/17 [==============================] - 0s 10ms/step\n",
      "17/17 [==============================] - 0s 11ms/step\n",
      "17/17 [==============================] - 0s 11ms/step\n",
      "17/17 [==============================] - 0s 11ms/step\n",
      "17/17 [==============================] - 0s 11ms/step\n",
      "17/17 [==============================] - 0s 11ms/step\n",
      "17/17 [==============================] - 0s 11ms/step\n",
      "17/17 [==============================] - 0s 11ms/step\n",
      "17/17 [==============================] - 0s 11ms/step\n",
      "17/17 [==============================] - 0s 10ms/step\n",
      "17/17 [==============================] - 0s 10ms/step\n",
      "17/17 [==============================] - 0s 11ms/step\n",
      "17/17 [==============================] - 0s 11ms/step\n",
      "17/17 [==============================] - 0s 10ms/step\n",
      "17/17 [==============================] - 0s 10ms/step\n",
      "17/17 [==============================] - 0s 13ms/step\n",
      "17/17 [==============================] - 0s 12ms/step\n",
      "17/17 [==============================] - 0s 10ms/step\n",
      "17/17 [==============================] - 0s 10ms/step\n",
      "17/17 [==============================] - 0s 11ms/step\n",
      "17/17 [==============================] - 0s 11ms/step\n",
      "17/17 [==============================] - 0s 12ms/step\n",
      "17/17 [==============================] - 0s 11ms/step\n",
      "17/17 [==============================] - 0s 10ms/step\n",
      "17/17 [==============================] - 0s 11ms/step\n",
      "17/17 [==============================] - 0s 11ms/step\n",
      "17/17 [==============================] - 0s 10ms/step\n",
      "17/17 [==============================] - 0s 10ms/step\n",
      "17/17 [==============================] - 0s 11ms/step\n",
      "17/17 [==============================] - 0s 10ms/step\n",
      "17/17 [==============================] - 0s 11ms/step\n",
      "17/17 [==============================] - 0s 11ms/step\n",
      "17/17 [==============================] - 0s 10ms/step\n",
      "17/17 [==============================] - 0s 11ms/step\n",
      "17/17 [==============================] - 0s 11ms/step\n",
      "17/17 [==============================] - 0s 10ms/step\n",
      "17/17 [==============================] - 0s 10ms/step\n",
      "17/17 [==============================] - 0s 11ms/step\n",
      "17/17 [==============================] - 0s 11ms/step\n",
      "17/17 [==============================] - 0s 11ms/step\n",
      "17/17 [==============================] - 0s 11ms/step\n",
      "17/17 [==============================] - 0s 11ms/step\n",
      "17/17 [==============================] - 0s 11ms/step\n",
      "17/17 [==============================] - 0s 10ms/step\n",
      "17/17 [==============================] - 0s 11ms/step\n",
      "17/17 [==============================] - 0s 10ms/step\n",
      "17/17 [==============================] - 0s 10ms/step\n",
      "17/17 [==============================] - 0s 10ms/step\n",
      "17/17 [==============================] - 0s 11ms/step\n",
      "17/17 [==============================] - 0s 11ms/step\n",
      "17/17 [==============================] - 0s 11ms/step\n",
      "17/17 [==============================] - 0s 11ms/step\n",
      "17/17 [==============================] - 0s 11ms/step\n",
      "17/17 [==============================] - 0s 10ms/step\n",
      "17/17 [==============================] - 0s 10ms/step\n",
      "17/17 [==============================] - 0s 11ms/step\n",
      "17/17 [==============================] - 0s 10ms/step\n",
      "17/17 [==============================] - 0s 11ms/step\n",
      "17/17 [==============================] - 0s 11ms/step\n",
      "17/17 [==============================] - 0s 11ms/step\n",
      "17/17 [==============================] - 0s 11ms/step\n",
      "17/17 [==============================] - 0s 11ms/step\n",
      "17/17 [==============================] - 0s 11ms/step\n",
      "17/17 [==============================] - 0s 10ms/step\n",
      "17/17 [==============================] - 0s 11ms/step\n",
      "17/17 [==============================] - 0s 11ms/step\n",
      "17/17 [==============================] - 0s 11ms/step\n",
      "17/17 [==============================] - 0s 11ms/step\n",
      "17/17 [==============================] - 0s 11ms/step\n",
      "17/17 [==============================] - 0s 12ms/step\n",
      "17/17 [==============================] - 0s 12ms/step\n",
      "17/17 [==============================] - 0s 10ms/step\n",
      "17/17 [==============================] - 0s 11ms/step\n",
      "17/17 [==============================] - 0s 10ms/step\n",
      "17/17 [==============================] - 0s 11ms/step\n",
      "17/17 [==============================] - 0s 10ms/step\n",
      "17/17 [==============================] - 0s 10ms/step\n",
      "17/17 [==============================] - 0s 10ms/step\n",
      "17/17 [==============================] - 0s 10ms/step\n",
      "17/17 [==============================] - 0s 10ms/step\n",
      "17/17 [==============================] - 0s 10ms/step\n",
      "17/17 [==============================] - 0s 10ms/step\n",
      "17/17 [==============================] - 0s 10ms/step\n",
      "17/17 [==============================] - 0s 10ms/step\n",
      "17/17 [==============================] - 0s 10ms/step\n",
      "17/17 [==============================] - 0s 11ms/step\n",
      "17/17 [==============================] - 0s 11ms/step\n",
      "17/17 [==============================] - 0s 11ms/step\n",
      "17/17 [==============================] - 0s 10ms/step\n",
      "17/17 [==============================] - 0s 10ms/step\n",
      "17/17 [==============================] - 0s 10ms/step\n",
      "17/17 [==============================] - 0s 11ms/step\n",
      "17/17 [==============================] - 0s 10ms/step\n",
      "17/17 [==============================] - 0s 10ms/step\n",
      "17/17 [==============================] - 0s 10ms/step\n",
      "17/17 [==============================] - 0s 11ms/step\n",
      "17/17 [==============================] - 0s 10ms/step\n",
      "17/17 [==============================] - 0s 10ms/step\n",
      "17/17 [==============================] - 0s 11ms/step\n",
      "17/17 [==============================] - 0s 11ms/step\n",
      "17/17 [==============================] - 0s 10ms/step\n",
      "17/17 [==============================] - 0s 11ms/step\n",
      "17/17 [==============================] - 0s 10ms/step\n",
      "17/17 [==============================] - 0s 11ms/step\n",
      "17/17 [==============================] - 0s 10ms/step\n",
      "17/17 [==============================] - 0s 10ms/step\n",
      "17/17 [==============================] - 0s 11ms/step\n",
      "17/17 [==============================] - 0s 14ms/step\n",
      "17/17 [==============================] - 0s 11ms/step\n",
      "17/17 [==============================] - 0s 11ms/step\n",
      "17/17 [==============================] - 0s 11ms/step\n",
      "17/17 [==============================] - 0s 14ms/step\n",
      "17/17 [==============================] - 0s 13ms/step\n",
      "17/17 [==============================] - 0s 12ms/step\n",
      "17/17 [==============================] - 0s 12ms/step\n",
      "17/17 [==============================] - 0s 12ms/step\n",
      "17/17 [==============================] - 0s 11ms/step\n",
      "17/17 [==============================] - 0s 11ms/step\n",
      "17/17 [==============================] - 0s 12ms/step\n",
      "17/17 [==============================] - 0s 11ms/step\n",
      "17/17 [==============================] - 0s 11ms/step\n",
      "17/17 [==============================] - 0s 12ms/step\n",
      "17/17 [==============================] - 0s 11ms/step\n",
      "17/17 [==============================] - 0s 11ms/step\n",
      "17/17 [==============================] - 0s 11ms/step\n",
      "17/17 [==============================] - 0s 10ms/step\n",
      "17/17 [==============================] - 0s 12ms/step\n",
      "17/17 [==============================] - 0s 11ms/step\n",
      "17/17 [==============================] - 0s 11ms/step\n"
     ]
    }
   ],
   "source": [
    "check = []\n",
    "\n",
    "for i in range(len(class_list)):\n",
    "    check.append([])\n",
    "\n",
    "for i in range(len(model.predict(test_x))):\n",
    "    tmp = np.argmax(model.predict(test_x)[i])\n",
    "    check[tmp].append(1)"
   ]
  },
  {
   "cell_type": "code",
   "execution_count": 48,
   "metadata": {},
   "outputs": [
    {
     "name": "stdout",
     "output_type": "stream",
     "text": [
      "80 airplane\n",
      "0 bell\n",
      "0 car_horn\n",
      "6 cat\n",
      "12 chirping_birds\n",
      "0 clapping\n",
      "0 crying_baby\n",
      "383 dog_bark\n",
      "0 drum\n",
      "0 guitar\n",
      "0 gun_shot\n",
      "3 laughing\n",
      "0 lion\n",
      "0 piano\n",
      "0 rain\n",
      "2 scream\n",
      "34 siren\n",
      "0 snoring\n",
      "0 thunderstorm\n",
      "0 vacuum_cleaner\n"
     ]
    }
   ],
   "source": [
    "a = 0\n",
    "for i in check:\n",
    "    print(len(i), class_list[a])\n",
    "    a += 1"
   ]
  },
  {
   "cell_type": "code",
   "execution_count": 63,
   "metadata": {},
   "outputs": [
    {
     "data": {
      "text/plain": [
       "array([ 0.00381674,  0.00391974,  0.00119769, -0.00010152, -0.00092126],\n",
       "      dtype=float32)"
      ]
     },
     "execution_count": 63,
     "metadata": {},
     "output_type": "execute_result"
    }
   ],
   "source": [
    "test_y[:5]"
   ]
  },
  {
   "cell_type": "markdown",
   "metadata": {},
   "source": [
    "----------"
   ]
  },
  {
   "cell_type": "code",
   "execution_count": 18,
   "metadata": {},
   "outputs": [
    {
     "name": "stdout",
     "output_type": "stream",
     "text": [
      "[array([ 0.0000000e+00, -3.0517578e-05,  0.0000000e+00, ...,\n",
      "        1.0986328e-03,  6.4086914e-04,  1.8310547e-04], dtype=float32), array([-0.01251221, -0.02316284, -0.02981567, ...,  0.00613403,\n",
      "        0.00454712,  0.0027771 ], dtype=float32)]\n",
      "[0, 0, 0, 0, 0, 0, 0, 0, 0, 0]\n"
     ]
    }
   ],
   "source": [
    "class_list_test = ['barking_dog_test'] \n",
    "\n",
    "audio_duration_test = []\n",
    "audio_test = []\n",
    "label_test = []\n",
    "\n",
    "\n",
    "for i in range (len(class_list_test)):\n",
    "    audio_duration_test.append([])\n",
    "\n",
    "try:\n",
    "    for i in range(len(class_list_test)):\n",
    "        dir_path = './movie/' \n",
    "        dir_path = dir_path + class_list_test[i]\n",
    "\n",
    "        for (root, directories, files) in os.walk(dir_path):\n",
    "            for file in files:\n",
    "                if '.mp3' in file:\n",
    "                    file_path = os.path.join(root, file)\n",
    "                    # y, sr = librosa.load(file_path, sr=None, duration=2) \n",
    "                    y, sr = librosa.load(file_path) \n",
    "                    duration = librosa.get_duration(y, sr=sr)\n",
    "                    audio_duration_test[i].append(duration)\n",
    "                    if len(y) != 44100:\n",
    "                        print(file_path)\n",
    "                    audio_test.append(y)\n",
    "                    label_test.append(i)\n",
    "                elif '.wav' in file:\n",
    "                    file_path = os.path.join(root, file)\n",
    "                    # y, sr = librosa.load(file_path, sr=None, duration=2) \n",
    "                    y, sr = librosa.load(file_path) \n",
    "                    duration = librosa.get_duration(y, sr=sr)\n",
    "                    audio_duration_test[i].append(duration)\n",
    "                    if len(y) != 44100:\n",
    "                        print(file_path)\n",
    "                    audio_test.append(y)\n",
    "                    label_test.append(i)\n",
    "except:\n",
    "    print(file_path)\n",
    "\n",
    "print(audio_test[:2])\n",
    "print(label_test[:10])"
   ]
  },
  {
   "cell_type": "code",
   "execution_count": 19,
   "metadata": {},
   "outputs": [
    {
     "name": "stdout",
     "output_type": "stream",
     "text": [
      "(26, 44100)\n"
     ]
    }
   ],
   "source": [
    "\n",
    "audio_np_test = np.array(audio_test, np.float64)\n",
    "\n",
    "\n",
    "print( audio_np_test.shape )"
   ]
  },
  {
   "cell_type": "code",
   "execution_count": 20,
   "metadata": {},
   "outputs": [
    {
     "data": {
      "text/plain": [
       "MinMaxScaler()"
      ]
     },
     "execution_count": 20,
     "metadata": {},
     "output_type": "execute_result"
    }
   ],
   "source": [
    "from sklearn.preprocessing import MinMaxScaler\n",
    "\n",
    "scaler = MinMaxScaler()\n",
    "scaler.fit(audio_np_test)"
   ]
  },
  {
   "cell_type": "code",
   "execution_count": 21,
   "metadata": {},
   "outputs": [
    {
     "name": "stdout",
     "output_type": "stream",
     "text": [
      "(26, 44100)\n"
     ]
    }
   ],
   "source": [
    "print(audio_np_test.shape)"
   ]
  },
  {
   "cell_type": "code",
   "execution_count": 28,
   "metadata": {},
   "outputs": [
    {
     "name": "stdout",
     "output_type": "stream",
     "text": [
      "(817, 44100)\n"
     ]
    }
   ],
   "source": [
    "print(test_x.shape)"
   ]
  },
  {
   "cell_type": "code",
   "execution_count": 34,
   "metadata": {},
   "outputs": [
    {
     "name": "stdout",
     "output_type": "stream",
     "text": [
      "[16 16  7 16 16 16 16 16 16 16 16 16 16 16 16 16 16 16 16 16 16 16 16 16\n",
      " 16  7]\n",
      "0 2 siren\n",
      "2 4 siren\n",
      "4 6 dog_bark\n",
      "6 8 siren\n",
      "8 10 siren\n",
      "10 12 siren\n",
      "12 14 siren\n",
      "14 16 siren\n",
      "16 18 siren\n",
      "18 20 siren\n",
      "20 22 siren\n",
      "22 24 siren\n",
      "24 26 siren\n",
      "26 28 siren\n",
      "28 30 siren\n",
      "30 32 siren\n",
      "32 34 siren\n",
      "34 36 siren\n",
      "36 38 siren\n",
      "38 40 siren\n",
      "40 42 siren\n",
      "42 44 siren\n",
      "44 46 siren\n",
      "46 48 siren\n",
      "48 50 siren\n",
      "50 52 dog_bark\n"
     ]
    }
   ],
   "source": [
    "## 단순 logistic pred\n",
    "from sklearn.linear_model import LogisticRegression\n",
    "from sklearn.metrics import accuracy_score\n",
    "\n",
    "LR = LogisticRegression()\n",
    "LR.fit(train_x, train_y)\n",
    "\n",
    "\n",
    "pred = LR.predict(audio_np_test)\n",
    "print(pred)\\\n",
    "\n",
    "time = 0\n",
    "for i in pred:\n",
    "    print(time, time+2 , class_list[i])\n",
    "    time +=2\n",
    "  "
   ]
  },
  {
   "cell_type": "code",
   "execution_count": 22,
   "metadata": {},
   "outputs": [
    {
     "name": "stdout",
     "output_type": "stream",
     "text": [
      "[16 16  7  9  7 16  7 16 16 16 16 16 16 16 16 16  9  2 16 16  9  7  7 16\n",
      "  7 16]\n",
      "0 2 siren\n",
      "2 4 siren\n",
      "4 6 dog_bark\n",
      "6 8 guitar\n",
      "8 10 dog_bark\n",
      "10 12 siren\n",
      "12 14 dog_bark\n",
      "14 16 siren\n",
      "16 18 siren\n",
      "18 20 siren\n",
      "20 22 siren\n",
      "22 24 siren\n",
      "24 26 siren\n",
      "26 28 siren\n",
      "28 30 siren\n",
      "30 32 siren\n",
      "32 34 guitar\n",
      "34 36 car_horn\n",
      "36 38 siren\n",
      "38 40 siren\n",
      "40 42 guitar\n",
      "42 44 dog_bark\n",
      "44 46 dog_bark\n",
      "46 48 siren\n",
      "48 50 dog_bark\n",
      "50 52 siren\n"
     ]
    }
   ],
   "source": [
    "## 단순 svm pred\n",
    "from sklearn.tree import DecisionTreeClassifier\n",
    "\n",
    "DT = DecisionTreeClassifier()\n",
    "DT.fit(train_x, train_y)\n",
    "pred = DT.predict(audio_np_test)\n",
    "print(pred)\n",
    "\n",
    "time = 0\n",
    "for i in pred:\n",
    "    print(time, time+2 , class_list[i])\n",
    "    time +=2\n",
    "  "
   ]
  },
  {
   "cell_type": "code",
   "execution_count": 24,
   "metadata": {},
   "outputs": [
    {
     "name": "stdout",
     "output_type": "stream",
     "text": [
      "[[0. 0. 0. 0. 0. 0. 0. 0. 0. 0. 0. 0. 0. 0. 0. 0. 1. 0. 0. 0.]\n",
      " [0. 0. 0. 0. 0. 0. 0. 0. 0. 0. 0. 0. 0. 0. 0. 0. 1. 0. 0. 0.]\n",
      " [0. 0. 0. 0. 0. 0. 0. 1. 0. 0. 0. 0. 0. 0. 0. 0. 0. 0. 0. 0.]\n",
      " [0. 0. 0. 0. 0. 0. 0. 0. 0. 1. 0. 0. 0. 0. 0. 0. 0. 0. 0. 0.]\n",
      " [0. 0. 0. 0. 0. 0. 0. 1. 0. 0. 0. 0. 0. 0. 0. 0. 0. 0. 0. 0.]\n",
      " [0. 0. 0. 0. 0. 0. 0. 0. 0. 0. 0. 0. 0. 0. 0. 0. 1. 0. 0. 0.]\n",
      " [0. 0. 0. 0. 0. 0. 0. 1. 0. 0. 0. 0. 0. 0. 0. 0. 0. 0. 0. 0.]\n",
      " [0. 0. 0. 0. 0. 0. 0. 0. 0. 0. 0. 0. 0. 0. 0. 0. 1. 0. 0. 0.]\n",
      " [0. 0. 0. 0. 0. 0. 0. 0. 0. 0. 0. 0. 0. 0. 0. 0. 1. 0. 0. 0.]\n",
      " [0. 0. 0. 0. 0. 0. 0. 0. 0. 0. 0. 0. 0. 0. 0. 0. 1. 0. 0. 0.]\n",
      " [0. 0. 0. 0. 0. 0. 0. 0. 0. 0. 0. 0. 0. 0. 0. 0. 1. 0. 0. 0.]\n",
      " [0. 0. 0. 0. 0. 0. 0. 0. 0. 0. 0. 0. 0. 0. 0. 0. 1. 0. 0. 0.]\n",
      " [0. 0. 0. 0. 0. 0. 0. 0. 0. 0. 0. 0. 0. 0. 0. 0. 1. 0. 0. 0.]\n",
      " [0. 0. 0. 0. 0. 0. 0. 0. 0. 0. 0. 0. 0. 0. 0. 0. 1. 0. 0. 0.]\n",
      " [0. 0. 0. 0. 0. 0. 0. 0. 0. 0. 0. 0. 0. 0. 0. 0. 1. 0. 0. 0.]\n",
      " [0. 0. 0. 0. 0. 0. 0. 0. 0. 0. 0. 0. 0. 0. 0. 0. 1. 0. 0. 0.]\n",
      " [0. 0. 0. 0. 0. 0. 0. 0. 0. 1. 0. 0. 0. 0. 0. 0. 0. 0. 0. 0.]\n",
      " [0. 0. 1. 0. 0. 0. 0. 0. 0. 0. 0. 0. 0. 0. 0. 0. 0. 0. 0. 0.]\n",
      " [0. 0. 0. 0. 0. 0. 0. 0. 0. 0. 0. 0. 0. 0. 0. 0. 1. 0. 0. 0.]\n",
      " [0. 0. 0. 0. 0. 0. 0. 0. 0. 0. 0. 0. 0. 0. 0. 0. 1. 0. 0. 0.]\n",
      " [0. 0. 0. 0. 0. 0. 0. 0. 0. 1. 0. 0. 0. 0. 0. 0. 0. 0. 0. 0.]\n",
      " [0. 0. 0. 0. 0. 0. 0. 1. 0. 0. 0. 0. 0. 0. 0. 0. 0. 0. 0. 0.]\n",
      " [0. 0. 0. 0. 0. 0. 0. 1. 0. 0. 0. 0. 0. 0. 0. 0. 0. 0. 0. 0.]\n",
      " [0. 0. 0. 0. 0. 0. 0. 0. 0. 0. 0. 0. 0. 0. 0. 0. 1. 0. 0. 0.]\n",
      " [0. 0. 0. 0. 0. 0. 0. 1. 0. 0. 0. 0. 0. 0. 0. 0. 0. 0. 0. 0.]\n",
      " [0. 0. 0. 0. 0. 0. 0. 0. 0. 0. 0. 0. 0. 0. 0. 0. 1. 0. 0. 0.]]\n"
     ]
    }
   ],
   "source": [
    "proba = DT.predict_proba(audio_np_test)\n",
    "# print(proba)\n",
    "print(np.round(proba, decimals=4))"
   ]
  },
  {
   "cell_type": "code",
   "execution_count": 31,
   "metadata": {},
   "outputs": [
    {
     "name": "stdout",
     "output_type": "stream",
     "text": [
      "[[ 0.00000000e+00 -3.05175781e-05  0.00000000e+00 ...  1.09863281e-03\n",
      "   6.40869141e-04  1.83105469e-04]\n",
      " [-1.25122070e-02 -2.31628418e-02 -2.98156738e-02 ...  6.13403320e-03\n",
      "   4.54711914e-03  2.77709961e-03]\n",
      " [ 2.86865234e-03  2.25830078e-03 -1.98364258e-03 ... -3.24096680e-02\n",
      "  -3.03649902e-02 -2.76794434e-02]\n",
      " ...\n",
      " [ 9.15527344e-05  9.15527344e-05  9.15527344e-05 ... -1.49536133e-03\n",
      "   1.52587891e-03  6.07299805e-03]\n",
      " [ 4.88281250e-04  5.34057617e-03  8.94165039e-03 ... -5.06591797e-03\n",
      "  -6.74438477e-03 -7.87353516e-03]\n",
      " [-1.19628906e-02 -1.84631348e-02 -2.55432129e-02 ...  1.15051270e-02\n",
      "   5.46264648e-03 -2.59399414e-03]]\n"
     ]
    }
   ],
   "source": [
    "print(audio_np_test)"
   ]
  },
  {
   "cell_type": "code",
   "execution_count": 37,
   "metadata": {},
   "outputs": [],
   "source": [
    "audio_stft_test = []\n",
    "for y in audio_np_test:\n",
    "  S = librosa.core.stft(y, n_fft=1024, hop_length=512, win_length=1024)\n",
    "  D = np.abs(S)**2\n",
    "  log_S = librosa.power_to_db(S, ref=np.max)\n",
    "  audio_stft_test.append(log_S)"
   ]
  },
  {
   "cell_type": "code",
   "execution_count": 38,
   "metadata": {},
   "outputs": [
    {
     "name": "stdout",
     "output_type": "stream",
     "text": [
      "[array([[-10.71741886,  -5.7629089 ,  -5.82437562, ..., -18.60754245,\n",
      "        -20.09807402, -13.92607687],\n",
      "       [-11.36775497,  -8.66150493,  -8.83308924, ..., -11.6232589 ,\n",
      "        -12.98238661, -11.94858372],\n",
      "       [-13.40608402, -31.77453037, -25.87896841, ...,  -9.91981915,\n",
      "         -6.8683148 , -10.56173249],\n",
      "       ...,\n",
      "       [-41.19143708, -44.89461396, -37.7354333 , ..., -37.25989453,\n",
      "        -34.75385113, -34.6616387 ],\n",
      "       [-47.72197966, -41.74496056, -42.20130913, ..., -37.8270745 ,\n",
      "        -36.0894059 , -37.2941693 ],\n",
      "       [-56.80816143, -41.52655983, -46.75855536, ..., -42.88092797,\n",
      "        -37.98113716, -38.38761364]]), array([[-12.86484639, -20.32242104, -17.58996475, ...,  -7.39345625,\n",
      "         -7.30984533,  -4.24797504],\n",
      "       [-12.20608982, -19.82931585, -19.57925084, ...,  -5.20407851,\n",
      "         -6.31371972,  -5.06609557],\n",
      "       [-10.60744028, -20.91494648, -16.69097653, ...,  -7.19068337,\n",
      "         -7.63104172,  -9.58985205],\n",
      "       ...,\n",
      "       [-32.71397722, -44.33693178, -46.83248818, ..., -49.0320892 ,\n",
      "        -46.86777803, -43.62084906],\n",
      "       [-32.60068778, -46.87294517, -51.3010403 , ..., -52.15500064,\n",
      "        -47.64149025, -43.45311122],\n",
      "       [-32.54707058, -45.74785335, -49.8460431 , ..., -50.66166585,\n",
      "        -66.30154566, -43.09153079]]), array([[ -7.61733513, -11.66303067, -13.25783259, ...,  -3.76371963,\n",
      "        -12.07778419,  -8.08492996],\n",
      "       [ -9.19634649, -21.00078318,  -7.74519548, ...,  -8.35483591,\n",
      "         -5.25455081,  -9.19336128],\n",
      "       [ -8.62770446,  -5.44539504,  -3.27350768, ...,  -7.10775526,\n",
      "         -4.75197921,  -9.60138825],\n",
      "       ...,\n",
      "       [-44.14028978, -47.47372138, -48.22041274, ..., -49.3820321 ,\n",
      "        -46.24730352, -29.09484835],\n",
      "       [-44.46142873, -51.16050703, -51.02301121, ..., -53.65113179,\n",
      "        -44.62369544, -29.09644826],\n",
      "       [-44.28078329, -53.7971481 , -51.22103635, ..., -50.38064189,\n",
      "        -43.31578061, -29.13416131]]), array([[ -9.50122323, -10.44725646,  -6.86540723, ..., -23.06202787,\n",
      "        -25.27602094, -14.55898593],\n",
      "       [ -8.40835377, -14.51583499,  -6.07961356, ..., -20.37085189,\n",
      "        -22.24250264, -12.38153244],\n",
      "       [ -7.21831382,  -7.12443722,  -7.90877708, ...,  -9.05518402,\n",
      "         -9.21458375, -11.11232768],\n",
      "       ...,\n",
      "       [-30.08496397, -54.99517223, -49.09623207, ..., -49.88639247,\n",
      "        -48.72728615, -27.62835453],\n",
      "       [-30.11416871, -54.77558834, -48.5660727 , ..., -55.53522269,\n",
      "        -48.9182246 , -27.63817236],\n",
      "       [-30.13682585, -50.1006739 , -51.94368693, ..., -51.62811963,\n",
      "        -48.65027183, -27.64516911]]), array([[-11.56560312, -23.19762543, -17.79858706, ..., -23.09275944,\n",
      "        -22.60234482, -20.11631729],\n",
      "       [-10.21707783, -17.49659935, -19.35791286, ..., -29.75056909,\n",
      "        -24.84480772, -15.20270175],\n",
      "       [ -7.70465001,  -7.42169622,  -7.18978826, ...,  -9.6895137 ,\n",
      "        -10.1636016 , -11.30243385],\n",
      "       ...,\n",
      "       [-26.00703247, -49.40623314, -48.83168279, ..., -50.05664407,\n",
      "        -47.67811468, -32.02316614],\n",
      "       [-25.98995473, -51.08338305, -51.32267729, ..., -50.17417545,\n",
      "        -47.63914785, -32.0284787 ],\n",
      "       [-25.98390265, -50.98095301, -49.1146461 , ..., -52.43412183,\n",
      "        -45.9378348 , -32.06416047]]), array([[-16.5913141 , -23.81214422, -32.69654208, ..., -20.67108181,\n",
      "        -20.52776473, -23.48939126],\n",
      "       [-13.17672105, -26.33779631, -24.38733327, ..., -23.92217568,\n",
      "        -23.44996865, -24.65520613],\n",
      "       [ -9.46749849,  -8.89030475,  -9.06161708, ..., -33.81884928,\n",
      "        -31.24292424, -28.76345388],\n",
      "       ...,\n",
      "       [-30.48104553, -46.922364  , -44.04083356, ..., -45.90893435,\n",
      "        -45.81071146, -49.00354859],\n",
      "       [-30.43259006, -47.7043399 , -45.32406484, ..., -46.58900641,\n",
      "        -49.67462707, -45.39318066],\n",
      "       [-30.39599308, -54.39428879, -42.37085152, ..., -47.77430355,\n",
      "        -53.47168314, -44.3967864 ]]), array([[-14.6369885 , -15.8946871 , -27.63830401, ..., -15.82563935,\n",
      "        -25.90011833, -16.17368751],\n",
      "       [-15.90663207, -13.64404296, -13.68710337, ..., -17.43236364,\n",
      "        -18.7414087 , -15.68387188],\n",
      "       [-16.60169662, -13.7614229 , -10.77837772, ..., -16.76108794,\n",
      "        -13.61038549, -15.9050694 ],\n",
      "       ...,\n",
      "       [-40.82448633, -43.17726173, -47.93310604, ..., -43.35539933,\n",
      "        -42.88061374, -33.87017432],\n",
      "       [-44.35881572, -42.06339026, -41.79285877, ..., -42.16277796,\n",
      "        -46.02554377, -34.48552334],\n",
      "       [-43.8950624 , -40.236304  , -39.48743967, ..., -44.05649224,\n",
      "        -41.36852311, -35.13015835]]), array([[ -7.08953837,  -3.99773102,  -1.30615067, ..., -80.        ,\n",
      "        -80.        , -80.        ],\n",
      "       [ -7.14940133,  -4.82375517,  -3.37017208, ..., -80.        ,\n",
      "        -80.        , -80.        ],\n",
      "       [ -7.47030308,  -8.39036834,  -8.45839757, ..., -80.        ,\n",
      "        -80.        , -80.        ],\n",
      "       ...,\n",
      "       [-25.35459633, -20.3257578 , -31.46935954, ..., -80.        ,\n",
      "        -80.        , -80.        ],\n",
      "       [-26.60536096, -22.89320558, -23.63135153, ..., -80.        ,\n",
      "        -80.        , -80.        ],\n",
      "       [-29.22890362, -38.95384278, -22.62028377, ..., -80.        ,\n",
      "        -80.        , -80.        ]]), array([[0., 0., 0., ..., 0., 0., 0.],\n",
      "       [0., 0., 0., ..., 0., 0., 0.],\n",
      "       [0., 0., 0., ..., 0., 0., 0.],\n",
      "       ...,\n",
      "       [0., 0., 0., ..., 0., 0., 0.],\n",
      "       [0., 0., 0., ..., 0., 0., 0.],\n",
      "       [0., 0., 0., ..., 0., 0., 0.]]), array([[0., 0., 0., ..., 0., 0., 0.],\n",
      "       [0., 0., 0., ..., 0., 0., 0.],\n",
      "       [0., 0., 0., ..., 0., 0., 0.],\n",
      "       ...,\n",
      "       [0., 0., 0., ..., 0., 0., 0.],\n",
      "       [0., 0., 0., ..., 0., 0., 0.],\n",
      "       [0., 0., 0., ..., 0., 0., 0.]]), array([[0., 0., 0., ..., 0., 0., 0.],\n",
      "       [0., 0., 0., ..., 0., 0., 0.],\n",
      "       [0., 0., 0., ..., 0., 0., 0.],\n",
      "       ...,\n",
      "       [0., 0., 0., ..., 0., 0., 0.],\n",
      "       [0., 0., 0., ..., 0., 0., 0.],\n",
      "       [0., 0., 0., ..., 0., 0., 0.]]), array([[-80.        , -80.        , -80.        , ...,  -6.36493839,\n",
      "         -4.56792119,  -6.54678556],\n",
      "       [-80.        , -80.        , -80.        , ...,  -6.50123748,\n",
      "         -6.8883313 ,  -8.18587197],\n",
      "       [-80.        , -80.        , -80.        , ..., -10.35352027,\n",
      "        -11.43829237, -16.36618898],\n",
      "       ...,\n",
      "       [-80.        , -80.        , -80.        , ..., -30.43686276,\n",
      "        -26.39216488, -28.48458279],\n",
      "       [-80.        , -80.        , -80.        , ..., -28.56010657,\n",
      "        -27.84102865, -28.64202034],\n",
      "       [-80.        , -80.        , -80.        , ..., -24.40018089,\n",
      "        -29.34331853, -28.89198501]]), array([[-22.95634326, -12.08042482,  -6.89699281, ..., -15.89774257,\n",
      "        -14.20983928, -16.65130721],\n",
      "       [-20.12362444, -14.20869101,  -9.52733089, ..., -20.63799757,\n",
      "        -15.46653683, -16.23303254],\n",
      "       [-17.86339238, -17.6758904 , -18.13564525, ..., -13.11025039,\n",
      "        -14.19976855, -15.48548265],\n",
      "       ...,\n",
      "       [-35.87711043, -32.00106373, -30.69020336, ..., -33.7837875 ,\n",
      "        -36.46106308, -29.7556246 ],\n",
      "       [-35.45640439, -32.15020177, -32.06832454, ..., -30.67745707,\n",
      "        -31.03092674, -32.07541668],\n",
      "       [-32.96155494, -28.84777084, -43.37445577, ..., -29.68866724,\n",
      "        -29.7285666 , -35.54157729]]), array([[-13.90778664, -10.46426752,  -8.25782959, ..., -23.27780441,\n",
      "        -14.59791713, -24.38018674],\n",
      "       [-14.34497981, -14.09818073, -11.28196636, ..., -18.0929661 ,\n",
      "        -15.76695402, -27.6799477 ],\n",
      "       [-15.56862225, -17.86044978, -16.1718439 , ..., -19.67404175,\n",
      "        -14.78456567, -19.70393852],\n",
      "       ...,\n",
      "       [-32.03615509, -30.58176003, -31.16131111, ..., -31.98824419,\n",
      "        -33.9556725 , -35.42102914],\n",
      "       [-31.72021555, -29.7488655 , -35.06176859, ..., -29.82847946,\n",
      "        -30.74083737, -31.97266702],\n",
      "       [-31.75215465, -29.45882982, -32.69099349, ..., -29.1213709 ,\n",
      "        -30.48672102, -30.83469259]]), array([[-21.18439598, -14.3437153 , -13.44013017, ..., -12.54206646,\n",
      "         -7.99408777,  -9.88678775],\n",
      "       [-20.13261543, -17.54753044, -16.07437994, ..., -14.69259445,\n",
      "        -10.31976484, -11.01563499],\n",
      "       [-19.25590188, -20.74005514, -16.77997213, ..., -18.04381424,\n",
      "        -17.04208025, -14.88228616],\n",
      "       ...,\n",
      "       [-45.95115253, -36.55419498, -37.90709223, ..., -34.63812363,\n",
      "        -37.35467237, -30.60910785],\n",
      "       [-40.89745412, -36.43780223, -38.38205781, ..., -37.06201652,\n",
      "        -35.46297569, -29.96932972],\n",
      "       [-38.82154413, -44.58860377, -45.70080924, ..., -36.22560297,\n",
      "        -33.75240414, -29.58868793]]), array([[-11.09272763, -10.25666093, -13.08026921, ..., -11.37986338,\n",
      "         -9.47154267,  -9.75556001],\n",
      "       [-11.90425964, -13.07569978, -16.60988526, ..., -13.90282618,\n",
      "        -12.52424801, -10.89861348],\n",
      "       [-14.22534611, -19.99392554, -20.62739566, ..., -19.10471257,\n",
      "        -19.05598271, -14.08262974],\n",
      "       ...,\n",
      "       [-30.58305543, -35.49540958, -35.41489256, ..., -33.41943609,\n",
      "        -35.82908037, -25.07371051],\n",
      "       [-30.35736554, -36.0486368 , -35.30444198, ..., -35.2552438 ,\n",
      "        -35.68315707, -25.29645384],\n",
      "       [-30.35139901, -39.76401009, -37.07193845, ..., -36.0802805 ,\n",
      "        -35.48029186, -25.43370278]]), array([[-21.38172512, -16.81128311, -17.87505717, ..., -16.86011965,\n",
      "        -14.36753988, -20.39110665],\n",
      "       [-18.35231556, -20.50312217, -19.09346175, ..., -23.13981778,\n",
      "        -16.51912709, -21.73497457],\n",
      "       [-16.2477758 , -21.29195435, -18.29347779, ..., -22.11022382,\n",
      "        -22.82431824, -26.31962483],\n",
      "       ...,\n",
      "       [-29.6433633 , -44.41166022, -42.51508029, ..., -46.84642248,\n",
      "        -40.58203609, -40.91311226],\n",
      "       [-29.45611748, -42.11048926, -41.91888422, ..., -42.21610373,\n",
      "        -39.77402119, -39.30695867],\n",
      "       [-29.42033164, -44.58131966, -46.35635339, ..., -39.46764514,\n",
      "        -45.19082769, -40.44047427]]), array([[-17.7096891 , -22.81904174, -26.87960898, ..., -16.7359845 ,\n",
      "        -23.88701535, -16.36217052],\n",
      "       [-18.2557731 , -22.78909721, -17.76325961, ..., -14.43196231,\n",
      "        -20.20673182, -14.67668272],\n",
      "       [-17.71733286, -20.34500575, -14.42020776, ..., -10.53136752,\n",
      "        -11.67742709, -13.57822251],\n",
      "       ...,\n",
      "       [-34.84815733, -41.27500566, -50.43029631, ..., -43.74831235,\n",
      "        -42.59321887, -49.71244052],\n",
      "       [-34.67328168, -46.89321202, -42.38506701, ..., -39.91593107,\n",
      "        -45.2829729 , -51.12749164],\n",
      "       [-34.71304699, -49.01277139, -39.36167473, ..., -38.63405366,\n",
      "        -43.0094018 , -54.27811741]]), array([[-20.92449556, -15.79082502, -17.17165342, ..., -11.94047309,\n",
      "        -11.83823597, -24.17006161],\n",
      "       [-22.25415725, -17.14758798, -18.0972208 , ..., -12.24674616,\n",
      "        -11.07462452, -14.3262488 ],\n",
      "       [-26.63000209, -19.35307105, -17.37722246, ..., -17.66124931,\n",
      "        -12.06975112, -14.13968382],\n",
      "       ...,\n",
      "       [-38.87906943, -35.83199785, -38.57342495, ..., -38.30575591,\n",
      "        -38.97916634, -33.00728707],\n",
      "       [-36.29219724, -37.33584194, -35.1494238 , ..., -40.73476971,\n",
      "        -44.73110732, -34.51619868],\n",
      "       [-35.05087144, -43.65646991, -34.52317182, ..., -58.89479123,\n",
      "        -41.56249989, -36.63211484]]), array([[-21.14510769, -19.19879494, -16.97078339, ..., -17.91609381,\n",
      "        -15.07589927, -16.41555416],\n",
      "       [-19.56293886, -15.45588872, -18.33246269, ..., -19.28031322,\n",
      "        -16.28672035, -17.75523783],\n",
      "       [-19.17026845, -15.78442239, -16.98177865, ..., -19.58392629,\n",
      "        -21.15781804, -18.68119245],\n",
      "       ...,\n",
      "       [-34.71568381, -39.89223893, -43.27920863, ..., -38.17500326,\n",
      "        -50.79631342, -24.78118313],\n",
      "       [-33.79345254, -41.7117532 , -44.80186909, ..., -41.58112862,\n",
      "        -39.93778824, -24.87926774],\n",
      "       [-33.17257585, -37.0781575 , -41.12507997, ..., -47.1639973 ,\n",
      "        -39.81097191, -24.83975958]]), array([[-26.48500217, -18.39834407, -17.15358079, ..., -25.08401395,\n",
      "        -19.92369598, -19.19410886],\n",
      "       [-21.87244093, -19.32864503, -18.96581109, ..., -21.08429452,\n",
      "        -23.91794697, -19.50556958],\n",
      "       [-18.59729807, -24.24915765, -22.15808199, ..., -26.75206941,\n",
      "        -22.49703587, -20.34585402],\n",
      "       ...,\n",
      "       [-27.02274703, -40.98315999, -41.20141354, ..., -42.26851568,\n",
      "        -46.88645092, -38.52117951],\n",
      "       [-27.02953022, -40.67080977, -42.9701557 , ..., -45.71978538,\n",
      "        -49.43236131, -39.18097334],\n",
      "       [-27.08519547, -44.70720265, -65.43105257, ..., -48.89958784,\n",
      "        -57.53310925, -38.96612305]]), array([[-25.22331734, -18.09896059, -21.55991496, ..., -37.60652578,\n",
      "        -17.15677335, -16.53047426],\n",
      "       [-25.10523754, -19.18194421, -22.78397743, ..., -25.68829861,\n",
      "        -19.03325621, -17.30190187],\n",
      "       [-25.65723139, -22.71778702, -33.46699336, ..., -27.29558748,\n",
      "        -21.5801008 , -19.28542326],\n",
      "       ...,\n",
      "       [-42.55931977, -46.99836358, -47.01783899, ..., -44.00082712,\n",
      "        -42.17143272, -34.26002946],\n",
      "       [-42.33152246, -43.78506506, -44.1221532 , ..., -43.72012833,\n",
      "        -43.63218491, -33.84905008],\n",
      "       [-42.48297403, -42.43688081, -42.09941075, ..., -52.72282716,\n",
      "        -41.28415225, -33.51036415]]), array([[-11.99204179, -12.50058718, -19.55635248, ..., -36.02509902,\n",
      "        -22.13924576, -30.3515384 ],\n",
      "       [-13.01216152, -14.49352937, -19.88995576, ..., -22.6613066 ,\n",
      "        -22.87265638, -25.23210981],\n",
      "       [-15.97213303, -16.30066736, -24.29283846, ..., -20.58560581,\n",
      "        -20.71789272, -21.92053032],\n",
      "       ...,\n",
      "       [-28.52615663, -38.45762739, -36.85387497, ..., -41.04809859,\n",
      "        -36.37390678, -43.77440518],\n",
      "       [-28.35596955, -38.75180337, -38.40181823, ..., -39.98077611,\n",
      "        -38.7037535 , -40.67328203],\n",
      "       [-28.34813276, -42.66151268, -44.52927522, ..., -45.75140672,\n",
      "        -55.45273752, -38.94694183]]), array([[-25.07256224, -32.7917934 , -21.21853319, ..., -14.39159452,\n",
      "        -20.14240805, -19.83095323],\n",
      "       [-24.76189737, -24.32489166, -25.51147412, ..., -13.67082316,\n",
      "        -18.46038842, -17.26216162],\n",
      "       [-24.29647329, -22.65643885, -24.10927167, ..., -14.35359944,\n",
      "        -14.53678454, -17.5034842 ],\n",
      "       ...,\n",
      "       [-41.53119467, -43.0264216 , -42.52168646, ..., -45.37249621,\n",
      "        -48.38042033, -27.36701408],\n",
      "       [-44.81728606, -45.75096849, -42.17274968, ..., -42.37360369,\n",
      "        -42.91380493, -27.30598643],\n",
      "       [-50.71261077, -60.24096694, -41.31020761, ..., -49.51286048,\n",
      "        -50.76885555, -27.34196391]]), array([[-16.75487566, -29.64605745, -23.13119651, ..., -30.33134528,\n",
      "        -24.51051124, -14.77865225],\n",
      "       [-16.05819637, -19.32701558, -21.82201293, ..., -24.58169996,\n",
      "        -25.3392644 , -14.95917674],\n",
      "       [-15.83847887, -18.57452057, -22.89130893, ..., -19.49562085,\n",
      "        -19.77166735, -14.94995839],\n",
      "       ...,\n",
      "       [-48.01252542, -45.44809098, -47.11281621, ..., -45.69316894,\n",
      "        -48.10045386, -33.00957531],\n",
      "       [-46.26900307, -45.91045364, -46.266439  , ..., -47.90136992,\n",
      "        -47.47414558, -33.15950521],\n",
      "       [-45.63436241, -44.83166824, -44.90639794, ..., -52.72273271,\n",
      "        -46.41293613, -33.20595545]]), array([[-13.04894503, -41.49078863, -24.99784691, ..., -27.07321279,\n",
      "        -23.63132889, -12.65676186],\n",
      "       [-13.36673116, -21.12295254, -23.07022019, ..., -21.56715373,\n",
      "        -21.26234249, -12.36058552],\n",
      "       [-13.81428625, -23.0591561 , -19.19495547, ..., -22.21302214,\n",
      "        -17.58170093, -11.8248473 ],\n",
      "       ...,\n",
      "       [-32.0844841 , -44.46003915, -51.33114188, ..., -46.33960963,\n",
      "        -47.11904719, -31.8264945 ],\n",
      "       [-32.16567148, -46.5512752 , -47.18615876, ..., -53.11679196,\n",
      "        -46.32376688, -31.94527146],\n",
      "       [-32.19413956, -46.24806302, -48.01662204, ..., -53.89379379,\n",
      "        -43.98929553, -32.0935119 ]])]\n"
     ]
    }
   ],
   "source": [
    "print(audio_stft_test)"
   ]
  },
  {
   "cell_type": "code",
   "execution_count": 41,
   "metadata": {},
   "outputs": [
    {
     "name": "stdout",
     "output_type": "stream",
     "text": [
      "(26, 513, 87)\n"
     ]
    }
   ],
   "source": [
    "stft_np_test = np.array(audio_stft_test, np.float32)\n",
    "\n",
    "print(stft_np_test.shape)"
   ]
  },
  {
   "cell_type": "code",
   "execution_count": 42,
   "metadata": {},
   "outputs": [],
   "source": [
    "stft_np_test = stft_np_test.reshape(26, 513 * 87)"
   ]
  },
  {
   "cell_type": "code",
   "execution_count": 45,
   "metadata": {},
   "outputs": [
    {
     "data": {
      "text/plain": [
       "MinMaxScaler()"
      ]
     },
     "execution_count": 45,
     "metadata": {},
     "output_type": "execute_result"
    }
   ],
   "source": [
    "from sklearn.preprocessing import MinMaxScaler\n",
    "\n",
    "scaler = MinMaxScaler()\n",
    "scaler.fit(stft_np_test)"
   ]
  },
  {
   "cell_type": "code",
   "execution_count": 48,
   "metadata": {},
   "outputs": [
    {
     "name": "stdout",
     "output_type": "stream",
     "text": [
      "[16 16  7  9 18  7  7  3 10 10 10  9  9  7  9  3  7  3  7  7  7  7  7  9\n",
      "  2  2]\n",
      "0 2 siren\n",
      "2 4 siren\n",
      "4 6 dog_bark\n",
      "6 8 guitar\n",
      "8 10 thunderstorm\n",
      "10 12 dog_bark\n",
      "12 14 dog_bark\n",
      "14 16 cat\n",
      "16 18 gun_shot\n",
      "18 20 gun_shot\n",
      "20 22 gun_shot\n",
      "22 24 guitar\n",
      "24 26 guitar\n",
      "26 28 dog_bark\n",
      "28 30 guitar\n",
      "30 32 cat\n",
      "32 34 dog_bark\n",
      "34 36 cat\n",
      "36 38 dog_bark\n",
      "38 40 dog_bark\n",
      "40 42 dog_bark\n",
      "42 44 dog_bark\n",
      "44 46 dog_bark\n",
      "46 48 guitar\n",
      "48 50 car_horn\n",
      "50 52 car_horn\n"
     ]
    }
   ],
   "source": [
    "## stft logistic pred\n",
    "from sklearn.linear_model import LogisticRegression\n",
    "from sklearn.metrics import accuracy_score\n",
    "\n",
    "LR = LogisticRegression()\n",
    "LR.fit(train_x, train_y)\n",
    "\n",
    "\n",
    "pred = LR.predict(stft_np_test)\n",
    "print(pred)\n",
    "\n",
    "time = 0\n",
    "for i in pred:\n",
    "    print(time, time+2 , class_list[i])\n",
    "    time +=2"
   ]
  },
  {
   "cell_type": "code",
   "execution_count": 65,
   "metadata": {},
   "outputs": [
    {
     "name": "stdout",
     "output_type": "stream",
     "text": [
      "5 0.942022556455458 chirping_birds\n",
      "7 0.8434630234174921 siren\n",
      "11 0.9982912377769683 dog_bark\n",
      "12 0.8119182436828152 lion\n",
      "15 0.7463043769199327 gun_shot\n",
      "16 0.9664757675239856 dog_bark\n",
      "21 0.8562596080158286 dog_bark\n",
      "22 0.7717054296481921 dog_bark\n",
      "23 0.9020646448744046 cat\n"
     ]
    }
   ],
   "source": [
    "proba = LR.predict_proba(stft_np_test)\n",
    "# print(np.round(proba, decimals=4))\n",
    "cnt = 0\n",
    "for i in proba:\n",
    "    if max(i) > 0.7:\n",
    "        print(cnt, max(i), class_list[pred[cnt]])\n",
    "    cnt+=1"
   ]
  },
  {
   "cell_type": "code",
   "execution_count": 66,
   "metadata": {},
   "outputs": [
    {
     "name": "stdout",
     "output_type": "stream",
     "text": [
      "[ 7 10 10  7  2  7  7  3 10 10 10  9  2  7 16 16  7  7  7  7  7  7  7  7\n",
      "  2  2]\n",
      "0 2 dog_bark\n",
      "2 4 gun_shot\n",
      "4 6 gun_shot\n",
      "6 8 dog_bark\n",
      "8 10 car_horn\n",
      "10 12 dog_bark\n",
      "12 14 dog_bark\n",
      "14 16 cat\n",
      "16 18 gun_shot\n",
      "18 20 gun_shot\n",
      "20 22 gun_shot\n",
      "22 24 guitar\n",
      "24 26 car_horn\n",
      "26 28 dog_bark\n",
      "28 30 siren\n",
      "30 32 siren\n",
      "32 34 dog_bark\n",
      "34 36 dog_bark\n",
      "36 38 dog_bark\n",
      "38 40 dog_bark\n",
      "40 42 dog_bark\n",
      "42 44 dog_bark\n",
      "44 46 dog_bark\n",
      "46 48 dog_bark\n",
      "48 50 car_horn\n",
      "50 52 car_horn\n"
     ]
    }
   ],
   "source": [
    "# stft svm pred\n",
    "from sklearn import svm\n",
    "\n",
    "SVM = svm.SVC(kernel='linear')\n",
    "SVM.fit(train_x, train_y)\n",
    "pred =SVM.predict(stft_np_test)\n",
    "print(pred)\n",
    "\n",
    "time = 0\n",
    "for i in pred:\n",
    "    print(time, time+2 , class_list[i])\n",
    "    time +=2\n"
   ]
  },
  {
   "cell_type": "code",
   "execution_count": 67,
   "metadata": {},
   "outputs": [
    {
     "ename": "AttributeError",
     "evalue": "predict_proba is not available when  probability=False",
     "output_type": "error",
     "traceback": [
      "\u001b[1;31m---------------------------------------------------------------------------\u001b[0m",
      "\u001b[1;31mAttributeError\u001b[0m                            Traceback (most recent call last)",
      "\u001b[1;32m~\\AppData\\Local\\Temp/ipykernel_35712/2650120188.py\u001b[0m in \u001b[0;36m<module>\u001b[1;34m\u001b[0m\n\u001b[1;32m----> 1\u001b[1;33m \u001b[0mproba\u001b[0m \u001b[1;33m=\u001b[0m \u001b[0mSVM\u001b[0m\u001b[1;33m.\u001b[0m\u001b[0mpredict_proba\u001b[0m\u001b[1;33m(\u001b[0m\u001b[0mstft_np_test\u001b[0m\u001b[1;33m)\u001b[0m\u001b[1;33m\u001b[0m\u001b[1;33m\u001b[0m\u001b[0m\n\u001b[0m\u001b[0;32m      2\u001b[0m \u001b[1;31m# print(np.round(proba, decimals=4))\u001b[0m\u001b[1;33m\u001b[0m\u001b[1;33m\u001b[0m\u001b[0m\n\u001b[0;32m      3\u001b[0m \u001b[0mcnt\u001b[0m \u001b[1;33m=\u001b[0m \u001b[1;36m0\u001b[0m\u001b[1;33m\u001b[0m\u001b[1;33m\u001b[0m\u001b[0m\n\u001b[0;32m      4\u001b[0m \u001b[1;32mfor\u001b[0m \u001b[0mi\u001b[0m \u001b[1;32min\u001b[0m \u001b[0mproba\u001b[0m\u001b[1;33m:\u001b[0m\u001b[1;33m\u001b[0m\u001b[1;33m\u001b[0m\u001b[0m\n\u001b[0;32m      5\u001b[0m     \u001b[1;32mif\u001b[0m \u001b[0mmax\u001b[0m\u001b[1;33m(\u001b[0m\u001b[0mi\u001b[0m\u001b[1;33m)\u001b[0m \u001b[1;33m>\u001b[0m \u001b[1;36m0.7\u001b[0m\u001b[1;33m:\u001b[0m\u001b[1;33m\u001b[0m\u001b[1;33m\u001b[0m\u001b[0m\n",
      "\u001b[1;32mc:\\Users\\jcc96\\anaconda3\\lib\\site-packages\\sklearn\\svm\\_base.py\u001b[0m in \u001b[0;36mpredict_proba\u001b[1;34m(self)\u001b[0m\n\u001b[0;32m    664\u001b[0m         \u001b[0mdatasets\u001b[0m\u001b[1;33m.\u001b[0m\u001b[1;33m\u001b[0m\u001b[1;33m\u001b[0m\u001b[0m\n\u001b[0;32m    665\u001b[0m         \"\"\"\n\u001b[1;32m--> 666\u001b[1;33m         \u001b[0mself\u001b[0m\u001b[1;33m.\u001b[0m\u001b[0m_check_proba\u001b[0m\u001b[1;33m(\u001b[0m\u001b[1;33m)\u001b[0m\u001b[1;33m\u001b[0m\u001b[1;33m\u001b[0m\u001b[0m\n\u001b[0m\u001b[0;32m    667\u001b[0m         \u001b[1;32mreturn\u001b[0m \u001b[0mself\u001b[0m\u001b[1;33m.\u001b[0m\u001b[0m_predict_proba\u001b[0m\u001b[1;33m\u001b[0m\u001b[1;33m\u001b[0m\u001b[0m\n\u001b[0;32m    668\u001b[0m \u001b[1;33m\u001b[0m\u001b[0m\n",
      "\u001b[1;32mc:\\Users\\jcc96\\anaconda3\\lib\\site-packages\\sklearn\\svm\\_base.py\u001b[0m in \u001b[0;36m_check_proba\u001b[1;34m(self)\u001b[0m\n\u001b[0;32m    631\u001b[0m     \u001b[1;32mdef\u001b[0m \u001b[0m_check_proba\u001b[0m\u001b[1;33m(\u001b[0m\u001b[0mself\u001b[0m\u001b[1;33m)\u001b[0m\u001b[1;33m:\u001b[0m\u001b[1;33m\u001b[0m\u001b[1;33m\u001b[0m\u001b[0m\n\u001b[0;32m    632\u001b[0m         \u001b[1;32mif\u001b[0m \u001b[1;32mnot\u001b[0m \u001b[0mself\u001b[0m\u001b[1;33m.\u001b[0m\u001b[0mprobability\u001b[0m\u001b[1;33m:\u001b[0m\u001b[1;33m\u001b[0m\u001b[1;33m\u001b[0m\u001b[0m\n\u001b[1;32m--> 633\u001b[1;33m             raise AttributeError(\"predict_proba is not available when \"\n\u001b[0m\u001b[0;32m    634\u001b[0m                                  \" probability=False\")\n\u001b[0;32m    635\u001b[0m         \u001b[1;32mif\u001b[0m \u001b[0mself\u001b[0m\u001b[1;33m.\u001b[0m\u001b[0m_impl\u001b[0m \u001b[1;32mnot\u001b[0m \u001b[1;32min\u001b[0m \u001b[1;33m(\u001b[0m\u001b[1;34m'c_svc'\u001b[0m\u001b[1;33m,\u001b[0m \u001b[1;34m'nu_svc'\u001b[0m\u001b[1;33m)\u001b[0m\u001b[1;33m:\u001b[0m\u001b[1;33m\u001b[0m\u001b[1;33m\u001b[0m\u001b[0m\n",
      "\u001b[1;31mAttributeError\u001b[0m: predict_proba is not available when  probability=False"
     ]
    }
   ],
   "source": [
    "proba = SVM.predict_proba(stft_np_test)\n",
    "# print(np.round(proba, decimals=4))\n",
    "cnt = 0\n",
    "for i in proba:\n",
    "    if max(i) > 0.7:\n",
    "        print(cnt, max(i), class_list[pred[cnt]])\n",
    "    cnt+=1"
   ]
  },
  {
   "cell_type": "code",
   "execution_count": 68,
   "metadata": {},
   "outputs": [
    {
     "name": "stdout",
     "output_type": "stream",
     "text": [
      "[ 2  0  7 17  7  3  2  3  8  8  8 16  6  6  2  2  6  7 11  7  7 16  7 16\n",
      "  7 10]\n",
      "0 2 car_horn\n",
      "2 4 airplane\n",
      "4 6 dog_bark\n",
      "6 8 snoring\n",
      "8 10 dog_bark\n",
      "10 12 cat\n",
      "12 14 car_horn\n",
      "14 16 cat\n",
      "16 18 drum\n",
      "18 20 drum\n",
      "20 22 drum\n",
      "22 24 siren\n",
      "24 26 crying_baby\n",
      "26 28 crying_baby\n",
      "28 30 car_horn\n",
      "30 32 car_horn\n",
      "32 34 crying_baby\n",
      "34 36 dog_bark\n",
      "36 38 laughing\n",
      "38 40 dog_bark\n",
      "40 42 dog_bark\n",
      "42 44 siren\n",
      "44 46 dog_bark\n",
      "46 48 siren\n",
      "48 50 dog_bark\n",
      "50 52 gun_shot\n"
     ]
    }
   ],
   "source": [
    "# stft svm pred\n",
    "from sklearn import svm\n",
    "\n",
    "\n",
    "DT = DecisionTreeClassifier()\n",
    "DT.fit(train_x, train_y)\n",
    "pred =DT.predict(stft_np_test)\n",
    "print(pred)\n",
    "\n",
    "time = 0\n",
    "for i in pred:\n",
    "    print(time, time+2 , class_list[i])\n",
    "    time +=2"
   ]
  },
  {
   "cell_type": "code",
   "execution_count": 69,
   "metadata": {},
   "outputs": [
    {
     "name": "stdout",
     "output_type": "stream",
     "text": [
      "0 1.0 car_horn\n",
      "1 1.0 airplane\n",
      "2 1.0 dog_bark\n",
      "3 1.0 snoring\n",
      "4 1.0 dog_bark\n",
      "5 1.0 cat\n",
      "6 1.0 car_horn\n",
      "7 1.0 cat\n",
      "8 1.0 drum\n",
      "9 1.0 drum\n",
      "10 1.0 drum\n",
      "11 1.0 siren\n",
      "12 1.0 crying_baby\n",
      "13 1.0 crying_baby\n",
      "14 1.0 car_horn\n",
      "15 1.0 car_horn\n",
      "16 1.0 crying_baby\n",
      "17 1.0 dog_bark\n",
      "18 1.0 laughing\n",
      "19 1.0 dog_bark\n",
      "20 1.0 dog_bark\n",
      "21 1.0 siren\n",
      "22 1.0 dog_bark\n",
      "23 1.0 siren\n",
      "24 1.0 dog_bark\n",
      "25 1.0 gun_shot\n"
     ]
    }
   ],
   "source": [
    "proba = DT.predict_proba(stft_np_test)\n",
    "# print(np.round(proba, decimals=4))\n",
    "cnt = 0\n",
    "for i in proba:\n",
    "    if max(i) > 0.7:\n",
    "        print(cnt, max(i), class_list[pred[cnt]])\n",
    "    cnt+=1"
   ]
  },
  {
   "cell_type": "markdown",
   "metadata": {},
   "source": [
    "# DNN pred"
   ]
  },
  {
   "cell_type": "code",
   "execution_count": 72,
   "metadata": {},
   "outputs": [
    {
     "name": "stdout",
     "output_type": "stream",
     "text": [
      "(26, 44631)\n"
     ]
    }
   ],
   "source": [
    "print(stft_np_test.shape)"
   ]
  },
  {
   "cell_type": "code",
   "execution_count": 75,
   "metadata": {},
   "outputs": [
    {
     "name": "stdout",
     "output_type": "stream",
     "text": [
      "(26, 44631, 1)\n"
     ]
    }
   ],
   "source": [
    "from keras.utils import to_categorical\n",
    "\n",
    "stft_np_test = np.array(audio_stft_test, np.float32)\n",
    "stft_np_test = stft_np_test.reshape(26, 513 * 87) # 변경\n",
    "cqt_array = np.expand_dims(stft_np_test, -1)\n",
    "stft_np_test = cqt_array\n",
    "print(stft_np_test.shape)"
   ]
  },
  {
   "cell_type": "code",
   "execution_count": 89,
   "metadata": {},
   "outputs": [
    {
     "name": "stdout",
     "output_type": "stream",
     "text": [
      "1/1 [==============================] - 0s 31ms/step\n",
      "guitar 0.9273065\n",
      "guitar 0.669264\n",
      "guitar 0.5541399\n",
      "guitar 0.44308737\n",
      "scream 0.43440327\n",
      "laughing 0.5601789\n",
      "dog_bark 0.52439904\n",
      "dog_bark 0.42404327\n",
      "dog_bark 0.48054412\n",
      "guitar 0.4970056\n"
     ]
    }
   ],
   "source": [
    "predictions = model.predict(stft_np_test)\n",
    "for i in predictions:\n",
    "    if max(i) > 0.4:\n",
    "        print(class_list[np.argmax(i)], max(i))\n",
    "\n"
   ]
  },
  {
   "cell_type": "markdown",
   "metadata": {},
   "source": [
    "## CNN pred"
   ]
  },
  {
   "cell_type": "code",
   "execution_count": 91,
   "metadata": {},
   "outputs": [
    {
     "name": "stdout",
     "output_type": "stream",
     "text": [
      "(26, 513, 87, 1)\n"
     ]
    }
   ],
   "source": [
    "from keras.utils import to_categorical\n",
    "\n",
    "cqt_np_test = np.array(audio_stft_test, np.float32)\n",
    "\n",
    "cqt_array_test = np.expand_dims(cqt_np_test, -1)\n",
    "cqt_np_test = cqt_array_test\n",
    "print(cqt_np_test.shape)"
   ]
  },
  {
   "cell_type": "code",
   "execution_count": 98,
   "metadata": {},
   "outputs": [
    {
     "name": "stdout",
     "output_type": "stream",
     "text": [
      "1/1 [==============================] - 1s 897ms/step\n",
      "laughing 0.9361831\n",
      "gun_shot 0.99279743\n",
      "dog_bark 0.8299342\n",
      "snoring 0.8945373\n",
      "gun_shot 0.9725342\n",
      "gun_shot 0.9725342\n",
      "gun_shot 0.9725342\n",
      "dog_bark 0.815653\n",
      "dog_bark 0.9623479\n",
      "car_horn 0.9913577\n",
      "dog_bark 0.9991027\n",
      "dog_bark 0.9997271\n",
      "dog_bark 0.9378661\n",
      "dog_bark 0.9803539\n",
      "dog_bark 0.9333372\n",
      "car_horn 0.95198876\n"
     ]
    }
   ],
   "source": [
    "predictions = model.predict(cqt_np_test)\n",
    "for i in predictions:\n",
    "    if max(i) > 0.8:\n",
    "        print(class_list[np.argmax(i)], max(i))"
   ]
  },
  {
   "cell_type": "code",
   "execution_count": 100,
   "metadata": {},
   "outputs": [],
   "source": [
    "audio_mfcc_test = []\n",
    "for y in audio_np_test:\n",
    "    ret = librosa.feature.mfcc(y=y, sr=sr)\n",
    "    audio_mfcc_test.append(ret)"
   ]
  },
  {
   "cell_type": "code",
   "execution_count": 103,
   "metadata": {},
   "outputs": [
    {
     "name": "stdout",
     "output_type": "stream",
     "text": [
      "(26, 20, 87)\n"
     ]
    }
   ],
   "source": [
    "mfcc_np_test = np.array(audio_mfcc_test, np.float32)\n",
    "\n",
    "\n",
    "print(mfcc_np_test.shape)"
   ]
  },
  {
   "cell_type": "code",
   "execution_count": 105,
   "metadata": {},
   "outputs": [],
   "source": [
    "mfcc_np_test = mfcc_np_test.reshape(26, 20 * 87) # 값을 바꿔줘야함"
   ]
  },
  {
   "cell_type": "code",
   "execution_count": 111,
   "metadata": {},
   "outputs": [
    {
     "data": {
      "text/plain": [
       "MinMaxScaler()"
      ]
     },
     "execution_count": 111,
     "metadata": {},
     "output_type": "execute_result"
    }
   ],
   "source": [
    "from sklearn.preprocessing import MinMaxScaler\n",
    "\n",
    "scaler = MinMaxScaler()\n",
    "scaler.fit(mfcc_np_test)"
   ]
  },
  {
   "cell_type": "code",
   "execution_count": 112,
   "metadata": {},
   "outputs": [
    {
     "name": "stdout",
     "output_type": "stream",
     "text": [
      "[16 16  7  7  7  7 16  3  3  3  3  7 16  7 16  3  7 16  7 16  7  7  3 16\n",
      "  2 16]\n",
      "0 2 siren\n",
      "2 4 siren\n",
      "4 6 dog_bark\n",
      "6 8 dog_bark\n",
      "8 10 dog_bark\n",
      "10 12 dog_bark\n",
      "12 14 siren\n",
      "14 16 cat\n",
      "16 18 cat\n",
      "18 20 cat\n",
      "20 22 cat\n",
      "22 24 dog_bark\n",
      "24 26 siren\n",
      "26 28 dog_bark\n",
      "28 30 siren\n",
      "30 32 cat\n",
      "32 34 dog_bark\n",
      "34 36 siren\n",
      "36 38 dog_bark\n",
      "38 40 siren\n",
      "40 42 dog_bark\n",
      "42 44 dog_bark\n",
      "44 46 cat\n",
      "46 48 siren\n",
      "48 50 car_horn\n",
      "50 52 siren\n"
     ]
    }
   ],
   "source": [
    "## stft logistic pred\n",
    "from sklearn.linear_model import LogisticRegression\n",
    "from sklearn.metrics import accuracy_score\n",
    "\n",
    "LR = LogisticRegression()\n",
    "LR.fit(train_x, train_y)\n",
    "\n",
    "\n",
    "pred = LR.predict(mfcc_np_test)\n",
    "print(pred)\n",
    "\n",
    "time = 0\n",
    "for i in pred:\n",
    "    print(time, time+2 , class_list[i])\n",
    "    time +=2"
   ]
  },
  {
   "cell_type": "markdown",
   "metadata": {},
   "source": [
    "## DNN + mfcc"
   ]
  },
  {
   "cell_type": "code",
   "execution_count": 115,
   "metadata": {},
   "outputs": [
    {
     "name": "stdout",
     "output_type": "stream",
     "text": [
      "(26, 20, 87)\n"
     ]
    }
   ],
   "source": [
    "print(np.array(audio_mfcc_test, np.float32).shape)"
   ]
  },
  {
   "cell_type": "code",
   "execution_count": 116,
   "metadata": {},
   "outputs": [
    {
     "name": "stdout",
     "output_type": "stream",
     "text": [
      "(26, 1740, 1)\n"
     ]
    }
   ],
   "source": [
    "from keras.utils import to_categorical\n",
    "\n",
    "cqt_np_test = np.array(audio_mfcc_test, np.float32)\n",
    "cqt_np_test = cqt_np_test.reshape(26, 20 * 87) # 바꿔줘야함\n",
    "cqt_array_test = np.expand_dims(cqt_np_test, -1)\n",
    "cqt_np_test = cqt_array_test\n",
    "\n",
    "print(cqt_array_test.shape)"
   ]
  },
  {
   "cell_type": "code",
   "execution_count": 121,
   "metadata": {},
   "outputs": [
    {
     "name": "stdout",
     "output_type": "stream",
     "text": [
      "1/1 [==============================] - 0s 36ms/step\n",
      "drum 0.8178288\n",
      "guitar 0.9268214\n",
      "dog_bark 1.0\n",
      "siren 0.96170527\n",
      "siren 0.9998091\n",
      "siren 0.99999905\n",
      "siren 0.99999905\n",
      "siren 0.99999905\n",
      "siren 0.9953295\n",
      "chirping_birds 0.8102557\n",
      "siren 0.98543316\n",
      "siren 0.9951133\n",
      "siren 0.9925518\n",
      "dog_bark 0.98844224\n",
      "siren 0.9719577\n",
      "dog_bark 0.9995167\n",
      "dog_bark 0.8887179\n",
      "dog_bark 0.99982613\n",
      "siren 0.9804185\n",
      "snoring 0.9782819\n",
      "dog_bark 0.99464947\n"
     ]
    }
   ],
   "source": [
    "predictions = model.predict(cqt_np_test)\n",
    "for i in predictions:\n",
    "    if max(i) > 0.8:\n",
    "        print(class_list[np.argmax(i)], max(i))"
   ]
  },
  {
   "cell_type": "markdown",
   "metadata": {},
   "source": [
    "## CNN + mfcc"
   ]
  },
  {
   "cell_type": "code",
   "execution_count": 123,
   "metadata": {},
   "outputs": [
    {
     "name": "stdout",
     "output_type": "stream",
     "text": [
      "(26, 20, 87, 1)\n"
     ]
    }
   ],
   "source": [
    "from keras.utils import to_categorical\n",
    "\n",
    "cqt_np_test = np.array(audio_mfcc_test, np.float32)\n",
    "\n",
    "cqt_array_test = np.expand_dims(cqt_np_test, -1)\n",
    "cqt_np_test = cqt_array_test\n",
    "\n",
    "print(cqt_np_test.shape)"
   ]
  },
  {
   "cell_type": "code",
   "execution_count": 130,
   "metadata": {},
   "outputs": [
    {
     "name": "stdout",
     "output_type": "stream",
     "text": [
      "1/1 [==============================] - 0s 45ms/step\n",
      "0 ~ 2 siren 0.94630855\n",
      "6 ~ 8 dog_bark 0.9368573\n",
      "10 ~ 12 dog_bark 0.961047\n",
      "12 ~ 14 siren 0.975091\n",
      "14 ~ 16 cat 0.86434937\n",
      "22 ~ 24 guitar 0.8408569\n",
      "24 ~ 26 cat 0.8298624\n",
      "26 ~ 28 chirping_birds 0.9149699\n",
      "30 ~ 32 cat 0.9998441\n",
      "32 ~ 34 dog_bark 0.9992011\n",
      "34 ~ 36 siren 0.9970848\n",
      "36 ~ 38 dog_bark 0.99541277\n",
      "38 ~ 40 dog_bark 0.8750079\n",
      "42 ~ 44 dog_bark 0.86632013\n",
      "44 ~ 46 dog_bark 0.9213655\n"
     ]
    }
   ],
   "source": [
    "predictions = model.predict(cqt_np_test)\n",
    "cnt = 0\n",
    "for i in predictions:\n",
    "    if max(i) > 0.8:\n",
    "        print(cnt,'~', (cnt+2), class_list[np.argmax(i)], max(i))\n",
    "    cnt += 2"
   ]
  },
  {
   "cell_type": "code",
   "execution_count": 131,
   "metadata": {},
   "outputs": [],
   "source": [
    "model.save('CNN + MFCC sr = 20400.h5')"
   ]
  },
  {
   "cell_type": "code",
   "execution_count": 132,
   "metadata": {},
   "outputs": [],
   "source": [
    "from tensorflow.keras.models import load_model\n",
    "model = load_model('CNN + MFCC sr = 20400.h5')"
   ]
  },
  {
   "cell_type": "code",
   "execution_count": 133,
   "metadata": {},
   "outputs": [
    {
     "name": "stdout",
     "output_type": "stream",
     "text": [
      "Model: \"model_3\"\n",
      "_________________________________________________________________\n",
      " Layer (type)                Output Shape              Param #   \n",
      "=================================================================\n",
      " input_2 (InputLayer)        [(None, 20, 87, 1)]       0         \n",
      "                                                                 \n",
      " conv2d_3 (Conv2D)           (None, 20, 87, 128)       1280      \n",
      "                                                                 \n",
      " max_pooling2d_3 (MaxPooling  (None, 10, 44, 128)      0         \n",
      " 2D)                                                             \n",
      "                                                                 \n",
      " conv2d_4 (Conv2D)           (None, 10, 44, 256)       295168    \n",
      "                                                                 \n",
      " max_pooling2d_4 (MaxPooling  (None, 5, 22, 256)       0         \n",
      " 2D)                                                             \n",
      "                                                                 \n",
      " conv2d_5 (Conv2D)           (None, 5, 22, 512)        1180160   \n",
      "                                                                 \n",
      " max_pooling2d_5 (MaxPooling  (None, 3, 11, 512)       0         \n",
      " 2D)                                                             \n",
      "                                                                 \n",
      " flatten_1 (Flatten)         (None, 16896)             0         \n",
      "                                                                 \n",
      " dense_4 (Dense)             (None, 512)               8651264   \n",
      "                                                                 \n",
      " dense_5 (Dense)             (None, 256)               131328    \n",
      "                                                                 \n",
      " dense_6 (Dense)             (None, 128)               32896     \n",
      "                                                                 \n",
      " dense_7 (Dense)             (None, 20)                2580      \n",
      "                                                                 \n",
      "=================================================================\n",
      "Total params: 10,294,676\n",
      "Trainable params: 10,294,676\n",
      "Non-trainable params: 0\n",
      "_________________________________________________________________\n"
     ]
    }
   ],
   "source": [
    "model.summary()"
   ]
  },
  {
   "cell_type": "code",
   "execution_count": 137,
   "metadata": {},
   "outputs": [
    {
     "name": "stdout",
     "output_type": "stream",
     "text": [
      "1/1 [==============================] - 0s 46ms/step\n",
      "0 ~ 2 siren 0.9463085532188416\n",
      "6 ~ 8 dog_bark 0.936857283115387\n",
      "10 ~ 12 dog_bark 0.9610469937324524\n",
      "12 ~ 14 siren 0.9750909805297852\n",
      "14 ~ 16 cat 0.864349365234375\n",
      "22 ~ 24 guitar 0.8408569097518921\n",
      "24 ~ 26 cat 0.8298624157905579\n",
      "26 ~ 28 chirping_birds 0.9149699211120605\n",
      "30 ~ 32 cat 0.9998440742492676\n",
      "32 ~ 34 dog_bark 0.9992011189460754\n",
      "34 ~ 36 siren 0.9970847964286804\n",
      "36 ~ 38 dog_bark 0.9954127669334412\n",
      "38 ~ 40 dog_bark 0.8750079274177551\n",
      "42 ~ 44 dog_bark 0.8663201332092285\n",
      "44 ~ 46 dog_bark 0.92136549949646\n"
     ]
    }
   ],
   "source": [
    "predictions = model.predict(cqt_np_test)\n",
    "cnt = 0\n",
    "result = []\n",
    "for i in predictions:\n",
    "    if max(i) > 0.8:\n",
    "        tmp = '{} ~ {} {} {}'.format(cnt,(cnt+2), class_list[np.argmax(i)], max(i))\n",
    "        print(tmp)\n",
    "        result.append(tmp)\n",
    "    cnt += 2"
   ]
  },
  {
   "cell_type": "code",
   "execution_count": 145,
   "metadata": {},
   "outputs": [
    {
     "name": "stdout",
     "output_type": "stream",
     "text": [
      "['0', '~', '2', 'siren', '0.9463085532188416']\n"
     ]
    }
   ],
   "source": [
    "tmp1 = str.split(result[0])\n",
    "print(tmp1)"
   ]
  },
  {
   "cell_type": "code",
   "execution_count": 155,
   "metadata": {},
   "outputs": [
    {
     "name": "stdout",
     "output_type": "stream",
     "text": [
      "  start end  label                pred\n",
      "0     0   2  siren  0.9463085532188416\n"
     ]
    }
   ],
   "source": [
    "import pandas as pd\n",
    "\n",
    "movie_sound = pd.DataFrame(\n",
    "    [[tmp1[0],tmp1[2],tmp1[3],tmp1[4]]],\n",
    "\n",
    "    columns=['start','end','label','pred']\n",
    "                           )\n",
    "print(movie_sound)"
   ]
  },
  {
   "cell_type": "code",
   "execution_count": 162,
   "metadata": {},
   "outputs": [
    {
     "name": "stdout",
     "output_type": "stream",
     "text": [
      "   start end           label                pred\n",
      "0      0   2           siren  0.9463085532188416\n",
      "1      6   8        dog_bark   0.936857283115387\n",
      "2     10  12        dog_bark  0.9610469937324524\n",
      "3     12  14           siren  0.9750909805297852\n",
      "4     14  16             cat   0.864349365234375\n",
      "5     22  24          guitar  0.8408569097518921\n",
      "6     24  26             cat  0.8298624157905579\n",
      "7     26  28  chirping_birds  0.9149699211120605\n",
      "8     30  32             cat  0.9998440742492676\n",
      "9     32  34        dog_bark  0.9992011189460754\n",
      "10    34  36           siren  0.9970847964286804\n",
      "11    36  38        dog_bark  0.9954127669334412\n",
      "12    38  40        dog_bark  0.8750079274177551\n",
      "13    42  44        dog_bark  0.8663201332092285\n",
      "14    44  46        dog_bark    0.92136549949646\n"
     ]
    }
   ],
   "source": [
    "cnt = 0\n",
    "for i in result:\n",
    "    tmp1 = str.split(i)\n",
    "    if cnt == 0:\n",
    "        movie_sound = pd.DataFrame(\n",
    "            [[tmp1[0],tmp1[2],tmp1[3],tmp1[4]]],\n",
    "            index=[cnt],\n",
    "            columns=['start','end','label','pred']\n",
    "                            )\n",
    "    \n",
    "    else:\n",
    "        movie_sound2 = pd.DataFrame(\n",
    "            [[tmp1[0],tmp1[2],tmp1[3],tmp1[4]]],\n",
    "            index=[cnt],\n",
    "            columns=['start','end','label','pred']\n",
    "                            )\n",
    "        movie_sound = pd.concat([movie_sound,movie_sound2])\n",
    "        \n",
    "    cnt += 1\n",
    "\n",
    "print(movie_sound)\n",
    "    \n",
    "    "
   ]
  },
  {
   "cell_type": "code",
   "execution_count": null,
   "metadata": {},
   "outputs": [],
   "source": []
  }
 ],
 "metadata": {
  "interpreter": {
   "hash": "f85f5511336df2de9b0b46ba7208b62e9c8a528553f32d2fac3458fbe3f27cd4"
  },
  "kernelspec": {
   "display_name": "Python 3.9.7 ('base')",
   "language": "python",
   "name": "python3"
  },
  "language_info": {
   "codemirror_mode": {
    "name": "ipython",
    "version": 3
   },
   "file_extension": ".py",
   "mimetype": "text/x-python",
   "name": "python",
   "nbconvert_exporter": "python",
   "pygments_lexer": "ipython3",
   "version": "3.9.7"
  },
  "orig_nbformat": 4
 },
 "nbformat": 4,
 "nbformat_minor": 2
}
