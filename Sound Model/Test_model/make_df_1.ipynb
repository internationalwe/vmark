{
 "cells": [
  {
   "cell_type": "code",
   "execution_count": 14,
   "metadata": {},
   "outputs": [],
   "source": [
    "import librosa\n",
    "import numpy as np\n",
    "import matplotlib.pyplot as plt\n",
    "import warnings\n",
    "warnings.filterwarnings(action='ignore')"
   ]
  },
  {
   "cell_type": "markdown",
   "metadata": {},
   "source": [
    "## Window Function"
   ]
  },
  {
   "cell_type": "markdown",
   "metadata": {},
   "source": [
    "## 사운드 데이터 불러오기 "
   ]
  },
  {
   "cell_type": "markdown",
   "metadata": {},
   "source": [
    "#### window algorithm"
   ]
  },
  {
   "cell_type": "code",
   "execution_count": 15,
   "metadata": {},
   "outputs": [],
   "source": [
    "import os\n",
    "import librosa\n",
    "import numpy as np\n",
    "import soundfile as sf\n",
    "\n",
    "def trim_audio(y, sr):\n",
    "    sr = 96000\n",
    "    sec = 2\n",
    "    # y, sr = librosa.load(audio_file, sr=sr)\n",
    "    ny = y[:sr*sec]\n",
    "    # sf.write(save_path, ny, sr)\n",
    "    return ny "
   ]
  },
  {
   "cell_type": "code",
   "execution_count": 16,
   "metadata": {},
   "outputs": [],
   "source": [
    "# class_list = ['airplane', 'bell', 'car_horn', 'cat', 'chirping_birds', \n",
    "#               'clapping', 'crying_baby', 'dog_bark', 'drum', 'guitar', 'gun_shot', \n",
    "#               'laughing','lion','piano','rain','scream','siren','snoring','thunderstorm',\n",
    "#               'vacuum_cleaner']"
   ]
  },
  {
   "cell_type": "code",
   "execution_count": 64,
   "metadata": {},
   "outputs": [],
   "source": [
    "class_list = [96, 80, 81, 99, 97, 82, 83, 98, 84, 85, 86, 93, 87, 88, 89, 90, 91, 92, 94, 95]"
   ]
  },
  {
   "cell_type": "code",
   "execution_count": 28,
   "metadata": {},
   "outputs": [
    {
     "name": "stdout",
     "output_type": "stream",
     "text": [
      "537.0\n"
     ]
    }
   ],
   "source": [
    "path = './movie1_merged.wav'\n",
    "y, sr = librosa.load(path, sr=22050)\n",
    "duration = librosa.get_duration(y, sr=sr)\n",
    "print(duration)"
   ]
  },
  {
   "cell_type": "code",
   "execution_count": 40,
   "metadata": {},
   "outputs": [
    {
     "name": "stdout",
     "output_type": "stream",
     "text": [
      "537\n"
     ]
    }
   ],
   "source": [
    "audio_duration = []\n",
    "audio = []\n",
    "\n",
    "sr = 22050\n",
    "start = 0\n",
    "end = 0\n",
    "\n",
    "while end <= 537:\n",
    "    end = start + 2\n",
    "    path = './movie1_merged.wav'\n",
    "    y, sr = librosa.load(path, offset=start, duration=2, sr=sr) \n",
    "    ny = trim_audio(y, sr)\n",
    "    duration = librosa.get_duration(ny, sr=sr)\n",
    "    audio_duration.append(duration)\n",
    "    audio.append(ny)\n",
    "    start += 1\n",
    "\n",
    "print(len(audio))"
   ]
  },
  {
   "cell_type": "code",
   "execution_count": 41,
   "metadata": {},
   "outputs": [
    {
     "name": "stdout",
     "output_type": "stream",
     "text": [
      "{1.0, 2.0}\n"
     ]
    }
   ],
   "source": [
    "set_duration = set(audio_duration)\n",
    "print(set_duration)"
   ]
  },
  {
   "cell_type": "code",
   "execution_count": 42,
   "metadata": {},
   "outputs": [
    {
     "data": {
      "text/plain": [
       "2.0"
      ]
     },
     "execution_count": 42,
     "metadata": {},
     "output_type": "execute_result"
    }
   ],
   "source": [
    "audio_duration[0]"
   ]
  },
  {
   "cell_type": "code",
   "execution_count": 43,
   "metadata": {},
   "outputs": [
    {
     "name": "stdout",
     "output_type": "stream",
     "text": [
      "{2.0}\n"
     ]
    }
   ],
   "source": [
    "for i,j in enumerate(audio):\n",
    "    if audio_duration[i] != 2.0:\n",
    "        del audio[i]\n",
    "        del audio_duration[i]\n",
    "set_duration = set(audio_duration)\n",
    "print(set_duration)"
   ]
  },
  {
   "cell_type": "code",
   "execution_count": 44,
   "metadata": {},
   "outputs": [
    {
     "data": {
      "text/plain": [
       "536"
      ]
     },
     "execution_count": 44,
     "metadata": {},
     "output_type": "execute_result"
    }
   ],
   "source": [
    "len(audio_duration)"
   ]
  },
  {
   "cell_type": "code",
   "execution_count": 45,
   "metadata": {},
   "outputs": [
    {
     "name": "stdout",
     "output_type": "stream",
     "text": [
      "44100\n"
     ]
    }
   ],
   "source": [
    "print(len(audio[0]))"
   ]
  },
  {
   "cell_type": "code",
   "execution_count": 46,
   "metadata": {},
   "outputs": [
    {
     "name": "stdout",
     "output_type": "stream",
     "text": [
      "(536, 44100)\n"
     ]
    }
   ],
   "source": [
    "audio_np = np.array(audio, np.float64)\n",
    "print(audio_np.shape)"
   ]
  },
  {
   "cell_type": "code",
   "execution_count": 47,
   "metadata": {},
   "outputs": [
    {
     "data": {
      "text/html": [
       "<style>#sk-container-id-3 {color: black;background-color: white;}#sk-container-id-3 pre{padding: 0;}#sk-container-id-3 div.sk-toggleable {background-color: white;}#sk-container-id-3 label.sk-toggleable__label {cursor: pointer;display: block;width: 100%;margin-bottom: 0;padding: 0.3em;box-sizing: border-box;text-align: center;}#sk-container-id-3 label.sk-toggleable__label-arrow:before {content: \"▸\";float: left;margin-right: 0.25em;color: #696969;}#sk-container-id-3 label.sk-toggleable__label-arrow:hover:before {color: black;}#sk-container-id-3 div.sk-estimator:hover label.sk-toggleable__label-arrow:before {color: black;}#sk-container-id-3 div.sk-toggleable__content {max-height: 0;max-width: 0;overflow: hidden;text-align: left;background-color: #f0f8ff;}#sk-container-id-3 div.sk-toggleable__content pre {margin: 0.2em;color: black;border-radius: 0.25em;background-color: #f0f8ff;}#sk-container-id-3 input.sk-toggleable__control:checked~div.sk-toggleable__content {max-height: 200px;max-width: 100%;overflow: auto;}#sk-container-id-3 input.sk-toggleable__control:checked~label.sk-toggleable__label-arrow:before {content: \"▾\";}#sk-container-id-3 div.sk-estimator input.sk-toggleable__control:checked~label.sk-toggleable__label {background-color: #d4ebff;}#sk-container-id-3 div.sk-label input.sk-toggleable__control:checked~label.sk-toggleable__label {background-color: #d4ebff;}#sk-container-id-3 input.sk-hidden--visually {border: 0;clip: rect(1px 1px 1px 1px);clip: rect(1px, 1px, 1px, 1px);height: 1px;margin: -1px;overflow: hidden;padding: 0;position: absolute;width: 1px;}#sk-container-id-3 div.sk-estimator {font-family: monospace;background-color: #f0f8ff;border: 1px dotted black;border-radius: 0.25em;box-sizing: border-box;margin-bottom: 0.5em;}#sk-container-id-3 div.sk-estimator:hover {background-color: #d4ebff;}#sk-container-id-3 div.sk-parallel-item::after {content: \"\";width: 100%;border-bottom: 1px solid gray;flex-grow: 1;}#sk-container-id-3 div.sk-label:hover label.sk-toggleable__label {background-color: #d4ebff;}#sk-container-id-3 div.sk-serial::before {content: \"\";position: absolute;border-left: 1px solid gray;box-sizing: border-box;top: 0;bottom: 0;left: 50%;z-index: 0;}#sk-container-id-3 div.sk-serial {display: flex;flex-direction: column;align-items: center;background-color: white;padding-right: 0.2em;padding-left: 0.2em;position: relative;}#sk-container-id-3 div.sk-item {position: relative;z-index: 1;}#sk-container-id-3 div.sk-parallel {display: flex;align-items: stretch;justify-content: center;background-color: white;position: relative;}#sk-container-id-3 div.sk-item::before, #sk-container-id-3 div.sk-parallel-item::before {content: \"\";position: absolute;border-left: 1px solid gray;box-sizing: border-box;top: 0;bottom: 0;left: 50%;z-index: -1;}#sk-container-id-3 div.sk-parallel-item {display: flex;flex-direction: column;z-index: 1;position: relative;background-color: white;}#sk-container-id-3 div.sk-parallel-item:first-child::after {align-self: flex-end;width: 50%;}#sk-container-id-3 div.sk-parallel-item:last-child::after {align-self: flex-start;width: 50%;}#sk-container-id-3 div.sk-parallel-item:only-child::after {width: 0;}#sk-container-id-3 div.sk-dashed-wrapped {border: 1px dashed gray;margin: 0 0.4em 0.5em 0.4em;box-sizing: border-box;padding-bottom: 0.4em;background-color: white;}#sk-container-id-3 div.sk-label label {font-family: monospace;font-weight: bold;display: inline-block;line-height: 1.2em;}#sk-container-id-3 div.sk-label-container {text-align: center;}#sk-container-id-3 div.sk-container {/* jupyter's `normalize.less` sets `[hidden] { display: none; }` but bootstrap.min.css set `[hidden] { display: none !important; }` so we also need the `!important` here to be able to override the default hidden behavior on the sphinx rendered scikit-learn.org. See: https://github.com/scikit-learn/scikit-learn/issues/21755 */display: inline-block !important;position: relative;}#sk-container-id-3 div.sk-text-repr-fallback {display: none;}</style><div id=\"sk-container-id-3\" class=\"sk-top-container\"><div class=\"sk-text-repr-fallback\"><pre>MinMaxScaler()</pre><b>In a Jupyter environment, please rerun this cell to show the HTML representation or trust the notebook. <br />On GitHub, the HTML representation is unable to render, please try loading this page with nbviewer.org.</b></div><div class=\"sk-container\" hidden><div class=\"sk-item\"><div class=\"sk-estimator sk-toggleable\"><input class=\"sk-toggleable__control sk-hidden--visually\" id=\"sk-estimator-id-3\" type=\"checkbox\" checked><label for=\"sk-estimator-id-3\" class=\"sk-toggleable__label sk-toggleable__label-arrow\">MinMaxScaler</label><div class=\"sk-toggleable__content\"><pre>MinMaxScaler()</pre></div></div></div></div></div>"
      ],
      "text/plain": [
       "MinMaxScaler()"
      ]
     },
     "execution_count": 47,
     "metadata": {},
     "output_type": "execute_result"
    }
   ],
   "source": [
    "from sklearn.preprocessing import MinMaxScaler\n",
    "\n",
    "scaler = MinMaxScaler()\n",
    "scaler.fit(audio_np)"
   ]
  },
  {
   "cell_type": "code",
   "execution_count": 48,
   "metadata": {},
   "outputs": [
    {
     "data": {
      "image/png": "[encoded data removed]",
      "text/plain": [
       "<Figure size 1296x144 with 1 Axes>"
      ]
     },
     "metadata": {
      "needs_background": "light"
     },
     "output_type": "display_data"
    },
    {
     "data": {
      "image/png": "[encoded data removed]",
      "text/plain": [
       "<Figure size 1296x144 with 1 Axes>"
      ]
     },
     "metadata": {
      "needs_background": "light"
     },
     "output_type": "display_data"
    },
    {
     "data": {
      "image/png": "[encoded data removed]",
      "text/plain": [
       "<Figure size 1296x144 with 1 Axes>"
      ]
     },
     "metadata": {
      "needs_background": "light"
     },
     "output_type": "display_data"
    },
    {
     "data": {
      "image/png": "[encoded data removed]",
      "text/plain": [
       "<Figure size 1296x144 with 1 Axes>"
      ]
     },
     "metadata": {
      "needs_background": "light"
     },
     "output_type": "display_data"
    },
    {
     "data": {
      "image/png": "[encoded data removed]",
      "text/plain": [
       "<Figure size 1296x144 with 1 Axes>"
      ]
     },
     "metadata": {
      "needs_background": "light"
     },
     "output_type": "display_data"
    },
    {
     "data": {
      "image/png": "[encoded data removed]",
      "text/plain": [
       "<Figure size 1296x144 with 1 Axes>"
      ]
     },
     "metadata": {
      "needs_background": "light"
     },
     "output_type": "display_data"
    },
    {
     "data": {
      "image/png": "[encoded data removed]",
      "text/plain": [
       "<Figure size 1296x144 with 1 Axes>"
      ]
     },
     "metadata": {
      "needs_background": "light"
     },
     "output_type": "display_data"
    },
    {
     "data": {
      "image/png": "[encoded data removed]",
      "text/plain": [
       "<Figure size 1296x144 with 1 Axes>"
      ]
     },
     "metadata": {
      "needs_background": "light"
     },
     "output_type": "display_data"
    },
    {
     "data": {
      "image/png": "[encoded data removed]",
      "text/plain": [
       "<Figure size 1296x144 with 1 Axes>"
      ]
     },
     "metadata": {
      "needs_background": "light"
     },
     "output_type": "display_data"
    }
   ],
   "source": [
    "for idx in range(0, len(audio_np[1:10])):\n",
    "    plt.figure(figsize=(18,2))\n",
    "    plt.plot(audio_np[idx])\n",
    "    plt.ylim((-1, 1))\n",
    "    plt.show()"
   ]
  },
  {
   "cell_type": "markdown",
   "metadata": {},
   "source": [
    "#### 데이터 전처리 "
   ]
  },
  {
   "cell_type": "code",
   "execution_count": 49,
   "metadata": {},
   "outputs": [],
   "source": [
    "audio_mfcc = []\n",
    "for y in audio:\n",
    "  ret = librosa.feature.mfcc(y=y, sr=sr)\n",
    "  audio_mfcc.append(ret)"
   ]
  },
  {
   "cell_type": "code",
   "execution_count": 50,
   "metadata": {},
   "outputs": [
    {
     "name": "stdout",
     "output_type": "stream",
     "text": [
      "(536, 20, 87)\n"
     ]
    }
   ],
   "source": [
    "mfcc_np = np.array(audio_mfcc, np.float32)\n",
    "\n",
    "print(mfcc_np.shape)"
   ]
  },
  {
   "cell_type": "code",
   "execution_count": 52,
   "metadata": {},
   "outputs": [],
   "source": [
    "mfcc_np = mfcc_np.reshape((536, 20*87))"
   ]
  },
  {
   "cell_type": "code",
   "execution_count": 53,
   "metadata": {},
   "outputs": [
    {
     "data": {
      "text/html": [
       "<style>#sk-container-id-4 {color: black;background-color: white;}#sk-container-id-4 pre{padding: 0;}#sk-container-id-4 div.sk-toggleable {background-color: white;}#sk-container-id-4 label.sk-toggleable__label {cursor: pointer;display: block;width: 100%;margin-bottom: 0;padding: 0.3em;box-sizing: border-box;text-align: center;}#sk-container-id-4 label.sk-toggleable__label-arrow:before {content: \"▸\";float: left;margin-right: 0.25em;color: #696969;}#sk-container-id-4 label.sk-toggleable__label-arrow:hover:before {color: black;}#sk-container-id-4 div.sk-estimator:hover label.sk-toggleable__label-arrow:before {color: black;}#sk-container-id-4 div.sk-toggleable__content {max-height: 0;max-width: 0;overflow: hidden;text-align: left;background-color: #f0f8ff;}#sk-container-id-4 div.sk-toggleable__content pre {margin: 0.2em;color: black;border-radius: 0.25em;background-color: #f0f8ff;}#sk-container-id-4 input.sk-toggleable__control:checked~div.sk-toggleable__content {max-height: 200px;max-width: 100%;overflow: auto;}#sk-container-id-4 input.sk-toggleable__control:checked~label.sk-toggleable__label-arrow:before {content: \"▾\";}#sk-container-id-4 div.sk-estimator input.sk-toggleable__control:checked~label.sk-toggleable__label {background-color: #d4ebff;}#sk-container-id-4 div.sk-label input.sk-toggleable__control:checked~label.sk-toggleable__label {background-color: #d4ebff;}#sk-container-id-4 input.sk-hidden--visually {border: 0;clip: rect(1px 1px 1px 1px);clip: rect(1px, 1px, 1px, 1px);height: 1px;margin: -1px;overflow: hidden;padding: 0;position: absolute;width: 1px;}#sk-container-id-4 div.sk-estimator {font-family: monospace;background-color: #f0f8ff;border: 1px dotted black;border-radius: 0.25em;box-sizing: border-box;margin-bottom: 0.5em;}#sk-container-id-4 div.sk-estimator:hover {background-color: #d4ebff;}#sk-container-id-4 div.sk-parallel-item::after {content: \"\";width: 100%;border-bottom: 1px solid gray;flex-grow: 1;}#sk-container-id-4 div.sk-label:hover label.sk-toggleable__label {background-color: #d4ebff;}#sk-container-id-4 div.sk-serial::before {content: \"\";position: absolute;border-left: 1px solid gray;box-sizing: border-box;top: 0;bottom: 0;left: 50%;z-index: 0;}#sk-container-id-4 div.sk-serial {display: flex;flex-direction: column;align-items: center;background-color: white;padding-right: 0.2em;padding-left: 0.2em;position: relative;}#sk-container-id-4 div.sk-item {position: relative;z-index: 1;}#sk-container-id-4 div.sk-parallel {display: flex;align-items: stretch;justify-content: center;background-color: white;position: relative;}#sk-container-id-4 div.sk-item::before, #sk-container-id-4 div.sk-parallel-item::before {content: \"\";position: absolute;border-left: 1px solid gray;box-sizing: border-box;top: 0;bottom: 0;left: 50%;z-index: -1;}#sk-container-id-4 div.sk-parallel-item {display: flex;flex-direction: column;z-index: 1;position: relative;background-color: white;}#sk-container-id-4 div.sk-parallel-item:first-child::after {align-self: flex-end;width: 50%;}#sk-container-id-4 div.sk-parallel-item:last-child::after {align-self: flex-start;width: 50%;}#sk-container-id-4 div.sk-parallel-item:only-child::after {width: 0;}#sk-container-id-4 div.sk-dashed-wrapped {border: 1px dashed gray;margin: 0 0.4em 0.5em 0.4em;box-sizing: border-box;padding-bottom: 0.4em;background-color: white;}#sk-container-id-4 div.sk-label label {font-family: monospace;font-weight: bold;display: inline-block;line-height: 1.2em;}#sk-container-id-4 div.sk-label-container {text-align: center;}#sk-container-id-4 div.sk-container {/* jupyter's `normalize.less` sets `[hidden] { display: none; }` but bootstrap.min.css set `[hidden] { display: none !important; }` so we also need the `!important` here to be able to override the default hidden behavior on the sphinx rendered scikit-learn.org. See: https://github.com/scikit-learn/scikit-learn/issues/21755 */display: inline-block !important;position: relative;}#sk-container-id-4 div.sk-text-repr-fallback {display: none;}</style><div id=\"sk-container-id-4\" class=\"sk-top-container\"><div class=\"sk-text-repr-fallback\"><pre>MinMaxScaler()</pre><b>In a Jupyter environment, please rerun this cell to show the HTML representation or trust the notebook. <br />On GitHub, the HTML representation is unable to render, please try loading this page with nbviewer.org.</b></div><div class=\"sk-container\" hidden><div class=\"sk-item\"><div class=\"sk-estimator sk-toggleable\"><input class=\"sk-toggleable__control sk-hidden--visually\" id=\"sk-estimator-id-4\" type=\"checkbox\" checked><label for=\"sk-estimator-id-4\" class=\"sk-toggleable__label sk-toggleable__label-arrow\">MinMaxScaler</label><div class=\"sk-toggleable__content\"><pre>MinMaxScaler()</pre></div></div></div></div></div>"
      ],
      "text/plain": [
       "MinMaxScaler()"
      ]
     },
     "execution_count": 53,
     "metadata": {},
     "output_type": "execute_result"
    }
   ],
   "source": [
    "from sklearn.preprocessing import MinMaxScaler\n",
    "\n",
    "scaler =  MinMaxScaler()\n",
    "scaler.fit(mfcc_np)"
   ]
  },
  {
   "cell_type": "code",
   "execution_count": 54,
   "metadata": {},
   "outputs": [
    {
     "name": "stdout",
     "output_type": "stream",
     "text": [
      "(536, 20, 87, 1)\n"
     ]
    }
   ],
   "source": [
    "mfcc_np = mfcc_np.reshape((536, 20, 87))\n",
    "mfcc_array = np.expand_dims(mfcc_np, -1)\n",
    "print(mfcc_array.shape)"
   ]
  },
  {
   "cell_type": "markdown",
   "metadata": {},
   "source": [
    "## 모델 불러오기 "
   ]
  },
  {
   "cell_type": "code",
   "execution_count": 55,
   "metadata": {},
   "outputs": [],
   "source": [
    "from keras.utils import np_utils\n",
    "from keras.datasets import mnist\n",
    "from keras.models import Sequential\n",
    "from keras.layers import Dense, Activation\n",
    "from keras.models import load_model\n",
    "import numpy as np\n",
    "from numpy import argmax"
   ]
  },
  {
   "cell_type": "code",
   "execution_count": 56,
   "metadata": {},
   "outputs": [
    {
     "name": "stdout",
     "output_type": "stream",
     "text": [
      "Metal device set to: Apple M1\n",
      "\n",
      "systemMemory: 16.00 GB\n",
      "maxCacheSize: 5.33 GB\n",
      "\n"
     ]
    },
    {
     "name": "stderr",
     "output_type": "stream",
     "text": [
      "2022-07-21 23:01:56.257879: I tensorflow/core/common_runtime/pluggable_device/pluggable_device_factory.cc:305] Could not identify NUMA node of platform GPU ID 0, defaulting to 0. Your kernel may not have been built with NUMA support.\n",
      "2022-07-21 23:01:56.257998: I tensorflow/core/common_runtime/pluggable_device/pluggable_device_factory.cc:271] Created TensorFlow device (/job:localhost/replica:0/task:0/device:GPU:0 with 0 MB memory) -> physical PluggableDevice (device: 0, name: METAL, pci bus id: <undefined>)\n"
     ]
    }
   ],
   "source": [
    "model = load_model('MFCC_CNN_Model.h5')"
   ]
  },
  {
   "cell_type": "code",
   "execution_count": 57,
   "metadata": {},
   "outputs": [
    {
     "name": "stderr",
     "output_type": "stream",
     "text": [
      "2022-07-21 23:01:56.932666: W tensorflow/core/platform/profile_utils/cpu_utils.cc:128] Failed to get CPU frequency: 0 Hz\n",
      "2022-07-21 23:01:57.009318: I tensorflow/core/grappler/optimizers/custom_graph_optimizer_registry.cc:113] Plugin optimizer for device_type GPU is enabled.\n"
     ]
    },
    {
     "name": "stdout",
     "output_type": "stream",
     "text": [
      "17/17 [==============================] - 1s 25ms/step\n"
     ]
    }
   ],
   "source": [
    "pred = model.predict(mfcc_array)"
   ]
  },
  {
   "cell_type": "code",
   "execution_count": 58,
   "metadata": {},
   "outputs": [
    {
     "data": {
      "text/plain": [
       "array([4.9605596e-06, 3.5766038e-04, 2.1247868e-03, 6.0681510e-01,\n",
       "       5.4700574e-04, 1.2244057e-05, 8.0717151e-04, 3.7240392e-01,\n",
       "       7.4481541e-06, 8.6073080e-05, 3.6096666e-05, 3.7797960e-03,\n",
       "       6.2094645e-05, 4.5279934e-04, 2.2366694e-06, 8.2235606e-03,\n",
       "       1.0755592e-03, 3.1488463e-03, 1.0890359e-05, 4.1764019e-05],\n",
       "      dtype=float32)"
      ]
     },
     "execution_count": 58,
     "metadata": {},
     "output_type": "execute_result"
    }
   ],
   "source": [
    "pred[2]"
   ]
  },
  {
   "cell_type": "code",
   "execution_count": 59,
   "metadata": {},
   "outputs": [
    {
     "data": {
      "text/plain": [
       "0.6068151"
      ]
     },
     "execution_count": 59,
     "metadata": {},
     "output_type": "execute_result"
    }
   ],
   "source": [
    "max(pred[2])"
   ]
  },
  {
   "cell_type": "code",
   "execution_count": 60,
   "metadata": {},
   "outputs": [
    {
     "data": {
      "text/plain": [
       "numpy.float32"
      ]
     },
     "execution_count": 60,
     "metadata": {},
     "output_type": "execute_result"
    }
   ],
   "source": [
    "type(max(pred[2]))"
   ]
  },
  {
   "cell_type": "code",
   "execution_count": 61,
   "metadata": {},
   "outputs": [
    {
     "name": "stdout",
     "output_type": "stream",
     "text": [
      "<class 'numpy.int64'>\n"
     ]
    }
   ],
   "source": [
    "print(type(np.argmax(pred[2])))"
   ]
  },
  {
   "cell_type": "markdown",
   "metadata": {},
   "source": [
    "## DB 저장"
   ]
  },
  {
   "cell_type": "markdown",
   "metadata": {},
   "source": [
    "#### 1. 플란다스의 개 "
   ]
  },
  {
   "cell_type": "code",
   "execution_count": 67,
   "metadata": {},
   "outputs": [
    {
     "name": "stdout",
     "output_type": "stream",
     "text": [
      "0 ~ 2 1000 0\n",
      "1 ~ 3 1000 0\n",
      "2 ~ 4 1000 0\n",
      "3 ~ 5 1000 0\n",
      "4 ~ 6 1000 0\n",
      "5 ~ 7 1000 0\n",
      "6 ~ 8 1000 0\n",
      "7 ~ 9 1000 0\n",
      "8 ~ 10 1000 0\n",
      "9 ~ 11 1000 0\n",
      "10 ~ 12 96 0.9121198058128357\n",
      "11 ~ 13 86 0.9407564997673035\n",
      "12 ~ 14 86 0.9769644141197205\n",
      "13 ~ 15 1000 0\n",
      "14 ~ 16 94 0.941096305847168\n",
      "15 ~ 17 94 0.9425579309463501\n",
      "16 ~ 18 94 0.9678474068641663\n",
      "17 ~ 19 1000 0\n",
      "18 ~ 20 98 0.9998551607131958\n",
      "19 ~ 21 98 0.9561301469802856\n",
      "20 ~ 22 1000 0\n",
      "21 ~ 23 98 0.9951404333114624\n",
      "22 ~ 24 98 0.9951404333114624\n",
      "23 ~ 25 98 0.9951404333114624\n",
      "24 ~ 26 98 0.9951404333114624\n",
      "25 ~ 27 98 0.9951404333114624\n",
      "26 ~ 28 98 0.9951404333114624\n",
      "27 ~ 29 98 0.9951404333114624\n",
      "28 ~ 30 98 0.9970811605453491\n",
      "29 ~ 31 98 0.9999706745147705\n",
      "30 ~ 32 98 0.9977505803108215\n",
      "31 ~ 33 98 0.9999359846115112\n",
      "32 ~ 34 98 0.9983977675437927\n",
      "33 ~ 35 98 0.999776303768158\n",
      "34 ~ 36 98 0.9966657757759094\n",
      "35 ~ 37 98 0.9999772310256958\n",
      "36 ~ 38 1000 0\n",
      "37 ~ 39 98 0.9943740367889404\n",
      "38 ~ 40 1000 0\n",
      "39 ~ 41 1000 0\n",
      "40 ~ 42 1000 0\n",
      "41 ~ 43 1000 0\n",
      "42 ~ 44 98 0.938064694404602\n",
      "43 ~ 45 98 0.997119665145874\n",
      "44 ~ 46 98 0.9997968077659607\n",
      "45 ~ 47 1000 0\n",
      "46 ~ 48 98 0.9996242523193359\n",
      "47 ~ 49 1000 0\n",
      "48 ~ 50 98 0.9994933605194092\n",
      "49 ~ 51 98 0.9336709976196289\n",
      "50 ~ 52 1000 0\n",
      "51 ~ 53 98 0.952296793460846\n",
      "52 ~ 54 98 0.9805440306663513\n",
      "53 ~ 55 98 0.9990957975387573\n",
      "54 ~ 56 98 0.9431061148643494\n",
      "55 ~ 57 1000 0\n",
      "56 ~ 58 98 0.990583062171936\n",
      "57 ~ 59 98 0.9979685544967651\n",
      "58 ~ 60 98 0.9387392997741699\n",
      "59 ~ 61 98 0.9878118634223938\n",
      "60 ~ 62 1000 0\n",
      "61 ~ 63 98 0.9999998807907104\n",
      "62 ~ 64 98 0.9983519315719604\n",
      "63 ~ 65 98 0.9991284012794495\n",
      "64 ~ 66 98 0.9959462285041809\n",
      "65 ~ 67 1000 0\n",
      "66 ~ 68 98 0.9991046190261841\n",
      "67 ~ 69 98 0.9999805688858032\n",
      "68 ~ 70 98 0.9998843669891357\n",
      "69 ~ 71 98 0.9996812343597412\n",
      "70 ~ 72 1000 0\n",
      "71 ~ 73 98 0.9972113966941833\n",
      "72 ~ 74 98 0.9999343156814575\n",
      "73 ~ 75 98 0.9999979734420776\n",
      "74 ~ 76 98 0.9999994039535522\n",
      "75 ~ 77 98 0.9986926913261414\n",
      "76 ~ 78 98 0.9245641827583313\n",
      "77 ~ 79 98 0.9984031319618225\n",
      "78 ~ 80 1000 0\n",
      "79 ~ 81 1000 0\n",
      "80 ~ 82 98 0.9999175071716309\n",
      "81 ~ 83 1000 0\n",
      "82 ~ 84 1000 0\n",
      "83 ~ 85 98 0.9993860721588135\n",
      "84 ~ 86 98 0.9967216849327087\n",
      "85 ~ 87 98 0.9363402128219604\n",
      "86 ~ 88 98 0.9494577050209045\n",
      "87 ~ 89 98 0.9633085131645203\n",
      "88 ~ 90 98 0.9998534917831421\n",
      "89 ~ 91 98 0.9966061115264893\n",
      "90 ~ 92 99 0.9374895691871643\n",
      "91 ~ 93 98 0.9990578293800354\n",
      "92 ~ 94 98 0.989397406578064\n",
      "93 ~ 95 98 0.9992865920066833\n",
      "94 ~ 96 98 0.9984347224235535\n",
      "95 ~ 97 98 0.9032838940620422\n",
      "96 ~ 98 98 0.9995868802070618\n",
      "97 ~ 99 98 0.9646099805831909\n",
      "98 ~ 100 98 0.9926875829696655\n",
      "99 ~ 101 98 0.9999427795410156\n",
      "100 ~ 102 98 0.9998039603233337\n",
      "101 ~ 103 98 0.9795151352882385\n",
      "102 ~ 104 98 0.9999805688858032\n",
      "103 ~ 105 98 0.9999970197677612\n",
      "104 ~ 106 98 0.9999998807907104\n",
      "105 ~ 107 98 0.9973369836807251\n",
      "106 ~ 108 98 0.9393974542617798\n",
      "107 ~ 109 98 0.9999630451202393\n",
      "108 ~ 110 1000 0\n",
      "109 ~ 111 98 0.9807724952697754\n",
      "110 ~ 112 98 0.9775350093841553\n",
      "111 ~ 113 1000 0\n",
      "112 ~ 114 1000 0\n",
      "113 ~ 115 98 0.9746905565261841\n",
      "114 ~ 116 1000 0\n",
      "115 ~ 117 1000 0\n",
      "116 ~ 118 98 0.9994634985923767\n",
      "117 ~ 119 98 0.9891006350517273\n",
      "118 ~ 120 1000 0\n",
      "119 ~ 121 1000 0\n",
      "120 ~ 122 98 0.9534716010093689\n",
      "121 ~ 123 98 0.9997610449790955\n",
      "122 ~ 124 98 0.9738878011703491\n",
      "123 ~ 125 98 0.9918752312660217\n",
      "124 ~ 126 98 0.9973963499069214\n",
      "125 ~ 127 98 0.9966037273406982\n",
      "126 ~ 128 98 0.9794751405715942\n",
      "127 ~ 129 98 0.9888213872909546\n",
      "128 ~ 130 1000 0\n",
      "129 ~ 131 1000 0\n",
      "130 ~ 132 1000 0\n",
      "131 ~ 133 98 0.9991564750671387\n",
      "132 ~ 134 98 0.9929782748222351\n",
      "133 ~ 135 1000 0\n",
      "134 ~ 136 1000 0\n",
      "135 ~ 137 98 0.995587944984436\n",
      "136 ~ 138 98 0.9987508058547974\n",
      "137 ~ 139 1000 0\n",
      "138 ~ 140 1000 0\n",
      "139 ~ 141 1000 0\n",
      "140 ~ 142 1000 0\n",
      "141 ~ 143 1000 0\n",
      "142 ~ 144 1000 0\n",
      "143 ~ 145 1000 0\n",
      "144 ~ 146 1000 0\n",
      "145 ~ 147 1000 0\n",
      "146 ~ 148 1000 0\n",
      "147 ~ 149 1000 0\n",
      "148 ~ 150 1000 0\n",
      "149 ~ 151 1000 0\n",
      "150 ~ 152 98 0.9709224700927734\n",
      "151 ~ 153 98 0.9045948386192322\n",
      "152 ~ 154 1000 0\n",
      "153 ~ 155 98 0.983758270740509\n",
      "154 ~ 156 98 0.9380533695220947\n",
      "155 ~ 157 98 0.9802592992782593\n",
      "156 ~ 158 98 0.9855206608772278\n",
      "157 ~ 159 98 0.9935985803604126\n",
      "158 ~ 160 98 0.9763271808624268\n",
      "159 ~ 161 1000 0\n",
      "160 ~ 162 98 0.9369305372238159\n",
      "161 ~ 163 98 0.9286240935325623\n",
      "162 ~ 164 1000 0\n",
      "163 ~ 165 1000 0\n",
      "164 ~ 166 98 0.9283483624458313\n",
      "165 ~ 167 98 0.9525697231292725\n",
      "166 ~ 168 1000 0\n",
      "167 ~ 169 98 0.9944571852684021\n",
      "168 ~ 170 1000 0\n",
      "169 ~ 171 1000 0\n",
      "170 ~ 172 1000 0\n",
      "171 ~ 173 1000 0\n",
      "172 ~ 174 1000 0\n",
      "173 ~ 175 1000 0\n",
      "174 ~ 176 1000 0\n",
      "175 ~ 177 1000 0\n",
      "176 ~ 178 1000 0\n",
      "177 ~ 179 1000 0\n",
      "178 ~ 180 98 0.9938032627105713\n",
      "179 ~ 181 98 0.9619686603546143\n",
      "180 ~ 182 1000 0\n",
      "181 ~ 183 1000 0\n",
      "182 ~ 184 98 0.9812802672386169\n",
      "183 ~ 185 98 0.9988239407539368\n",
      "184 ~ 186 98 0.9457784295082092\n",
      "185 ~ 187 1000 0\n",
      "186 ~ 188 1000 0\n",
      "187 ~ 189 1000 0\n",
      "188 ~ 190 98 0.9957928657531738\n",
      "189 ~ 191 98 0.9724629521369934\n",
      "190 ~ 192 98 0.9764875769615173\n",
      "191 ~ 193 98 0.9487001895904541\n",
      "192 ~ 194 98 0.9894412755966187\n",
      "193 ~ 195 1000 0\n",
      "194 ~ 196 1000 0\n",
      "195 ~ 197 1000 0\n",
      "196 ~ 198 1000 0\n",
      "197 ~ 199 1000 0\n",
      "198 ~ 200 1000 0\n",
      "199 ~ 201 98 0.9801637530326843\n",
      "200 ~ 202 98 0.946711003780365\n",
      "201 ~ 203 1000 0\n",
      "202 ~ 204 93 0.9336611032485962\n",
      "203 ~ 205 1000 0\n",
      "204 ~ 206 1000 0\n",
      "205 ~ 207 1000 0\n",
      "206 ~ 208 1000 0\n",
      "207 ~ 209 1000 0\n",
      "208 ~ 210 98 0.9492799043655396\n",
      "209 ~ 211 1000 0\n",
      "210 ~ 212 1000 0\n",
      "211 ~ 213 1000 0\n",
      "212 ~ 214 1000 0\n",
      "213 ~ 215 1000 0\n",
      "214 ~ 216 98 0.9972389936447144\n",
      "215 ~ 217 1000 0\n",
      "216 ~ 218 98 0.9795197248458862\n",
      "217 ~ 219 81 0.9433940649032593\n",
      "218 ~ 220 1000 0\n",
      "219 ~ 221 1000 0\n",
      "220 ~ 222 1000 0\n",
      "221 ~ 223 1000 0\n",
      "222 ~ 224 1000 0\n",
      "223 ~ 225 91 0.9365634918212891\n",
      "224 ~ 226 1000 0\n",
      "225 ~ 227 81 0.9954960346221924\n",
      "226 ~ 228 1000 0\n",
      "227 ~ 229 98 0.9420109391212463\n",
      "228 ~ 230 1000 0\n",
      "229 ~ 231 1000 0\n",
      "230 ~ 232 97 0.9017638564109802\n",
      "231 ~ 233 98 0.9992809891700745\n",
      "232 ~ 234 1000 0\n",
      "233 ~ 235 98 0.9545925259590149\n",
      "234 ~ 236 1000 0\n",
      "235 ~ 237 1000 0\n",
      "236 ~ 238 1000 0\n",
      "237 ~ 239 1000 0\n",
      "238 ~ 240 91 0.9713177680969238\n",
      "239 ~ 241 91 0.9988283514976501\n",
      "240 ~ 242 91 0.9982985854148865\n",
      "241 ~ 243 91 0.9744365215301514\n",
      "242 ~ 244 91 0.9455536007881165\n",
      "243 ~ 245 98 0.9251370429992676\n",
      "244 ~ 246 98 0.9392353892326355\n",
      "245 ~ 247 1000 0\n",
      "246 ~ 248 1000 0\n",
      "247 ~ 249 1000 0\n",
      "248 ~ 250 1000 0\n",
      "249 ~ 251 1000 0\n",
      "250 ~ 252 1000 0\n",
      "251 ~ 253 1000 0\n",
      "252 ~ 254 1000 0\n",
      "253 ~ 255 1000 0\n",
      "254 ~ 256 1000 0\n",
      "255 ~ 257 81 0.9291581511497498\n",
      "256 ~ 258 81 0.9444989562034607\n",
      "257 ~ 259 1000 0\n",
      "258 ~ 260 1000 0\n",
      "259 ~ 261 81 0.9101651310920715\n",
      "260 ~ 262 1000 0\n",
      "261 ~ 263 1000 0\n",
      "262 ~ 264 1000 0\n",
      "263 ~ 265 99 0.9135831594467163\n",
      "264 ~ 266 1000 0\n",
      "265 ~ 267 98 0.9950568675994873\n",
      "266 ~ 268 1000 0\n",
      "267 ~ 269 1000 0\n",
      "268 ~ 270 1000 0\n",
      "269 ~ 271 1000 0\n",
      "270 ~ 272 98 0.9935305714607239\n",
      "271 ~ 273 98 0.9673311114311218\n",
      "272 ~ 274 1000 0\n",
      "273 ~ 275 98 0.9961221218109131\n",
      "274 ~ 276 1000 0\n",
      "275 ~ 277 98 0.954105019569397\n",
      "276 ~ 278 1000 0\n",
      "277 ~ 279 1000 0\n",
      "278 ~ 280 1000 0\n",
      "279 ~ 281 98 0.9410994052886963\n",
      "280 ~ 282 98 0.985029399394989\n",
      "281 ~ 283 98 0.978425920009613\n",
      "282 ~ 284 98 0.99244624376297\n",
      "283 ~ 285 1000 0\n",
      "284 ~ 286 98 0.9625556468963623\n",
      "285 ~ 287 98 0.9805498719215393\n",
      "286 ~ 288 1000 0\n",
      "287 ~ 289 1000 0\n",
      "288 ~ 290 98 0.9044643044471741\n",
      "289 ~ 291 1000 0\n",
      "290 ~ 292 1000 0\n",
      "291 ~ 293 1000 0\n",
      "292 ~ 294 1000 0\n",
      "293 ~ 295 1000 0\n",
      "294 ~ 296 1000 0\n",
      "295 ~ 297 1000 0\n",
      "296 ~ 298 98 0.979576587677002\n",
      "297 ~ 299 1000 0\n",
      "298 ~ 300 86 0.9592477083206177\n",
      "299 ~ 301 86 0.9577869772911072\n",
      "300 ~ 302 86 0.9967468976974487\n",
      "301 ~ 303 86 0.9992048144340515\n",
      "302 ~ 304 86 0.9992965459823608\n",
      "303 ~ 305 86 0.9464691281318665\n",
      "304 ~ 306 86 0.9664111137390137\n",
      "305 ~ 307 86 0.9974761605262756\n",
      "306 ~ 308 86 0.9990729689598083\n",
      "307 ~ 309 86 0.9999035596847534\n",
      "308 ~ 310 86 0.9999297857284546\n",
      "309 ~ 311 86 0.9979782700538635\n",
      "310 ~ 312 86 0.9981992840766907\n",
      "311 ~ 313 86 0.9995189905166626\n",
      "312 ~ 314 86 0.9982142448425293\n",
      "313 ~ 315 86 0.9996222853660583\n",
      "314 ~ 316 86 0.999056875705719\n",
      "315 ~ 317 86 0.9975439310073853\n",
      "316 ~ 318 86 0.9911308288574219\n",
      "317 ~ 319 1000 0\n",
      "318 ~ 320 86 0.9952616095542908\n",
      "319 ~ 321 1000 0\n",
      "320 ~ 322 1000 0\n",
      "321 ~ 323 86 0.9998914003372192\n",
      "322 ~ 324 86 0.9998454451560974\n",
      "323 ~ 325 86 0.9999630451202393\n",
      "324 ~ 326 86 0.9999970197677612\n",
      "325 ~ 327 86 0.9999994039535522\n",
      "326 ~ 328 86 0.9999918937683105\n",
      "327 ~ 329 86 0.9999769926071167\n",
      "328 ~ 330 86 0.9999934434890747\n",
      "329 ~ 331 86 0.9999958276748657\n",
      "330 ~ 332 86 0.9999942779541016\n",
      "331 ~ 333 86 0.9999982118606567\n",
      "332 ~ 334 86 0.9999988079071045\n",
      "333 ~ 335 86 0.9999833106994629\n",
      "334 ~ 336 86 0.9934333562850952\n",
      "335 ~ 337 86 0.9979665279388428\n",
      "336 ~ 338 86 0.9999470710754395\n",
      "337 ~ 339 86 0.9998730421066284\n",
      "338 ~ 340 86 0.9999866485595703\n",
      "339 ~ 341 86 0.9999880790710449\n",
      "340 ~ 342 86 0.9999332427978516\n",
      "341 ~ 343 86 0.9999973773956299\n",
      "342 ~ 344 86 0.9999969005584717\n",
      "343 ~ 345 86 0.9999991655349731\n",
      "344 ~ 346 86 0.9999998807907104\n",
      "345 ~ 347 86 0.9999662637710571\n",
      "346 ~ 348 86 0.9989387392997742\n",
      "347 ~ 349 86 0.9996209740638733\n",
      "348 ~ 350 86 0.9995593428611755\n",
      "349 ~ 351 86 0.9991000890731812\n",
      "350 ~ 352 86 0.9999407529830933\n",
      "351 ~ 353 86 0.9999954700469971\n",
      "352 ~ 354 86 0.9999972581863403\n",
      "353 ~ 355 86 0.999996542930603\n",
      "354 ~ 356 86 0.9999573230743408\n",
      "355 ~ 357 86 0.9999920129776001\n",
      "356 ~ 358 86 0.9973269701004028\n",
      "357 ~ 359 86 0.9992712140083313\n",
      "358 ~ 360 86 0.9981563687324524\n",
      "359 ~ 361 86 0.998400866985321\n",
      "360 ~ 362 86 0.9999973773956299\n",
      "361 ~ 363 86 0.9999796152114868\n",
      "362 ~ 364 86 0.981336772441864\n",
      "363 ~ 365 86 0.9740208387374878\n",
      "364 ~ 366 86 0.9999933242797852\n",
      "365 ~ 367 86 0.9999167919158936\n",
      "366 ~ 368 86 0.9952734112739563\n",
      "367 ~ 369 1000 0\n",
      "368 ~ 370 1000 0\n",
      "369 ~ 371 1000 0\n",
      "370 ~ 372 96 0.962509036064148\n",
      "371 ~ 373 1000 0\n",
      "372 ~ 374 1000 0\n",
      "373 ~ 375 1000 0\n",
      "374 ~ 376 1000 0\n",
      "375 ~ 377 98 0.9295220375061035\n",
      "376 ~ 378 1000 0\n",
      "377 ~ 379 1000 0\n",
      "378 ~ 380 1000 0\n",
      "379 ~ 381 98 0.9552801251411438\n",
      "380 ~ 382 98 0.9758129119873047\n",
      "381 ~ 383 98 0.9970974922180176\n",
      "382 ~ 384 98 0.9919481873512268\n",
      "383 ~ 385 98 0.9880623817443848\n",
      "384 ~ 386 98 0.9910706281661987\n",
      "385 ~ 387 98 0.9599519968032837\n",
      "386 ~ 388 98 0.9953677654266357\n",
      "387 ~ 389 98 0.9338445663452148\n",
      "388 ~ 390 1000 0\n",
      "389 ~ 391 98 0.9981515407562256\n",
      "390 ~ 392 1000 0\n",
      "391 ~ 393 1000 0\n",
      "392 ~ 394 98 0.992084264755249\n",
      "393 ~ 395 1000 0\n",
      "394 ~ 396 1000 0\n",
      "395 ~ 397 1000 0\n",
      "396 ~ 398 1000 0\n",
      "397 ~ 399 98 0.992658793926239\n",
      "398 ~ 400 98 0.9535465836524963\n",
      "399 ~ 401 98 0.9879624247550964\n",
      "400 ~ 402 98 0.960760235786438\n",
      "401 ~ 403 98 0.9989884495735168\n",
      "402 ~ 404 98 0.981846034526825\n",
      "403 ~ 405 98 0.9936779141426086\n",
      "404 ~ 406 98 0.9652958512306213\n",
      "405 ~ 407 1000 0\n",
      "406 ~ 408 1000 0\n",
      "407 ~ 409 98 0.9924980998039246\n",
      "408 ~ 410 98 0.9990284442901611\n",
      "409 ~ 411 98 0.9996787309646606\n",
      "410 ~ 412 98 0.9981473684310913\n",
      "411 ~ 413 98 0.995010495185852\n",
      "412 ~ 414 98 0.988933801651001\n",
      "413 ~ 415 98 0.9101467132568359\n",
      "414 ~ 416 98 0.9966834187507629\n",
      "415 ~ 417 98 0.9985432624816895\n",
      "416 ~ 418 1000 0\n",
      "417 ~ 419 1000 0\n",
      "418 ~ 420 81 0.9871920347213745\n",
      "419 ~ 421 1000 0\n",
      "420 ~ 422 1000 0\n",
      "421 ~ 423 1000 0\n",
      "422 ~ 424 1000 0\n",
      "423 ~ 425 1000 0\n",
      "424 ~ 426 1000 0\n",
      "425 ~ 427 1000 0\n",
      "426 ~ 428 98 0.9970344305038452\n",
      "427 ~ 429 1000 0\n",
      "428 ~ 430 98 0.9652410745620728\n",
      "429 ~ 431 99 0.9326028823852539\n",
      "430 ~ 432 1000 0\n",
      "431 ~ 433 1000 0\n",
      "432 ~ 434 98 0.9449938535690308\n",
      "433 ~ 435 1000 0\n",
      "434 ~ 436 1000 0\n",
      "435 ~ 437 1000 0\n",
      "436 ~ 438 98 0.9352164268493652\n",
      "437 ~ 439 98 0.999946117401123\n",
      "438 ~ 440 1000 0\n",
      "439 ~ 441 1000 0\n",
      "440 ~ 442 1000 0\n",
      "441 ~ 443 98 0.9660210609436035\n",
      "442 ~ 444 98 0.9983881711959839\n",
      "443 ~ 445 1000 0\n",
      "444 ~ 446 1000 0\n",
      "445 ~ 447 98 0.9990221261978149\n",
      "446 ~ 448 1000 0\n",
      "447 ~ 449 98 0.9936617612838745\n",
      "448 ~ 450 98 0.9937853813171387\n",
      "449 ~ 451 1000 0\n",
      "450 ~ 452 1000 0\n",
      "451 ~ 453 98 0.9793917536735535\n",
      "452 ~ 454 98 0.997986912727356\n",
      "453 ~ 455 1000 0\n",
      "454 ~ 456 1000 0\n",
      "455 ~ 457 1000 0\n",
      "456 ~ 458 1000 0\n",
      "457 ~ 459 1000 0\n",
      "458 ~ 460 98 0.9418414831161499\n",
      "459 ~ 461 1000 0\n",
      "460 ~ 462 81 0.935004711151123\n",
      "461 ~ 463 1000 0\n",
      "462 ~ 464 98 0.9277303218841553\n",
      "463 ~ 465 1000 0\n",
      "464 ~ 466 1000 0\n",
      "465 ~ 467 1000 0\n",
      "466 ~ 468 1000 0\n",
      "467 ~ 469 1000 0\n",
      "468 ~ 470 98 0.9961995482444763\n",
      "469 ~ 471 98 0.9999995231628418\n",
      "470 ~ 472 98 0.9980046153068542\n",
      "471 ~ 473 1000 0\n",
      "472 ~ 474 1000 0\n",
      "473 ~ 475 98 0.9822742938995361\n",
      "474 ~ 476 98 0.9696389436721802\n",
      "475 ~ 477 98 0.9881872534751892\n",
      "476 ~ 478 98 0.9966489672660828\n",
      "477 ~ 479 1000 0\n",
      "478 ~ 480 98 0.9999675750732422\n",
      "479 ~ 481 98 0.9870585799217224\n",
      "480 ~ 482 98 0.9999135732650757\n",
      "481 ~ 483 1000 0\n",
      "482 ~ 484 1000 0\n",
      "483 ~ 485 98 0.9932792782783508\n",
      "484 ~ 486 98 0.996096670627594\n",
      "485 ~ 487 98 0.9743214845657349\n",
      "486 ~ 488 1000 0\n",
      "487 ~ 489 98 0.9986159801483154\n",
      "488 ~ 490 98 0.9999597072601318\n",
      "489 ~ 491 98 0.9484192728996277\n",
      "490 ~ 492 98 0.9998472929000854\n",
      "491 ~ 493 1000 0\n",
      "492 ~ 494 98 0.9968722462654114\n",
      "493 ~ 495 1000 0\n",
      "494 ~ 496 98 0.9987701177597046\n",
      "495 ~ 497 98 0.986670196056366\n",
      "496 ~ 498 98 0.9999974966049194\n",
      "497 ~ 499 98 0.9892521500587463\n",
      "498 ~ 500 98 0.952472984790802\n",
      "499 ~ 501 98 0.9809611439704895\n",
      "500 ~ 502 1000 0\n",
      "501 ~ 503 98 0.9837250113487244\n",
      "502 ~ 504 98 0.9528286457061768\n",
      "503 ~ 505 98 0.9985069036483765\n",
      "504 ~ 506 1000 0\n",
      "505 ~ 507 98 0.9957952499389648\n",
      "506 ~ 508 98 0.9995993971824646\n",
      "507 ~ 509 98 0.995695173740387\n",
      "508 ~ 510 1000 0\n",
      "509 ~ 511 1000 0\n",
      "510 ~ 512 98 0.9460541605949402\n",
      "511 ~ 513 1000 0\n",
      "512 ~ 514 1000 0\n",
      "513 ~ 515 1000 0\n",
      "514 ~ 516 1000 0\n",
      "515 ~ 517 1000 0\n",
      "516 ~ 518 98 0.9809799790382385\n",
      "517 ~ 519 98 0.9997487664222717\n",
      "518 ~ 520 98 0.9999927282333374\n",
      "519 ~ 521 1000 0\n",
      "520 ~ 522 98 0.9999613761901855\n",
      "521 ~ 523 98 0.9997844099998474\n",
      "522 ~ 524 1000 0\n",
      "523 ~ 525 1000 0\n",
      "524 ~ 526 1000 0\n",
      "525 ~ 527 1000 0\n",
      "526 ~ 528 98 0.9595483541488647\n",
      "527 ~ 529 98 0.9501055479049683\n",
      "528 ~ 530 1000 0\n",
      "529 ~ 531 98 0.9996875524520874\n",
      "530 ~ 532 1000 0\n",
      "531 ~ 533 98 0.9999911785125732\n",
      "532 ~ 534 98 0.9981556534767151\n",
      "533 ~ 535 98 0.9968695044517517\n",
      "534 ~ 536 98 0.9747039079666138\n",
      "535 ~ 537 98 0.9470660090446472\n"
     ]
    }
   ],
   "source": [
    "cnt = 0\n",
    "result = []\n",
    "\n",
    "for i in pred:\n",
    "    if max(i) > 0.9:\n",
    "        tmp = '{} ~ {} {} {}'.format(cnt, (cnt+2), class_list[np.argmax(i)], max(i))\n",
    "        print(tmp)\n",
    "        result.append(tmp)\n",
    "    else:\n",
    "        tmp = '{} ~ {} {} {}'.format(cnt, (cnt+2), 1000, 0)\n",
    "        print(tmp)\n",
    "        result.append(tmp)\n",
    "\n",
    "    cnt += 1"
   ]
  },
  {
   "cell_type": "code",
   "execution_count": 68,
   "metadata": {},
   "outputs": [
    {
     "name": "stdout",
     "output_type": "stream",
     "text": [
      "    start  end label                prob\n",
      "0       0    2  1000                   0\n",
      "1       1    3  1000                   0\n",
      "2       2    4  1000                   0\n",
      "3       3    5  1000                   0\n",
      "4       4    6  1000                   0\n",
      "..    ...  ...   ...                 ...\n",
      "531   531  533    98  0.9999911785125732\n",
      "532   532  534    98  0.9981556534767151\n",
      "533   533  535    98  0.9968695044517517\n",
      "534   534  536    98  0.9747039079666138\n",
      "535   535  537    98  0.9470660090446472\n",
      "\n",
      "[536 rows x 4 columns]\n"
     ]
    }
   ],
   "source": [
    "import pandas as pd\n",
    "\n",
    "cnt = 0\n",
    "for i in result:\n",
    "    tmp1 = str.split(i)\n",
    "    if cnt == 0:\n",
    "        movie_sound = pd.DataFrame(\n",
    "            [[tmp1[0],tmp1[2],tmp1[3],tmp1[4]]],\n",
    "            index=[cnt],\n",
    "            columns=['start','end','label','prob']\n",
    "                            )\n",
    "    \n",
    "    else:\n",
    "        movie_sound2 = pd.DataFrame(\n",
    "            [[tmp1[0],tmp1[2],tmp1[3],tmp1[4]]],\n",
    "            index=[cnt],\n",
    "            columns=['start','end','label','prob']\n",
    "                            )\n",
    "        movie_sound = pd.concat([movie_sound,movie_sound2])\n",
    "        \n",
    "    cnt += 1\n",
    "\n",
    "print(movie_sound)"
   ]
  },
  {
   "cell_type": "code",
   "execution_count": 69,
   "metadata": {},
   "outputs": [],
   "source": [
    "check = []\n",
    "\n",
    "for i in range(len(class_list)):\n",
    "    check.append([])\n",
    "\n",
    "for i in range(len(pred)):\n",
    "    tmp = np.argmax(pred[i])\n",
    "    check[tmp].append(1)"
   ]
  },
  {
   "cell_type": "code",
   "execution_count": 70,
   "metadata": {},
   "outputs": [
    {
     "name": "stdout",
     "output_type": "stream",
     "text": [
      "7 96\n",
      "0 80\n",
      "42 81\n",
      "14 99\n",
      "10 97\n",
      "0 82\n",
      "0 83\n",
      "348 98\n",
      "4 84\n",
      "0 85\n",
      "74 86\n",
      "9 93\n",
      "3 87\n",
      "1 88\n",
      "1 89\n",
      "0 90\n",
      "20 91\n",
      "0 92\n",
      "3 94\n",
      "0 95\n"
     ]
    }
   ],
   "source": [
    "a = 0\n",
    "for i in check:\n",
    "    print(len(i), class_list[a])\n",
    "    a += 1"
   ]
  },
  {
   "cell_type": "code",
   "execution_count": 76,
   "metadata": {},
   "outputs": [
    {
     "data": {
      "text/html": [
       "<div>\n",
       "<style scoped>\n",
       "    .dataframe tbody tr th:only-of-type {\n",
       "        vertical-align: middle;\n",
       "    }\n",
       "\n",
       "    .dataframe tbody tr th {\n",
       "        vertical-align: top;\n",
       "    }\n",
       "\n",
       "    .dataframe thead th {\n",
       "        text-align: right;\n",
       "    }\n",
       "</style>\n",
       "<table border=\"1\" class=\"dataframe\">\n",
       "  <thead>\n",
       "    <tr style=\"text-align: right;\">\n",
       "      <th></th>\n",
       "      <th>start</th>\n",
       "      <th>end</th>\n",
       "      <th>label</th>\n",
       "      <th>prob</th>\n",
       "    </tr>\n",
       "  </thead>\n",
       "  <tbody>\n",
       "    <tr>\n",
       "      <th>20</th>\n",
       "      <td>20</td>\n",
       "      <td>22</td>\n",
       "      <td>1000</td>\n",
       "      <td>0</td>\n",
       "    </tr>\n",
       "    <tr>\n",
       "      <th>21</th>\n",
       "      <td>21</td>\n",
       "      <td>23</td>\n",
       "      <td>98</td>\n",
       "      <td>0.9951404333114624</td>\n",
       "    </tr>\n",
       "    <tr>\n",
       "      <th>22</th>\n",
       "      <td>22</td>\n",
       "      <td>24</td>\n",
       "      <td>98</td>\n",
       "      <td>0.9951404333114624</td>\n",
       "    </tr>\n",
       "    <tr>\n",
       "      <th>23</th>\n",
       "      <td>23</td>\n",
       "      <td>25</td>\n",
       "      <td>98</td>\n",
       "      <td>0.9951404333114624</td>\n",
       "    </tr>\n",
       "    <tr>\n",
       "      <th>24</th>\n",
       "      <td>24</td>\n",
       "      <td>26</td>\n",
       "      <td>98</td>\n",
       "      <td>0.9951404333114624</td>\n",
       "    </tr>\n",
       "    <tr>\n",
       "      <th>25</th>\n",
       "      <td>25</td>\n",
       "      <td>27</td>\n",
       "      <td>98</td>\n",
       "      <td>0.9951404333114624</td>\n",
       "    </tr>\n",
       "    <tr>\n",
       "      <th>26</th>\n",
       "      <td>26</td>\n",
       "      <td>28</td>\n",
       "      <td>98</td>\n",
       "      <td>0.9951404333114624</td>\n",
       "    </tr>\n",
       "    <tr>\n",
       "      <th>27</th>\n",
       "      <td>27</td>\n",
       "      <td>29</td>\n",
       "      <td>98</td>\n",
       "      <td>0.9951404333114624</td>\n",
       "    </tr>\n",
       "    <tr>\n",
       "      <th>28</th>\n",
       "      <td>28</td>\n",
       "      <td>30</td>\n",
       "      <td>98</td>\n",
       "      <td>0.9970811605453491</td>\n",
       "    </tr>\n",
       "    <tr>\n",
       "      <th>29</th>\n",
       "      <td>29</td>\n",
       "      <td>31</td>\n",
       "      <td>98</td>\n",
       "      <td>0.9999706745147705</td>\n",
       "    </tr>\n",
       "    <tr>\n",
       "      <th>30</th>\n",
       "      <td>30</td>\n",
       "      <td>32</td>\n",
       "      <td>98</td>\n",
       "      <td>0.9977505803108215</td>\n",
       "    </tr>\n",
       "    <tr>\n",
       "      <th>31</th>\n",
       "      <td>31</td>\n",
       "      <td>33</td>\n",
       "      <td>98</td>\n",
       "      <td>0.9999359846115112</td>\n",
       "    </tr>\n",
       "    <tr>\n",
       "      <th>32</th>\n",
       "      <td>32</td>\n",
       "      <td>34</td>\n",
       "      <td>98</td>\n",
       "      <td>0.9983977675437927</td>\n",
       "    </tr>\n",
       "    <tr>\n",
       "      <th>33</th>\n",
       "      <td>33</td>\n",
       "      <td>35</td>\n",
       "      <td>98</td>\n",
       "      <td>0.999776303768158</td>\n",
       "    </tr>\n",
       "    <tr>\n",
       "      <th>34</th>\n",
       "      <td>34</td>\n",
       "      <td>36</td>\n",
       "      <td>98</td>\n",
       "      <td>0.9966657757759094</td>\n",
       "    </tr>\n",
       "    <tr>\n",
       "      <th>35</th>\n",
       "      <td>35</td>\n",
       "      <td>37</td>\n",
       "      <td>98</td>\n",
       "      <td>0.9999772310256958</td>\n",
       "    </tr>\n",
       "    <tr>\n",
       "      <th>36</th>\n",
       "      <td>36</td>\n",
       "      <td>38</td>\n",
       "      <td>1000</td>\n",
       "      <td>0</td>\n",
       "    </tr>\n",
       "    <tr>\n",
       "      <th>37</th>\n",
       "      <td>37</td>\n",
       "      <td>39</td>\n",
       "      <td>98</td>\n",
       "      <td>0.9943740367889404</td>\n",
       "    </tr>\n",
       "    <tr>\n",
       "      <th>38</th>\n",
       "      <td>38</td>\n",
       "      <td>40</td>\n",
       "      <td>1000</td>\n",
       "      <td>0</td>\n",
       "    </tr>\n",
       "    <tr>\n",
       "      <th>39</th>\n",
       "      <td>39</td>\n",
       "      <td>41</td>\n",
       "      <td>1000</td>\n",
       "      <td>0</td>\n",
       "    </tr>\n",
       "    <tr>\n",
       "      <th>40</th>\n",
       "      <td>40</td>\n",
       "      <td>42</td>\n",
       "      <td>1000</td>\n",
       "      <td>0</td>\n",
       "    </tr>\n",
       "    <tr>\n",
       "      <th>41</th>\n",
       "      <td>41</td>\n",
       "      <td>43</td>\n",
       "      <td>1000</td>\n",
       "      <td>0</td>\n",
       "    </tr>\n",
       "    <tr>\n",
       "      <th>42</th>\n",
       "      <td>42</td>\n",
       "      <td>44</td>\n",
       "      <td>98</td>\n",
       "      <td>0.938064694404602</td>\n",
       "    </tr>\n",
       "    <tr>\n",
       "      <th>43</th>\n",
       "      <td>43</td>\n",
       "      <td>45</td>\n",
       "      <td>98</td>\n",
       "      <td>0.997119665145874</td>\n",
       "    </tr>\n",
       "    <tr>\n",
       "      <th>44</th>\n",
       "      <td>44</td>\n",
       "      <td>46</td>\n",
       "      <td>98</td>\n",
       "      <td>0.9997968077659607</td>\n",
       "    </tr>\n",
       "    <tr>\n",
       "      <th>45</th>\n",
       "      <td>45</td>\n",
       "      <td>47</td>\n",
       "      <td>1000</td>\n",
       "      <td>0</td>\n",
       "    </tr>\n",
       "    <tr>\n",
       "      <th>46</th>\n",
       "      <td>46</td>\n",
       "      <td>48</td>\n",
       "      <td>98</td>\n",
       "      <td>0.9996242523193359</td>\n",
       "    </tr>\n",
       "    <tr>\n",
       "      <th>47</th>\n",
       "      <td>47</td>\n",
       "      <td>49</td>\n",
       "      <td>1000</td>\n",
       "      <td>0</td>\n",
       "    </tr>\n",
       "    <tr>\n",
       "      <th>48</th>\n",
       "      <td>48</td>\n",
       "      <td>50</td>\n",
       "      <td>98</td>\n",
       "      <td>0.9994933605194092</td>\n",
       "    </tr>\n",
       "    <tr>\n",
       "      <th>49</th>\n",
       "      <td>49</td>\n",
       "      <td>51</td>\n",
       "      <td>98</td>\n",
       "      <td>0.9336709976196289</td>\n",
       "    </tr>\n",
       "  </tbody>\n",
       "</table>\n",
       "</div>"
      ],
      "text/plain": [
       "   start end label                prob\n",
       "20    20  22  1000                   0\n",
       "21    21  23    98  0.9951404333114624\n",
       "22    22  24    98  0.9951404333114624\n",
       "23    23  25    98  0.9951404333114624\n",
       "24    24  26    98  0.9951404333114624\n",
       "25    25  27    98  0.9951404333114624\n",
       "26    26  28    98  0.9951404333114624\n",
       "27    27  29    98  0.9951404333114624\n",
       "28    28  30    98  0.9970811605453491\n",
       "29    29  31    98  0.9999706745147705\n",
       "30    30  32    98  0.9977505803108215\n",
       "31    31  33    98  0.9999359846115112\n",
       "32    32  34    98  0.9983977675437927\n",
       "33    33  35    98   0.999776303768158\n",
       "34    34  36    98  0.9966657757759094\n",
       "35    35  37    98  0.9999772310256958\n",
       "36    36  38  1000                   0\n",
       "37    37  39    98  0.9943740367889404\n",
       "38    38  40  1000                   0\n",
       "39    39  41  1000                   0\n",
       "40    40  42  1000                   0\n",
       "41    41  43  1000                   0\n",
       "42    42  44    98   0.938064694404602\n",
       "43    43  45    98   0.997119665145874\n",
       "44    44  46    98  0.9997968077659607\n",
       "45    45  47  1000                   0\n",
       "46    46  48    98  0.9996242523193359\n",
       "47    47  49  1000                   0\n",
       "48    48  50    98  0.9994933605194092\n",
       "49    49  51    98  0.9336709976196289"
      ]
     },
     "execution_count": 76,
     "metadata": {},
     "output_type": "execute_result"
    }
   ],
   "source": [
    "movie_sound[20:50]"
   ]
  },
  {
   "cell_type": "code",
   "execution_count": 75,
   "metadata": {},
   "outputs": [
    {
     "data": {
      "text/html": [
       "<div>\n",
       "<style scoped>\n",
       "    .dataframe tbody tr th:only-of-type {\n",
       "        vertical-align: middle;\n",
       "    }\n",
       "\n",
       "    .dataframe tbody tr th {\n",
       "        vertical-align: top;\n",
       "    }\n",
       "\n",
       "    .dataframe thead th {\n",
       "        text-align: right;\n",
       "    }\n",
       "</style>\n",
       "<table border=\"1\" class=\"dataframe\">\n",
       "  <thead>\n",
       "    <tr style=\"text-align: right;\">\n",
       "      <th></th>\n",
       "      <th>start</th>\n",
       "      <th>end</th>\n",
       "      <th>label</th>\n",
       "      <th>prob</th>\n",
       "    </tr>\n",
       "  </thead>\n",
       "  <tbody>\n",
       "    <tr>\n",
       "      <th>18</th>\n",
       "      <td>18</td>\n",
       "      <td>20</td>\n",
       "      <td>98</td>\n",
       "      <td>0.9998551607131958</td>\n",
       "    </tr>\n",
       "    <tr>\n",
       "      <th>19</th>\n",
       "      <td>19</td>\n",
       "      <td>21</td>\n",
       "      <td>98</td>\n",
       "      <td>0.9561301469802856</td>\n",
       "    </tr>\n",
       "    <tr>\n",
       "      <th>21</th>\n",
       "      <td>21</td>\n",
       "      <td>23</td>\n",
       "      <td>98</td>\n",
       "      <td>0.9951404333114624</td>\n",
       "    </tr>\n",
       "    <tr>\n",
       "      <th>22</th>\n",
       "      <td>22</td>\n",
       "      <td>24</td>\n",
       "      <td>98</td>\n",
       "      <td>0.9951404333114624</td>\n",
       "    </tr>\n",
       "    <tr>\n",
       "      <th>23</th>\n",
       "      <td>23</td>\n",
       "      <td>25</td>\n",
       "      <td>98</td>\n",
       "      <td>0.9951404333114624</td>\n",
       "    </tr>\n",
       "    <tr>\n",
       "      <th>...</th>\n",
       "      <td>...</td>\n",
       "      <td>...</td>\n",
       "      <td>...</td>\n",
       "      <td>...</td>\n",
       "    </tr>\n",
       "    <tr>\n",
       "      <th>531</th>\n",
       "      <td>531</td>\n",
       "      <td>533</td>\n",
       "      <td>98</td>\n",
       "      <td>0.9999911785125732</td>\n",
       "    </tr>\n",
       "    <tr>\n",
       "      <th>532</th>\n",
       "      <td>532</td>\n",
       "      <td>534</td>\n",
       "      <td>98</td>\n",
       "      <td>0.9981556534767151</td>\n",
       "    </tr>\n",
       "    <tr>\n",
       "      <th>533</th>\n",
       "      <td>533</td>\n",
       "      <td>535</td>\n",
       "      <td>98</td>\n",
       "      <td>0.9968695044517517</td>\n",
       "    </tr>\n",
       "    <tr>\n",
       "      <th>534</th>\n",
       "      <td>534</td>\n",
       "      <td>536</td>\n",
       "      <td>98</td>\n",
       "      <td>0.9747039079666138</td>\n",
       "    </tr>\n",
       "    <tr>\n",
       "      <th>535</th>\n",
       "      <td>535</td>\n",
       "      <td>537</td>\n",
       "      <td>98</td>\n",
       "      <td>0.9470660090446472</td>\n",
       "    </tr>\n",
       "  </tbody>\n",
       "</table>\n",
       "<p>222 rows × 4 columns</p>\n",
       "</div>"
      ],
      "text/plain": [
       "    start  end label                prob\n",
       "18     18   20    98  0.9998551607131958\n",
       "19     19   21    98  0.9561301469802856\n",
       "21     21   23    98  0.9951404333114624\n",
       "22     22   24    98  0.9951404333114624\n",
       "23     23   25    98  0.9951404333114624\n",
       "..    ...  ...   ...                 ...\n",
       "531   531  533    98  0.9999911785125732\n",
       "532   532  534    98  0.9981556534767151\n",
       "533   533  535    98  0.9968695044517517\n",
       "534   534  536    98  0.9747039079666138\n",
       "535   535  537    98  0.9470660090446472\n",
       "\n",
       "[222 rows x 4 columns]"
      ]
     },
     "execution_count": 75,
     "metadata": {},
     "output_type": "execute_result"
    }
   ],
   "source": [
    "movie_sound[movie_sound['label']=='98']"
   ]
  },
  {
   "cell_type": "code",
   "execution_count": 78,
   "metadata": {},
   "outputs": [],
   "source": [
    "movie_sound.to_csv(\"movie1_df.csv\")"
   ]
  },
  {
   "cell_type": "code",
   "execution_count": null,
   "metadata": {},
   "outputs": [],
   "source": []
  }
 ],
 "metadata": {
  "kernelspec": {
   "display_name": "Python 3.8.13 ('ds_study')",
   "language": "python",
   "name": "python3"
  },
  "language_info": {
   "codemirror_mode": {
    "name": "ipython",
    "version": 3
   },
   "file_extension": ".py",
   "mimetype": "text/x-python",
   "name": "python",
   "nbconvert_exporter": "python",
   "pygments_lexer": "ipython3",
   "version": "3.8.13"
  },
  "orig_nbformat": 4,
  "vscode": {
   "interpreter": {
    "hash": "8afb11e776545c2f779305d38b35ecf7129a79516cbe52bed3bd66b571a222f6"
   }
  }
 },
 "nbformat": 4,
 "nbformat_minor": 2
}
